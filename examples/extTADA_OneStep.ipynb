{
 "cells": [
  {
   "cell_type": "markdown",
   "metadata": {},
   "source": [
    "## Use extTADA with one step\n",
    "\n",
    "The function 'extTADA' will generate all pictures, results inside the working directory.\n",
    "\n",
    "\n",
    "*Users should follow the format of the data below*\n",
    "\n",
    "\n",
    "### There are three main models: \n",
    "*DNandCCextTADA* for de novo mutations + case-control variants\n",
    "\n",
    "*DNextTADA* for de novo mutations\n",
    "\n",
    "*CCextTADA* for case-control variants"
   ]
  },
  {
   "cell_type": "markdown",
   "metadata": {},
   "source": [
    "### Load the source code"
   ]
  },
  {
   "cell_type": "code",
   "execution_count": 1,
   "metadata": {
    "collapsed": false
   },
   "outputs": [
    {
     "name": "stderr",
     "output_type": "stream",
     "text": [
      "Loading required package: ggplot2\n",
      "Loading required package: StanHeaders\n",
      "rstan (Version 2.16.2, packaged: 2017-07-03 09:24:58 UTC, GitRev: 2e1f913d3ca3)\n",
      "For execution on a local, multicore CPU with excess RAM we recommend calling\n",
      "rstan_options(auto_write = TRUE)\n",
      "options(mc.cores = parallel::detectCores())\n",
      "locfit 1.5-9.1 \t 2013-03-22\n"
     ]
    }
   ],
   "source": [
    "fileR <- dir(\"../script\", \".R$\")\n",
    "for (ii in fileR)\n",
    "    source(paste0(\"../script/\", ii))\n"
   ]
  },
  {
   "cell_type": "markdown",
   "metadata": {},
   "source": [
    "## Load data"
   ]
  },
  {
   "cell_type": "code",
   "execution_count": 2,
   "metadata": {
    "collapsed": false
   },
   "outputs": [
    {
     "data": {
      "text/html": [
       "<table>\n",
       "<thead><tr><th></th><th scope=col>Gene</th><th scope=col>mut_lof</th><th scope=col>mut_mis3</th><th scope=col>dn_lof</th><th scope=col>dn_mis3</th><th scope=col>cc_case1</th><th scope=col>cc_case2</th><th scope=col>cc_control1</th><th scope=col>cc_control2</th></tr></thead>\n",
       "<tbody>\n",
       "\t<tr><th scope=row>1</th><td>G1</td><td>9.996657e-07</td><td>4.54062e-07</td><td>0</td><td>0</td><td>0</td><td>0</td><td>0</td><td>0</td></tr>\n",
       "\t<tr><th scope=row>2</th><td>G2</td><td>1.420491e-07</td><td>1.04146e-10</td><td>0</td><td>0</td><td>0</td><td>0</td><td>0</td><td>0</td></tr>\n",
       "\t<tr><th scope=row>3</th><td>G3</td><td>2.144318e-06</td><td>3.35199e-06</td><td>0</td><td>0</td><td>0</td><td>0</td><td>0</td><td>0</td></tr>\n",
       "\t<tr><th scope=row>4</th><td>G4</td><td>3.981797e-06</td><td>7.82154e-06</td><td>0</td><td>0</td><td>0</td><td>0</td><td>0</td><td>0</td></tr>\n",
       "\t<tr><th scope=row>5</th><td>G5</td><td>9.14698e-08</td><td>1.04146e-10</td><td>0</td><td>0</td><td>0</td><td>0</td><td>0</td><td>0</td></tr>\n",
       "\t<tr><th scope=row>6</th><td>G6</td><td>3.779929e-06</td><td>2.85364e-06</td><td>0</td><td>0</td><td>0</td><td>0</td><td>0</td><td>0</td></tr>\n",
       "</tbody>\n",
       "</table>\n"
      ],
      "text/latex": [
       "\\begin{tabular}{r|lllllllll}\n",
       "  & Gene & mut_lof & mut_mis3 & dn_lof & dn_mis3 & cc_case1 & cc_case2 & cc_control1 & cc_control2\\\\\n",
       "\\hline\n",
       "\t1 & G1 & 9.996657e-07 & 4.54062e-07 & 0 & 0 & 0 & 0 & 0 & 0\\\\\n",
       "\t2 & G2 & 1.420491e-07 & 1.04146e-10 & 0 & 0 & 0 & 0 & 0 & 0\\\\\n",
       "\t3 & G3 & 2.144318e-06 & 3.35199e-06 & 0 & 0 & 0 & 0 & 0 & 0\\\\\n",
       "\t4 & G4 & 3.981797e-06 & 7.82154e-06 & 0 & 0 & 0 & 0 & 0 & 0\\\\\n",
       "\t5 & G5 & 9.14698e-08 & 1.04146e-10 & 0 & 0 & 0 & 0 & 0 & 0\\\\\n",
       "\t6 & G6 & 3.779929e-06 & 2.85364e-06 & 0 & 0 & 0 & 0 & 0 & 0\\\\\n",
       "\\end{tabular}\n"
      ],
      "text/plain": [
       "  Gene      mut_lof    mut_mis3 dn_lof dn_mis3 cc_case1 cc_case2 cc_control1\n",
       "1   G1 9.996657e-07 4.54062e-07      0       0        0        0           0\n",
       "2   G2 1.420491e-07 1.04146e-10      0       0        0        0           0\n",
       "3   G3 2.144318e-06 3.35199e-06      0       0        0        0           0\n",
       "4   G4 3.981797e-06 7.82154e-06      0       0        0        0           0\n",
       "5   G5 9.146980e-08 1.04146e-10      0       0        0        0           0\n",
       "6   G6 3.779929e-06 2.85364e-06      0       0        0        0           0\n",
       "  cc_control2\n",
       "1           0\n",
       "2           0\n",
       "3           0\n",
       "4           0\n",
       "5           0\n",
       "6           0"
      ]
     },
     "execution_count": 2,
     "metadata": {},
     "output_type": "execute_result"
    }
   ],
   "source": [
    "N = list(dn = 1077, ca = 3157, cn = 4672)\n",
    "inputData <- read.table(\"../data/SimulationDataDNandCC.txt\", header = TRUE, as.is = TRUE)\n",
    "\n",
    "head(inputData)\n",
    "## Need a column for gene names\n",
    "## Denovo data should start with \"dn_\"\n",
    "## Mutation data should start with \"mut_\"\n",
    "## Case data should start with cc_case \n",
    "## Control data should start with cc_control"
   ]
  },
  {
   "cell_type": "markdown",
   "metadata": {},
   "source": [
    "## Use the function 'extTADA' to obtain results"
   ]
  },
  {
   "cell_type": "code",
   "execution_count": 3,
   "metadata": {
    "collapsed": false
   },
   "outputs": [
    {
     "name": "stderr",
     "output_type": "stream",
     "text": [
      "MCMC is running\n",
      "\n",
      "There are 19358 genes in this analysis\n",
      "\n",
      "=============FIRST TIME ===============\n",
      "\n",
      "\n",
      "Sampling with nter = 1000 and nThin = 1\n",
      "\n",
      "\n",
      "The model modelName is used\n",
      "\n"
     ]
    },
    {
     "name": "stdout",
     "output_type": "stream",
     "text": [
      "In file included from /home/hoangnguyen/R/x86_64-pc-linux-gnu-library/3.2/BH/include/boost/config.hpp:39:0,\n",
      "                 from /home/hoangnguyen/R/x86_64-pc-linux-gnu-library/3.2/BH/include/boost/math/tools/config.hpp:13,\n",
      "                 from /home/hoangnguyen/R/x86_64-pc-linux-gnu-library/3.2/StanHeaders/include/stan/math/rev/core/var.hpp:7,\n",
      "                 from /home/hoangnguyen/R/x86_64-pc-linux-gnu-library/3.2/StanHeaders/include/stan/math/rev/core/gevv_vvv_vari.hpp:5,\n",
      "                 from /home/hoangnguyen/R/x86_64-pc-linux-gnu-library/3.2/StanHeaders/include/stan/math/rev/core.hpp:12,\n",
      "                 from /home/hoangnguyen/R/x86_64-pc-linux-gnu-library/3.2/StanHeaders/include/stan/math/rev/mat.hpp:4,\n",
      "                 from /home/hoangnguyen/R/x86_64-pc-linux-gnu-library/3.2/StanHeaders/include/stan/math.hpp:4,\n",
      "                 from /home/hoangnguyen/R/x86_64-pc-linux-gnu-library/3.2/StanHeaders/include/src/stan/model/model_header.hpp:4,\n",
      "                 from file129c26fdd304.cpp:8:\n",
      "/home/hoangnguyen/R/x86_64-pc-linux-gnu-library/3.2/BH/include/boost/config/compiler/gcc.hpp:186:0: warning: \"BOOST_NO_CXX11_RVALUE_REFERENCES\" redefined [enabled by default]\n",
      " #  define BOOST_NO_CXX11_RVALUE_REFERENCES\n",
      " ^\n",
      "<command-line>:0:0: note: this is the location of the previous definition\n",
      "\n",
      "SAMPLING FOR MODEL '3038bc5d3b1ec8cf7df30ff1572c934c' NOW (CHAIN 1).\n",
      "\n",
      "Gradient evaluation took 0.043448 seconds\n",
      "1000 transitions using 10 leapfrog steps per transition would take 434.48 seconds.\n",
      "Adjust your expectations accordingly!\n",
      "\n",
      "\n",
      "Iteration:   1 / 1000 [  0%]  (Warmup)\n",
      "Iteration: 100 / 1000 [ 10%]  (Warmup)\n",
      "Iteration: 200 / 1000 [ 20%]  (Warmup)\n",
      "Iteration: 300 / 1000 [ 30%]  (Warmup)\n",
      "Iteration: 400 / 1000 [ 40%]  (Warmup)\n",
      "Iteration: 500 / 1000 [ 50%]  (Warmup)\n",
      "Iteration: 501 / 1000 [ 50%]  (Sampling)\n",
      "Iteration: 600 / 1000 [ 60%]  (Sampling)\n",
      "Iteration: 700 / 1000 [ 70%]  (Sampling)\n",
      "Iteration: 800 / 1000 [ 80%]  (Sampling)\n",
      "Iteration: 900 / 1000 [ 90%]  (Sampling)\n",
      "Iteration: 1000 / 1000 [100%]  (Sampling)\n",
      "\n",
      " Elapsed Time: 329.375 seconds (Warm-up)\n",
      "               179.375 seconds (Sampling)\n",
      "               508.75 seconds (Total)\n",
      "\n"
     ]
    },
    {
     "name": "stderr",
     "output_type": "stream",
     "text": [
      "\n",
      "Estimate genetic parameters from MCMC results\n",
      "====\n",
      "Only pi and hyper parameters are estimated in this step\n",
      "extTADA does not calculate HPDs for hyper betas, just their medians\n",
      "===\n",
      "\n",
      "\n",
      "Calculate posterior probabilities and FDRs\n",
      "\n",
      "Draw heatmaps\n",
      "Warning message:\n",
      "In plot.xy(xy, type, ...): font width unknown for character 0x1Warning message:\n",
      "In plot.xy(xy, type, ...): font metrics unknown for character 0x1Warning message:\n",
      "In plot.xy(xy, type, ...): font width unknown for character 0x1Warning message:\n",
      "In plot.xy(xy, type, ...): font metrics unknown for character 0x1Warning message:\n",
      "In plot.xy(xy, type, ...): font width unknown for character 0x1Warning message:\n",
      "In plot.xy(xy, type, ...): font metrics unknown for character 0x1Warning message:\n",
      "In plot.xy(xy, type, ...): font width unknown for character 0x1Warning message:\n",
      "In plot.xy(xy, type, ...): font metrics unknown for character 0x1\n",
      "The analysis is completed.\n",
      "If you want to analyse steps seperately, please take a look at the example in the manual\n"
     ]
    }
   ],
   "source": [
    "mcmcDD <- extTADA(modelName = DNandCCextTADA,\n",
    "                  inputData = inputData, ## Input data should be formatted as above\n",
    "                  Ndn = rep(N$dn, 2), ##Two de novo categories\n",
    "                  Ncase = rep(N$ca, 2), ##Two case categories\n",
    "                  Ncontrol = rep(N$cn, 2), ##Two control categories\n",
    "                  nIteration = 1000, ## Number of iterations: should be upto higher for real data \n",
    "                  nThin = 1 ## Depend on users, but it can be floor(nIteration/1000)\n",
    "                 )"
   ]
  },
  {
   "cell_type": "markdown",
   "metadata": {},
   "source": [
    "## All results are in the working directory\n",
    "\n",
    "### There are three main files:\n",
    "\n",
    "Result_extTADA_PosteriorAndFDR*txt is FDRs of genes\n",
    "\n",
    "Result_extTADA_estimatedPars*txt is parameters\n",
    "\n",
    "heatMap*pdf is heatmaps of parameters"
   ]
  },
  {
   "cell_type": "code",
   "execution_count": null,
   "metadata": {
    "collapsed": true
   },
   "outputs": [],
   "source": []
  }
 ],
 "metadata": {
  "anaconda-cloud": {},
  "kernelspec": {
   "display_name": "R",
   "language": "R",
   "name": "ir"
  },
  "language_info": {
   "codemirror_mode": "r",
   "file_extension": ".r",
   "mimetype": "text/x-r-source",
   "name": "R",
   "pygments_lexer": "r",
   "version": "3.3.2"
  }
 },
 "nbformat": 4,
 "nbformat_minor": 1
}
