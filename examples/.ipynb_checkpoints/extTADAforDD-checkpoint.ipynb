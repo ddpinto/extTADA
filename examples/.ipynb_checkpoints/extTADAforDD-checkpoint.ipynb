{
 "cells": [
  {
   "cell_type": "code",
   "execution_count": 2,
   "metadata": {
    "collapsed": false
   },
   "outputs": [
    {
     "name": "stderr",
     "output_type": "stream",
     "text": [
      "Loading required package: ggplot2\n",
      "Warning message:\n",
      ": package ‘ggplot2’ was built under R version 3.2.4rstan (Version 2.9.0, packaged: 2016-01-05 16:17:47 UTC, GitRev: 05c3d0058b6a)\n",
      "For execution on a local, multicore CPU with excess RAM we recommend calling\n",
      "rstan_options(auto_write = TRUE)\n",
      "options(mc.cores = parallel::detectCores())\n",
      "\n",
      "Attaching package: ‘coda’\n",
      "\n",
      "The following object is masked from ‘package:rstan’:\n",
      "\n",
      "    traceplot\n",
      "\n",
      "locfit 1.5-9.1 \t 2013-03-22\n"
     ]
    }
   ],
   "source": [
    "source(\"../script/extTADA.R\")\n",
    "source(\"../script/TADA.R\")"
   ]
  },
  {
   "cell_type": "code",
   "execution_count": 4,
   "metadata": {
    "collapsed": false
   },
   "outputs": [
    {
     "data": {
      "text/html": [
       "<table>\n",
       "<thead><tr><th></th><th scope=col>Gene</th><th scope=col>mut_lof</th><th scope=col>mut_missense</th><th scope=col>mut_damaging</th><th scope=col>dn_damaging_DD</th><th scope=col>dn_lof_DD</th><th scope=col>dn_missense_DD</th><th scope=col>dn_silent_DD</th></tr></thead>\n",
       "<tbody>\n",
       "\t<tr><th scope=row>1</th><td>A1BG</td><td>9.996657e-07</td><td>2.300224e-05</td><td>4.54062e-07</td><td>0</td><td>0</td><td>0</td><td>0</td></tr>\n",
       "\t<tr><th scope=row>2</th><td>A1BG-AS1</td><td>1.420491e-07</td><td>0</td><td>0</td><td>0</td><td>0</td><td>0</td><td>0</td></tr>\n",
       "\t<tr><th scope=row>3</th><td>A1CF</td><td>2.144318e-06</td><td>1.68827e-05</td><td>3.35199e-06</td><td>0</td><td>0</td><td>0</td><td>0</td></tr>\n",
       "\t<tr><th scope=row>4</th><td>A2M</td><td>3.981797e-06</td><td>4.039597e-05</td><td>7.82154e-06</td><td>0</td><td>0</td><td>0</td><td>0</td></tr>\n",
       "\t<tr><th scope=row>5</th><td>A2M-AS1</td><td>9.14698e-08</td><td>0</td><td>0</td><td>0</td><td>0</td><td>0</td><td>0</td></tr>\n",
       "\t<tr><th scope=row>6</th><td>A2ML1</td><td>3.779929e-06</td><td>4.007178e-05</td><td>2.85364e-06</td><td>0</td><td>0</td><td>1</td><td>0</td></tr>\n",
       "</tbody>\n",
       "</table>\n"
      ],
      "text/latex": [
       "\\begin{tabular}{r|llllllll}\n",
       "  & Gene & mut_lof & mut_missense & mut_damaging & dn_damaging_DD & dn_lof_DD & dn_missense_DD & dn_silent_DD\\\\\n",
       "\\hline\n",
       "\t1 & A1BG & 9.996657e-07 & 2.300224e-05 & 4.54062e-07 & 0 & 0 & 0 & 0\\\\\n",
       "\t2 & A1BG-AS1 & 1.420491e-07 & 0 & 0 & 0 & 0 & 0 & 0\\\\\n",
       "\t3 & A1CF & 2.144318e-06 & 1.68827e-05 & 3.35199e-06 & 0 & 0 & 0 & 0\\\\\n",
       "\t4 & A2M & 3.981797e-06 & 4.039597e-05 & 7.82154e-06 & 0 & 0 & 0 & 0\\\\\n",
       "\t5 & A2M-AS1 & 9.14698e-08 & 0 & 0 & 0 & 0 & 0 & 0\\\\\n",
       "\t6 & A2ML1 & 3.779929e-06 & 4.007178e-05 & 2.85364e-06 & 0 & 0 & 1 & 0\\\\\n",
       "\\end{tabular}\n"
      ],
      "text/plain": [
       "      Gene      mut_lof mut_missense mut_damaging dn_damaging_DD dn_lof_DD\n",
       "1     A1BG 9.996657e-07 2.300224e-05  4.54062e-07              0         0\n",
       "2 A1BG-AS1 1.420491e-07 0.000000e+00  0.00000e+00              0         0\n",
       "3     A1CF 2.144318e-06 1.688270e-05  3.35199e-06              0         0\n",
       "4      A2M 3.981797e-06 4.039597e-05  7.82154e-06              0         0\n",
       "5  A2M-AS1 9.146980e-08 0.000000e+00  0.00000e+00              0         0\n",
       "6    A2ML1 3.779929e-06 4.007178e-05  2.85364e-06              0         0\n",
       "  dn_missense_DD dn_silent_DD\n",
       "1              0            0\n",
       "2              0            0\n",
       "3              0            0\n",
       "4              0            0\n",
       "5              0            0\n",
       "6              1            0"
      ]
     },
     "execution_count": 4,
     "metadata": {},
     "output_type": "execute_result"
    }
   ],
   "source": [
    "data <- read.table(\"../data/data_mut_DD.csv\", header = TRUE, as.is = TRUE)\n",
    "head(data)"
   ]
  },
  {
   "cell_type": "code",
   "execution_count": 5,
   "metadata": {
    "collapsed": false
   },
   "outputs": [
    {
     "data": {
      "text/html": [
       "<ol class=list-inline>\n",
       "\t<li>19358</li>\n",
       "\t<li>8</li>\n",
       "</ol>\n"
      ],
      "text/latex": [
       "\\begin{enumerate*}\n",
       "\\item 19358\n",
       "\\item 8\n",
       "\\end{enumerate*}\n"
      ],
      "text/markdown": [
       "1. 19358\n",
       "2. 8\n",
       "\n",
       "\n"
      ],
      "text/plain": [
       "[1] 19358     8"
      ]
     },
     "execution_count": 5,
     "metadata": {},
     "output_type": "execute_result"
    }
   ],
   "source": [
    "t1 <- as.numeric(data$mut_lof)\n",
    "t1 <- t1[t1 > 0]\n",
    "data[data$mut_lof == 0, ]$mut_lof <- min(t1)/10\n",
    "#data <- data[data$mut_missense >0, ]\n",
    "t2 <- as.numeric(data$mut_missense)\n",
    "t2 <- t2[t2 > 0]\n",
    "data[data$mut_missense == 0, ]$mut_missense <- min(t2)/10\n",
    "dim(data)\n",
    "\n",
    "#data <- data[data$mut_missense >0, ]\n",
    "t2 <- as.numeric(data$mut_damaging)\n",
    "t2 <- t2[t2 > 0]\n",
    "data[data$mut_damaging == 0, ]$mut_damaging <- min(t2)/10"
   ]
  },
  {
   "cell_type": "code",
   "execution_count": 7,
   "metadata": {
    "collapsed": false
   },
   "outputs": [
    {
     "data": {
      "text/html": [
       "<table>\n",
       "<thead><tr><th></th><th scope=col>mut_damaging</th><th scope=col>mut_lof</th><th scope=col>dn_damaging_DD</th><th scope=col>dn_lof_DD</th></tr></thead>\n",
       "<tbody>\n",
       "\t<tr><th scope=row>1</th><td>4.54062e-07</td><td>9.996657e-07</td><td>0</td><td>0</td></tr>\n",
       "\t<tr><th scope=row>2</th><td>1.04146e-10</td><td>1.420491e-07</td><td>0</td><td>0</td></tr>\n",
       "\t<tr><th scope=row>3</th><td>3.35199e-06</td><td>2.144318e-06</td><td>0</td><td>0</td></tr>\n",
       "\t<tr><th scope=row>4</th><td>7.82154e-06</td><td>3.981797e-06</td><td>0</td><td>0</td></tr>\n",
       "\t<tr><th scope=row>5</th><td>1.04146e-10</td><td>9.14698e-08</td><td>0</td><td>0</td></tr>\n",
       "\t<tr><th scope=row>6</th><td>2.85364e-06</td><td>3.779929e-06</td><td>0</td><td>0</td></tr>\n",
       "</tbody>\n",
       "</table>\n"
      ],
      "text/latex": [
       "\\begin{tabular}{r|llll}\n",
       "  & mut_damaging & mut_lof & dn_damaging_DD & dn_lof_DD\\\\\n",
       "\\hline\n",
       "\t1 & 4.54062e-07 & 9.996657e-07 & 0 & 0\\\\\n",
       "\t2 & 1.04146e-10 & 1.420491e-07 & 0 & 0\\\\\n",
       "\t3 & 3.35199e-06 & 2.144318e-06 & 0 & 0\\\\\n",
       "\t4 & 7.82154e-06 & 3.981797e-06 & 0 & 0\\\\\n",
       "\t5 & 1.04146e-10 & 9.14698e-08 & 0 & 0\\\\\n",
       "\t6 & 2.85364e-06 & 3.779929e-06 & 0 & 0\\\\\n",
       "\\end{tabular}\n"
      ],
      "text/plain": [
       "  mut_damaging      mut_lof dn_damaging_DD dn_lof_DD\n",
       "1  4.54062e-07 9.996657e-07              0         0\n",
       "2  1.04146e-10 1.420491e-07              0         0\n",
       "3  3.35199e-06 2.144318e-06              0         0\n",
       "4  7.82154e-06 3.981797e-06              0         0\n",
       "5  1.04146e-10 9.146980e-08              0         0\n",
       "6  2.85364e-06 3.779929e-06              0         0"
      ]
     },
     "execution_count": 7,
     "metadata": {},
     "output_type": "execute_result"
    }
   ],
   "source": [
    "allDNData <- data[, paste0(\"dn_\", c(\"damaging\", \"lof\"), \"_DD\")]\n",
    "allMutData <- data[,paste0(\"mut_\", c(\"damaging\", \"lof\"))]\n",
    "head(data.frame(allMutData, allDNData))\n"
   ]
  },
  {
   "cell_type": "code",
   "execution_count": 21,
   "metadata": {
    "collapsed": true
   },
   "outputs": [],
   "source": [
    "ntrioDD = 4293\n",
    "modelDNdata <- list(NN = dim(allDNData)[1], #Gene numbers\n",
    "                    K = 2, #Hypothesis numbers: should be default\n",
    "                    NCdn = 2, #Number of de novo classes\n",
    "                    Ndn = ntrioDD, # Family numbers\n",
    "                    dataDN = data.frame(allDNData), # Denovo data\n",
    "                    mutRate = data.frame(allMutData), # Mutation rates \n",
    "                    betaPars = c(6.7771073, -1.7950864, -0.2168248), #Adjust beta's values: should be default\n",
    "                    adjustHyperBeta = as.integer(0), ##1 if want to adjust beta, 0 if don't want to adjust beta\n",
    "                    upperPi0 = 0.5, lowerPi0 = 0, ##Lower and upper limits of pi: should be default\n",
    "                    lowerHyperGamma = 1, lowerGamma = 1, #Should be default \n",
    "                    hyperBetaDN0 = array(c(5, 1))) ##Default beta values"
   ]
  },
  {
   "cell_type": "code",
   "execution_count": 22,
   "metadata": {
    "collapsed": false
   },
   "outputs": [
    {
     "name": "stderr",
     "output_type": "stream",
     "text": [
      "SYNTAX ERROR, MESSAGE(S) FROM PARSER:\n",
      "\n",
      "Illegal statement beginning with non-void expression parsed as\n",
      "  hyperBetaDN[i2i]\n",
      "Not a legal assignment, sampling, or function statement.  Note that\n",
      "  * Assignment statements only allow variables (with optional indexes) on the left;\n",
      "    if you see an outer function logical_lt (<) with negated (-) second argument,\n",
      "    it indicates an assignment statement A <- B with illegal left\n",
      "    side A parsed as expression (A < (-B)).\n",
      "  * Sampling statements allow arbitrary value-denoting expressions on the left.\n",
      "  * Functions used as statements must be declared to have void returns\n",
      "\n",
      "\n",
      "ERROR at line 34\n",
      "\n",
      " 32:        if (adjustHyperBeta != 0) {\n",
      " 33:          for (i2i in 1:NCdn){\n",
      " 34:                hyperBetaDN[i2i] = exp(betaPars[1]*hyperGammaMeanDN[i2i]^(betaPars[2]) + betaPars[3]); \n",
      "                    ^\n",
      " 35:          \n",
      "\n",
      "PARSER EXPECTED: \"}\"\n"
     ]
    },
    {
     "ename": "ERROR",
     "evalue": "Error in stanc(file = file, model_code = model_code, model_name = model_name, : failed to parse Stan model 'dd55ce02a9af35e60451a5abf7ad1392' due to the above error.\n",
     "output_type": "error",
     "traceback": [
      "Error in stanc(file = file, model_code = model_code, model_name = model_name, : failed to parse Stan model 'dd55ce02a9af35e60451a5abf7ad1392' due to the above error.\n"
     ]
    }
   ],
   "source": [
    "nIteration = 1000\n",
    "nChain = 1\n",
    "nCore = 1\n",
    "nThin = 1\n",
    "mcmcDD <- stan(model_code = DNextTADA, ##Use only De novo model inside extTADA\n",
    "               data = modelDNdata, ##Model data as described above\n",
    "               iter = nIteration, ## \n",
    "               chains = nChain, \n",
    "               cores = nCore,\n",
    "               thin = nThin)"
   ]
  },
  {
   "cell_type": "code",
   "execution_count": null,
   "metadata": {
    "collapsed": true
   },
   "outputs": [],
   "source": []
  }
 ],
 "metadata": {
  "kernelspec": {
   "display_name": "R",
   "language": "R",
   "name": "ir"
  },
  "language_info": {
   "codemirror_mode": "r",
   "file_extension": ".r",
   "mimetype": "text/x-r-source",
   "name": "R",
   "pygments_lexer": "r",
   "version": "3.2.3"
  }
 },
 "nbformat": 4,
 "nbformat_minor": 0
}
