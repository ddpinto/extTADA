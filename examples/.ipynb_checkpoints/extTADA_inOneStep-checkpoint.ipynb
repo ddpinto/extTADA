{
 "cells": [
  {
   "cell_type": "markdown",
   "metadata": {},
   "source": [
    "## Use extTADA with one step\n",
    "\n",
    "The function 'extTADA' will generate all pictures, results inside the working directory.\n",
    "\n",
    "### There are three main models: \n",
    "*DNandCCextTADA* for de novo mutations + case-control variants\n",
    "\n",
    "*DNextTADA* for de novo mutations\n",
    "\n",
    "*CCextTADA* for case-control variants"
   ]
  },
  {
   "cell_type": "markdown",
   "metadata": {},
   "source": [
    "### Load the source code"
   ]
  },
  {
   "cell_type": "code",
   "execution_count": 1,
   "metadata": {
    "collapsed": false
   },
   "outputs": [
    {
     "name": "stderr",
     "output_type": "stream",
     "text": [
      "Loading required package: ggplot2\n",
      "Loading required package: StanHeaders\n",
      "rstan (Version 2.13.2, packaged: 2016-12-18 07:04:42 UTC, GitRev: 5fa1e80eb817)\n",
      "For execution on a local, multicore CPU with excess RAM we recommend calling\n",
      "rstan_options(auto_write = TRUE)\n",
      "options(mc.cores = parallel::detectCores())\n",
      "locfit 1.5-9.1 \t 2013-03-22\n"
     ]
    }
   ],
   "source": [
    "fileR <- dir(\"../script\", \".R$\")\n",
    "for (ii in fileR)\n",
    "    source(paste0(\"../script/\", ii))\n"
   ]
  },
  {
   "cell_type": "markdown",
   "metadata": {},
   "source": [
    "## Load data"
   ]
  },
  {
   "cell_type": "code",
   "execution_count": null,
   "metadata": {
    "collapsed": true
   },
   "outputs": [],
   "source": [
    "N = list(dn = 1077, ca = 3157, cn = 4672)\n",
    "inputData <- read.table(\"../data/SimulationDataDNandCC.txt\", header = TRUE, as.is = TRUE)\n",
    "\n",
    "head(inputData)\n",
    "## Denovo data should start with \"dn_\"\n",
    "## Mutation data should start with \"mut_\"\n",
    "## Case data should start with cc_case "
   ]
  },
  {
   "cell_type": "code",
   "execution_count": null,
   "metadata": {
    "collapsed": true
   },
   "outputs": [],
   "source": []
  },
  {
   "cell_type": "code",
   "execution_count": 3,
   "metadata": {
    "collapsed": false
   },
   "outputs": [
    {
     "data": {
      "text/html": [
       "<table>\n",
       "<thead><tr><th scope=col>Gene</th><th scope=col>mut_lof</th><th scope=col>mut_mis3</th><th scope=col>dn_lof</th><th scope=col>dn_mis3</th><th scope=col>cc_case1</th><th scope=col>cc_case2</th><th scope=col>cc_control1</th><th scope=col>cc_control2</th></tr></thead>\n",
       "<tbody>\n",
       "\t<tr><td>G1          </td><td>9.996657e-07</td><td>4.54062e-07 </td><td>0           </td><td>0           </td><td>0           </td><td>0           </td><td>0           </td><td>0           </td></tr>\n",
       "\t<tr><td>G2          </td><td>1.420491e-07</td><td>1.04146e-10 </td><td>0           </td><td>0           </td><td>0           </td><td>0           </td><td>0           </td><td>0           </td></tr>\n",
       "\t<tr><td>G3          </td><td>2.144318e-06</td><td>3.35199e-06 </td><td>0           </td><td>0           </td><td>0           </td><td>0           </td><td>0           </td><td>0           </td></tr>\n",
       "\t<tr><td>G4          </td><td>3.981797e-06</td><td>7.82154e-06 </td><td>0           </td><td>0           </td><td>0           </td><td>0           </td><td>0           </td><td>0           </td></tr>\n",
       "\t<tr><td>G5          </td><td>9.146980e-08</td><td>1.04146e-10 </td><td>0           </td><td>0           </td><td>0           </td><td>0           </td><td>0           </td><td>0           </td></tr>\n",
       "\t<tr><td>G6          </td><td>3.779929e-06</td><td>2.85364e-06 </td><td>0           </td><td>0           </td><td>0           </td><td>0           </td><td>0           </td><td>0           </td></tr>\n",
       "</tbody>\n",
       "</table>\n"
      ],
      "text/latex": [
       "\\begin{tabular}{r|lllllllll}\n",
       " Gene & mut\\_lof & mut\\_mis3 & dn\\_lof & dn\\_mis3 & cc\\_case1 & cc\\_case2 & cc\\_control1 & cc\\_control2\\\\\n",
       "\\hline\n",
       "\t G1           & 9.996657e-07 & 4.54062e-07  & 0            & 0            & 0            & 0            & 0            & 0           \\\\\n",
       "\t G2           & 1.420491e-07 & 1.04146e-10  & 0            & 0            & 0            & 0            & 0            & 0           \\\\\n",
       "\t G3           & 2.144318e-06 & 3.35199e-06  & 0            & 0            & 0            & 0            & 0            & 0           \\\\\n",
       "\t G4           & 3.981797e-06 & 7.82154e-06  & 0            & 0            & 0            & 0            & 0            & 0           \\\\\n",
       "\t G5           & 9.146980e-08 & 1.04146e-10  & 0            & 0            & 0            & 0            & 0            & 0           \\\\\n",
       "\t G6           & 3.779929e-06 & 2.85364e-06  & 0            & 0            & 0            & 0            & 0            & 0           \\\\\n",
       "\\end{tabular}\n"
      ],
      "text/markdown": [
       "\n",
       "Gene | mut_lof | mut_mis3 | dn_lof | dn_mis3 | cc_case1 | cc_case2 | cc_control1 | cc_control2 | \n",
       "|---|---|---|---|---|---|\n",
       "| G1           | 9.996657e-07 | 4.54062e-07  | 0            | 0            | 0            | 0            | 0            | 0            | \n",
       "| G2           | 1.420491e-07 | 1.04146e-10  | 0            | 0            | 0            | 0            | 0            | 0            | \n",
       "| G3           | 2.144318e-06 | 3.35199e-06  | 0            | 0            | 0            | 0            | 0            | 0            | \n",
       "| G4           | 3.981797e-06 | 7.82154e-06  | 0            | 0            | 0            | 0            | 0            | 0            | \n",
       "| G5           | 9.146980e-08 | 1.04146e-10  | 0            | 0            | 0            | 0            | 0            | 0            | \n",
       "| G6           | 3.779929e-06 | 2.85364e-06  | 0            | 0            | 0            | 0            | 0            | 0            | \n",
       "\n",
       "\n"
      ],
      "text/plain": [
       "  Gene mut_lof      mut_mis3    dn_lof dn_mis3 cc_case1 cc_case2 cc_control1\n",
       "1 G1   9.996657e-07 4.54062e-07 0      0       0        0        0          \n",
       "2 G2   1.420491e-07 1.04146e-10 0      0       0        0        0          \n",
       "3 G3   2.144318e-06 3.35199e-06 0      0       0        0        0          \n",
       "4 G4   3.981797e-06 7.82154e-06 0      0       0        0        0          \n",
       "5 G5   9.146980e-08 1.04146e-10 0      0       0        0        0          \n",
       "6 G6   3.779929e-06 2.85364e-06 0      0       0        0        0          \n",
       "  cc_control2\n",
       "1 0          \n",
       "2 0          \n",
       "3 0          \n",
       "4 0          \n",
       "5 0          \n",
       "6 0          "
      ]
     },
     "metadata": {},
     "output_type": "display_data"
    }
   ],
   "source": [
    "N = list(dn = 1077, ca = 3157, cn = 4672)\n",
    "inputData <- read.table(\"../data/SimulationDataDNandCC.txt\", header = TRUE, as.is = TRUE)\n",
    "\n",
    "head(inputData)\n",
    "## Need a column for gene names\n",
    "## Denovo data should start with \"dn_\"\n",
    "## Mutation data should start with \"mut_\"\n",
    "## Case data should start with cc_case \n",
    "## Control data should start with cc_control"
   ]
  },
  {
   "cell_type": "markdown",
   "metadata": {},
   "source": [
    "## Use the function 'extTADA' to obtain results"
   ]
  },
  {
   "cell_type": "code",
   "execution_count": 4,
   "metadata": {
    "collapsed": false
   },
   "outputs": [
    {
     "name": "stderr",
     "output_type": "stream",
     "text": [
      "MCMC is running\n",
      "\n",
      "There are 19358 genes in this analysis\n",
      "\n",
      "=============FIRST TIME ===============\n",
      "\n",
      "\n",
      "Sampling with nter = 1000 and nThin = 1\n",
      "\n",
      "\n",
      "The model modelName is used\n",
      "\n"
     ]
    },
    {
     "name": "stdout",
     "output_type": "stream",
     "text": [
      "In file included from file56174bbefe3.cpp:8:\n",
      "In file included from /Users/hoangnguyen/anaconda2/lib/R/library/StanHeaders/include/src/stan/model/model_header.hpp:4:\n",
      "In file included from /Users/hoangnguyen/anaconda2/lib/R/library/StanHeaders/include/stan/math.hpp:4:\n",
      "In file included from /Users/hoangnguyen/anaconda2/lib/R/library/StanHeaders/include/stan/math/rev/mat.hpp:4:\n",
      "In file included from /Users/hoangnguyen/anaconda2/lib/R/library/StanHeaders/include/stan/math/rev/core.hpp:12:\n",
      "In file included from /Users/hoangnguyen/anaconda2/lib/R/library/StanHeaders/include/stan/math/rev/core/gevv_vvv_vari.hpp:5:\n",
      "In file included from /Users/hoangnguyen/anaconda2/lib/R/library/StanHeaders/include/stan/math/rev/core/var.hpp:7:\n",
      "In file included from /Users/hoangnguyen/anaconda2/lib/R/library/BH/include/boost/math/tools/config.hpp:13:\n",
      "In file included from /Users/hoangnguyen/anaconda2/lib/R/library/BH/include/boost/config.hpp:39:\n",
      "/Users/hoangnguyen/anaconda2/lib/R/library/BH/include/boost/config/compiler/clang.hpp:196:11: warning: 'BOOST_NO_CXX11_RVALUE_REFERENCES' macro redefined [-Wmacro-redefined]\n",
      "#  define BOOST_NO_CXX11_RVALUE_REFERENCES\n",
      "          ^\n",
      "<command line>:6:9: note: previous definition is here\n",
      "#define BOOST_NO_CXX11_RVALUE_REFERENCES 1\n",
      "        ^\n",
      "1 warning generated.\n",
      "\n",
      "SAMPLING FOR MODEL '3038bc5d3b1ec8cf7df30ff1572c934c' NOW (CHAIN 1).\n",
      "\n",
      "Chain 1, Iteration:   1 / 1000 [  0%]  (Warmup)\n",
      "Chain 1, Iteration: 100 / 1000 [ 10%]  (Warmup)\n",
      "Chain 1, Iteration: 200 / 1000 [ 20%]  (Warmup)\n",
      "Chain 1, Iteration: 300 / 1000 [ 30%]  (Warmup)\n",
      "Chain 1, Iteration: 400 / 1000 [ 40%]  (Warmup)\n",
      "Chain 1, Iteration: 500 / 1000 [ 50%]  (Warmup)\n",
      "Chain 1, Iteration: 501 / 1000 [ 50%]  (Sampling)\n",
      "Chain 1, Iteration: 600 / 1000 [ 60%]  (Sampling)\n",
      "Chain 1, Iteration: 700 / 1000 [ 70%]  (Sampling)\n",
      "Chain 1, Iteration: 800 / 1000 [ 80%]  (Sampling)\n",
      "Chain 1, Iteration: 900 / 1000 [ 90%]  (Sampling)\n",
      "Chain 1, Iteration: 1000 / 1000 [100%]  (Sampling)\n",
      " Elapsed Time: 668.692 seconds (Warm-up)\n",
      "               378.176 seconds (Sampling)\n",
      "               1046.87 seconds (Total)\n",
      "\n"
     ]
    },
    {
     "name": "stderr",
     "output_type": "stream",
     "text": [
      "\n",
      "Estimate genetic parameters from MCMC results\n",
      "====\n",
      "Only pi and hyper parameters are estimated in this step\n",
      "extTADA does not calculate HPDs for hyper betas, just their medians\n",
      "===\n",
      "\n",
      "\n",
      "Calculate posterior probabilities and FDRs\n",
      "\n",
      "Draw heatmaps\n",
      "Warning message in plot.xy(xy, type, ...):\n",
      "“font width unknown for character 0x1”Warning message in plot.xy(xy, type, ...):\n",
      "“font metrics unknown for character 0x1”Warning message in plot.xy(xy, type, ...):\n",
      "“font width unknown for character 0x1”Warning message in plot.xy(xy, type, ...):\n",
      "“font metrics unknown for character 0x1”Warning message in plot.xy(xy, type, ...):\n",
      "“font width unknown for character 0x1”Warning message in plot.xy(xy, type, ...):\n",
      "“font metrics unknown for character 0x1”Warning message in plot.xy(xy, type, ...):\n",
      "“font width unknown for character 0x1”Warning message in plot.xy(xy, type, ...):\n",
      "“font metrics unknown for character 0x1”\n",
      "The analysis is completed.\n",
      "If you want to analyse steps seperately, please take a look at the example in the manual\n"
     ]
    }
   ],
   "source": [
    "mcmcDD <- extTADA(modelName = DNandCCextTADA,\n",
    "                  inputData = inputData, ## Input data should be formatted as above\n",
    "                  Ndn = rep(N$dn, 2), ##Two de novo categories\n",
    "                  Ncase = rep(N$ca, 2), ##Two case categories\n",
    "                  Ncontrol = rep(N$cn, 2), ##Two control categories\n",
    "                  nIteration = 1000, ## Number of iterations: should be upto higher for real data \n",
    "                  nThin = 1 ## Ste\n",
    "                 )"
   ]
  },
  {
   "cell_type": "markdown",
   "metadata": {},
   "source": [
    "## All results are in the working directory\n",
    "\n",
    "### There are three main files:\n",
    "\n",
    "Result_extTADA_PosteriorAndFDR*txt is FDRs of genes\n",
    "\n",
    "Result_extTADA_estimatedPars*txt is parameters\n",
    "\n",
    "heatMap*pdf is heatmaps of parameters"
   ]
  },
  {
   "cell_type": "code",
   "execution_count": null,
   "metadata": {
    "collapsed": true
   },
   "outputs": [],
   "source": []
  }
 ],
 "metadata": {
  "anaconda-cloud": {},
  "kernelspec": {
   "display_name": "R",
   "language": "R",
   "name": "ir"
  },
  "language_info": {
   "codemirror_mode": "r",
   "file_extension": ".r",
   "mimetype": "text/x-r-source",
   "name": "R",
   "pygments_lexer": "r",
   "version": "3.3.2"
  }
 },
 "nbformat": 4,
 "nbformat_minor": 1
}
