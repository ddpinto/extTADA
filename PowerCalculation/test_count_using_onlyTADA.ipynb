{
 "cells": [
  {
   "cell_type": "code",
   "execution_count": 21,
   "metadata": {
    "collapsed": false
   },
   "outputs": [],
   "source": [
    "# Mutation rates (from real data) and parameters\n",
    "# Note that we need two sets of parameters: one used for simulation, \n",
    "#the other used by TADA for scoring genes (those with the suffix \"est\")\n",
    "source(\"TADA/TADA.R\")\n",
    "data <- read.csv(\"TADA/data/ASC_2231trios_1333trans_1601cases_5397controls.csv\", header=TRUE, as.is=TRUE)\n",
    "mu <- data$mut.rate\n",
    "mu.frac <- c(0.074, 0.32)\n",
    "pi <- 0.06\n",
    "gamma.mean <- c(18, 5.4)\n",
    "beta <- c(1, 0.5)\n",
    "gamma.mean.est <- c(18, 5.4)\n",
    "beta.est <- c(1, 0.5)\n",
    "\n",
    "# Use simulation to assess the power of TADA.denovo\n",
    "nr <- 10\n",
    "rs <- numeric(nr)\n",
    "N <- 550 #5050\n",
    "\n",
    "rrListLoF <- c(4, seq(5, 50, by = 5))\n",
    "rrListMis3 <- rrListLoF/4\n",
    "\n",
    "power.mean <- numeric(length(N))\n",
    "power.sd <- numeric(length(N))\n",
    "\n",
    "\n",
    "\n",
    "\n",
    "    nr <- 10\n",
    "rsOut <- matrix(0, nrow = nr, ncol = length(rrListLoF))\n",
    "rsOutList <- list()\n",
    "\n",
    "Ntime <- 10\n",
    "for (ii in 1:length(rrListLoF)){\n",
    "\n",
    "    gamma.mean <- c(rrListLoF[ii], rrListMis3[ii])\n",
    "    gamma.mean.est <- c(rrListLoF[ii], rrListMis3[ii])\n",
    "    \n",
    "    \n",
    "  rs <- replicate(nr, eval.TADA.denovo(N, mu, mu.frac, pi, \n",
    "                                       gamma.mean, beta, gamma.mean.est, beta.est, FDR=0.1))\n",
    "  \n",
    "    rsOut[, ii] <- rs\n",
    "#    power.mean[ii] <- mean(rs)\n",
    "#  power.sd[i] <- sd(rs)\n",
    "\n",
    "#power.dn <- data.frame(mean=power.mean, sd=power.sd)\n",
    "   \n",
    "    }\n",
    "#    rsOutList[[kk]] <- rsOut\n",
    " #   }\n",
    "    "
   ]
  },
  {
   "cell_type": "code",
   "execution_count": 26,
   "metadata": {
    "collapsed": false
   },
   "outputs": [
    {
     "data": {
      "text/html": [
       "<ol class=list-inline>\n",
       "\t<li>4</li>\n",
       "\t<li>5</li>\n",
       "\t<li>10</li>\n",
       "\t<li>15</li>\n",
       "\t<li>20</li>\n",
       "\t<li>25</li>\n",
       "\t<li>30</li>\n",
       "\t<li>35</li>\n",
       "\t<li>40</li>\n",
       "\t<li>45</li>\n",
       "\t<li>50</li>\n",
       "</ol>\n"
      ],
      "text/latex": [
       "\\begin{enumerate*}\n",
       "\\item 4\n",
       "\\item 5\n",
       "\\item 10\n",
       "\\item 15\n",
       "\\item 20\n",
       "\\item 25\n",
       "\\item 30\n",
       "\\item 35\n",
       "\\item 40\n",
       "\\item 45\n",
       "\\item 50\n",
       "\\end{enumerate*}\n"
      ],
      "text/markdown": [
       "1. 4\n",
       "2. 5\n",
       "3. 10\n",
       "4. 15\n",
       "5. 20\n",
       "6. 25\n",
       "7. 30\n",
       "8. 35\n",
       "9. 40\n",
       "10. 45\n",
       "11. 50\n",
       "\n",
       "\n"
      ],
      "text/plain": [
       " [1]  4  5 10 15 20 25 30 35 40 45 50"
      ]
     },
     "execution_count": 26,
     "metadata": {},
     "output_type": "execute_result"
    },
    {
     "data": {
      "text/html": [
       "<ol class=list-inline>\n",
       "\t<li>1</li>\n",
       "\t<li>1.25</li>\n",
       "\t<li>2.5</li>\n",
       "\t<li>3.75</li>\n",
       "\t<li>5</li>\n",
       "\t<li>6.25</li>\n",
       "\t<li>7.5</li>\n",
       "\t<li>8.75</li>\n",
       "\t<li>10</li>\n",
       "\t<li>11.25</li>\n",
       "\t<li>12.5</li>\n",
       "</ol>\n"
      ],
      "text/latex": [
       "\\begin{enumerate*}\n",
       "\\item 1\n",
       "\\item 1.25\n",
       "\\item 2.5\n",
       "\\item 3.75\n",
       "\\item 5\n",
       "\\item 6.25\n",
       "\\item 7.5\n",
       "\\item 8.75\n",
       "\\item 10\n",
       "\\item 11.25\n",
       "\\item 12.5\n",
       "\\end{enumerate*}\n"
      ],
      "text/markdown": [
       "1. 1\n",
       "2. 1.25\n",
       "3. 2.5\n",
       "4. 3.75\n",
       "5. 5\n",
       "6. 6.25\n",
       "7. 7.5\n",
       "8. 8.75\n",
       "9. 10\n",
       "10. 11.25\n",
       "11. 12.5\n",
       "\n",
       "\n"
      ],
      "text/plain": [
       " [1]  1.00  1.25  2.50  3.75  5.00  6.25  7.50  8.75 10.00 11.25 12.50"
      ]
     },
     "execution_count": 26,
     "metadata": {},
     "output_type": "execute_result"
    }
   ],
   "source": [
    "rrListLoF\n",
    "rrListMis3"
   ]
  },
  {
   "cell_type": "code",
   "execution_count": 22,
   "metadata": {
    "collapsed": false
   },
   "outputs": [
    {
     "data": {
      "text/html": [
       "0"
      ],
      "text/latex": [
       "0"
      ],
      "text/markdown": [
       "0"
      ],
      "text/plain": [
       "[1] 0"
      ]
     },
     "execution_count": 22,
     "metadata": {},
     "output_type": "execute_result"
    },
    {
     "data": {
      "text/html": [
       "<table>\n",
       "<tbody>\n",
       "\t<tr><td> 1</td><td> 1</td><td> 1</td><td> 2</td><td> 4</td><td>10</td><td> 7</td><td>15</td><td>25</td><td>40</td><td>49</td></tr>\n",
       "\t<tr><td> 1</td><td> 1</td><td> 1</td><td> 1</td><td> 3</td><td> 6</td><td>13</td><td>23</td><td>30</td><td>25</td><td>41</td></tr>\n",
       "\t<tr><td> 1</td><td> 1</td><td> 1</td><td> 2</td><td> 8</td><td> 5</td><td>13</td><td>20</td><td>26</td><td>37</td><td>29</td></tr>\n",
       "\t<tr><td> 1</td><td> 1</td><td> 1</td><td> 2</td><td> 1</td><td>12</td><td>11</td><td>18</td><td>28</td><td>43</td><td>44</td></tr>\n",
       "\t<tr><td> 1</td><td> 1</td><td> 1</td><td> 3</td><td> 4</td><td> 9</td><td>14</td><td>18</td><td>22</td><td>36</td><td>39</td></tr>\n",
       "\t<tr><td> 1</td><td> 1</td><td> 1</td><td> 2</td><td> 6</td><td>11</td><td>14</td><td>14</td><td>36</td><td>32</td><td>45</td></tr>\n",
       "\t<tr><td> 1</td><td> 1</td><td> 1</td><td> 3</td><td> 5</td><td> 8</td><td>13</td><td>11</td><td>25</td><td>31</td><td>52</td></tr>\n",
       "\t<tr><td> 1</td><td> 1</td><td> 1</td><td> 3</td><td> 8</td><td> 7</td><td>17</td><td>19</td><td>28</td><td>49</td><td>44</td></tr>\n",
       "\t<tr><td> 1</td><td> 1</td><td> 1</td><td> 3</td><td> 6</td><td> 1</td><td>17</td><td>10</td><td>26</td><td>31</td><td>46</td></tr>\n",
       "\t<tr><td> 1</td><td> 1</td><td> 1</td><td> 1</td><td> 4</td><td> 1</td><td>12</td><td>19</td><td>26</td><td>36</td><td>53</td></tr>\n",
       "</tbody>\n",
       "</table>\n"
      ],
      "text/latex": [
       "\\begin{tabular}{lllllllllll}\n",
       "\t  1 &  1 &  1 &  2 &  4 & 10 &  7 & 15 & 25 & 40 & 49\\\\\n",
       "\t  1 &  1 &  1 &  1 &  3 &  6 & 13 & 23 & 30 & 25 & 41\\\\\n",
       "\t  1 &  1 &  1 &  2 &  8 &  5 & 13 & 20 & 26 & 37 & 29\\\\\n",
       "\t  1 &  1 &  1 &  2 &  1 & 12 & 11 & 18 & 28 & 43 & 44\\\\\n",
       "\t  1 &  1 &  1 &  3 &  4 &  9 & 14 & 18 & 22 & 36 & 39\\\\\n",
       "\t  1 &  1 &  1 &  2 &  6 & 11 & 14 & 14 & 36 & 32 & 45\\\\\n",
       "\t  1 &  1 &  1 &  3 &  5 &  8 & 13 & 11 & 25 & 31 & 52\\\\\n",
       "\t  1 &  1 &  1 &  3 &  8 &  7 & 17 & 19 & 28 & 49 & 44\\\\\n",
       "\t  1 &  1 &  1 &  3 &  6 &  1 & 17 & 10 & 26 & 31 & 46\\\\\n",
       "\t  1 &  1 &  1 &  1 &  4 &  1 & 12 & 19 & 26 & 36 & 53\\\\\n",
       "\\end{tabular}\n"
      ],
      "text/markdown": [
       "1. 1\n",
       "2. 1\n",
       "3. 1\n",
       "4. 1\n",
       "5. 1\n",
       "6. 1\n",
       "7. 1\n",
       "8. 1\n",
       "9. 1\n",
       "10. 1\n",
       "11. 1\n",
       "12. 1\n",
       "13. 1\n",
       "14. 1\n",
       "15. 1\n",
       "16. 1\n",
       "17. 1\n",
       "18. 1\n",
       "19. 1\n",
       "20. 1\n",
       "21. 1\n",
       "22. 1\n",
       "23. 1\n",
       "24. 1\n",
       "25. 1\n",
       "26. 1\n",
       "27. 1\n",
       "28. 1\n",
       "29. 1\n",
       "30. 1\n",
       "31. 2\n",
       "32. 1\n",
       "33. 2\n",
       "34. 2\n",
       "35. 3\n",
       "36. 2\n",
       "37. 3\n",
       "38. 3\n",
       "39. 3\n",
       "40. 1\n",
       "41. 4\n",
       "42. 3\n",
       "43. 8\n",
       "44. 1\n",
       "45. 4\n",
       "46. 6\n",
       "47. 5\n",
       "48. 8\n",
       "49. 6\n",
       "50. 4\n",
       "51. 10\n",
       "52. 6\n",
       "53. 5\n",
       "54. 12\n",
       "55. 9\n",
       "56. 11\n",
       "57. 8\n",
       "58. 7\n",
       "59. 1\n",
       "60. 1\n",
       "61. 7\n",
       "62. 13\n",
       "63. 13\n",
       "64. 11\n",
       "65. 14\n",
       "66. 14\n",
       "67. 13\n",
       "68. 17\n",
       "69. 17\n",
       "70. 12\n",
       "71. 15\n",
       "72. 23\n",
       "73. 20\n",
       "74. 18\n",
       "75. 18\n",
       "76. 14\n",
       "77. 11\n",
       "78. 19\n",
       "79. 10\n",
       "80. 19\n",
       "81. 25\n",
       "82. 30\n",
       "83. 26\n",
       "84. 28\n",
       "85. 22\n",
       "86. 36\n",
       "87. 25\n",
       "88. 28\n",
       "89. 26\n",
       "90. 26\n",
       "91. 40\n",
       "92. 25\n",
       "93. 37\n",
       "94. 43\n",
       "95. 36\n",
       "96. 32\n",
       "97. 31\n",
       "98. 49\n",
       "99. 31\n",
       "100. 36\n",
       "101. 49\n",
       "102. 41\n",
       "103. 29\n",
       "104. 44\n",
       "105. 39\n",
       "106. 45\n",
       "107. 52\n",
       "108. 44\n",
       "109. 46\n",
       "110. 53\n",
       "\n",
       "\n"
      ],
      "text/plain": [
       "      [,1] [,2] [,3] [,4] [,5] [,6] [,7] [,8] [,9] [,10] [,11]\n",
       " [1,]    1    1    1    2    4   10    7   15   25    40    49\n",
       " [2,]    1    1    1    1    3    6   13   23   30    25    41\n",
       " [3,]    1    1    1    2    8    5   13   20   26    37    29\n",
       " [4,]    1    1    1    2    1   12   11   18   28    43    44\n",
       " [5,]    1    1    1    3    4    9   14   18   22    36    39\n",
       " [6,]    1    1    1    2    6   11   14   14   36    32    45\n",
       " [7,]    1    1    1    3    5    8   13   11   25    31    52\n",
       " [8,]    1    1    1    3    8    7   17   19   28    49    44\n",
       " [9,]    1    1    1    3    6    1   17   10   26    31    46\n",
       "[10,]    1    1    1    1    4    1   12   19   26    36    53"
      ]
     },
     "execution_count": 22,
     "metadata": {},
     "output_type": "execute_result"
    }
   ],
   "source": [
    "power.mean\n",
    "rsOut"
   ]
  },
  {
   "cell_type": "code",
   "execution_count": 23,
   "metadata": {
    "collapsed": false
   },
   "outputs": [
    {
     "data": {
      "text/html": [
       "<ol class=list-inline>\n",
       "\t<li>49</li>\n",
       "\t<li>41</li>\n",
       "\t<li>29</li>\n",
       "\t<li>44</li>\n",
       "\t<li>39</li>\n",
       "\t<li>45</li>\n",
       "\t<li>52</li>\n",
       "\t<li>44</li>\n",
       "\t<li>46</li>\n",
       "\t<li>53</li>\n",
       "</ol>\n"
      ],
      "text/latex": [
       "\\begin{enumerate*}\n",
       "\\item 49\n",
       "\\item 41\n",
       "\\item 29\n",
       "\\item 44\n",
       "\\item 39\n",
       "\\item 45\n",
       "\\item 52\n",
       "\\item 44\n",
       "\\item 46\n",
       "\\item 53\n",
       "\\end{enumerate*}\n"
      ],
      "text/markdown": [
       "1. 49\n",
       "2. 41\n",
       "3. 29\n",
       "4. 44\n",
       "5. 39\n",
       "6. 45\n",
       "7. 52\n",
       "8. 44\n",
       "9. 46\n",
       "10. 53\n",
       "\n",
       "\n"
      ],
      "text/plain": [
       " [1] 49 41 29 44 39 45 52 44 46 53"
      ]
     },
     "execution_count": 23,
     "metadata": {},
     "output_type": "execute_result"
    }
   ],
   "source": [
    "rs"
   ]
  },
  {
   "cell_type": "code",
   "execution_count": 24,
   "metadata": {
    "collapsed": false
   },
   "outputs": [
    {
     "data": {
      "text/html": [
       "<ol class=list-inline>\n",
       "\t<li>50</li>\n",
       "\t<li>12.5</li>\n",
       "</ol>\n"
      ],
      "text/latex": [
       "\\begin{enumerate*}\n",
       "\\item 50\n",
       "\\item 12.5\n",
       "\\end{enumerate*}\n"
      ],
      "text/markdown": [
       "1. 50\n",
       "2. 12.5\n",
       "\n",
       "\n"
      ],
      "text/plain": [
       "[1] 50.0 12.5"
      ]
     },
     "execution_count": 24,
     "metadata": {},
     "output_type": "execute_result"
    },
    {
     "data": {
      "text/html": [
       "<ol class=list-inline>\n",
       "\t<li>50</li>\n",
       "\t<li>12.5</li>\n",
       "</ol>\n"
      ],
      "text/latex": [
       "\\begin{enumerate*}\n",
       "\\item 50\n",
       "\\item 12.5\n",
       "\\end{enumerate*}\n"
      ],
      "text/markdown": [
       "1. 50\n",
       "2. 12.5\n",
       "\n",
       "\n"
      ],
      "text/plain": [
       "[1] 50.0 12.5"
      ]
     },
     "execution_count": 24,
     "metadata": {},
     "output_type": "execute_result"
    }
   ],
   "source": [
    "gamma.mean\n",
    "gamma.mean.est"
   ]
  },
  {
   "cell_type": "code",
   "execution_count": 25,
   "metadata": {
    "collapsed": false
   },
   "outputs": [
    {
     "data": {
      "image/png": "[encoded data removed]",
      "image/svg+xml": [
       "<?xml version=\"1.0\" encoding=\"UTF-8\"?>\n",
       "<svg xmlns=\"http://www.w3.org/2000/svg\" xmlns:xlink=\"http://www.w3.org/1999/xlink\" width=\"504pt\" height=\"504pt\" viewBox=\"0 0 504 504\" version=\"1.1\">\n",
       "<defs>\n",
       "<g>\n",
       "<symbol overflow=\"visible\" id=\"glyph0-0\">\n",
       "<path style=\"stroke:none;\" d=\"M 0.390625 0 L 0.390625 -8.609375 L 7.21875 -8.609375 L 7.21875 0 Z M 6.140625 -1.078125 L 6.140625 -7.53125 L 1.46875 -7.53125 L 1.46875 -1.078125 Z \"/>\n",
       "</symbol>\n",
       "<symbol overflow=\"visible\" id=\"glyph0-1\">\n",
       "<path style=\"stroke:none;\" d=\"M 1.15625 -5.9375 L 1.15625 -6.75 C 1.914062 -6.820312 2.441406 -6.945312 2.734375 -7.125 C 3.035156 -7.300781 3.265625 -7.710938 3.421875 -8.359375 L 4.25 -8.359375 L 4.25 0 L 3.125 0 L 3.125 -5.9375 Z \"/>\n",
       "</symbol>\n",
       "<symbol overflow=\"visible\" id=\"glyph0-2\">\n",
       "<path style=\"stroke:none;\" d=\"M 3.25 -8.390625 C 4.332031 -8.390625 5.117188 -7.941406 5.609375 -7.046875 C 5.984375 -6.359375 6.171875 -5.410156 6.171875 -4.203125 C 6.171875 -3.066406 6 -2.125 5.65625 -1.375 C 5.164062 -0.300781 4.359375 0.234375 3.234375 0.234375 C 2.234375 0.234375 1.484375 -0.203125 0.984375 -1.078125 C 0.578125 -1.816406 0.375 -2.800781 0.375 -4.03125 C 0.375 -4.976562 0.5 -5.796875 0.75 -6.484375 C 1.207031 -7.753906 2.039062 -8.390625 3.25 -8.390625 Z M 3.234375 -0.734375 C 3.785156 -0.734375 4.222656 -0.972656 4.546875 -1.453125 C 4.867188 -1.941406 5.03125 -2.847656 5.03125 -4.171875 C 5.03125 -5.117188 4.910156 -5.898438 4.671875 -6.515625 C 4.441406 -7.128906 3.988281 -7.4375 3.3125 -7.4375 C 2.6875 -7.4375 2.226562 -7.144531 1.9375 -6.5625 C 1.65625 -5.976562 1.515625 -5.117188 1.515625 -3.984375 C 1.515625 -3.128906 1.609375 -2.441406 1.796875 -1.921875 C 2.078125 -1.128906 2.554688 -0.734375 3.234375 -0.734375 Z \"/>\n",
       "</symbol>\n",
       "<symbol overflow=\"visible\" id=\"glyph0-3\">\n",
       "<path style=\"stroke:none;\" d=\"M 0.375 0 C 0.414062 -0.71875 0.566406 -1.34375 0.828125 -1.875 C 1.085938 -2.414062 1.59375 -2.90625 2.34375 -3.34375 L 3.46875 -4 C 3.96875 -4.289062 4.320312 -4.539062 4.53125 -4.75 C 4.851562 -5.070312 5.015625 -5.441406 5.015625 -5.859375 C 5.015625 -6.347656 4.863281 -6.734375 4.5625 -7.015625 C 4.269531 -7.304688 3.882812 -7.453125 3.40625 -7.453125 C 2.675781 -7.453125 2.175781 -7.179688 1.90625 -6.640625 C 1.75 -6.335938 1.664062 -5.929688 1.65625 -5.421875 L 0.578125 -5.421875 C 0.585938 -6.148438 0.722656 -6.742188 0.984375 -7.203125 C 1.441406 -8.015625 2.25 -8.421875 3.40625 -8.421875 C 4.363281 -8.421875 5.0625 -8.160156 5.5 -7.640625 C 5.945312 -7.117188 6.171875 -6.539062 6.171875 -5.90625 C 6.171875 -5.238281 5.9375 -4.664062 5.46875 -4.1875 C 5.195312 -3.90625 4.707031 -3.566406 4 -3.171875 L 3.1875 -2.734375 C 2.8125 -2.523438 2.515625 -2.320312 2.296875 -2.125 C 1.898438 -1.789062 1.648438 -1.414062 1.546875 -1 L 6.140625 -1 L 6.140625 0 Z \"/>\n",
       "</symbol>\n",
       "<symbol overflow=\"visible\" id=\"glyph0-4\">\n",
       "<path style=\"stroke:none;\" d=\"M 3.125 0.234375 C 2.125 0.234375 1.398438 -0.0351562 0.953125 -0.578125 C 0.503906 -1.128906 0.28125 -1.796875 0.28125 -2.578125 L 1.390625 -2.578125 C 1.429688 -2.035156 1.53125 -1.640625 1.6875 -1.390625 C 1.96875 -0.953125 2.460938 -0.734375 3.171875 -0.734375 C 3.734375 -0.734375 4.179688 -0.878906 4.515625 -1.171875 C 4.847656 -1.472656 5.015625 -1.859375 5.015625 -2.328125 C 5.015625 -2.898438 4.835938 -3.300781 4.484375 -3.53125 C 4.128906 -3.769531 3.640625 -3.890625 3.015625 -3.890625 C 2.941406 -3.890625 2.867188 -3.882812 2.796875 -3.875 C 2.722656 -3.875 2.648438 -3.875 2.578125 -3.875 L 2.578125 -4.8125 C 2.691406 -4.789062 2.785156 -4.78125 2.859375 -4.78125 C 2.929688 -4.78125 3.007812 -4.78125 3.09375 -4.78125 C 3.488281 -4.78125 3.8125 -4.84375 4.0625 -4.96875 C 4.507812 -5.1875 4.734375 -5.578125 4.734375 -6.140625 C 4.734375 -6.554688 4.582031 -6.875 4.28125 -7.09375 C 3.988281 -7.320312 3.644531 -7.4375 3.25 -7.4375 C 2.550781 -7.4375 2.066406 -7.203125 1.796875 -6.734375 C 1.648438 -6.484375 1.566406 -6.117188 1.546875 -5.640625 L 0.5 -5.640625 C 0.5 -6.265625 0.625 -6.796875 0.875 -7.234375 C 1.300781 -8.015625 2.054688 -8.40625 3.140625 -8.40625 C 3.992188 -8.40625 4.65625 -8.210938 5.125 -7.828125 C 5.59375 -7.453125 5.828125 -6.898438 5.828125 -6.171875 C 5.828125 -5.660156 5.691406 -5.242188 5.421875 -4.921875 C 5.242188 -4.722656 5.019531 -4.566406 4.75 -4.453125 C 5.1875 -4.328125 5.53125 -4.09375 5.78125 -3.75 C 6.03125 -3.40625 6.15625 -2.984375 6.15625 -2.484375 C 6.15625 -1.679688 5.890625 -1.023438 5.359375 -0.515625 C 4.835938 -0.015625 4.09375 0.234375 3.125 0.234375 Z \"/>\n",
       "</symbol>\n",
       "<symbol overflow=\"visible\" id=\"glyph0-5\">\n",
       "<path style=\"stroke:none;\" d=\"M 3.96875 -2.96875 L 3.96875 -6.78125 L 1.28125 -2.96875 Z M 3.984375 0 L 3.984375 -2.046875 L 0.3125 -2.046875 L 0.3125 -3.078125 L 4.15625 -8.421875 L 5.046875 -8.421875 L 5.046875 -2.96875 L 6.28125 -2.96875 L 6.28125 -2.046875 L 5.046875 -2.046875 L 5.046875 0 Z \"/>\n",
       "</symbol>\n",
       "<symbol overflow=\"visible\" id=\"glyph0-6\">\n",
       "<path style=\"stroke:none;\" d=\"M 1.484375 -2.140625 C 1.554688 -1.535156 1.835938 -1.117188 2.328125 -0.890625 C 2.578125 -0.773438 2.863281 -0.71875 3.1875 -0.71875 C 3.8125 -0.71875 4.273438 -0.914062 4.578125 -1.3125 C 4.878906 -1.707031 5.03125 -2.148438 5.03125 -2.640625 C 5.03125 -3.222656 4.847656 -3.675781 4.484375 -4 C 4.128906 -4.320312 3.703125 -4.484375 3.203125 -4.484375 C 2.835938 -4.484375 2.523438 -4.410156 2.265625 -4.265625 C 2.003906 -4.128906 1.785156 -3.9375 1.609375 -3.6875 L 0.6875 -3.734375 L 1.328125 -8.25 L 5.6875 -8.25 L 5.6875 -7.234375 L 2.125 -7.234375 L 1.765625 -4.90625 C 1.960938 -5.050781 2.148438 -5.160156 2.328125 -5.234375 C 2.640625 -5.359375 3 -5.421875 3.40625 -5.421875 C 4.175781 -5.421875 4.828125 -5.171875 5.359375 -4.671875 C 5.898438 -4.179688 6.171875 -3.554688 6.171875 -2.796875 C 6.171875 -2.003906 5.921875 -1.300781 5.421875 -0.6875 C 4.929688 -0.0820312 4.148438 0.21875 3.078125 0.21875 C 2.398438 0.21875 1.796875 0.0234375 1.265625 -0.359375 C 0.742188 -0.742188 0.453125 -1.335938 0.390625 -2.140625 Z \"/>\n",
       "</symbol>\n",
       "<symbol overflow=\"visible\" id=\"glyph0-7\">\n",
       "<path style=\"stroke:none;\" d=\"M 4.921875 -4.671875 C 5.460938 -4.671875 5.890625 -4.78125 6.203125 -5 C 6.523438 -5.21875 6.6875 -5.609375 6.6875 -6.171875 C 6.6875 -6.785156 6.46875 -7.207031 6.03125 -7.4375 C 5.789062 -7.550781 5.46875 -7.609375 5.0625 -7.609375 L 2.21875 -7.609375 L 2.21875 -4.671875 Z M 1.0625 -8.609375 L 5.046875 -8.609375 C 5.703125 -8.609375 6.238281 -8.515625 6.65625 -8.328125 C 7.46875 -7.953125 7.875 -7.269531 7.875 -6.28125 C 7.875 -5.769531 7.765625 -5.347656 7.546875 -5.015625 C 7.335938 -4.691406 7.039062 -4.429688 6.65625 -4.234375 C 7 -4.097656 7.253906 -3.914062 7.421875 -3.6875 C 7.585938 -3.46875 7.679688 -3.109375 7.703125 -2.609375 L 7.75 -1.453125 C 7.757812 -1.128906 7.785156 -0.882812 7.828125 -0.71875 C 7.898438 -0.445312 8.023438 -0.269531 8.203125 -0.1875 L 8.203125 0 L 6.78125 0 C 6.738281 -0.0703125 6.703125 -0.164062 6.671875 -0.28125 C 6.648438 -0.40625 6.632812 -0.632812 6.625 -0.96875 L 6.546875 -2.40625 C 6.523438 -2.96875 6.316406 -3.34375 5.921875 -3.53125 C 5.703125 -3.632812 5.351562 -3.6875 4.875 -3.6875 L 2.21875 -3.6875 L 2.21875 0 L 1.0625 0 Z \"/>\n",
       "</symbol>\n",
       "<symbol overflow=\"visible\" id=\"glyph0-8\">\n",
       "<path style=\"stroke:none;\" d=\"M 3.390625 -6.421875 C 3.835938 -6.421875 4.269531 -6.316406 4.6875 -6.109375 C 5.101562 -5.898438 5.421875 -5.628906 5.640625 -5.296875 C 5.847656 -4.972656 5.988281 -4.601562 6.0625 -4.1875 C 6.125 -3.894531 6.15625 -3.429688 6.15625 -2.796875 L 1.546875 -2.796875 C 1.566406 -2.160156 1.71875 -1.648438 2 -1.265625 C 2.28125 -0.878906 2.71875 -0.6875 3.3125 -0.6875 C 3.863281 -0.6875 4.300781 -0.867188 4.625 -1.234375 C 4.8125 -1.441406 4.945312 -1.6875 5.03125 -1.96875 L 6.0625 -1.96875 C 6.039062 -1.738281 5.953125 -1.484375 5.796875 -1.203125 C 5.640625 -0.921875 5.46875 -0.6875 5.28125 -0.5 C 4.957031 -0.1875 4.554688 0.0195312 4.078125 0.125 C 3.828125 0.1875 3.539062 0.21875 3.21875 0.21875 C 2.4375 0.21875 1.773438 -0.0625 1.234375 -0.625 C 0.691406 -1.195312 0.421875 -1.992188 0.421875 -3.015625 C 0.421875 -4.023438 0.691406 -4.84375 1.234375 -5.46875 C 1.785156 -6.101562 2.503906 -6.421875 3.390625 -6.421875 Z M 5.0625 -3.640625 C 5.019531 -4.097656 4.921875 -4.460938 4.765625 -4.734375 C 4.484375 -5.242188 4.003906 -5.5 3.328125 -5.5 C 2.835938 -5.5 2.425781 -5.320312 2.09375 -4.96875 C 1.769531 -4.625 1.597656 -4.179688 1.578125 -3.640625 Z M 3.28125 -6.421875 Z \"/>\n",
       "</symbol>\n",
       "<symbol overflow=\"visible\" id=\"glyph0-9\">\n",
       "<path style=\"stroke:none;\" d=\"M 0.796875 -8.609375 L 1.859375 -8.609375 L 1.859375 0 L 0.796875 0 Z \"/>\n",
       "</symbol>\n",
       "<symbol overflow=\"visible\" id=\"glyph0-10\">\n",
       "<path style=\"stroke:none;\" d=\"M 1.578125 -1.671875 C 1.578125 -1.367188 1.6875 -1.128906 1.90625 -0.953125 C 2.132812 -0.773438 2.398438 -0.6875 2.703125 -0.6875 C 3.078125 -0.6875 3.4375 -0.769531 3.78125 -0.9375 C 4.375 -1.226562 4.671875 -1.695312 4.671875 -2.34375 L 4.671875 -3.1875 C 4.535156 -3.113281 4.363281 -3.046875 4.15625 -2.984375 C 3.957031 -2.929688 3.757812 -2.894531 3.5625 -2.875 L 2.9375 -2.796875 C 2.550781 -2.742188 2.257812 -2.660156 2.0625 -2.546875 C 1.738281 -2.367188 1.578125 -2.078125 1.578125 -1.671875 Z M 4.140625 -3.796875 C 4.378906 -3.828125 4.539062 -3.929688 4.625 -4.109375 C 4.664062 -4.203125 4.6875 -4.335938 4.6875 -4.515625 C 4.6875 -4.867188 4.554688 -5.125 4.296875 -5.28125 C 4.046875 -5.445312 3.6875 -5.53125 3.21875 -5.53125 C 2.664062 -5.53125 2.273438 -5.382812 2.046875 -5.09375 C 1.910156 -4.925781 1.820312 -4.679688 1.78125 -4.359375 L 0.796875 -4.359375 C 0.816406 -5.128906 1.066406 -5.664062 1.546875 -5.96875 C 2.035156 -6.269531 2.597656 -6.421875 3.234375 -6.421875 C 3.972656 -6.421875 4.570312 -6.28125 5.03125 -6 C 5.488281 -5.71875 5.71875 -5.28125 5.71875 -4.6875 L 5.71875 -1.078125 C 5.71875 -0.972656 5.738281 -0.882812 5.78125 -0.8125 C 5.832031 -0.75 5.929688 -0.71875 6.078125 -0.71875 C 6.117188 -0.71875 6.164062 -0.71875 6.21875 -0.71875 C 6.28125 -0.726562 6.347656 -0.738281 6.421875 -0.75 L 6.421875 0.03125 C 6.253906 0.0703125 6.125 0.0976562 6.03125 0.109375 C 5.945312 0.128906 5.832031 0.140625 5.6875 0.140625 C 5.320312 0.140625 5.0625 0.0078125 4.90625 -0.25 C 4.8125 -0.382812 4.75 -0.578125 4.71875 -0.828125 C 4.5 -0.546875 4.1875 -0.300781 3.78125 -0.09375 C 3.382812 0.113281 2.945312 0.21875 2.46875 0.21875 C 1.882812 0.21875 1.40625 0.0390625 1.03125 -0.3125 C 0.664062 -0.664062 0.484375 -1.109375 0.484375 -1.640625 C 0.484375 -2.222656 0.664062 -2.675781 1.03125 -3 C 1.394531 -3.320312 1.867188 -3.519531 2.453125 -3.59375 Z M 3.265625 -6.421875 Z \"/>\n",
       "</symbol>\n",
       "<symbol overflow=\"visible\" id=\"glyph0-11\">\n",
       "<path style=\"stroke:none;\" d=\"M 0.984375 -8.03125 L 2.046875 -8.03125 L 2.046875 -6.28125 L 3.046875 -6.28125 L 3.046875 -5.421875 L 2.046875 -5.421875 L 2.046875 -1.3125 C 2.046875 -1.09375 2.125 -0.945312 2.28125 -0.875 C 2.351562 -0.832031 2.488281 -0.8125 2.6875 -0.8125 C 2.738281 -0.8125 2.789062 -0.8125 2.84375 -0.8125 C 2.90625 -0.820312 2.972656 -0.828125 3.046875 -0.828125 L 3.046875 0 C 2.929688 0.03125 2.804688 0.0507812 2.671875 0.0625 C 2.546875 0.0820312 2.40625 0.09375 2.25 0.09375 C 1.757812 0.09375 1.425781 -0.03125 1.25 -0.28125 C 1.070312 -0.53125 0.984375 -0.859375 0.984375 -1.265625 L 0.984375 -5.421875 L 0.140625 -5.421875 L 0.140625 -6.28125 L 0.984375 -6.28125 Z \"/>\n",
       "</symbol>\n",
       "<symbol overflow=\"visible\" id=\"glyph0-12\">\n",
       "<path style=\"stroke:none;\" d=\"M 0.78125 -6.25 L 1.84375 -6.25 L 1.84375 0 L 0.78125 0 Z M 0.78125 -8.609375 L 1.84375 -8.609375 L 1.84375 -7.40625 L 0.78125 -7.40625 Z \"/>\n",
       "</symbol>\n",
       "<symbol overflow=\"visible\" id=\"glyph0-13\">\n",
       "<path style=\"stroke:none;\" d=\"M 1.296875 -6.28125 L 2.96875 -1.171875 L 4.71875 -6.28125 L 5.875 -6.28125 L 3.5 0 L 2.375 0 L 0.0625 -6.28125 Z \"/>\n",
       "</symbol>\n",
       "<symbol overflow=\"visible\" id=\"glyph0-14\">\n",
       "<path style=\"stroke:none;\" d=\"\"/>\n",
       "</symbol>\n",
       "<symbol overflow=\"visible\" id=\"glyph0-15\">\n",
       "<path style=\"stroke:none;\" d=\"M 0.796875 -6.28125 L 1.8125 -6.28125 L 1.8125 -5.1875 C 1.882812 -5.40625 2.082031 -5.664062 2.40625 -5.96875 C 2.726562 -6.269531 3.097656 -6.421875 3.515625 -6.421875 C 3.535156 -6.421875 3.566406 -6.414062 3.609375 -6.40625 C 3.660156 -6.40625 3.742188 -6.398438 3.859375 -6.390625 L 3.859375 -5.28125 C 3.796875 -5.289062 3.738281 -5.296875 3.6875 -5.296875 C 3.632812 -5.296875 3.578125 -5.296875 3.515625 -5.296875 C 2.984375 -5.296875 2.570312 -5.125 2.28125 -4.78125 C 2 -4.445312 1.859375 -4.054688 1.859375 -3.609375 L 1.859375 0 L 0.796875 0 Z \"/>\n",
       "</symbol>\n",
       "<symbol overflow=\"visible\" id=\"glyph0-16\">\n",
       "<path style=\"stroke:none;\" d=\"M 1.40625 -1.96875 C 1.4375 -1.613281 1.523438 -1.34375 1.671875 -1.15625 C 1.929688 -0.820312 2.390625 -0.65625 3.046875 -0.65625 C 3.441406 -0.65625 3.785156 -0.738281 4.078125 -0.90625 C 4.378906 -1.070312 4.53125 -1.332031 4.53125 -1.6875 C 4.53125 -1.957031 4.410156 -2.164062 4.171875 -2.3125 C 4.015625 -2.394531 3.710938 -2.492188 3.265625 -2.609375 L 2.421875 -2.8125 C 1.890625 -2.945312 1.5 -3.097656 1.25 -3.265625 C 0.789062 -3.546875 0.5625 -3.941406 0.5625 -4.453125 C 0.5625 -5.046875 0.773438 -5.523438 1.203125 -5.890625 C 1.628906 -6.253906 2.207031 -6.4375 2.9375 -6.4375 C 3.875 -6.4375 4.550781 -6.160156 4.96875 -5.609375 C 5.238281 -5.253906 5.367188 -4.875 5.359375 -4.46875 L 4.359375 -4.46875 C 4.335938 -4.707031 4.253906 -4.925781 4.109375 -5.125 C 3.867188 -5.394531 3.445312 -5.53125 2.84375 -5.53125 C 2.445312 -5.53125 2.144531 -5.453125 1.9375 -5.296875 C 1.738281 -5.148438 1.640625 -4.953125 1.640625 -4.703125 C 1.640625 -4.429688 1.773438 -4.210938 2.046875 -4.046875 C 2.203125 -3.953125 2.429688 -3.867188 2.734375 -3.796875 L 3.421875 -3.625 C 4.179688 -3.4375 4.691406 -3.257812 4.953125 -3.09375 C 5.359375 -2.820312 5.5625 -2.394531 5.5625 -1.8125 C 5.5625 -1.257812 5.347656 -0.78125 4.921875 -0.375 C 4.503906 0.03125 3.863281 0.234375 3 0.234375 C 2.0625 0.234375 1.394531 0.0234375 1 -0.390625 C 0.613281 -0.816406 0.410156 -1.34375 0.390625 -1.96875 Z M 2.953125 -6.421875 Z \"/>\n",
       "</symbol>\n",
       "<symbol overflow=\"visible\" id=\"glyph0-17\">\n",
       "<path style=\"stroke:none;\" d=\"M 0.75 -8.609375 L 1.765625 -8.609375 L 1.765625 -3.609375 L 4.46875 -6.28125 L 5.8125 -6.28125 L 3.421875 -3.921875 L 5.953125 0 L 4.609375 0 L 2.65625 -3.171875 L 1.765625 -2.359375 L 1.765625 0 L 0.75 0 Z \"/>\n",
       "</symbol>\n",
       "<symbol overflow=\"visible\" id=\"glyph1-0\">\n",
       "<path style=\"stroke:none;\" d=\"M 0 -0.390625 L -8.609375 -0.390625 L -8.609375 -7.21875 L 0 -7.21875 Z M -1.078125 -6.140625 L -7.53125 -6.140625 L -7.53125 -1.46875 L -1.078125 -1.46875 Z \"/>\n",
       "</symbol>\n",
       "<symbol overflow=\"visible\" id=\"glyph1-1\">\n",
       "<path style=\"stroke:none;\" d=\"M -8.390625 -3.25 C -8.390625 -4.332031 -7.941406 -5.117188 -7.046875 -5.609375 C -6.359375 -5.984375 -5.410156 -6.171875 -4.203125 -6.171875 C -3.066406 -6.171875 -2.125 -6 -1.375 -5.65625 C -0.300781 -5.164062 0.234375 -4.359375 0.234375 -3.234375 C 0.234375 -2.234375 -0.203125 -1.484375 -1.078125 -0.984375 C -1.816406 -0.578125 -2.800781 -0.375 -4.03125 -0.375 C -4.976562 -0.375 -5.796875 -0.5 -6.484375 -0.75 C -7.753906 -1.207031 -8.390625 -2.039062 -8.390625 -3.25 Z M -0.734375 -3.234375 C -0.734375 -3.785156 -0.972656 -4.222656 -1.453125 -4.546875 C -1.941406 -4.867188 -2.847656 -5.03125 -4.171875 -5.03125 C -5.117188 -5.03125 -5.898438 -4.910156 -6.515625 -4.671875 C -7.128906 -4.441406 -7.4375 -3.988281 -7.4375 -3.3125 C -7.4375 -2.6875 -7.144531 -2.226562 -6.5625 -1.9375 C -5.976562 -1.65625 -5.117188 -1.515625 -3.984375 -1.515625 C -3.128906 -1.515625 -2.441406 -1.609375 -1.921875 -1.796875 C -1.128906 -2.078125 -0.734375 -2.554688 -0.734375 -3.234375 Z \"/>\n",
       "</symbol>\n",
       "<symbol overflow=\"visible\" id=\"glyph1-2\">\n",
       "<path style=\"stroke:none;\" d=\"M -5.9375 -1.15625 L -6.75 -1.15625 C -6.820312 -1.914062 -6.945312 -2.441406 -7.125 -2.734375 C -7.300781 -3.035156 -7.710938 -3.265625 -8.359375 -3.421875 L -8.359375 -4.25 L 0 -4.25 L 0 -3.125 L -5.9375 -3.125 Z \"/>\n",
       "</symbol>\n",
       "<symbol overflow=\"visible\" id=\"glyph1-3\">\n",
       "<path style=\"stroke:none;\" d=\"M 0 -0.375 C -0.71875 -0.414062 -1.34375 -0.566406 -1.875 -0.828125 C -2.414062 -1.085938 -2.90625 -1.59375 -3.34375 -2.34375 L -4 -3.46875 C -4.289062 -3.96875 -4.539062 -4.320312 -4.75 -4.53125 C -5.070312 -4.851562 -5.441406 -5.015625 -5.859375 -5.015625 C -6.347656 -5.015625 -6.734375 -4.863281 -7.015625 -4.5625 C -7.304688 -4.269531 -7.453125 -3.882812 -7.453125 -3.40625 C -7.453125 -2.675781 -7.179688 -2.175781 -6.640625 -1.90625 C -6.335938 -1.75 -5.929688 -1.664062 -5.421875 -1.65625 L -5.421875 -0.578125 C -6.148438 -0.585938 -6.742188 -0.722656 -7.203125 -0.984375 C -8.015625 -1.441406 -8.421875 -2.25 -8.421875 -3.40625 C -8.421875 -4.363281 -8.160156 -5.0625 -7.640625 -5.5 C -7.117188 -5.945312 -6.539062 -6.171875 -5.90625 -6.171875 C -5.238281 -6.171875 -4.664062 -5.9375 -4.1875 -5.46875 C -3.90625 -5.195312 -3.566406 -4.707031 -3.171875 -4 L -2.734375 -3.1875 C -2.523438 -2.8125 -2.320312 -2.515625 -2.125 -2.296875 C -1.789062 -1.898438 -1.414062 -1.648438 -1 -1.546875 L -1 -6.140625 L 0 -6.140625 Z \"/>\n",
       "</symbol>\n",
       "<symbol overflow=\"visible\" id=\"glyph1-4\">\n",
       "<path style=\"stroke:none;\" d=\"M 0.234375 -3.125 C 0.234375 -2.125 -0.0351562 -1.398438 -0.578125 -0.953125 C -1.128906 -0.503906 -1.796875 -0.28125 -2.578125 -0.28125 L -2.578125 -1.390625 C -2.035156 -1.429688 -1.640625 -1.53125 -1.390625 -1.6875 C -0.953125 -1.96875 -0.734375 -2.460938 -0.734375 -3.171875 C -0.734375 -3.734375 -0.878906 -4.179688 -1.171875 -4.515625 C -1.472656 -4.847656 -1.859375 -5.015625 -2.328125 -5.015625 C -2.898438 -5.015625 -3.300781 -4.835938 -3.53125 -4.484375 C -3.769531 -4.128906 -3.890625 -3.640625 -3.890625 -3.015625 C -3.890625 -2.941406 -3.882812 -2.867188 -3.875 -2.796875 C -3.875 -2.722656 -3.875 -2.648438 -3.875 -2.578125 L -4.8125 -2.578125 C -4.789062 -2.691406 -4.78125 -2.785156 -4.78125 -2.859375 C -4.78125 -2.929688 -4.78125 -3.007812 -4.78125 -3.09375 C -4.78125 -3.488281 -4.84375 -3.8125 -4.96875 -4.0625 C -5.1875 -4.507812 -5.578125 -4.734375 -6.140625 -4.734375 C -6.554688 -4.734375 -6.875 -4.582031 -7.09375 -4.28125 C -7.320312 -3.988281 -7.4375 -3.644531 -7.4375 -3.25 C -7.4375 -2.550781 -7.203125 -2.066406 -6.734375 -1.796875 C -6.484375 -1.648438 -6.117188 -1.566406 -5.640625 -1.546875 L -5.640625 -0.5 C -6.265625 -0.5 -6.796875 -0.625 -7.234375 -0.875 C -8.015625 -1.300781 -8.40625 -2.054688 -8.40625 -3.140625 C -8.40625 -3.992188 -8.210938 -4.65625 -7.828125 -5.125 C -7.453125 -5.59375 -6.898438 -5.828125 -6.171875 -5.828125 C -5.660156 -5.828125 -5.242188 -5.691406 -4.921875 -5.421875 C -4.722656 -5.242188 -4.566406 -5.019531 -4.453125 -4.75 C -4.328125 -5.1875 -4.09375 -5.53125 -3.75 -5.78125 C -3.40625 -6.03125 -2.984375 -6.15625 -2.484375 -6.15625 C -1.679688 -6.15625 -1.023438 -5.890625 -0.515625 -5.359375 C -0.015625 -4.835938 0.234375 -4.09375 0.234375 -3.125 Z \"/>\n",
       "</symbol>\n",
       "<symbol overflow=\"visible\" id=\"glyph1-5\">\n",
       "<path style=\"stroke:none;\" d=\"M -2.96875 -3.96875 L -6.78125 -3.96875 L -2.96875 -1.28125 Z M 0 -3.984375 L -2.046875 -3.984375 L -2.046875 -0.3125 L -3.078125 -0.3125 L -8.421875 -4.15625 L -8.421875 -5.046875 L -2.96875 -5.046875 L -2.96875 -6.28125 L -2.046875 -6.28125 L -2.046875 -5.046875 L 0 -5.046875 Z \"/>\n",
       "</symbol>\n",
       "<symbol overflow=\"visible\" id=\"glyph1-6\">\n",
       "<path style=\"stroke:none;\" d=\"M -8.828125 -4.640625 C -8.828125 -5.441406 -8.671875 -6.140625 -8.359375 -6.734375 C -7.910156 -7.585938 -7.125 -8.109375 -6 -8.296875 L -6 -7.15625 C -6.625 -7.007812 -7.082031 -6.710938 -7.375 -6.265625 C -7.664062 -5.828125 -7.8125 -5.273438 -7.8125 -4.609375 C -7.8125 -3.804688 -7.507812 -3.132812 -6.90625 -2.59375 C -6.3125 -2.050781 -5.421875 -1.78125 -4.234375 -1.78125 C -3.210938 -1.78125 -2.378906 -2.003906 -1.734375 -2.453125 C -1.097656 -2.898438 -0.78125 -3.628906 -0.78125 -4.640625 C -0.78125 -5.421875 -1.003906 -6.066406 -1.453125 -6.578125 C -1.898438 -7.085938 -2.628906 -7.347656 -3.640625 -7.359375 L -3.640625 -4.671875 L -4.609375 -4.671875 L -4.609375 -8.4375 L 0 -8.4375 L 0 -7.6875 L -1.109375 -7.40625 C -0.671875 -7.019531 -0.367188 -6.671875 -0.203125 -6.359375 C 0.0859375 -5.847656 0.234375 -5.195312 0.234375 -4.40625 C 0.234375 -3.394531 -0.0976562 -2.519531 -0.765625 -1.78125 C -1.585938 -0.976562 -2.722656 -0.578125 -4.171875 -0.578125 C -5.609375 -0.578125 -6.753906 -0.96875 -7.609375 -1.75 C -8.421875 -2.488281 -8.828125 -3.453125 -8.828125 -4.640625 Z M -8.84375 -4.4375 Z \"/>\n",
       "</symbol>\n",
       "<symbol overflow=\"visible\" id=\"glyph1-7\">\n",
       "<path style=\"stroke:none;\" d=\"M -6.421875 -3.390625 C -6.421875 -3.835938 -6.316406 -4.269531 -6.109375 -4.6875 C -5.898438 -5.101562 -5.628906 -5.421875 -5.296875 -5.640625 C -4.972656 -5.847656 -4.601562 -5.988281 -4.1875 -6.0625 C -3.894531 -6.125 -3.429688 -6.15625 -2.796875 -6.15625 L -2.796875 -1.546875 C -2.160156 -1.566406 -1.648438 -1.71875 -1.265625 -2 C -0.878906 -2.28125 -0.6875 -2.71875 -0.6875 -3.3125 C -0.6875 -3.863281 -0.867188 -4.300781 -1.234375 -4.625 C -1.441406 -4.8125 -1.6875 -4.945312 -1.96875 -5.03125 L -1.96875 -6.0625 C -1.738281 -6.039062 -1.484375 -5.953125 -1.203125 -5.796875 C -0.921875 -5.640625 -0.6875 -5.46875 -0.5 -5.28125 C -0.1875 -4.957031 0.0195312 -4.554688 0.125 -4.078125 C 0.1875 -3.828125 0.21875 -3.539062 0.21875 -3.21875 C 0.21875 -2.4375 -0.0625 -1.773438 -0.625 -1.234375 C -1.195312 -0.691406 -1.992188 -0.421875 -3.015625 -0.421875 C -4.023438 -0.421875 -4.84375 -0.691406 -5.46875 -1.234375 C -6.101562 -1.785156 -6.421875 -2.503906 -6.421875 -3.390625 Z M -3.640625 -5.0625 C -4.097656 -5.019531 -4.460938 -4.921875 -4.734375 -4.765625 C -5.242188 -4.484375 -5.5 -4.003906 -5.5 -3.328125 C -5.5 -2.835938 -5.320312 -2.425781 -4.96875 -2.09375 C -4.625 -1.769531 -4.179688 -1.597656 -3.640625 -1.578125 Z M -6.421875 -3.28125 Z \"/>\n",
       "</symbol>\n",
       "<symbol overflow=\"visible\" id=\"glyph1-8\">\n",
       "<path style=\"stroke:none;\" d=\"M -6.28125 -0.78125 L -6.28125 -1.78125 L -5.390625 -1.78125 C -5.753906 -2.070312 -6.015625 -2.382812 -6.171875 -2.71875 C -6.335938 -3.050781 -6.421875 -3.421875 -6.421875 -3.828125 C -6.421875 -4.710938 -6.109375 -5.3125 -5.484375 -5.625 C -5.140625 -5.800781 -4.65625 -5.890625 -4.03125 -5.890625 L 0 -5.890625 L 0 -4.8125 L -3.953125 -4.8125 C -4.335938 -4.8125 -4.644531 -4.753906 -4.875 -4.640625 C -5.269531 -4.453125 -5.46875 -4.113281 -5.46875 -3.625 C -5.46875 -3.375 -5.441406 -3.171875 -5.390625 -3.015625 C -5.304688 -2.722656 -5.132812 -2.46875 -4.875 -2.25 C -4.664062 -2.070312 -4.453125 -1.957031 -4.234375 -1.90625 C -4.015625 -1.851562 -3.695312 -1.828125 -3.28125 -1.828125 L 0 -1.828125 L 0 -0.78125 Z M -6.421875 -3.25 Z \"/>\n",
       "</symbol>\n",
       "<symbol overflow=\"visible\" id=\"glyph1-9\">\n",
       "<path style=\"stroke:none;\" d=\"\"/>\n",
       "</symbol>\n",
       "<symbol overflow=\"visible\" id=\"glyph1-10\">\n",
       "<path style=\"stroke:none;\" d=\"M -6.28125 -1.828125 L -2.109375 -1.828125 C -1.785156 -1.828125 -1.523438 -1.878906 -1.328125 -1.984375 C -0.953125 -2.171875 -0.765625 -2.519531 -0.765625 -3.03125 C -0.765625 -3.757812 -1.09375 -4.257812 -1.75 -4.53125 C -2.101562 -4.675781 -2.582031 -4.75 -3.1875 -4.75 L -6.28125 -4.75 L -6.28125 -5.796875 L 0 -5.796875 L 0 -4.8125 L -0.921875 -4.8125 C -0.679688 -4.675781 -0.484375 -4.507812 -0.328125 -4.3125 C 0.00390625 -3.90625 0.171875 -3.414062 0.171875 -2.84375 C 0.171875 -1.945312 -0.128906 -1.335938 -0.734375 -1.015625 C -1.046875 -0.835938 -1.472656 -0.75 -2.015625 -0.75 L -6.28125 -0.75 Z M -6.421875 -3.28125 Z \"/>\n",
       "</symbol>\n",
       "<symbol overflow=\"visible\" id=\"glyph1-11\">\n",
       "<path style=\"stroke:none;\" d=\"M -6.28125 -0.78125 L -6.28125 -1.8125 L -5.390625 -1.8125 C -5.691406 -2.0625 -5.914062 -2.289062 -6.0625 -2.5 C -6.300781 -2.84375 -6.421875 -3.238281 -6.421875 -3.6875 C -6.421875 -4.1875 -6.296875 -4.585938 -6.046875 -4.890625 C -5.910156 -5.054688 -5.703125 -5.210938 -5.421875 -5.359375 C -5.765625 -5.585938 -6.015625 -5.859375 -6.171875 -6.171875 C -6.335938 -6.492188 -6.421875 -6.851562 -6.421875 -7.25 C -6.421875 -8.09375 -6.113281 -8.664062 -5.5 -8.96875 C -5.175781 -9.132812 -4.734375 -9.21875 -4.171875 -9.21875 L 0 -9.21875 L 0 -8.125 L -4.359375 -8.125 C -4.773438 -8.125 -5.0625 -8.019531 -5.21875 -7.8125 C -5.375 -7.601562 -5.453125 -7.347656 -5.453125 -7.046875 C -5.453125 -6.628906 -5.3125 -6.269531 -5.03125 -5.96875 C -4.757812 -5.675781 -4.300781 -5.53125 -3.65625 -5.53125 L 0 -5.53125 L 0 -4.453125 L -4.09375 -4.453125 C -4.519531 -4.453125 -4.832031 -4.398438 -5.03125 -4.296875 C -5.320312 -4.140625 -5.46875 -3.84375 -5.46875 -3.40625 C -5.46875 -3.007812 -5.3125 -2.644531 -5 -2.3125 C -4.695312 -1.988281 -4.140625 -1.828125 -3.328125 -1.828125 L 0 -1.828125 L 0 -0.78125 Z \"/>\n",
       "</symbol>\n",
       "<symbol overflow=\"visible\" id=\"glyph1-12\">\n",
       "<path style=\"stroke:none;\" d=\"M -8.640625 -0.6875 L -8.640625 -1.71875 L -5.515625 -1.71875 C -5.816406 -1.945312 -6.046875 -2.222656 -6.203125 -2.546875 C -6.359375 -2.867188 -6.4375 -3.21875 -6.4375 -3.59375 C -6.4375 -4.375 -6.164062 -5.003906 -5.625 -5.484375 C -5.09375 -5.972656 -4.304688 -6.21875 -3.265625 -6.21875 C -2.265625 -6.21875 -1.4375 -5.976562 -0.78125 -5.5 C -0.125 -5.019531 0.203125 -4.351562 0.203125 -3.5 C 0.203125 -3.019531 0.0859375 -2.617188 -0.140625 -2.296875 C -0.285156 -2.097656 -0.503906 -1.890625 -0.796875 -1.671875 L 0 -1.671875 L 0 -0.6875 Z M -0.734375 -3.4375 C -0.734375 -4.007812 -0.957031 -4.4375 -1.40625 -4.71875 C -1.863281 -5 -2.460938 -5.140625 -3.203125 -5.140625 C -3.867188 -5.140625 -4.414062 -5 -4.84375 -4.71875 C -5.28125 -4.4375 -5.5 -4.019531 -5.5 -3.46875 C -5.5 -2.988281 -5.320312 -2.566406 -4.96875 -2.203125 C -4.613281 -1.835938 -4.023438 -1.65625 -3.203125 -1.65625 C -2.617188 -1.65625 -2.140625 -1.726562 -1.765625 -1.875 C -1.078125 -2.15625 -0.734375 -2.675781 -0.734375 -3.4375 Z \"/>\n",
       "</symbol>\n",
       "<symbol overflow=\"visible\" id=\"glyph1-13\">\n",
       "<path style=\"stroke:none;\" d=\"M -6.28125 -0.796875 L -6.28125 -1.8125 L -5.1875 -1.8125 C -5.40625 -1.882812 -5.664062 -2.082031 -5.96875 -2.40625 C -6.269531 -2.726562 -6.421875 -3.097656 -6.421875 -3.515625 C -6.421875 -3.535156 -6.414062 -3.566406 -6.40625 -3.609375 C -6.40625 -3.660156 -6.398438 -3.742188 -6.390625 -3.859375 L -5.28125 -3.859375 C -5.289062 -3.796875 -5.296875 -3.738281 -5.296875 -3.6875 C -5.296875 -3.632812 -5.296875 -3.578125 -5.296875 -3.515625 C -5.296875 -2.984375 -5.125 -2.570312 -4.78125 -2.28125 C -4.445312 -2 -4.054688 -1.859375 -3.609375 -1.859375 L 0 -1.859375 L 0 -0.796875 Z \"/>\n",
       "</symbol>\n",
       "</g>\n",
       "</defs>\n",
       "<g id=\"surface36\">\n",
       "<rect x=\"0\" y=\"0\" width=\"504\" height=\"504\" style=\"fill:rgb(100%,100%,100%);fill-opacity:1;stroke:none;\"/>\n",
       "<path style=\"fill:none;stroke-width:0.75;stroke-linecap:round;stroke-linejoin:round;stroke:rgb(100%,100%,100%);stroke-opacity:1;stroke-miterlimit:10;\" d=\"M 77.101562 416.800781 C 77.101562 420.398438 71.699219 420.398438 71.699219 416.800781 C 71.699219 413.199219 77.101562 413.199219 77.101562 416.800781 \"/>\n",
       "<path style=\"fill:none;stroke-width:0.75;stroke-linecap:round;stroke-linejoin:round;stroke:rgb(100%,100%,100%);stroke-opacity:1;stroke-miterlimit:10;\" d=\"M 85.449219 416.800781 C 85.449219 420.398438 80.046875 420.398438 80.046875 416.800781 C 80.046875 413.199219 85.449219 413.199219 85.449219 416.800781 \"/>\n",
       "<path style=\"fill:none;stroke-width:0.75;stroke-linecap:round;stroke-linejoin:round;stroke:rgb(100%,100%,100%);stroke-opacity:1;stroke-miterlimit:10;\" d=\"M 127.1875 416.800781 C 127.1875 420.398438 121.785156 420.398438 121.785156 416.800781 C 121.785156 413.199219 127.1875 413.199219 127.1875 416.800781 \"/>\n",
       "<path style=\"fill:none;stroke-width:0.75;stroke-linecap:round;stroke-linejoin:round;stroke:rgb(100%,100%,100%);stroke-opacity:1;stroke-miterlimit:10;\" d=\"M 168.925781 401.164062 C 168.925781 404.761719 163.527344 404.761719 163.527344 401.164062 C 163.527344 397.5625 168.925781 397.5625 168.925781 401.164062 \"/>\n",
       "<path style=\"fill:none;stroke-width:0.75;stroke-linecap:round;stroke-linejoin:round;stroke:rgb(100%,100%,100%);stroke-opacity:1;stroke-miterlimit:10;\" d=\"M 210.664062 385.527344 C 210.664062 389.128906 205.265625 389.128906 205.265625 385.527344 C 205.265625 381.925781 210.664062 381.925781 210.664062 385.527344 \"/>\n",
       "<path style=\"fill:none;stroke-width:0.75;stroke-linecap:round;stroke-linejoin:round;stroke:rgb(100%,100%,100%);stroke-opacity:1;stroke-miterlimit:10;\" d=\"M 252.40625 369.890625 C 252.40625 373.492188 247.003906 373.492188 247.003906 369.890625 C 247.003906 366.289062 252.40625 366.289062 252.40625 369.890625 \"/>\n",
       "<path style=\"fill:none;stroke-width:0.75;stroke-linecap:round;stroke-linejoin:round;stroke:rgb(100%,100%,100%);stroke-opacity:1;stroke-miterlimit:10;\" d=\"M 294.144531 315.164062 C 294.144531 318.761719 288.742188 318.761719 288.742188 315.164062 C 288.742188 311.5625 294.144531 311.5625 294.144531 315.164062 \"/>\n",
       "<path style=\"fill:none;stroke-width:0.75;stroke-linecap:round;stroke-linejoin:round;stroke:rgb(100%,100%,100%);stroke-opacity:1;stroke-miterlimit:10;\" d=\"M 335.882812 291.710938 C 335.882812 295.308594 330.484375 295.308594 330.484375 291.710938 C 330.484375 288.109375 335.882812 288.109375 335.882812 291.710938 \"/>\n",
       "<path style=\"fill:none;stroke-width:0.75;stroke-linecap:round;stroke-linejoin:round;stroke:rgb(100%,100%,100%);stroke-opacity:1;stroke-miterlimit:10;\" d=\"M 377.621094 205.710938 C 377.621094 209.308594 372.222656 209.308594 372.222656 205.710938 C 372.222656 202.109375 377.621094 202.109375 377.621094 205.710938 \"/>\n",
       "<path style=\"fill:none;stroke-width:0.75;stroke-linecap:round;stroke-linejoin:round;stroke:rgb(100%,100%,100%);stroke-opacity:1;stroke-miterlimit:10;\" d=\"M 419.359375 143.164062 C 419.359375 146.761719 413.960938 146.761719 413.960938 143.164062 C 413.960938 139.5625 419.359375 139.5625 419.359375 143.164062 \"/>\n",
       "<path style=\"fill:none;stroke-width:0.75;stroke-linecap:round;stroke-linejoin:round;stroke:rgb(100%,100%,100%);stroke-opacity:1;stroke-miterlimit:10;\" d=\"M 461.101562 72.800781 C 461.101562 76.398438 455.699219 76.398438 455.699219 72.800781 C 455.699219 69.199219 461.101562 69.199219 461.101562 72.800781 \"/>\n",
       "<path style=\"fill:none;stroke-width:0.75;stroke-linecap:round;stroke-linejoin:round;stroke:rgb(0%,0%,0%);stroke-opacity:1;stroke-miterlimit:10;\" d=\"M 124.488281 430.558594 L 458.398438 430.558594 \"/>\n",
       "<path style=\"fill:none;stroke-width:0.75;stroke-linecap:round;stroke-linejoin:round;stroke:rgb(0%,0%,0%);stroke-opacity:1;stroke-miterlimit:10;\" d=\"M 124.488281 430.558594 L 124.488281 437.761719 \"/>\n",
       "<path style=\"fill:none;stroke-width:0.75;stroke-linecap:round;stroke-linejoin:round;stroke:rgb(0%,0%,0%);stroke-opacity:1;stroke-miterlimit:10;\" d=\"M 207.964844 430.558594 L 207.964844 437.761719 \"/>\n",
       "<path style=\"fill:none;stroke-width:0.75;stroke-linecap:round;stroke-linejoin:round;stroke:rgb(0%,0%,0%);stroke-opacity:1;stroke-miterlimit:10;\" d=\"M 291.445312 430.558594 L 291.445312 437.761719 \"/>\n",
       "<path style=\"fill:none;stroke-width:0.75;stroke-linecap:round;stroke-linejoin:round;stroke:rgb(0%,0%,0%);stroke-opacity:1;stroke-miterlimit:10;\" d=\"M 374.921875 430.558594 L 374.921875 437.761719 \"/>\n",
       "<path style=\"fill:none;stroke-width:0.75;stroke-linecap:round;stroke-linejoin:round;stroke:rgb(0%,0%,0%);stroke-opacity:1;stroke-miterlimit:10;\" d=\"M 458.398438 430.558594 L 458.398438 437.761719 \"/>\n",
       "<g style=\"fill:rgb(0%,0%,0%);fill-opacity:1;\">\n",
       "  <use xlink:href=\"#glyph0-1\" x=\"117.816406\" y=\"456.480469\"/>\n",
       "  <use xlink:href=\"#glyph0-2\" x=\"124.490234\" y=\"456.480469\"/>\n",
       "</g>\n",
       "<g style=\"fill:rgb(0%,0%,0%);fill-opacity:1;\">\n",
       "  <use xlink:href=\"#glyph0-3\" x=\"201.292969\" y=\"456.480469\"/>\n",
       "  <use xlink:href=\"#glyph0-2\" x=\"207.966797\" y=\"456.480469\"/>\n",
       "</g>\n",
       "<g style=\"fill:rgb(0%,0%,0%);fill-opacity:1;\">\n",
       "  <use xlink:href=\"#glyph0-4\" x=\"284.773438\" y=\"456.480469\"/>\n",
       "  <use xlink:href=\"#glyph0-2\" x=\"291.447266\" y=\"456.480469\"/>\n",
       "</g>\n",
       "<g style=\"fill:rgb(0%,0%,0%);fill-opacity:1;\">\n",
       "  <use xlink:href=\"#glyph0-5\" x=\"368.25\" y=\"456.480469\"/>\n",
       "  <use xlink:href=\"#glyph0-2\" x=\"374.923828\" y=\"456.480469\"/>\n",
       "</g>\n",
       "<g style=\"fill:rgb(0%,0%,0%);fill-opacity:1;\">\n",
       "  <use xlink:href=\"#glyph0-6\" x=\"451.726562\" y=\"456.480469\"/>\n",
       "  <use xlink:href=\"#glyph0-2\" x=\"458.400391\" y=\"456.480469\"/>\n",
       "</g>\n",
       "<path style=\"fill:none;stroke-width:0.75;stroke-linecap:round;stroke-linejoin:round;stroke:rgb(0%,0%,0%);stroke-opacity:1;stroke-miterlimit:10;\" d=\"M 59.039062 424.617188 L 59.039062 111.890625 \"/>\n",
       "<path style=\"fill:none;stroke-width:0.75;stroke-linecap:round;stroke-linejoin:round;stroke:rgb(0%,0%,0%);stroke-opacity:1;stroke-miterlimit:10;\" d=\"M 59.039062 424.617188 L 51.839844 424.617188 \"/>\n",
       "<path style=\"fill:none;stroke-width:0.75;stroke-linecap:round;stroke-linejoin:round;stroke:rgb(0%,0%,0%);stroke-opacity:1;stroke-miterlimit:10;\" d=\"M 59.039062 346.4375 L 51.839844 346.4375 \"/>\n",
       "<path style=\"fill:none;stroke-width:0.75;stroke-linecap:round;stroke-linejoin:round;stroke:rgb(0%,0%,0%);stroke-opacity:1;stroke-miterlimit:10;\" d=\"M 59.039062 268.253906 L 51.839844 268.253906 \"/>\n",
       "<path style=\"fill:none;stroke-width:0.75;stroke-linecap:round;stroke-linejoin:round;stroke:rgb(0%,0%,0%);stroke-opacity:1;stroke-miterlimit:10;\" d=\"M 59.039062 190.074219 L 51.839844 190.074219 \"/>\n",
       "<path style=\"fill:none;stroke-width:0.75;stroke-linecap:round;stroke-linejoin:round;stroke:rgb(0%,0%,0%);stroke-opacity:1;stroke-miterlimit:10;\" d=\"M 59.039062 111.890625 L 51.839844 111.890625 \"/>\n",
       "<g style=\"fill:rgb(0%,0%,0%);fill-opacity:1;\">\n",
       "  <use xlink:href=\"#glyph1-1\" x=\"41.761719\" y=\"427.953125\"/>\n",
       "</g>\n",
       "<g style=\"fill:rgb(0%,0%,0%);fill-opacity:1;\">\n",
       "  <use xlink:href=\"#glyph1-2\" x=\"41.761719\" y=\"353.109375\"/>\n",
       "  <use xlink:href=\"#glyph1-1\" x=\"41.761719\" y=\"346.435547\"/>\n",
       "</g>\n",
       "<g style=\"fill:rgb(0%,0%,0%);fill-opacity:1;\">\n",
       "  <use xlink:href=\"#glyph1-3\" x=\"41.761719\" y=\"274.925781\"/>\n",
       "  <use xlink:href=\"#glyph1-1\" x=\"41.761719\" y=\"268.251953\"/>\n",
       "</g>\n",
       "<g style=\"fill:rgb(0%,0%,0%);fill-opacity:1;\">\n",
       "  <use xlink:href=\"#glyph1-4\" x=\"41.761719\" y=\"196.746094\"/>\n",
       "  <use xlink:href=\"#glyph1-1\" x=\"41.761719\" y=\"190.072266\"/>\n",
       "</g>\n",
       "<g style=\"fill:rgb(0%,0%,0%);fill-opacity:1;\">\n",
       "  <use xlink:href=\"#glyph1-5\" x=\"41.761719\" y=\"118.5625\"/>\n",
       "  <use xlink:href=\"#glyph1-1\" x=\"41.761719\" y=\"111.888672\"/>\n",
       "</g>\n",
       "<path style=\"fill:none;stroke-width:0.75;stroke-linecap:round;stroke-linejoin:round;stroke:rgb(0%,0%,0%);stroke-opacity:1;stroke-miterlimit:10;\" d=\"M 59.039062 430.558594 L 473.761719 430.558594 L 473.761719 59.039062 L 59.039062 59.039062 L 59.039062 430.558594 \"/>\n",
       "<g style=\"fill:rgb(0%,0%,0%);fill-opacity:1;\">\n",
       "  <use xlink:href=\"#glyph0-7\" x=\"233.722656\" y=\"485.28125\"/>\n",
       "  <use xlink:href=\"#glyph0-8\" x=\"242.388672\" y=\"485.28125\"/>\n",
       "  <use xlink:href=\"#glyph0-9\" x=\"249.0625\" y=\"485.28125\"/>\n",
       "  <use xlink:href=\"#glyph0-10\" x=\"251.728516\" y=\"485.28125\"/>\n",
       "  <use xlink:href=\"#glyph0-11\" x=\"258.402344\" y=\"485.28125\"/>\n",
       "  <use xlink:href=\"#glyph0-12\" x=\"261.736328\" y=\"485.28125\"/>\n",
       "  <use xlink:href=\"#glyph0-13\" x=\"264.402344\" y=\"485.28125\"/>\n",
       "  <use xlink:href=\"#glyph0-8\" x=\"270.402344\" y=\"485.28125\"/>\n",
       "  <use xlink:href=\"#glyph0-14\" x=\"277.076172\" y=\"485.28125\"/>\n",
       "  <use xlink:href=\"#glyph0-15\" x=\"280.410156\" y=\"485.28125\"/>\n",
       "  <use xlink:href=\"#glyph0-12\" x=\"284.40625\" y=\"485.28125\"/>\n",
       "  <use xlink:href=\"#glyph0-16\" x=\"287.072266\" y=\"485.28125\"/>\n",
       "  <use xlink:href=\"#glyph0-17\" x=\"293.072266\" y=\"485.28125\"/>\n",
       "</g>\n",
       "<g style=\"fill:rgb(0%,0%,0%);fill-opacity:1;\">\n",
       "  <use xlink:href=\"#glyph1-6\" x=\"12.960938\" y=\"281.488281\"/>\n",
       "  <use xlink:href=\"#glyph1-7\" x=\"12.960938\" y=\"272.154297\"/>\n",
       "  <use xlink:href=\"#glyph1-8\" x=\"12.960938\" y=\"265.480469\"/>\n",
       "  <use xlink:href=\"#glyph1-7\" x=\"12.960938\" y=\"258.806641\"/>\n",
       "  <use xlink:href=\"#glyph1-9\" x=\"12.960938\" y=\"252.132812\"/>\n",
       "  <use xlink:href=\"#glyph1-8\" x=\"12.960938\" y=\"248.798828\"/>\n",
       "  <use xlink:href=\"#glyph1-10\" x=\"12.960938\" y=\"242.125\"/>\n",
       "  <use xlink:href=\"#glyph1-11\" x=\"12.960938\" y=\"235.451172\"/>\n",
       "  <use xlink:href=\"#glyph1-12\" x=\"12.960938\" y=\"225.455078\"/>\n",
       "  <use xlink:href=\"#glyph1-7\" x=\"12.960938\" y=\"218.78125\"/>\n",
       "  <use xlink:href=\"#glyph1-13\" x=\"12.960938\" y=\"212.107422\"/>\n",
       "</g>\n",
       "<path style=\"fill:none;stroke-width:0.75;stroke-linecap:round;stroke-linejoin:round;stroke:rgb(0%,0%,0%);stroke-opacity:1;stroke-miterlimit:10;\" d=\"M 74.398438 416.800781 L 124.488281 416.800781 L 249.703125 369.890625 L 291.445312 315.164062 L 333.183594 291.710938 L 374.921875 205.710938 L 416.660156 143.164062 L 458.398438 72.800781 \"/>\n",
       "<g style=\"fill:rgb(0%,0%,0%);fill-opacity:1;\">\n",
       "  <use xlink:href=\"#glyph0-5\" x=\"451.726562\" y=\"76.902344\"/>\n",
       "  <use xlink:href=\"#glyph0-6\" x=\"458.400391\" y=\"76.902344\"/>\n",
       "</g>\n",
       "</g>\n",
       "</svg>\n"
      ],
      "text/plain": [
       "plot without title"
      ]
     },
     "metadata": {
      "image/svg+xml": {
       "isolated": true
      }
     },
     "output_type": "display_data"
    }
   ],
   "source": [
    "geneCount <- apply(rsOut, 2, function(y) ceiling(mean(y)))\n",
    "\n",
    "plot(rrListLoF, geneCount, xlab = 'Relative risk', ylab = 'Gene number', col = 'white')\n",
    "lines(rrListLoF, geneCount)\n",
    "text(rrListLoF[length(rrListLoF)], geneCount[length(geneCount)], geneCount[length(geneCount)])"
   ]
  },
  {
   "cell_type": "code",
   "execution_count": null,
   "metadata": {
    "collapsed": true
   },
   "outputs": [],
   "source": []
  }
 ],
 "metadata": {
  "kernelspec": {
   "display_name": "R",
   "language": "R",
   "name": "ir"
  },
  "language_info": {
   "codemirror_mode": "r",
   "file_extension": ".r",
   "mimetype": "text/x-r-source",
   "name": "R",
   "pygments_lexer": "r",
   "version": "3.2.3"
  }
 },
 "nbformat": 4,
 "nbformat_minor": 0
}
