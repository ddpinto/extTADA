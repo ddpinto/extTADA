{
 "cells": [
  {
   "cell_type": "markdown",
   "metadata": {},
   "source": [
    "# In this work, only LoF mutations are used: calculate how many risk genes we can obtain with Nsample = 550\n",
    "\n",
    "## Some ways have been used:\n",
    "\n",
    "### Don't know any count information $=>$ use Poisson distribution\n",
    "\n",
    "### Know counts from published data (Removed)\n",
    "\n",
    "### Use TADA method (Removed)\n",
    "\n",
    "### Use the trio package (Removed)\n",
    "\n",
    "I randomly chose 1000 genes, but it's probably better if choosing top 1000 genes from TADA results."
   ]
  },
  {
   "cell_type": "markdown",
   "metadata": {},
   "source": [
    "# Simulate counts from the Poisson distribution\n",
    "\n",
    "## Some main steps:\n",
    "\n",
    "nGene = Number of genes ( ~ 18500 genes)\n",
    "\n",
    ". Randomly choose risk genes with prob = 1000/nGene\n",
    "\n",
    ". Add relative risk into mutation rates of risk genes \n",
    "\n",
    ". Use Poisson distribution to sample all genes with new mutation rates\n",
    "\n",
    ". Use Poisson test to obtain p values:\n",
    "\n",
    "    At the $i^{th}$ gene, $p_value = P(X >= x_i| lambda = 2*Nsample*mu_i)$\n",
    " \n",
    " . Count genes with pvalues < 0.05\n",
    " \n",
    " Didn't adjust for all tests, with Nsample = 550: it's difficult to obtain significant values after adjustment\n",
    "\n",
    "\n",
    "# Real counts from published data\n",
    "\n",
    "## Use the data of AUT + EPI\n",
    "\n",
    "Take a quick look at all information\n",
    "\n",
    "#### DISEASE\tNUM_INDIV\n",
    "\n",
    "AUT\t3985\n",
    "\n",
    "CHD\t362\n",
    "\n",
    "EPI\t356\n",
    "\n",
    "ID\t192\n",
    "\n",
    "SCZ\t1024\n",
    "\n",
    "SIB_CONTROL\t2049\n",
    "\n",
    "### wc -l AUT+EPI.LoF.mut \n",
    "\n",
    "  637\n",
    "\n",
    "(3985 AUT + 356 EPI) samples have 637 LoF mutations\n",
    "\n"
   ]
  },
  {
   "cell_type": "markdown",
   "metadata": {},
   "source": [
    "### We will use the Autism data from the TADA paper to have obtain some neccessary information"
   ]
  },
  {
   "cell_type": "code",
   "execution_count": 1,
   "metadata": {
    "collapsed": false
   },
   "outputs": [
    {
     "data": {
      "text/html": [
       "76"
      ],
      "text/latex": [
       "76"
      ],
      "text/markdown": [
       "76"
      ],
      "text/plain": [
       "[1] 76"
      ]
     },
     "execution_count": 1,
     "metadata": {},
     "output_type": "execute_result"
    }
   ],
   "source": [
    "data <- read.csv(\"TADA/data/TADA_results.csv\", header = TRUE, as.is = TRUE)\n",
    "mu <- data$mut.rate\n",
    "mu.frac <- c(0.074, 0.32)\n",
    "\n",
    "Nsample_old <- 2231 ##There are 308 de novo mutations in this sample set\n",
    "Nsample <- 550\n",
    "Ncount_old <- sum(data$dn.LoF)\n",
    "nDenovo <- ceiling(Nsample*Ncount_old/Nsample_old )\n",
    "nDenovo\n",
    "\n",
    "mutLoF0 <- data$mut.rate*mu.frac[1] #(mu.frac[1]) # + mu.frac[2]) ##Mutation rates\n",
    "nGene <- length(mutLoF0)\n",
    "\n",
    "##Choose nRiskGene = 1000 genes, using index\n",
    "indexRiskGene <- sample(1:nGene, 1000)\n",
    "\n",
    "Ntimes <- 100 ##Do this work Ntimes\n",
    "geneCountforPower2 <- NULL\n",
    "geneCountforPowerList2 <- list()\n",
    "geneCountList <- list()\n",
    "\n",
    "poissonTestAll_data_allSimu <- NULL\n",
    "poissonTestAll_data <- NULL"
   ]
  },
  {
   "cell_type": "code",
   "execution_count": 4,
   "metadata": {
    "collapsed": false
   },
   "outputs": [],
   "source": [
    "for (kk in 1:Ntimes) {\n",
    "\n",
    "#rrList <- seq(1, 30, by = 1)\n",
    "rrList <- c(1, 2, 5, 10, 20, 25, 50)\n",
    "finalResult <- matrix(0, ncol = length(rrList), nrow = nGene)\n",
    "geneCountTable <- matrix(0, ncol = length(rrList), nrow = nGene)\n",
    "\n",
    "##Add relative risks to risk genes\n",
    "piRG <- 1000/nGene ##Proportion of risk genes\n",
    "z <- rbinom(nGene, 1, piRG)\n",
    "table(z)\n",
    "for (ii in 1:length(rrList)){\n",
    "  RR <- rrList[ii]\n",
    "\n",
    "  mutLoF <- mutLoF0\n",
    "  \n",
    "#  mutLoF[z==1] <- mutLoF[z==1]*RR ##*rgamma(mutLoF[z==1], RR, rate = 1)\n",
    "  mutLoF[1:1000] <- mutLoF[1:1000]*RR #rgamma(1000, RR, rate = 1)\n",
    "  \n",
    "  geneCount <- rpois(nGene, 2*mutLoF*Nsample)\n",
    "\n",
    "    \n",
    "    \n",
    "  poissonTest <- ppois(geneCount - 1, lambda = 2*Nsample*mutLoF0, lower.tail = FALSE)\n",
    "  \n",
    "    mutLoFallDenovo <- mutLoF0[geneCount > 0]\n",
    "    poissonTestAll <- ppois(sum(geneCount) - 1, sum(mutLoF0)*2*Nsample, lower.tail = FALSE)\n",
    "    \n",
    "    poissonTestAll_data[ii] <- poissonTestAll\n",
    "    \n",
    "  finalResult[, ii] <- poissonTest\n",
    "  geneCountTable[, ii] <- geneCount\n",
    "}\n",
    "\n",
    "#apply(finalResult, 2, range)\n",
    "t1 <- apply(finalResult, 2, function(x) length(x[x < 0.05]))\n",
    "geneCountList[[kk]] <- geneCountTable\n",
    "\n",
    "geneCountforPower2 <- rbind(geneCountforPower2, t1)\n",
    "geneCountforPowerList2[[kk]] <- finalResult\n",
    "\n",
    "    poissonTestAll_data_allSimu <- rbind(poissonTestAll_data_allSimu, poissonTestAll_data)\n",
    "}\n"
   ]
  },
  {
   "cell_type": "code",
   "execution_count": 6,
   "metadata": {
    "collapsed": false
   },
   "outputs": [
    {
     "data": {
      "text/html": [
       "5.62667544059445e-38"
      ],
      "text/latex": [
       "5.62667544059445e-38"
      ],
      "text/markdown": [
       "5.62667544059445e-38"
      ],
      "text/plain": [
       "[1] 5.626675e-38"
      ]
     },
     "execution_count": 6,
     "metadata": {},
     "output_type": "execute_result"
    }
   ],
   "source": [
    " ppois(sum(geneCount) - 1, sum(mutLoF0)*2*Nsample, lower.tail = FALSE)\n"
   ]
  },
  {
   "cell_type": "code",
   "execution_count": 7,
   "metadata": {
    "collapsed": false
   },
   "outputs": [],
   "source": [
    "allOut2 <- do.call(rbind, geneCountforPowerList2)\n"
   ]
  },
  {
   "cell_type": "code",
   "execution_count": 8,
   "metadata": {
    "collapsed": false
   },
   "outputs": [
    {
     "data": {
      "text/html": [
       "<table>\n",
       "<tbody>\n",
       "\t<tr><td>2.724622e-06</td><td>1.000000e+00</td></tr>\n",
       "\t<tr><td>7.759047e-07</td><td>1.000000e+00</td></tr>\n",
       "\t<tr><td>5.181299e-07</td><td>1.000000e+00</td></tr>\n",
       "\t<tr><td>4.116493e-08</td><td>1.000000e+00</td></tr>\n",
       "\t<tr><td>4.578183e-12</td><td>1.000000e+00</td></tr>\n",
       "\t<tr><td>6.801829e-10</td><td>1.000000e+00</td></tr>\n",
       "\t<tr><td>1.283218e-13</td><td>1.000000e+00</td></tr>\n",
       "</tbody>\n",
       "</table>\n"
      ],
      "text/latex": [
       "\\begin{tabular}{ll}\n",
       "\t 2.724622e-06 & 1.000000e+00\\\\\n",
       "\t 7.759047e-07 & 1.000000e+00\\\\\n",
       "\t 5.181299e-07 & 1.000000e+00\\\\\n",
       "\t 4.116493e-08 & 1.000000e+00\\\\\n",
       "\t 4.578183e-12 & 1.000000e+00\\\\\n",
       "\t 6.801829e-10 & 1.000000e+00\\\\\n",
       "\t 1.283218e-13 & 1.000000e+00\\\\\n",
       "\\end{tabular}\n"
      ],
      "text/markdown": [
       "1. 2.72462213190754e-06\n",
       "2. 7.7590471779015e-07\n",
       "3. 5.18129850889695e-07\n",
       "4. 4.11649252395901e-08\n",
       "5. 4.57818283687774e-12\n",
       "6. 6.80182895882093e-10\n",
       "7. 1.28321820480963e-13\n",
       "8. 1\n",
       "9. 1\n",
       "10. 1\n",
       "11. 1\n",
       "12. 1\n",
       "13. 1\n",
       "14. 1\n",
       "\n",
       "\n"
      ],
      "text/plain": [
       "             [,1] [,2]\n",
       "[1,] 2.724622e-06    1\n",
       "[2,] 7.759047e-07    1\n",
       "[3,] 5.181299e-07    1\n",
       "[4,] 4.116493e-08    1\n",
       "[5,] 4.578183e-12    1\n",
       "[6,] 6.801829e-10    1\n",
       "[7,] 1.283218e-13    1"
      ]
     },
     "execution_count": 8,
     "metadata": {},
     "output_type": "execute_result"
    }
   ],
   "source": [
    "t2 <- t(apply(allOut2, 2, range)) ##Take a look at the smallest p of RR = 1\n",
    "t2\n"
   ]
  },
  {
   "cell_type": "code",
   "execution_count": 9,
   "metadata": {
    "collapsed": false
   },
   "outputs": [
    {
     "data": {
      "text/html": [
       "<table>\n",
       "<tbody>\n",
       "\t<tr><th scope=row>gCount</th><td>0</td><td>0</td><td>0</td><td>0</td><td>1</td><td>2</td><td>7</td></tr>\n",
       "\t<tr><th scope=row>gCount</th><td> 36</td><td> 39</td><td> 47</td><td> 59</td><td> 81</td><td> 92</td><td>144</td></tr>\n",
       "</tbody>\n",
       "</table>\n"
      ],
      "text/latex": [
       "\\begin{tabular}{r|lllllll}\n",
       "\tgCount & 0 & 0 & 0 & 0 & 1 & 2 & 7\\\\\n",
       "\tgCount &  36 &  39 &  47 &  59 &  81 &  92 & 144\\\\\n",
       "\\end{tabular}\n"
      ],
      "text/markdown": [
       "1. 0\n",
       "2. 36\n",
       "3. 0\n",
       "4. 39\n",
       "5. 0\n",
       "6. 47\n",
       "7. 0\n",
       "8. 59\n",
       "9. 1\n",
       "10. 81\n",
       "11. 2\n",
       "12. 92\n",
       "13. 7\n",
       "14. 144\n",
       "\n",
       "\n"
      ],
      "text/plain": [
       "       [,1] [,2] [,3] [,4] [,5] [,6] [,7]\n",
       "gCount    0    0    0    0    1    2    7\n",
       "gCount   36   39   47   59   81   92  144"
      ]
     },
     "execution_count": 9,
     "metadata": {},
     "output_type": "execute_result"
    }
   ],
   "source": [
    "gCountAll <- NULL\n",
    "alpha0 <- c(2.5e-6, 2e-5, 2e-4, 1e-3, 2e-3, 0.05)\n",
    "alpha0 <- c(2e-5, 0.05)\n",
    "for (alphaThreshold in alpha0){\n",
    "  \n",
    "outData <- do.call(rbind, lapply(geneCountforPowerList2, function(x)\n",
    "  apply(x, 2, function(y)\n",
    "    length(y[y < alphaThreshold]))))\n",
    "gCount <- apply(outData, 2, function(x) ceiling(median(x))) ###How many genes with this threshold?\n",
    "gCount\n",
    "gCountAll <- rbind(gCountAll, gCount)\n",
    "}\n",
    "gCountAll\n",
    "\n"
   ]
  },
  {
   "cell_type": "code",
   "execution_count": 10,
   "metadata": {
    "collapsed": false
   },
   "outputs": [
    {
     "data": {
      "image/png": "[encoded data removed]",
      "image/svg+xml": [
       "<?xml version=\"1.0\" encoding=\"UTF-8\"?>\n",
       "<svg xmlns=\"http://www.w3.org/2000/svg\" xmlns:xlink=\"http://www.w3.org/1999/xlink\" width=\"504pt\" height=\"504pt\" viewBox=\"0 0 504 504\" version=\"1.1\">\n",
       "<defs>\n",
       "<g>\n",
       "<symbol overflow=\"visible\" id=\"glyph0-0\">\n",
       "<path style=\"stroke:none;\" d=\"\"/>\n",
       "</symbol>\n",
       "<symbol overflow=\"visible\" id=\"glyph0-1\">\n",
       "<path style=\"stroke:none;\" d=\"M 6.21875 -4.21875 C 6.21875 -7.171875 5.140625 -8.765625 3.296875 -8.765625 C 1.46875 -8.765625 0.375 -7.15625 0.375 -4.296875 C 0.375 -1.421875 1.46875 0.1875 3.296875 0.1875 C 5.09375 0.1875 6.21875 -1.421875 6.21875 -4.21875 Z M 4.859375 -4.3125 C 4.859375 -1.90625 4.453125 -0.953125 3.28125 -0.953125 C 2.15625 -0.953125 1.734375 -1.953125 1.734375 -4.28125 C 1.734375 -6.609375 2.15625 -7.578125 3.296875 -7.578125 C 4.4375 -7.578125 4.859375 -6.59375 4.859375 -4.3125 Z M 4.859375 -4.3125 \"/>\n",
       "</symbol>\n",
       "<symbol overflow=\"visible\" id=\"glyph0-2\">\n",
       "<path style=\"stroke:none;\" d=\"M 4.296875 -0.125 L 4.296875 -8.765625 L 3.359375 -8.765625 C 2.953125 -7.328125 2.859375 -7.28125 1.078125 -7.0625 L 1.078125 -6.0625 L 2.96875 -6.0625 L 2.96875 0 L 4.296875 0 Z M 4.296875 -0.125 \"/>\n",
       "</symbol>\n",
       "<symbol overflow=\"visible\" id=\"glyph0-3\">\n",
       "<path style=\"stroke:none;\" d=\"M 6.265625 -6.140625 C 6.265625 -7.578125 5.015625 -8.765625 3.40625 -8.765625 C 1.671875 -8.765625 0.515625 -7.75 0.453125 -5.5625 L 1.78125 -5.5625 C 1.875 -7.109375 2.328125 -7.578125 3.375 -7.578125 C 4.328125 -7.578125 4.90625 -7.03125 4.90625 -6.125 C 4.90625 -5.453125 4.546875 -4.96875 3.796875 -4.53125 L 2.6875 -3.90625 C 0.90625 -2.90625 0.359375 -2 0.25 0 L 6.203125 0 L 6.203125 -1.3125 L 1.75 -1.3125 C 1.84375 -1.875 2.1875 -2.21875 3.234375 -2.828125 L 4.421875 -3.484375 C 5.609375 -4.109375 6.265625 -5.09375 6.265625 -6.140625 Z M 6.265625 -6.140625 \"/>\n",
       "</symbol>\n",
       "<symbol overflow=\"visible\" id=\"glyph0-4\">\n",
       "<path style=\"stroke:none;\" d=\"M 6.203125 -2.609375 C 6.203125 -3.640625 5.65625 -4.375 4.625 -4.71875 L 4.625 -4.453125 C 5.421875 -4.765625 5.953125 -5.453125 5.953125 -6.296875 C 5.953125 -7.765625 4.84375 -8.765625 3.234375 -8.765625 C 1.515625 -8.765625 0.453125 -7.703125 0.421875 -5.765625 L 1.75 -5.765625 C 1.78125 -7.15625 2.15625 -7.578125 3.234375 -7.578125 C 4.171875 -7.578125 4.59375 -7.15625 4.59375 -6.265625 C 4.59375 -5.359375 4.34375 -5.109375 2.515625 -5.109375 L 2.515625 -3.953125 L 3.234375 -3.953125 C 4.390625 -3.953125 4.84375 -3.546875 4.84375 -2.59375 C 4.84375 -1.53125 4.328125 -1.015625 3.234375 -1.015625 C 2.078125 -1.015625 1.640625 -1.46875 1.5625 -2.828125 L 0.234375 -2.828125 C 0.375 -0.796875 1.453125 0.1875 3.1875 0.1875 C 4.9375 0.1875 6.203125 -1 6.203125 -2.609375 Z M 6.203125 -2.609375 \"/>\n",
       "</symbol>\n",
       "<symbol overflow=\"visible\" id=\"glyph0-5\">\n",
       "<path style=\"stroke:none;\" d=\"M 6.375 -2.171875 L 6.375 -3.25 L 5.109375 -3.25 L 5.109375 -8.765625 L 4.125 -8.765625 L 0.1875 -3.328125 L 0.1875 -2.046875 L 3.78125 -2.046875 L 3.78125 0 L 5.109375 0 L 5.109375 -2.046875 L 6.375 -2.046875 Z M 3.921875 -3.25 L 1.515625 -3.25 L 4.015625 -6.75 L 3.78125 -6.84375 L 3.78125 -3.25 Z M 3.921875 -3.25 \"/>\n",
       "</symbol>\n",
       "<symbol overflow=\"visible\" id=\"glyph0-6\">\n",
       "<path style=\"stroke:none;\" d=\"M 6.28125 -2.953125 C 6.28125 -4.625 5.046875 -5.875 3.40625 -5.875 C 2.8125 -5.875 2.21875 -5.671875 2.015625 -5.515625 L 2.28125 -7.28125 L 5.84375 -7.28125 L 5.84375 -8.59375 L 1.203125 -8.59375 L 0.515625 -3.875 L 1.71875 -3.875 C 2.25 -4.5 2.5625 -4.671875 3.21875 -4.671875 C 4.359375 -4.671875 4.9375 -4.0625 4.9375 -2.8125 C 4.9375 -1.578125 4.375 -1.015625 3.21875 -1.015625 C 2.296875 -1.015625 1.859375 -1.359375 1.578125 -2.453125 L 0.25 -2.453125 C 0.625 -0.625 1.734375 0.1875 3.234375 0.1875 C 4.953125 0.1875 6.28125 -1.15625 6.28125 -2.953125 Z M 6.28125 -2.953125 \"/>\n",
       "</symbol>\n",
       "<symbol overflow=\"visible\" id=\"glyph0-7\">\n",
       "<path style=\"stroke:none;\" d=\"M 8.28125 -0.125 L 8.28125 -0.484375 C 7.828125 -0.796875 7.765625 -1.015625 7.75 -2.171875 C 7.734375 -3.609375 7.375 -4.171875 6.4375 -4.578125 L 6.4375 -4.3125 C 7.421875 -4.796875 7.9375 -5.546875 7.9375 -6.546875 C 7.9375 -8.046875 6.859375 -9.015625 5.140625 -9.015625 L 0.96875 -9.015625 L 0.96875 0 L 2.359375 0 L 2.359375 -3.765625 L 5.109375 -3.765625 C 6.09375 -3.765625 6.421875 -3.421875 6.40625 -2.34375 L 6.390625 -1.5625 C 6.390625 -1.015625 6.484375 -0.484375 6.703125 0 L 8.28125 0 Z M 6.5 -6.390625 C 6.5 -5.359375 6.125 -5.015625 4.9375 -5.015625 L 2.359375 -5.015625 L 2.359375 -7.765625 L 4.9375 -7.765625 C 6.1875 -7.765625 6.5 -7.375 6.5 -6.390625 Z M 6.5 -6.390625 \"/>\n",
       "</symbol>\n",
       "<symbol overflow=\"visible\" id=\"glyph0-8\">\n",
       "<path style=\"stroke:none;\" d=\"M 6.28125 -2.984375 C 6.28125 -3.90625 6.21875 -4.46875 6.03125 -4.9375 C 5.625 -5.96875 4.53125 -6.734375 3.359375 -6.734375 C 1.609375 -6.734375 0.34375 -5.296875 0.34375 -3.234375 C 0.34375 -1.171875 1.578125 0.1875 3.34375 0.1875 C 4.78125 0.1875 5.90625 -0.765625 6.1875 -2.171875 L 4.921875 -2.171875 C 4.59375 -1.21875 4.171875 -1.015625 3.375 -1.015625 C 2.328125 -1.015625 1.6875 -1.546875 1.65625 -2.859375 L 6.28125 -2.859375 Z M 5.1875 -3.78125 C 5.1875 -3.78125 4.984375 -3.921875 4.984375 -3.9375 L 1.6875 -3.9375 C 1.765625 -4.921875 2.34375 -5.546875 3.34375 -5.546875 C 4.328125 -5.546875 4.9375 -4.859375 4.9375 -3.875 Z M 5.1875 -3.78125 \"/>\n",
       "</symbol>\n",
       "<symbol overflow=\"visible\" id=\"glyph0-9\">\n",
       "<path style=\"stroke:none;\" d=\"M 1.9375 -0.125 L 1.9375 -9.015625 L 0.671875 -9.015625 L 0.671875 0 L 1.9375 0 Z M 1.9375 -0.125 \"/>\n",
       "</symbol>\n",
       "<symbol overflow=\"visible\" id=\"glyph0-10\">\n",
       "<path style=\"stroke:none;\" d=\"M 6.546875 -0.15625 L 6.546875 -1.078125 C 6.3125 -1.015625 6.265625 -1.015625 6.203125 -1.015625 C 5.859375 -1.015625 5.796875 -1.0625 5.796875 -1.375 L 5.796875 -4.890625 C 5.796875 -6 4.84375 -6.734375 3.296875 -6.734375 C 1.78125 -6.734375 0.703125 -6.015625 0.640625 -4.421875 L 1.90625 -4.421875 C 2 -5.328125 2.328125 -5.546875 3.265625 -5.546875 C 4.15625 -5.546875 4.53125 -5.34375 4.53125 -4.734375 L 4.53125 -4.46875 C 4.53125 -4.0625 4.421875 -4.015625 3.625 -3.90625 C 2.203125 -3.734375 1.984375 -3.6875 1.609375 -3.53125 C 0.875 -3.234375 0.359375 -2.53125 0.359375 -1.765625 C 0.359375 -0.625 1.296875 0.1875 2.5625 0.1875 C 3.375 0.1875 4.25 -0.1875 4.625 -0.59375 C 4.671875 -0.390625 5.25 0.078125 5.734375 0.078125 C 5.9375 0.078125 6.09375 0.0625 6.546875 -0.046875 Z M 4.53125 -2.296875 C 4.53125 -1.40625 3.75 -0.953125 2.78125 -0.953125 C 2 -0.953125 1.6875 -1.109375 1.6875 -1.78125 C 1.6875 -2.453125 1.984375 -2.609375 3.0625 -2.765625 C 4.109375 -2.90625 4.328125 -2.953125 4.53125 -3.03125 Z M 4.53125 -2.296875 \"/>\n",
       "</symbol>\n",
       "<symbol overflow=\"visible\" id=\"glyph0-11\">\n",
       "<path style=\"stroke:none;\" d=\"M 3.1875 -0.125 L 3.1875 -1.15625 C 2.921875 -1.0625 2.765625 -1.0625 2.5625 -1.0625 C 2.140625 -1.0625 2.140625 -1.046875 2.140625 -1.484375 L 2.140625 -5.46875 L 3.1875 -5.46875 L 3.1875 -6.546875 L 2.140625 -6.546875 L 2.140625 -8.28125 L 0.875 -8.28125 L 0.875 -6.546875 L 0.03125 -6.546875 L 0.03125 -5.46875 L 0.875 -5.46875 L 0.875 -1.046875 C 0.875 -0.40625 1.453125 0.078125 2.234375 0.078125 C 2.46875 0.078125 2.71875 0.0625 3.1875 -0.03125 Z M 3.1875 -0.125 \"/>\n",
       "</symbol>\n",
       "<symbol overflow=\"visible\" id=\"glyph0-12\">\n",
       "<path style=\"stroke:none;\" d=\"M 1.96875 -0.125 L 1.96875 -6.546875 L 0.703125 -6.546875 L 0.703125 0 L 1.96875 0 Z M 2.09375 -7.375 L 2.09375 -8.75 L 0.578125 -8.75 L 0.578125 -7.234375 L 2.09375 -7.234375 Z M 2.09375 -7.375 \"/>\n",
       "</symbol>\n",
       "<symbol overflow=\"visible\" id=\"glyph0-13\">\n",
       "<path style=\"stroke:none;\" d=\"M 5.828125 -6.546875 L 4.609375 -6.546875 L 2.78125 -1.3125 L 3.0625 -1.3125 L 1.328125 -6.546875 L -0.078125 -6.546875 L 2.234375 0 L 3.5 0 L 6.015625 -6.546875 Z M 5.828125 -6.546875 \"/>\n",
       "</symbol>\n",
       "<symbol overflow=\"visible\" id=\"glyph0-14\">\n",
       "<path style=\"stroke:none;\" d=\"\"/>\n",
       "</symbol>\n",
       "<symbol overflow=\"visible\" id=\"glyph0-15\">\n",
       "<path style=\"stroke:none;\" d=\"M 3.984375 -5.546875 L 3.984375 -6.6875 C 3.6875 -6.71875 3.59375 -6.734375 3.46875 -6.734375 C 2.8125 -6.734375 2.21875 -6.3125 1.640625 -5.375 L 1.890625 -5.28125 L 1.890625 -6.546875 L 0.703125 -6.546875 L 0.703125 0 L 1.96875 0 L 1.96875 -3.390625 C 1.96875 -4.8125 2.296875 -5.390625 3.984375 -5.40625 Z M 3.984375 -5.546875 \"/>\n",
       "</symbol>\n",
       "<symbol overflow=\"visible\" id=\"glyph0-16\">\n",
       "<path style=\"stroke:none;\" d=\"M 5.640625 -1.890625 C 5.640625 -2.828125 4.984375 -3.4375 3.734375 -3.734375 L 2.765625 -3.953125 C 1.953125 -4.15625 1.734375 -4.28125 1.734375 -4.734375 C 1.734375 -5.296875 2.125 -5.546875 2.9375 -5.546875 C 3.75 -5.546875 4.03125 -5.328125 4.0625 -4.53125 L 5.390625 -4.53125 C 5.375 -5.90625 4.421875 -6.734375 2.96875 -6.734375 C 1.515625 -6.734375 0.421875 -5.84375 0.421875 -4.6875 C 0.421875 -3.703125 1.0625 -3.09375 2.5625 -2.734375 L 3.484375 -2.515625 C 4.1875 -2.34375 4.3125 -2.265625 4.3125 -1.8125 C 4.3125 -1.21875 3.875 -1.015625 3 -1.015625 C 2.09375 -1.015625 1.734375 -1.09375 1.578125 -2.1875 L 0.265625 -2.1875 C 0.3125 -0.59375 1.265625 0.1875 2.921875 0.1875 C 4.5 0.1875 5.640625 -0.6875 5.640625 -1.890625 Z M 5.640625 -1.890625 \"/>\n",
       "</symbol>\n",
       "<symbol overflow=\"visible\" id=\"glyph0-17\">\n",
       "<path style=\"stroke:none;\" d=\"M 6.125 -0.234375 L 3.625 -4.21875 L 5.734375 -6.328125 L 5.640625 -6.546875 L 4.296875 -6.546875 L 1.578125 -3.859375 L 1.828125 -3.75 L 1.828125 -9.015625 L 0.546875 -9.015625 L 0.546875 0 L 1.828125 0 L 1.828125 -2.515625 L 2.640625 -3.328125 L 4.71875 0 L 6.265625 0 Z M 6.125 -0.234375 \"/>\n",
       "</symbol>\n",
       "<symbol overflow=\"visible\" id=\"glyph1-0\">\n",
       "<path style=\"stroke:none;\" d=\"\"/>\n",
       "</symbol>\n",
       "<symbol overflow=\"visible\" id=\"glyph1-1\">\n",
       "<path style=\"stroke:none;\" d=\"M -4.21875 -6.21875 C -7.171875 -6.21875 -8.765625 -5.140625 -8.765625 -3.296875 C -8.765625 -1.46875 -7.15625 -0.375 -4.296875 -0.375 C -1.421875 -0.375 0.1875 -1.46875 0.1875 -3.296875 C 0.1875 -5.09375 -1.421875 -6.21875 -4.21875 -6.21875 Z M -4.3125 -4.859375 C -1.90625 -4.859375 -0.953125 -4.453125 -0.953125 -3.28125 C -0.953125 -2.15625 -1.953125 -1.734375 -4.28125 -1.734375 C -6.609375 -1.734375 -7.578125 -2.15625 -7.578125 -3.296875 C -7.578125 -4.4375 -6.59375 -4.859375 -4.3125 -4.859375 Z M -4.3125 -4.859375 \"/>\n",
       "</symbol>\n",
       "<symbol overflow=\"visible\" id=\"glyph1-2\">\n",
       "<path style=\"stroke:none;\" d=\"M -6.140625 -6.265625 C -7.578125 -6.265625 -8.765625 -5.015625 -8.765625 -3.40625 C -8.765625 -1.671875 -7.75 -0.515625 -5.5625 -0.453125 L -5.5625 -1.78125 C -7.109375 -1.875 -7.578125 -2.328125 -7.578125 -3.375 C -7.578125 -4.328125 -7.03125 -4.90625 -6.125 -4.90625 C -5.453125 -4.90625 -4.96875 -4.546875 -4.53125 -3.796875 L -3.90625 -2.6875 C -2.90625 -0.90625 -2 -0.359375 0 -0.25 L 0 -6.203125 L -1.3125 -6.203125 L -1.3125 -1.75 C -1.875 -1.84375 -2.21875 -2.1875 -2.828125 -3.234375 L -3.484375 -4.421875 C -4.109375 -5.609375 -5.09375 -6.265625 -6.140625 -6.265625 Z M -6.140625 -6.265625 \"/>\n",
       "</symbol>\n",
       "<symbol overflow=\"visible\" id=\"glyph1-3\">\n",
       "<path style=\"stroke:none;\" d=\"M -2.171875 -6.375 L -3.25 -6.375 L -3.25 -5.109375 L -8.765625 -5.109375 L -8.765625 -4.125 L -3.328125 -0.1875 L -2.046875 -0.1875 L -2.046875 -3.78125 L 0 -3.78125 L 0 -5.109375 L -2.046875 -5.109375 L -2.046875 -6.375 Z M -3.25 -3.921875 L -3.25 -1.515625 L -6.75 -4.015625 L -6.84375 -3.78125 L -3.25 -3.78125 Z M -3.25 -3.921875 \"/>\n",
       "</symbol>\n",
       "<symbol overflow=\"visible\" id=\"glyph1-4\">\n",
       "<path style=\"stroke:none;\" d=\"M -2.765625 -6.28125 C -4.359375 -6.28125 -5.5625 -5.078125 -5.5625 -3.546875 C -5.5625 -2.71875 -5.203125 -1.9375 -4.578125 -1.484375 L -4.46875 -1.734375 C -6.546875 -1.734375 -7.578125 -2.28125 -7.578125 -3.484375 C -7.578125 -4.234375 -7.234375 -4.609375 -6.28125 -4.796875 L -6.28125 -6.125 C -7.8125 -5.90625 -8.765625 -4.859375 -8.765625 -3.5625 C -8.765625 -1.578125 -6.96875 -0.375 -4.015625 -0.375 C -1.359375 -0.375 0.1875 -1.421875 0.1875 -3.375 C 0.1875 -4.984375 -1.109375 -6.28125 -2.765625 -6.28125 Z M -2.6875 -4.9375 C -1.625 -4.9375 -1.015625 -4.359375 -1.015625 -3.390625 C -1.015625 -2.40625 -1.65625 -1.78125 -2.75 -1.78125 C -3.796875 -1.78125 -4.359375 -2.375 -4.359375 -3.421875 C -4.359375 -4.4375 -3.828125 -4.9375 -2.6875 -4.9375 Z M -2.6875 -4.9375 \"/>\n",
       "</symbol>\n",
       "<symbol overflow=\"visible\" id=\"glyph1-5\">\n",
       "<path style=\"stroke:none;\" d=\"M -2.53125 -6.28125 C -3.484375 -6.28125 -4.265625 -5.671875 -4.625 -4.953125 C -5.046875 -5.65625 -5.5625 -5.984375 -6.375 -5.984375 C -7.703125 -5.984375 -8.765625 -4.8125 -8.765625 -3.296875 C -8.765625 -1.796875 -7.703125 -0.59375 -6.375 -0.59375 C -5.578125 -0.59375 -5.046875 -0.921875 -4.625 -1.625 C -4.265625 -0.921875 -3.484375 -0.296875 -2.546875 -0.296875 C -0.984375 -0.296875 0.1875 -1.625 0.1875 -3.296875 C 0.1875 -4.984375 -0.984375 -6.28125 -2.53125 -6.28125 Z M -6.34375 -4.625 C -5.5625 -4.625 -5.15625 -4.1875 -5.15625 -3.296875 C -5.15625 -2.40625 -5.5625 -1.953125 -6.359375 -1.953125 C -7.171875 -1.953125 -7.578125 -2.40625 -7.578125 -3.296875 C -7.578125 -4.203125 -7.171875 -4.625 -6.34375 -4.625 Z M -2.515625 -4.9375 C -1.515625 -4.9375 -1.015625 -4.359375 -1.015625 -3.28125 C -1.015625 -2.25 -1.53125 -1.65625 -2.515625 -1.65625 C -3.515625 -1.65625 -4.015625 -2.25 -4.015625 -3.296875 C -4.015625 -4.359375 -3.515625 -4.9375 -2.515625 -4.9375 Z M -2.515625 -4.9375 \"/>\n",
       "</symbol>\n",
       "<symbol overflow=\"visible\" id=\"glyph1-6\">\n",
       "<path style=\"stroke:none;\" d=\"M -0.125 -4.296875 L -8.765625 -4.296875 L -8.765625 -3.359375 C -7.328125 -2.953125 -7.28125 -2.859375 -7.0625 -1.078125 L -6.0625 -1.078125 L -6.0625 -2.96875 L 0 -2.96875 L 0 -4.296875 Z M -0.125 -4.296875 \"/>\n",
       "</symbol>\n",
       "<symbol overflow=\"visible\" id=\"glyph1-7\">\n",
       "<path style=\"stroke:none;\" d=\"M -0.125 -8.640625 L -4.890625 -8.640625 L -4.890625 -4.71875 L -3.640625 -4.71875 L -3.640625 -7.375 L -3.53125 -7.375 C -1.96875 -7.375 -1.03125 -6.375 -1.03125 -4.78125 C -1.03125 -2.796875 -2.34375 -1.78125 -4.46875 -1.78125 C -6.625 -1.78125 -7.984375 -2.875 -7.984375 -4.71875 C -7.984375 -6.046875 -7.359375 -6.859375 -6.09375 -7.125 L -6.09375 -8.546875 C -8 -8.203125 -9.234375 -6.734375 -9.234375 -4.734375 C -9.234375 -2.046875 -7.03125 -0.390625 -4.421875 -0.390625 C -1.734375 -0.390625 0.21875 -2.171875 0.21875 -4.53125 C 0.21875 -5.71875 -0.234375 -6.765625 -1.015625 -7.453125 L 0 -7.6875 L 0 -8.640625 Z M -0.125 -8.640625 \"/>\n",
       "</symbol>\n",
       "<symbol overflow=\"visible\" id=\"glyph1-8\">\n",
       "<path style=\"stroke:none;\" d=\"M -2.984375 -6.28125 C -3.90625 -6.28125 -4.46875 -6.21875 -4.9375 -6.03125 C -5.96875 -5.625 -6.734375 -4.53125 -6.734375 -3.359375 C -6.734375 -1.609375 -5.296875 -0.34375 -3.234375 -0.34375 C -1.171875 -0.34375 0.1875 -1.578125 0.1875 -3.34375 C 0.1875 -4.78125 -0.765625 -5.90625 -2.171875 -6.1875 L -2.171875 -4.921875 C -1.21875 -4.59375 -1.015625 -4.171875 -1.015625 -3.375 C -1.015625 -2.328125 -1.546875 -1.6875 -2.859375 -1.65625 L -2.859375 -6.28125 Z M -3.78125 -5.1875 C -3.78125 -5.1875 -3.921875 -4.984375 -3.9375 -4.984375 L -3.9375 -1.6875 C -4.921875 -1.765625 -5.546875 -2.34375 -5.546875 -3.34375 C -5.546875 -4.328125 -4.859375 -4.9375 -3.875 -4.9375 Z M -3.78125 -5.1875 \"/>\n",
       "</symbol>\n",
       "<symbol overflow=\"visible\" id=\"glyph1-9\">\n",
       "<path style=\"stroke:none;\" d=\"M -0.125 -5.96875 L -4.890625 -5.96875 C -5.921875 -5.96875 -6.734375 -5.0625 -6.734375 -3.859375 C -6.734375 -2.921875 -6.34375 -2.203125 -5.453125 -1.65625 L -5.359375 -1.890625 L -6.546875 -1.890625 L -6.546875 -0.703125 L 0 -0.703125 L 0 -1.96875 L -3.59375 -1.96875 C -4.890625 -1.96875 -5.59375 -2.53125 -5.59375 -3.546875 C -5.59375 -4.34375 -5.25 -4.703125 -4.484375 -4.703125 L 0 -4.703125 L 0 -5.96875 Z M -0.125 -5.96875 \"/>\n",
       "</symbol>\n",
       "<symbol overflow=\"visible\" id=\"glyph1-10\">\n",
       "<path style=\"stroke:none;\" d=\"\"/>\n",
       "</symbol>\n",
       "<symbol overflow=\"visible\" id=\"glyph1-11\">\n",
       "<path style=\"stroke:none;\" d=\"M -0.125 -5.921875 L -6.546875 -5.921875 L -6.546875 -4.640625 L -2.953125 -4.640625 C -1.671875 -4.640625 -0.953125 -4.109375 -0.953125 -3.078125 C -0.953125 -2.28125 -1.3125 -1.90625 -2.0625 -1.90625 L -6.546875 -1.90625 L -6.546875 -0.640625 L -1.671875 -0.640625 C -0.625 -0.640625 0.1875 -1.5625 0.1875 -2.78125 C 0.1875 -3.703125 -0.1875 -4.390625 -1.015625 -4.984375 L -1.109375 -4.734375 L 0 -4.734375 L 0 -5.921875 Z M -0.125 -5.921875 \"/>\n",
       "</symbol>\n",
       "<symbol overflow=\"visible\" id=\"glyph1-12\">\n",
       "<path style=\"stroke:none;\" d=\"M -0.125 -9.25 L -4.84375 -9.25 C -5.96875 -9.25 -6.734375 -8.5 -6.734375 -7.3125 C -6.734375 -6.484375 -6.4375 -5.875 -5.875 -5.40625 C -6.40625 -5.109375 -6.734375 -4.515625 -6.734375 -3.703125 C -6.734375 -2.859375 -6.390625 -2.203125 -5.625 -1.65625 L -5.53125 -1.890625 L -6.546875 -1.890625 L -6.546875 -0.703125 L 0 -0.703125 L 0 -1.984375 L -4.078125 -1.984375 C -4.984375 -1.984375 -5.59375 -2.515625 -5.59375 -3.328125 C -5.59375 -4.0625 -5.265625 -4.34375 -4.46875 -4.34375 L 0 -4.34375 L 0 -5.609375 L -4.078125 -5.609375 C -4.984375 -5.609375 -5.59375 -6.15625 -5.59375 -6.96875 C -5.59375 -7.703125 -5.25 -7.984375 -4.46875 -7.984375 L 0 -7.984375 L 0 -9.25 Z M -0.125 -9.25 \"/>\n",
       "</symbol>\n",
       "<symbol overflow=\"visible\" id=\"glyph1-13\">\n",
       "<path style=\"stroke:none;\" d=\"M -3.34375 -6.40625 C -5.390625 -6.40625 -6.734375 -5.25 -6.734375 -3.59375 C -6.734375 -2.71875 -6.375 -2 -5.65625 -1.53125 L -5.5625 -1.78125 L -9.015625 -1.78125 L -9.015625 -0.5 L 0 -0.5 L 0 -1.6875 L -1.03125 -1.6875 L -0.9375 -1.4375 C -0.203125 -1.921875 0.1875 -2.65625 0.1875 -3.546875 C 0.1875 -5.203125 -1.3125 -6.40625 -3.34375 -6.40625 Z M -3.28125 -5.09375 C -1.859375 -5.09375 -1.015625 -4.484375 -1.015625 -3.390625 C -1.015625 -2.34375 -1.84375 -1.78125 -3.28125 -1.78125 C -4.75 -1.78125 -5.578125 -2.34375 -5.53125 -3.390625 C -5.53125 -4.515625 -4.6875 -5.09375 -3.28125 -5.09375 Z M -3.28125 -5.09375 \"/>\n",
       "</symbol>\n",
       "<symbol overflow=\"visible\" id=\"glyph1-14\">\n",
       "<path style=\"stroke:none;\" d=\"M -5.546875 -3.984375 L -6.6875 -3.984375 C -6.71875 -3.6875 -6.734375 -3.59375 -6.734375 -3.46875 C -6.734375 -2.8125 -6.3125 -2.21875 -5.375 -1.640625 L -5.28125 -1.890625 L -6.546875 -1.890625 L -6.546875 -0.703125 L 0 -0.703125 L 0 -1.96875 L -3.390625 -1.96875 C -4.8125 -1.96875 -5.390625 -2.296875 -5.40625 -3.984375 Z M -5.546875 -3.984375 \"/>\n",
       "</symbol>\n",
       "<symbol overflow=\"visible\" id=\"glyph2-0\">\n",
       "<path style=\"stroke:none;\" d=\"\"/>\n",
       "</symbol>\n",
       "<symbol overflow=\"visible\" id=\"glyph2-1\">\n",
       "<path style=\"stroke:none;\" d=\"M 4.46875 -4.375 C 4.46875 -5.375 3.515625 -6.28125 2.390625 -6.28125 C 1.171875 -6.28125 0.28125 -5.515625 0.234375 -3.890625 L 1.328125 -3.890625 C 1.390625 -5.046875 1.625 -5.3125 2.359375 -5.3125 C 3.03125 -5.3125 3.359375 -5 3.359375 -4.359375 C 3.359375 -3.890625 3.140625 -3.59375 2.609375 -3.28125 L 1.828125 -2.84375 C 0.59375 -2.140625 0.171875 -1.484375 0.09375 0 L 4.4375 0 L 4.4375 -1.046875 L 1.3125 -1.046875 C 1.375 -1.375 1.578125 -1.578125 2.3125 -2 L 3.15625 -2.453125 C 3.984375 -2.90625 4.46875 -3.640625 4.46875 -4.375 Z M 4.46875 -4.375 \"/>\n",
       "</symbol>\n",
       "<symbol overflow=\"visible\" id=\"glyph2-2\">\n",
       "<path style=\"stroke:none;\" d=\"M 4.484375 -2.15625 C 4.484375 -2.796875 4.4375 -3.203125 4.3125 -3.53125 C 4.03125 -4.25 3.171875 -4.84375 2.359375 -4.84375 C 1.125 -4.84375 0.15625 -3.78125 0.15625 -2.34375 C 0.15625 -0.890625 1.09375 0.125 2.34375 0.125 C 3.34375 0.125 4.21875 -0.609375 4.421875 -1.65625 L 3.375 -1.65625 C 3.140625 -0.9375 2.921875 -0.84375 2.359375 -0.84375 C 1.625 -0.84375 1.265625 -1.15625 1.25 -2 L 4.484375 -2 Z M 3.6875 -2.671875 C 3.6875 -2.671875 3.4375 -2.859375 3.453125 -2.890625 L 1.265625 -2.890625 C 1.3125 -3.515625 1.640625 -3.890625 2.34375 -3.890625 C 3.03125 -3.890625 3.375 -3.46875 3.375 -2.78125 Z M 3.6875 -2.671875 \"/>\n",
       "</symbol>\n",
       "<symbol overflow=\"visible\" id=\"glyph2-3\">\n",
       "<path style=\"stroke:none;\" d=\"M 2.5625 -2.171875 L 2.5625 -2.9375 L 0.203125 -2.9375 L 0.203125 -2.015625 L 2.5625 -2.015625 Z M 2.5625 -2.171875 \"/>\n",
       "</symbol>\n",
       "<symbol overflow=\"visible\" id=\"glyph2-4\">\n",
       "<path style=\"stroke:none;\" d=\"M 4.4375 -3.03125 C 4.4375 -5.09375 3.609375 -6.28125 2.3125 -6.28125 C 1.03125 -6.28125 0.171875 -5.078125 0.171875 -3.078125 C 0.171875 -1.0625 1.03125 0.125 2.3125 0.125 C 3.578125 0.125 4.4375 -1.0625 4.4375 -3.03125 Z M 3.328125 -3.09375 C 3.328125 -1.40625 3.125 -0.8125 2.296875 -0.8125 C 1.515625 -0.8125 1.296875 -1.4375 1.296875 -3.0625 C 1.296875 -4.703125 1.515625 -5.296875 2.3125 -5.296875 C 3.109375 -5.296875 3.328125 -4.6875 3.328125 -3.09375 Z M 3.328125 -3.09375 \"/>\n",
       "</symbol>\n",
       "<symbol overflow=\"visible\" id=\"glyph2-5\">\n",
       "<path style=\"stroke:none;\" d=\"M 4.484375 -2.140625 C 4.484375 -3.3125 3.53125 -4.25 2.390625 -4.25 C 1.96875 -4.25 1.5 -4.078125 1.515625 -4.09375 L 1.671875 -5.109375 L 4.171875 -5.109375 L 4.171875 -6.15625 L 0.765625 -6.15625 L 0.265625 -2.71875 L 1.25 -2.71875 C 1.625 -3.171875 1.796875 -3.265625 2.25 -3.265625 C 3.046875 -3.265625 3.375 -2.921875 3.375 -2.03125 C 3.375 -1.171875 3.0625 -0.84375 2.25 -0.84375 C 1.609375 -0.84375 1.390625 -1.015625 1.171875 -1.84375 L 0.078125 -1.84375 C 0.359375 -0.5 1.203125 0.125 2.265625 0.125 C 3.46875 0.125 4.484375 -0.875 4.484375 -2.140625 Z M 4.484375 -2.140625 \"/>\n",
       "</symbol>\n",
       "<symbol overflow=\"visible\" id=\"glyph2-6\">\n",
       "<path style=\"stroke:none;\" d=\"M 1.78125 -0.15625 L 1.78125 -1.1875 L 0.546875 -1.1875 L 0.546875 0 L 1.78125 0 Z M 1.78125 -0.15625 \"/>\n",
       "</symbol>\n",
       "</g>\n",
       "<clipPath id=\"clip1\">\n",
       "  <path d=\"M 59.039062 59.039062 L 116 59.039062 L 116 90 L 59.039062 90 Z M 59.039062 59.039062 \"/>\n",
       "</clipPath>\n",
       "</defs>\n",
       "<g id=\"surface57\">\n",
       "<rect x=\"0\" y=\"0\" width=\"504\" height=\"504\" style=\"fill:rgb(100%,100%,100%);fill-opacity:1;stroke:none;\"/>\n",
       "<path style=\"fill:none;stroke-width:0.75;stroke-linecap:round;stroke-linejoin:round;stroke:rgb(100%,100%,100%);stroke-opacity:1;stroke-miterlimit:10;\" d=\"M 77.101562 330.800781 C 77.101562 334.398438 71.699219 334.398438 71.699219 330.800781 C 71.699219 327.199219 77.101562 327.199219 77.101562 330.800781 \"/>\n",
       "<path style=\"fill:none;stroke-width:0.75;stroke-linecap:round;stroke-linejoin:round;stroke:rgb(100%,100%,100%);stroke-opacity:1;stroke-miterlimit:10;\" d=\"M 84.9375 323.632812 C 84.9375 327.234375 79.535156 327.234375 79.535156 323.632812 C 79.535156 320.035156 84.9375 320.035156 84.9375 323.632812 \"/>\n",
       "<path style=\"fill:none;stroke-width:0.75;stroke-linecap:round;stroke-linejoin:round;stroke:rgb(100%,100%,100%);stroke-opacity:1;stroke-miterlimit:10;\" d=\"M 108.445312 304.523438 C 108.445312 308.121094 103.046875 308.121094 103.046875 304.523438 C 103.046875 300.921875 108.445312 300.921875 108.445312 304.523438 \"/>\n",
       "<path style=\"fill:none;stroke-width:0.75;stroke-linecap:round;stroke-linejoin:round;stroke:rgb(100%,100%,100%);stroke-opacity:1;stroke-miterlimit:10;\" d=\"M 147.628906 275.855469 C 147.628906 279.457031 142.230469 279.457031 142.230469 275.855469 C 142.230469 272.253906 147.628906 272.253906 147.628906 275.855469 \"/>\n",
       "<path style=\"fill:none;stroke-width:0.75;stroke-linecap:round;stroke-linejoin:round;stroke:rgb(100%,100%,100%);stroke-opacity:1;stroke-miterlimit:10;\" d=\"M 225.996094 223.300781 C 225.996094 226.898438 220.597656 226.898438 220.597656 223.300781 C 220.597656 219.699219 225.996094 219.699219 225.996094 223.300781 \"/>\n",
       "<path style=\"fill:none;stroke-width:0.75;stroke-linecap:round;stroke-linejoin:round;stroke:rgb(100%,100%,100%);stroke-opacity:1;stroke-miterlimit:10;\" d=\"M 265.179688 197.023438 C 265.179688 200.621094 259.78125 200.621094 259.78125 197.023438 C 259.78125 193.421875 265.179688 193.421875 265.179688 197.023438 \"/>\n",
       "<path style=\"fill:none;stroke-width:0.75;stroke-linecap:round;stroke-linejoin:round;stroke:rgb(100%,100%,100%);stroke-opacity:1;stroke-miterlimit:10;\" d=\"M 461.101562 72.800781 C 461.101562 76.398438 455.699219 76.398438 455.699219 72.800781 C 455.699219 69.199219 461.101562 69.199219 461.101562 72.800781 \"/>\n",
       "<path style=\"fill:none;stroke-width:0.75;stroke-linecap:round;stroke-linejoin:round;stroke:rgb(0%,0%,0%);stroke-opacity:1;stroke-miterlimit:10;\" d=\"M 66.5625 430.558594 L 458.398438 430.558594 \"/>\n",
       "<path style=\"fill:none;stroke-width:0.75;stroke-linecap:round;stroke-linejoin:round;stroke:rgb(0%,0%,0%);stroke-opacity:1;stroke-miterlimit:10;\" d=\"M 66.5625 430.558594 L 66.5625 437.761719 \"/>\n",
       "<path style=\"fill:none;stroke-width:0.75;stroke-linecap:round;stroke-linejoin:round;stroke:rgb(0%,0%,0%);stroke-opacity:1;stroke-miterlimit:10;\" d=\"M 144.929688 430.558594 L 144.929688 437.761719 \"/>\n",
       "<path style=\"fill:none;stroke-width:0.75;stroke-linecap:round;stroke-linejoin:round;stroke:rgb(0%,0%,0%);stroke-opacity:1;stroke-miterlimit:10;\" d=\"M 223.296875 430.558594 L 223.296875 437.761719 \"/>\n",
       "<path style=\"fill:none;stroke-width:0.75;stroke-linecap:round;stroke-linejoin:round;stroke:rgb(0%,0%,0%);stroke-opacity:1;stroke-miterlimit:10;\" d=\"M 301.664062 430.558594 L 301.664062 437.761719 \"/>\n",
       "<path style=\"fill:none;stroke-width:0.75;stroke-linecap:round;stroke-linejoin:round;stroke:rgb(0%,0%,0%);stroke-opacity:1;stroke-miterlimit:10;\" d=\"M 380.03125 430.558594 L 380.03125 437.761719 \"/>\n",
       "<path style=\"fill:none;stroke-width:0.75;stroke-linecap:round;stroke-linejoin:round;stroke:rgb(0%,0%,0%);stroke-opacity:1;stroke-miterlimit:10;\" d=\"M 458.398438 430.558594 L 458.398438 437.761719 \"/>\n",
       "<g style=\"fill:rgb(0%,0%,0%);fill-opacity:1;\">\n",
       "  <use xlink:href=\"#glyph0-1\" x=\"63.0625\" y=\"456.256836\"/>\n",
       "</g>\n",
       "<g style=\"fill:rgb(0%,0%,0%);fill-opacity:1;\">\n",
       "  <use xlink:href=\"#glyph0-2\" x=\"137.929688\" y=\"456.256836\"/>\n",
       "  <use xlink:href=\"#glyph0-1\" x=\"144.601562\" y=\"456.256836\"/>\n",
       "</g>\n",
       "<g style=\"fill:rgb(0%,0%,0%);fill-opacity:1;\">\n",
       "  <use xlink:href=\"#glyph0-3\" x=\"216.296875\" y=\"456.256836\"/>\n",
       "  <use xlink:href=\"#glyph0-1\" x=\"222.96875\" y=\"456.256836\"/>\n",
       "</g>\n",
       "<g style=\"fill:rgb(0%,0%,0%);fill-opacity:1;\">\n",
       "  <use xlink:href=\"#glyph0-4\" x=\"294.664062\" y=\"456.256836\"/>\n",
       "  <use xlink:href=\"#glyph0-1\" x=\"301.335938\" y=\"456.256836\"/>\n",
       "</g>\n",
       "<g style=\"fill:rgb(0%,0%,0%);fill-opacity:1;\">\n",
       "  <use xlink:href=\"#glyph0-5\" x=\"373.03125\" y=\"456.256836\"/>\n",
       "  <use xlink:href=\"#glyph0-1\" x=\"379.703125\" y=\"456.256836\"/>\n",
       "</g>\n",
       "<g style=\"fill:rgb(0%,0%,0%);fill-opacity:1;\">\n",
       "  <use xlink:href=\"#glyph0-6\" x=\"451.398438\" y=\"456.256836\"/>\n",
       "  <use xlink:href=\"#glyph0-1\" x=\"458.070312\" y=\"456.256836\"/>\n",
       "</g>\n",
       "<path style=\"fill:none;stroke-width:0.75;stroke-linecap:round;stroke-linejoin:round;stroke:rgb(0%,0%,0%);stroke-opacity:1;stroke-miterlimit:10;\" d=\"M 59.039062 416.800781 L 59.039062 82.355469 \"/>\n",
       "<path style=\"fill:none;stroke-width:0.75;stroke-linecap:round;stroke-linejoin:round;stroke:rgb(0%,0%,0%);stroke-opacity:1;stroke-miterlimit:10;\" d=\"M 59.039062 416.800781 L 51.839844 416.800781 \"/>\n",
       "<path style=\"fill:none;stroke-width:0.75;stroke-linecap:round;stroke-linejoin:round;stroke:rgb(0%,0%,0%);stroke-opacity:1;stroke-miterlimit:10;\" d=\"M 59.039062 369.023438 L 51.839844 369.023438 \"/>\n",
       "<path style=\"fill:none;stroke-width:0.75;stroke-linecap:round;stroke-linejoin:round;stroke:rgb(0%,0%,0%);stroke-opacity:1;stroke-miterlimit:10;\" d=\"M 59.039062 321.246094 L 51.839844 321.246094 \"/>\n",
       "<path style=\"fill:none;stroke-width:0.75;stroke-linecap:round;stroke-linejoin:round;stroke:rgb(0%,0%,0%);stroke-opacity:1;stroke-miterlimit:10;\" d=\"M 59.039062 273.464844 L 51.839844 273.464844 \"/>\n",
       "<path style=\"fill:none;stroke-width:0.75;stroke-linecap:round;stroke-linejoin:round;stroke:rgb(0%,0%,0%);stroke-opacity:1;stroke-miterlimit:10;\" d=\"M 59.039062 225.6875 L 51.839844 225.6875 \"/>\n",
       "<path style=\"fill:none;stroke-width:0.75;stroke-linecap:round;stroke-linejoin:round;stroke:rgb(0%,0%,0%);stroke-opacity:1;stroke-miterlimit:10;\" d=\"M 59.039062 177.910156 L 51.839844 177.910156 \"/>\n",
       "<path style=\"fill:none;stroke-width:0.75;stroke-linecap:round;stroke-linejoin:round;stroke:rgb(0%,0%,0%);stroke-opacity:1;stroke-miterlimit:10;\" d=\"M 59.039062 130.132812 L 51.839844 130.132812 \"/>\n",
       "<path style=\"fill:none;stroke-width:0.75;stroke-linecap:round;stroke-linejoin:round;stroke:rgb(0%,0%,0%);stroke-opacity:1;stroke-miterlimit:10;\" d=\"M 59.039062 82.355469 L 51.839844 82.355469 \"/>\n",
       "<g style=\"fill:rgb(0%,0%,0%);fill-opacity:1;\">\n",
       "  <use xlink:href=\"#glyph1-1\" x=\"41.538086\" y=\"420.300781\"/>\n",
       "</g>\n",
       "<g style=\"fill:rgb(0%,0%,0%);fill-opacity:1;\">\n",
       "  <use xlink:href=\"#glyph1-2\" x=\"41.538086\" y=\"376.023438\"/>\n",
       "  <use xlink:href=\"#glyph1-1\" x=\"41.538086\" y=\"369.351562\"/>\n",
       "</g>\n",
       "<g style=\"fill:rgb(0%,0%,0%);fill-opacity:1;\">\n",
       "  <use xlink:href=\"#glyph1-3\" x=\"41.538086\" y=\"328.246094\"/>\n",
       "  <use xlink:href=\"#glyph1-1\" x=\"41.538086\" y=\"321.574219\"/>\n",
       "</g>\n",
       "<g style=\"fill:rgb(0%,0%,0%);fill-opacity:1;\">\n",
       "  <use xlink:href=\"#glyph1-4\" x=\"41.538086\" y=\"280.464844\"/>\n",
       "  <use xlink:href=\"#glyph1-1\" x=\"41.538086\" y=\"273.792969\"/>\n",
       "</g>\n",
       "<g style=\"fill:rgb(0%,0%,0%);fill-opacity:1;\">\n",
       "  <use xlink:href=\"#glyph1-5\" x=\"41.538086\" y=\"232.6875\"/>\n",
       "  <use xlink:href=\"#glyph1-1\" x=\"41.538086\" y=\"226.015625\"/>\n",
       "</g>\n",
       "<g style=\"fill:rgb(0%,0%,0%);fill-opacity:1;\">\n",
       "  <use xlink:href=\"#glyph1-6\" x=\"41.538086\" y=\"188.410156\"/>\n",
       "  <use xlink:href=\"#glyph1-1\" x=\"41.538086\" y=\"181.738281\"/>\n",
       "  <use xlink:href=\"#glyph1-1\" x=\"41.538086\" y=\"175.066406\"/>\n",
       "</g>\n",
       "<g style=\"fill:rgb(0%,0%,0%);fill-opacity:1;\">\n",
       "  <use xlink:href=\"#glyph1-6\" x=\"41.538086\" y=\"140.632812\"/>\n",
       "  <use xlink:href=\"#glyph1-2\" x=\"41.538086\" y=\"133.960938\"/>\n",
       "  <use xlink:href=\"#glyph1-1\" x=\"41.538086\" y=\"127.289062\"/>\n",
       "</g>\n",
       "<g style=\"fill:rgb(0%,0%,0%);fill-opacity:1;\">\n",
       "  <use xlink:href=\"#glyph1-6\" x=\"41.538086\" y=\"92.855469\"/>\n",
       "  <use xlink:href=\"#glyph1-3\" x=\"41.538086\" y=\"86.183594\"/>\n",
       "  <use xlink:href=\"#glyph1-1\" x=\"41.538086\" y=\"79.511719\"/>\n",
       "</g>\n",
       "<path style=\"fill:none;stroke-width:0.75;stroke-linecap:round;stroke-linejoin:round;stroke:rgb(0%,0%,0%);stroke-opacity:1;stroke-miterlimit:10;\" d=\"M 59.039062 430.558594 L 473.761719 430.558594 L 473.761719 59.039062 L 59.039062 59.039062 L 59.039062 430.558594 \"/>\n",
       "<g style=\"fill:rgb(0%,0%,0%);fill-opacity:1;\">\n",
       "  <use xlink:href=\"#glyph0-7\" x=\"233.898438\" y=\"485.057617\"/>\n",
       "  <use xlink:href=\"#glyph0-8\" x=\"242.443359\" y=\"485.057617\"/>\n",
       "  <use xlink:href=\"#glyph0-9\" x=\"249.115234\" y=\"485.057617\"/>\n",
       "  <use xlink:href=\"#glyph0-10\" x=\"251.779297\" y=\"485.057617\"/>\n",
       "  <use xlink:href=\"#glyph0-11\" x=\"258.451172\" y=\"485.057617\"/>\n",
       "  <use xlink:href=\"#glyph0-12\" x=\"261.787109\" y=\"485.057617\"/>\n",
       "  <use xlink:href=\"#glyph0-13\" x=\"264.451172\" y=\"485.057617\"/>\n",
       "  <use xlink:href=\"#glyph0-8\" x=\"270.211914\" y=\"485.057617\"/>\n",
       "  <use xlink:href=\"#glyph0-14\" x=\"276.883789\" y=\"485.057617\"/>\n",
       "  <use xlink:href=\"#glyph0-15\" x=\"280.219727\" y=\"485.057617\"/>\n",
       "  <use xlink:href=\"#glyph0-12\" x=\"284.21582\" y=\"485.057617\"/>\n",
       "  <use xlink:href=\"#glyph0-16\" x=\"286.879883\" y=\"485.057617\"/>\n",
       "  <use xlink:href=\"#glyph0-17\" x=\"292.879883\" y=\"485.057617\"/>\n",
       "</g>\n",
       "<g style=\"fill:rgb(0%,0%,0%);fill-opacity:1;\">\n",
       "  <use xlink:href=\"#glyph1-7\" x=\"12.737305\" y=\"281.800781\"/>\n",
       "  <use xlink:href=\"#glyph1-8\" x=\"12.737305\" y=\"272.464844\"/>\n",
       "  <use xlink:href=\"#glyph1-9\" x=\"12.737305\" y=\"265.792969\"/>\n",
       "  <use xlink:href=\"#glyph1-8\" x=\"12.737305\" y=\"259.121094\"/>\n",
       "  <use xlink:href=\"#glyph1-10\" x=\"12.737305\" y=\"252.449219\"/>\n",
       "  <use xlink:href=\"#glyph1-9\" x=\"12.737305\" y=\"249.113281\"/>\n",
       "  <use xlink:href=\"#glyph1-11\" x=\"12.737305\" y=\"242.441406\"/>\n",
       "  <use xlink:href=\"#glyph1-12\" x=\"12.737305\" y=\"235.769531\"/>\n",
       "  <use xlink:href=\"#glyph1-13\" x=\"12.737305\" y=\"225.773438\"/>\n",
       "  <use xlink:href=\"#glyph1-8\" x=\"12.737305\" y=\"219.101562\"/>\n",
       "  <use xlink:href=\"#glyph1-14\" x=\"12.737305\" y=\"212.429688\"/>\n",
       "</g>\n",
       "<path style=\"fill:none;stroke-width:0.75;stroke-linecap:round;stroke-linejoin:round;stroke:rgb(0%,0%,0%);stroke-opacity:1;stroke-miterlimit:10;\" d=\"M 74.398438 416.800781 L 144.929688 416.800781 L 223.296875 414.410156 L 262.480469 412.023438 L 458.398438 400.078125 \"/>\n",
       "<path style=\"fill:none;stroke-width:0.75;stroke-linecap:round;stroke-linejoin:round;stroke:rgb(100%,0%,0%);stroke-opacity:1;stroke-miterlimit:10;\" d=\"M 74.398438 330.800781 L 82.238281 323.632812 L 105.746094 304.523438 L 144.929688 275.855469 L 262.480469 197.023438 L 458.398438 72.800781 \"/>\n",
       "<g clip-path=\"url(#clip1)\" clip-rule=\"nonzero\">\n",
       "<path style=\"fill:none;stroke-width:0.75;stroke-linecap:round;stroke-linejoin:round;stroke:rgb(0%,0%,0%);stroke-opacity:1;stroke-miterlimit:10;\" d=\"M 59.039062 59.039062 L 115.523438 59.039062 L 115.523438 89.277344 L 59.039062 89.277344 Z M 59.039062 59.039062 \"/>\n",
       "</g>\n",
       "<path style=\"fill:none;stroke-width:0.75;stroke-linecap:round;stroke-linejoin:round;stroke:rgb(0%,0%,0%);stroke-opacity:1;stroke-miterlimit:10;\" d=\"M 66.601562 69.121094 L 81.71875 69.121094 \"/>\n",
       "<path style=\"fill:none;stroke-width:0.75;stroke-linecap:round;stroke-linejoin:round;stroke:rgb(100%,0%,0%);stroke-opacity:1;stroke-miterlimit:10;\" d=\"M 66.601562 79.199219 L 81.71875 79.199219 \"/>\n",
       "<g style=\"fill:rgb(0%,0%,0%);fill-opacity:1;\">\n",
       "  <use xlink:href=\"#glyph2-1\" x=\"89.28125\" y=\"72.263672\"/>\n",
       "  <use xlink:href=\"#glyph2-2\" x=\"93.955078\" y=\"72.263672\"/>\n",
       "  <use xlink:href=\"#glyph2-3\" x=\"98.628906\" y=\"72.263672\"/>\n",
       "  <use xlink:href=\"#glyph2-4\" x=\"101.427734\" y=\"72.263672\"/>\n",
       "  <use xlink:href=\"#glyph2-5\" x=\"106.101562\" y=\"72.263672\"/>\n",
       "</g>\n",
       "<g style=\"fill:rgb(0%,0%,0%);fill-opacity:1;\">\n",
       "  <use xlink:href=\"#glyph2-4\" x=\"89.28125\" y=\"82.341797\"/>\n",
       "  <use xlink:href=\"#glyph2-6\" x=\"93.955078\" y=\"82.341797\"/>\n",
       "  <use xlink:href=\"#glyph2-4\" x=\"96.291992\" y=\"82.341797\"/>\n",
       "  <use xlink:href=\"#glyph2-5\" x=\"100.96582\" y=\"82.341797\"/>\n",
       "</g>\n",
       "</g>\n",
       "</svg>\n"
      ],
      "text/plain": [
       "plot without title"
      ]
     },
     "metadata": {
      "image/svg+xml": {
       "isolated": true
      }
     },
     "output_type": "display_data"
    }
   ],
   "source": [
    "plot(rrList, gCountAll[dim(gCountAll)[1], ], col = 'white', xlab = 'Relative risk', ylab = 'Gene number',\n",
    "     ylim = range(as.numeric(gCountAll)))\n",
    "for (ii in 1:dim(gCountAll)[1]){\n",
    "  lines(rrList, gCountAll[ii, ], col = ii)\n",
    "}\n",
    "\n",
    "legend(\"topleft\", legend = alpha0, col = 1:length(alpha0), cex = 0.7, lty = 1)\n"
   ]
  },
  {
   "cell_type": "markdown",
   "metadata": {},
   "source": [
    "### We will summarize how many counts for each RR below.\n",
    " "
   ]
  },
  {
   "cell_type": "code",
   "execution_count": 11,
   "metadata": {
    "collapsed": false
   },
   "outputs": [
    {
     "data": {
      "text/html": [
       "<ol class=list-inline>\n",
       "\t<li>29</li>\n",
       "\t<li>42</li>\n",
       "\t<li>59</li>\n",
       "\t<li>45</li>\n",
       "\t<li>62</li>\n",
       "\t<li>121</li>\n",
       "\t<li>145</li>\n",
       "</ol>\n"
      ],
      "text/latex": [
       "\\begin{enumerate*}\n",
       "\\item 29\n",
       "\\item 42\n",
       "\\item 59\n",
       "\\item 45\n",
       "\\item 62\n",
       "\\item 121\n",
       "\\item 145\n",
       "\\end{enumerate*}\n"
      ],
      "text/markdown": [
       "1. 29\n",
       "2. 42\n",
       "3. 59\n",
       "4. 45\n",
       "5. 62\n",
       "6. 121\n",
       "7. 145\n",
       "\n",
       "\n"
      ],
      "text/plain": [
       "[1]  29  42  59  45  62 121 145"
      ]
     },
     "execution_count": 11,
     "metadata": {},
     "output_type": "execute_result"
    },
    {
     "data": {
      "text/html": [
       "<ol class=list-inline>\n",
       "\t<li>1</li>\n",
       "\t<li>2</li>\n",
       "\t<li>5</li>\n",
       "\t<li>10</li>\n",
       "\t<li>20</li>\n",
       "\t<li>25</li>\n",
       "\t<li>50</li>\n",
       "</ol>\n"
      ],
      "text/latex": [
       "\\begin{enumerate*}\n",
       "\\item 1\n",
       "\\item 2\n",
       "\\item 5\n",
       "\\item 10\n",
       "\\item 20\n",
       "\\item 25\n",
       "\\item 50\n",
       "\\end{enumerate*}\n"
      ],
      "text/markdown": [
       "1. 1\n",
       "2. 2\n",
       "3. 5\n",
       "4. 10\n",
       "5. 20\n",
       "6. 25\n",
       "7. 50\n",
       "\n",
       "\n"
      ],
      "text/plain": [
       "[1]  1  2  5 10 20 25 50"
      ]
     },
     "execution_count": 11,
     "metadata": {},
     "output_type": "execute_result"
    }
   ],
   "source": [
    "countSum <- lapply(geneCountList, function(x) apply(x, 2, sum))\n",
    "countSum[[1]]\n",
    "rrList"
   ]
  },
  {
   "cell_type": "code",
   "execution_count": 12,
   "metadata": {
    "collapsed": false
   },
   "outputs": [
    {
     "data": {
      "text/html": [
       "<table>\n",
       "<tbody>\n",
       "\t<tr><td> 25</td><td> 23</td><td> 27</td><td> 41</td><td> 62</td><td> 73</td><td>131</td></tr>\n",
       "\t<tr><td> 55</td><td> 60</td><td> 66</td><td> 77</td><td>102</td><td>121</td><td>184</td></tr>\n",
       "</tbody>\n",
       "</table>\n"
      ],
      "text/latex": [
       "\\begin{tabular}{lllllll}\n",
       "\t  25 &  23 &  27 &  41 &  62 &  73 & 131\\\\\n",
       "\t  55 &  60 &  66 &  77 & 102 & 121 & 184\\\\\n",
       "\\end{tabular}\n"
      ],
      "text/markdown": [
       "1. 25\n",
       "2. 55\n",
       "3. 23\n",
       "4. 60\n",
       "5. 27\n",
       "6. 66\n",
       "7. 41\n",
       "8. 77\n",
       "9. 62\n",
       "10. 102\n",
       "11. 73\n",
       "12. 121\n",
       "13. 131\n",
       "14. 184\n",
       "\n",
       "\n"
      ],
      "text/plain": [
       "     [,1] [,2] [,3] [,4] [,5] [,6] [,7]\n",
       "[1,]   25   23   27   41   62   73  131\n",
       "[2,]   55   60   66   77  102  121  184"
      ]
     },
     "execution_count": 12,
     "metadata": {},
     "output_type": "execute_result"
    },
    {
     "data": {
      "text/html": [
       "<table>\n",
       "<tbody>\n",
       "\t<tr><td> 29</td><td> 42</td><td> 59</td><td> 45</td><td> 62</td><td>121</td><td>145</td></tr>\n",
       "\t<tr><td> 28</td><td> 35</td><td> 48</td><td> 71</td><td> 84</td><td> 94</td><td>145</td></tr>\n",
       "\t<tr><td> 36</td><td> 34</td><td> 49</td><td> 52</td><td> 90</td><td>108</td><td>175</td></tr>\n",
       "\t<tr><td> 35</td><td> 39</td><td> 58</td><td> 52</td><td> 88</td><td> 91</td><td>144</td></tr>\n",
       "\t<tr><td> 46</td><td> 41</td><td> 46</td><td> 61</td><td> 81</td><td> 90</td><td>154</td></tr>\n",
       "\t<tr><td> 28</td><td> 43</td><td> 47</td><td> 64</td><td> 75</td><td> 90</td><td>165</td></tr>\n",
       "</tbody>\n",
       "</table>\n"
      ],
      "text/latex": [
       "\\begin{tabular}{lllllll}\n",
       "\t  29 &  42 &  59 &  45 &  62 & 121 & 145\\\\\n",
       "\t  28 &  35 &  48 &  71 &  84 &  94 & 145\\\\\n",
       "\t  36 &  34 &  49 &  52 &  90 & 108 & 175\\\\\n",
       "\t  35 &  39 &  58 &  52 &  88 &  91 & 144\\\\\n",
       "\t  46 &  41 &  46 &  61 &  81 &  90 & 154\\\\\n",
       "\t  28 &  43 &  47 &  64 &  75 &  90 & 165\\\\\n",
       "\\end{tabular}\n"
      ],
      "text/markdown": [
       "1. 29\n",
       "2. 28\n",
       "3. 36\n",
       "4. 35\n",
       "5. 46\n",
       "6. 28\n",
       "7. 42\n",
       "8. 35\n",
       "9. 34\n",
       "10. 39\n",
       "11. 41\n",
       "12. 43\n",
       "13. 59\n",
       "14. 48\n",
       "15. 49\n",
       "16. 58\n",
       "17. 46\n",
       "18. 47\n",
       "19. 45\n",
       "20. 71\n",
       "21. 52\n",
       "22. 52\n",
       "23. 61\n",
       "24. 64\n",
       "25. 62\n",
       "26. 84\n",
       "27. 90\n",
       "28. 88\n",
       "29. 81\n",
       "30. 75\n",
       "31. 121\n",
       "32. 94\n",
       "33. 108\n",
       "34. 91\n",
       "35. 90\n",
       "36. 90\n",
       "37. 145\n",
       "38. 145\n",
       "39. 175\n",
       "40. 144\n",
       "41. 154\n",
       "42. 165\n",
       "\n",
       "\n"
      ],
      "text/plain": [
       "     [,1] [,2] [,3] [,4] [,5] [,6] [,7]\n",
       "[1,]   29   42   59   45   62  121  145\n",
       "[2,]   28   35   48   71   84   94  145\n",
       "[3,]   36   34   49   52   90  108  175\n",
       "[4,]   35   39   58   52   88   91  144\n",
       "[5,]   46   41   46   61   81   90  154\n",
       "[6,]   28   43   47   64   75   90  165"
      ]
     },
     "execution_count": 12,
     "metadata": {},
     "output_type": "execute_result"
    }
   ],
   "source": [
    "t.countSum <- do.call(rbind, countSum) ##See all simulated counts\n",
    "apply(t.countSum, 2, range) ##See a range of all these values\n",
    "\n",
    "head(t.countSum)"
   ]
  },
  {
   "cell_type": "markdown",
   "metadata": {},
   "source": [
    "### Take a look at the predicted counts of de novos"
   ]
  },
  {
   "cell_type": "code",
   "execution_count": 13,
   "metadata": {
    "collapsed": false
   },
   "outputs": [
    {
     "data": {
      "image/png": "[encoded data removed]",
      "image/svg+xml": [
       "<?xml version=\"1.0\" encoding=\"UTF-8\"?>\n",
       "<svg xmlns=\"http://www.w3.org/2000/svg\" xmlns:xlink=\"http://www.w3.org/1999/xlink\" width=\"504pt\" height=\"504pt\" viewBox=\"0 0 504 504\" version=\"1.1\">\n",
       "<defs>\n",
       "<g>\n",
       "<symbol overflow=\"visible\" id=\"glyph0-0\">\n",
       "<path style=\"stroke:none;\" d=\"\"/>\n",
       "</symbol>\n",
       "<symbol overflow=\"visible\" id=\"glyph0-1\">\n",
       "<path style=\"stroke:none;\" d=\"M 6.21875 -4.21875 C 6.21875 -7.171875 5.140625 -8.765625 3.296875 -8.765625 C 1.46875 -8.765625 0.375 -7.15625 0.375 -4.296875 C 0.375 -1.421875 1.46875 0.1875 3.296875 0.1875 C 5.09375 0.1875 6.21875 -1.421875 6.21875 -4.21875 Z M 4.859375 -4.3125 C 4.859375 -1.90625 4.453125 -0.953125 3.28125 -0.953125 C 2.15625 -0.953125 1.734375 -1.953125 1.734375 -4.28125 C 1.734375 -6.609375 2.15625 -7.578125 3.296875 -7.578125 C 4.4375 -7.578125 4.859375 -6.59375 4.859375 -4.3125 Z M 4.859375 -4.3125 \"/>\n",
       "</symbol>\n",
       "<symbol overflow=\"visible\" id=\"glyph0-2\">\n",
       "<path style=\"stroke:none;\" d=\"M 4.296875 -0.125 L 4.296875 -8.765625 L 3.359375 -8.765625 C 2.953125 -7.328125 2.859375 -7.28125 1.078125 -7.0625 L 1.078125 -6.0625 L 2.96875 -6.0625 L 2.96875 0 L 4.296875 0 Z M 4.296875 -0.125 \"/>\n",
       "</symbol>\n",
       "<symbol overflow=\"visible\" id=\"glyph0-3\">\n",
       "<path style=\"stroke:none;\" d=\"M 6.265625 -6.140625 C 6.265625 -7.578125 5.015625 -8.765625 3.40625 -8.765625 C 1.671875 -8.765625 0.515625 -7.75 0.453125 -5.5625 L 1.78125 -5.5625 C 1.875 -7.109375 2.328125 -7.578125 3.375 -7.578125 C 4.328125 -7.578125 4.90625 -7.03125 4.90625 -6.125 C 4.90625 -5.453125 4.546875 -4.96875 3.796875 -4.53125 L 2.6875 -3.90625 C 0.90625 -2.90625 0.359375 -2 0.25 0 L 6.203125 0 L 6.203125 -1.3125 L 1.75 -1.3125 C 1.84375 -1.875 2.1875 -2.21875 3.234375 -2.828125 L 4.421875 -3.484375 C 5.609375 -4.109375 6.265625 -5.09375 6.265625 -6.140625 Z M 6.265625 -6.140625 \"/>\n",
       "</symbol>\n",
       "<symbol overflow=\"visible\" id=\"glyph0-4\">\n",
       "<path style=\"stroke:none;\" d=\"M 6.203125 -2.609375 C 6.203125 -3.640625 5.65625 -4.375 4.625 -4.71875 L 4.625 -4.453125 C 5.421875 -4.765625 5.953125 -5.453125 5.953125 -6.296875 C 5.953125 -7.765625 4.84375 -8.765625 3.234375 -8.765625 C 1.515625 -8.765625 0.453125 -7.703125 0.421875 -5.765625 L 1.75 -5.765625 C 1.78125 -7.15625 2.15625 -7.578125 3.234375 -7.578125 C 4.171875 -7.578125 4.59375 -7.15625 4.59375 -6.265625 C 4.59375 -5.359375 4.34375 -5.109375 2.515625 -5.109375 L 2.515625 -3.953125 L 3.234375 -3.953125 C 4.390625 -3.953125 4.84375 -3.546875 4.84375 -2.59375 C 4.84375 -1.53125 4.328125 -1.015625 3.234375 -1.015625 C 2.078125 -1.015625 1.640625 -1.46875 1.5625 -2.828125 L 0.234375 -2.828125 C 0.375 -0.796875 1.453125 0.1875 3.1875 0.1875 C 4.9375 0.1875 6.203125 -1 6.203125 -2.609375 Z M 6.203125 -2.609375 \"/>\n",
       "</symbol>\n",
       "<symbol overflow=\"visible\" id=\"glyph0-5\">\n",
       "<path style=\"stroke:none;\" d=\"M 6.375 -2.171875 L 6.375 -3.25 L 5.109375 -3.25 L 5.109375 -8.765625 L 4.125 -8.765625 L 0.1875 -3.328125 L 0.1875 -2.046875 L 3.78125 -2.046875 L 3.78125 0 L 5.109375 0 L 5.109375 -2.046875 L 6.375 -2.046875 Z M 3.921875 -3.25 L 1.515625 -3.25 L 4.015625 -6.75 L 3.78125 -6.84375 L 3.78125 -3.25 Z M 3.921875 -3.25 \"/>\n",
       "</symbol>\n",
       "<symbol overflow=\"visible\" id=\"glyph0-6\">\n",
       "<path style=\"stroke:none;\" d=\"M 6.28125 -2.953125 C 6.28125 -4.625 5.046875 -5.875 3.40625 -5.875 C 2.8125 -5.875 2.21875 -5.671875 2.015625 -5.515625 L 2.28125 -7.28125 L 5.84375 -7.28125 L 5.84375 -8.59375 L 1.203125 -8.59375 L 0.515625 -3.875 L 1.71875 -3.875 C 2.25 -4.5 2.5625 -4.671875 3.21875 -4.671875 C 4.359375 -4.671875 4.9375 -4.0625 4.9375 -2.8125 C 4.9375 -1.578125 4.375 -1.015625 3.21875 -1.015625 C 2.296875 -1.015625 1.859375 -1.359375 1.578125 -2.453125 L 0.25 -2.453125 C 0.625 -0.625 1.734375 0.1875 3.234375 0.1875 C 4.953125 0.1875 6.28125 -1.15625 6.28125 -2.953125 Z M 6.28125 -2.953125 \"/>\n",
       "</symbol>\n",
       "<symbol overflow=\"visible\" id=\"glyph0-7\">\n",
       "<path style=\"stroke:none;\" d=\"M 8.28125 -0.125 L 8.28125 -0.484375 C 7.828125 -0.796875 7.765625 -1.015625 7.75 -2.171875 C 7.734375 -3.609375 7.375 -4.171875 6.4375 -4.578125 L 6.4375 -4.3125 C 7.421875 -4.796875 7.9375 -5.546875 7.9375 -6.546875 C 7.9375 -8.046875 6.859375 -9.015625 5.140625 -9.015625 L 0.96875 -9.015625 L 0.96875 0 L 2.359375 0 L 2.359375 -3.765625 L 5.109375 -3.765625 C 6.09375 -3.765625 6.421875 -3.421875 6.40625 -2.34375 L 6.390625 -1.5625 C 6.390625 -1.015625 6.484375 -0.484375 6.703125 0 L 8.28125 0 Z M 6.5 -6.390625 C 6.5 -5.359375 6.125 -5.015625 4.9375 -5.015625 L 2.359375 -5.015625 L 2.359375 -7.765625 L 4.9375 -7.765625 C 6.1875 -7.765625 6.5 -7.375 6.5 -6.390625 Z M 6.5 -6.390625 \"/>\n",
       "</symbol>\n",
       "<symbol overflow=\"visible\" id=\"glyph0-8\">\n",
       "<path style=\"stroke:none;\" d=\"M 6.28125 -2.984375 C 6.28125 -3.90625 6.21875 -4.46875 6.03125 -4.9375 C 5.625 -5.96875 4.53125 -6.734375 3.359375 -6.734375 C 1.609375 -6.734375 0.34375 -5.296875 0.34375 -3.234375 C 0.34375 -1.171875 1.578125 0.1875 3.34375 0.1875 C 4.78125 0.1875 5.90625 -0.765625 6.1875 -2.171875 L 4.921875 -2.171875 C 4.59375 -1.21875 4.171875 -1.015625 3.375 -1.015625 C 2.328125 -1.015625 1.6875 -1.546875 1.65625 -2.859375 L 6.28125 -2.859375 Z M 5.1875 -3.78125 C 5.1875 -3.78125 4.984375 -3.921875 4.984375 -3.9375 L 1.6875 -3.9375 C 1.765625 -4.921875 2.34375 -5.546875 3.34375 -5.546875 C 4.328125 -5.546875 4.9375 -4.859375 4.9375 -3.875 Z M 5.1875 -3.78125 \"/>\n",
       "</symbol>\n",
       "<symbol overflow=\"visible\" id=\"glyph0-9\">\n",
       "<path style=\"stroke:none;\" d=\"M 1.9375 -0.125 L 1.9375 -9.015625 L 0.671875 -9.015625 L 0.671875 0 L 1.9375 0 Z M 1.9375 -0.125 \"/>\n",
       "</symbol>\n",
       "<symbol overflow=\"visible\" id=\"glyph0-10\">\n",
       "<path style=\"stroke:none;\" d=\"M 6.546875 -0.15625 L 6.546875 -1.078125 C 6.3125 -1.015625 6.265625 -1.015625 6.203125 -1.015625 C 5.859375 -1.015625 5.796875 -1.0625 5.796875 -1.375 L 5.796875 -4.890625 C 5.796875 -6 4.84375 -6.734375 3.296875 -6.734375 C 1.78125 -6.734375 0.703125 -6.015625 0.640625 -4.421875 L 1.90625 -4.421875 C 2 -5.328125 2.328125 -5.546875 3.265625 -5.546875 C 4.15625 -5.546875 4.53125 -5.34375 4.53125 -4.734375 L 4.53125 -4.46875 C 4.53125 -4.0625 4.421875 -4.015625 3.625 -3.90625 C 2.203125 -3.734375 1.984375 -3.6875 1.609375 -3.53125 C 0.875 -3.234375 0.359375 -2.53125 0.359375 -1.765625 C 0.359375 -0.625 1.296875 0.1875 2.5625 0.1875 C 3.375 0.1875 4.25 -0.1875 4.625 -0.59375 C 4.671875 -0.390625 5.25 0.078125 5.734375 0.078125 C 5.9375 0.078125 6.09375 0.0625 6.546875 -0.046875 Z M 4.53125 -2.296875 C 4.53125 -1.40625 3.75 -0.953125 2.78125 -0.953125 C 2 -0.953125 1.6875 -1.109375 1.6875 -1.78125 C 1.6875 -2.453125 1.984375 -2.609375 3.0625 -2.765625 C 4.109375 -2.90625 4.328125 -2.953125 4.53125 -3.03125 Z M 4.53125 -2.296875 \"/>\n",
       "</symbol>\n",
       "<symbol overflow=\"visible\" id=\"glyph0-11\">\n",
       "<path style=\"stroke:none;\" d=\"M 3.1875 -0.125 L 3.1875 -1.15625 C 2.921875 -1.0625 2.765625 -1.0625 2.5625 -1.0625 C 2.140625 -1.0625 2.140625 -1.046875 2.140625 -1.484375 L 2.140625 -5.46875 L 3.1875 -5.46875 L 3.1875 -6.546875 L 2.140625 -6.546875 L 2.140625 -8.28125 L 0.875 -8.28125 L 0.875 -6.546875 L 0.03125 -6.546875 L 0.03125 -5.46875 L 0.875 -5.46875 L 0.875 -1.046875 C 0.875 -0.40625 1.453125 0.078125 2.234375 0.078125 C 2.46875 0.078125 2.71875 0.0625 3.1875 -0.03125 Z M 3.1875 -0.125 \"/>\n",
       "</symbol>\n",
       "<symbol overflow=\"visible\" id=\"glyph0-12\">\n",
       "<path style=\"stroke:none;\" d=\"M 1.96875 -0.125 L 1.96875 -6.546875 L 0.703125 -6.546875 L 0.703125 0 L 1.96875 0 Z M 2.09375 -7.375 L 2.09375 -8.75 L 0.578125 -8.75 L 0.578125 -7.234375 L 2.09375 -7.234375 Z M 2.09375 -7.375 \"/>\n",
       "</symbol>\n",
       "<symbol overflow=\"visible\" id=\"glyph0-13\">\n",
       "<path style=\"stroke:none;\" d=\"M 5.828125 -6.546875 L 4.609375 -6.546875 L 2.78125 -1.3125 L 3.0625 -1.3125 L 1.328125 -6.546875 L -0.078125 -6.546875 L 2.234375 0 L 3.5 0 L 6.015625 -6.546875 Z M 5.828125 -6.546875 \"/>\n",
       "</symbol>\n",
       "<symbol overflow=\"visible\" id=\"glyph0-14\">\n",
       "<path style=\"stroke:none;\" d=\"\"/>\n",
       "</symbol>\n",
       "<symbol overflow=\"visible\" id=\"glyph0-15\">\n",
       "<path style=\"stroke:none;\" d=\"M 3.984375 -5.546875 L 3.984375 -6.6875 C 3.6875 -6.71875 3.59375 -6.734375 3.46875 -6.734375 C 2.8125 -6.734375 2.21875 -6.3125 1.640625 -5.375 L 1.890625 -5.28125 L 1.890625 -6.546875 L 0.703125 -6.546875 L 0.703125 0 L 1.96875 0 L 1.96875 -3.390625 C 1.96875 -4.8125 2.296875 -5.390625 3.984375 -5.40625 Z M 3.984375 -5.546875 \"/>\n",
       "</symbol>\n",
       "<symbol overflow=\"visible\" id=\"glyph0-16\">\n",
       "<path style=\"stroke:none;\" d=\"M 5.640625 -1.890625 C 5.640625 -2.828125 4.984375 -3.4375 3.734375 -3.734375 L 2.765625 -3.953125 C 1.953125 -4.15625 1.734375 -4.28125 1.734375 -4.734375 C 1.734375 -5.296875 2.125 -5.546875 2.9375 -5.546875 C 3.75 -5.546875 4.03125 -5.328125 4.0625 -4.53125 L 5.390625 -4.53125 C 5.375 -5.90625 4.421875 -6.734375 2.96875 -6.734375 C 1.515625 -6.734375 0.421875 -5.84375 0.421875 -4.6875 C 0.421875 -3.703125 1.0625 -3.09375 2.5625 -2.734375 L 3.484375 -2.515625 C 4.1875 -2.34375 4.3125 -2.265625 4.3125 -1.8125 C 4.3125 -1.21875 3.875 -1.015625 3 -1.015625 C 2.09375 -1.015625 1.734375 -1.09375 1.578125 -2.1875 L 0.265625 -2.1875 C 0.3125 -0.59375 1.265625 0.1875 2.921875 0.1875 C 4.5 0.1875 5.640625 -0.6875 5.640625 -1.890625 Z M 5.640625 -1.890625 \"/>\n",
       "</symbol>\n",
       "<symbol overflow=\"visible\" id=\"glyph0-17\">\n",
       "<path style=\"stroke:none;\" d=\"M 6.125 -0.234375 L 3.625 -4.21875 L 5.734375 -6.328125 L 5.640625 -6.546875 L 4.296875 -6.546875 L 1.578125 -3.859375 L 1.828125 -3.75 L 1.828125 -9.015625 L 0.546875 -9.015625 L 0.546875 0 L 1.828125 0 L 1.828125 -2.515625 L 2.640625 -3.328125 L 4.71875 0 L 6.265625 0 Z M 6.125 -0.234375 \"/>\n",
       "</symbol>\n",
       "<symbol overflow=\"visible\" id=\"glyph1-0\">\n",
       "<path style=\"stroke:none;\" d=\"\"/>\n",
       "</symbol>\n",
       "<symbol overflow=\"visible\" id=\"glyph1-1\">\n",
       "<path style=\"stroke:none;\" d=\"M -2.171875 -6.375 L -3.25 -6.375 L -3.25 -5.109375 L -8.765625 -5.109375 L -8.765625 -4.125 L -3.328125 -0.1875 L -2.046875 -0.1875 L -2.046875 -3.78125 L 0 -3.78125 L 0 -5.109375 L -2.046875 -5.109375 L -2.046875 -6.375 Z M -3.25 -3.921875 L -3.25 -1.515625 L -6.75 -4.015625 L -6.84375 -3.78125 L -3.25 -3.78125 Z M -3.25 -3.921875 \"/>\n",
       "</symbol>\n",
       "<symbol overflow=\"visible\" id=\"glyph1-2\">\n",
       "<path style=\"stroke:none;\" d=\"M -4.21875 -6.21875 C -7.171875 -6.21875 -8.765625 -5.140625 -8.765625 -3.296875 C -8.765625 -1.46875 -7.15625 -0.375 -4.296875 -0.375 C -1.421875 -0.375 0.1875 -1.46875 0.1875 -3.296875 C 0.1875 -5.09375 -1.421875 -6.21875 -4.21875 -6.21875 Z M -4.3125 -4.859375 C -1.90625 -4.859375 -0.953125 -4.453125 -0.953125 -3.28125 C -0.953125 -2.15625 -1.953125 -1.734375 -4.28125 -1.734375 C -6.609375 -1.734375 -7.578125 -2.15625 -7.578125 -3.296875 C -7.578125 -4.4375 -6.59375 -4.859375 -4.3125 -4.859375 Z M -4.3125 -4.859375 \"/>\n",
       "</symbol>\n",
       "<symbol overflow=\"visible\" id=\"glyph1-3\">\n",
       "<path style=\"stroke:none;\" d=\"M -2.765625 -6.28125 C -4.359375 -6.28125 -5.5625 -5.078125 -5.5625 -3.546875 C -5.5625 -2.71875 -5.203125 -1.9375 -4.578125 -1.484375 L -4.46875 -1.734375 C -6.546875 -1.734375 -7.578125 -2.28125 -7.578125 -3.484375 C -7.578125 -4.234375 -7.234375 -4.609375 -6.28125 -4.796875 L -6.28125 -6.125 C -7.8125 -5.90625 -8.765625 -4.859375 -8.765625 -3.5625 C -8.765625 -1.578125 -6.96875 -0.375 -4.015625 -0.375 C -1.359375 -0.375 0.1875 -1.421875 0.1875 -3.375 C 0.1875 -4.984375 -1.109375 -6.28125 -2.765625 -6.28125 Z M -2.6875 -4.9375 C -1.625 -4.9375 -1.015625 -4.359375 -1.015625 -3.390625 C -1.015625 -2.40625 -1.65625 -1.78125 -2.75 -1.78125 C -3.796875 -1.78125 -4.359375 -2.375 -4.359375 -3.421875 C -4.359375 -4.4375 -3.828125 -4.9375 -2.6875 -4.9375 Z M -2.6875 -4.9375 \"/>\n",
       "</symbol>\n",
       "<symbol overflow=\"visible\" id=\"glyph1-4\">\n",
       "<path style=\"stroke:none;\" d=\"M -2.53125 -6.28125 C -3.484375 -6.28125 -4.265625 -5.671875 -4.625 -4.953125 C -5.046875 -5.65625 -5.5625 -5.984375 -6.375 -5.984375 C -7.703125 -5.984375 -8.765625 -4.8125 -8.765625 -3.296875 C -8.765625 -1.796875 -7.703125 -0.59375 -6.375 -0.59375 C -5.578125 -0.59375 -5.046875 -0.921875 -4.625 -1.625 C -4.265625 -0.921875 -3.484375 -0.296875 -2.546875 -0.296875 C -0.984375 -0.296875 0.1875 -1.625 0.1875 -3.296875 C 0.1875 -4.984375 -0.984375 -6.28125 -2.53125 -6.28125 Z M -6.34375 -4.625 C -5.5625 -4.625 -5.15625 -4.1875 -5.15625 -3.296875 C -5.15625 -2.40625 -5.5625 -1.953125 -6.359375 -1.953125 C -7.171875 -1.953125 -7.578125 -2.40625 -7.578125 -3.296875 C -7.578125 -4.203125 -7.171875 -4.625 -6.34375 -4.625 Z M -2.515625 -4.9375 C -1.515625 -4.9375 -1.015625 -4.359375 -1.015625 -3.28125 C -1.015625 -2.25 -1.53125 -1.65625 -2.515625 -1.65625 C -3.515625 -1.65625 -4.015625 -2.25 -4.015625 -3.296875 C -4.015625 -4.359375 -3.515625 -4.9375 -2.515625 -4.9375 Z M -2.515625 -4.9375 \"/>\n",
       "</symbol>\n",
       "<symbol overflow=\"visible\" id=\"glyph1-5\">\n",
       "<path style=\"stroke:none;\" d=\"M -0.125 -4.296875 L -8.765625 -4.296875 L -8.765625 -3.359375 C -7.328125 -2.953125 -7.28125 -2.859375 -7.0625 -1.078125 L -6.0625 -1.078125 L -6.0625 -2.96875 L 0 -2.96875 L 0 -4.296875 Z M -0.125 -4.296875 \"/>\n",
       "</symbol>\n",
       "<symbol overflow=\"visible\" id=\"glyph1-6\">\n",
       "<path style=\"stroke:none;\" d=\"M -6.140625 -6.265625 C -7.578125 -6.265625 -8.765625 -5.015625 -8.765625 -3.40625 C -8.765625 -1.671875 -7.75 -0.515625 -5.5625 -0.453125 L -5.5625 -1.78125 C -7.109375 -1.875 -7.578125 -2.328125 -7.578125 -3.375 C -7.578125 -4.328125 -7.03125 -4.90625 -6.125 -4.90625 C -5.453125 -4.90625 -4.96875 -4.546875 -4.53125 -3.796875 L -3.90625 -2.6875 C -2.90625 -0.90625 -2 -0.359375 0 -0.25 L 0 -6.203125 L -1.3125 -6.203125 L -1.3125 -1.75 C -1.875 -1.84375 -2.21875 -2.1875 -2.828125 -3.234375 L -3.484375 -4.421875 C -4.109375 -5.609375 -5.09375 -6.265625 -6.140625 -6.265625 Z M -6.140625 -6.265625 \"/>\n",
       "</symbol>\n",
       "<symbol overflow=\"visible\" id=\"glyph1-7\">\n",
       "<path style=\"stroke:none;\" d=\"M -2.53125 -7.578125 C -3.609375 -7.578125 -4.53125 -6.78125 -4.859375 -5.59375 L -5.453125 -3.390625 C -5.71875 -2.34375 -5.9375 -2.09375 -6.609375 -2.09375 C -7.5 -2.09375 -8.03125 -2.734375 -8.03125 -3.90625 C -8.03125 -5.296875 -7.53125 -5.953125 -6.25 -5.953125 L -6.25 -7.28125 C -8.09375 -7.28125 -9.234375 -5.96875 -9.234375 -3.953125 C -9.234375 -2.03125 -8.046875 -0.703125 -6.453125 -0.703125 C -5.390625 -0.703125 -4.578125 -1.40625 -4.28125 -2.5625 L -3.703125 -4.734375 C -3.421875 -5.828125 -3.109375 -6.1875 -2.421875 -6.1875 C -1.46875 -6.1875 -1.03125 -5.609375 -1.03125 -4.109375 C -1.03125 -2.453125 -1.734375 -1.765625 -3.109375 -1.765625 L -3.109375 -0.4375 C -0.90625 -0.4375 0.21875 -1.96875 0.21875 -4.03125 C 0.21875 -6.25 -0.96875 -7.578125 -2.53125 -7.578125 Z M -2.53125 -7.578125 \"/>\n",
       "</symbol>\n",
       "<symbol overflow=\"visible\" id=\"glyph1-8\">\n",
       "<path style=\"stroke:none;\" d=\"M -0.125 -1.96875 L -6.546875 -1.96875 L -6.546875 -0.703125 L 0 -0.703125 L 0 -1.96875 Z M -7.375 -2.09375 L -8.75 -2.09375 L -8.75 -0.578125 L -7.234375 -0.578125 L -7.234375 -2.09375 Z M -7.375 -2.09375 \"/>\n",
       "</symbol>\n",
       "<symbol overflow=\"visible\" id=\"glyph1-9\">\n",
       "<path style=\"stroke:none;\" d=\"M -0.125 -9.25 L -4.84375 -9.25 C -5.96875 -9.25 -6.734375 -8.5 -6.734375 -7.3125 C -6.734375 -6.484375 -6.4375 -5.875 -5.875 -5.40625 C -6.40625 -5.109375 -6.734375 -4.515625 -6.734375 -3.703125 C -6.734375 -2.859375 -6.390625 -2.203125 -5.625 -1.65625 L -5.53125 -1.890625 L -6.546875 -1.890625 L -6.546875 -0.703125 L 0 -0.703125 L 0 -1.984375 L -4.078125 -1.984375 C -4.984375 -1.984375 -5.59375 -2.515625 -5.59375 -3.328125 C -5.59375 -4.0625 -5.265625 -4.34375 -4.46875 -4.34375 L 0 -4.34375 L 0 -5.609375 L -4.078125 -5.609375 C -4.984375 -5.609375 -5.59375 -6.15625 -5.59375 -6.96875 C -5.59375 -7.703125 -5.25 -7.984375 -4.46875 -7.984375 L 0 -7.984375 L 0 -9.25 Z M -0.125 -9.25 \"/>\n",
       "</symbol>\n",
       "<symbol overflow=\"visible\" id=\"glyph1-10\">\n",
       "<path style=\"stroke:none;\" d=\"M -0.125 -5.921875 L -6.546875 -5.921875 L -6.546875 -4.640625 L -2.953125 -4.640625 C -1.671875 -4.640625 -0.953125 -4.109375 -0.953125 -3.078125 C -0.953125 -2.28125 -1.3125 -1.90625 -2.0625 -1.90625 L -6.546875 -1.90625 L -6.546875 -0.640625 L -1.671875 -0.640625 C -0.625 -0.640625 0.1875 -1.5625 0.1875 -2.78125 C 0.1875 -3.703125 -0.1875 -4.390625 -1.015625 -4.984375 L -1.109375 -4.734375 L 0 -4.734375 L 0 -5.921875 Z M -0.125 -5.921875 \"/>\n",
       "</symbol>\n",
       "<symbol overflow=\"visible\" id=\"glyph1-11\">\n",
       "<path style=\"stroke:none;\" d=\"M -0.125 -1.9375 L -9.015625 -1.9375 L -9.015625 -0.671875 L 0 -0.671875 L 0 -1.9375 Z M -0.125 -1.9375 \"/>\n",
       "</symbol>\n",
       "<symbol overflow=\"visible\" id=\"glyph1-12\">\n",
       "<path style=\"stroke:none;\" d=\"M -0.15625 -6.546875 L -1.078125 -6.546875 C -1.015625 -6.3125 -1.015625 -6.265625 -1.015625 -6.203125 C -1.015625 -5.859375 -1.0625 -5.796875 -1.375 -5.796875 L -4.890625 -5.796875 C -6 -5.796875 -6.734375 -4.84375 -6.734375 -3.296875 C -6.734375 -1.78125 -6.015625 -0.703125 -4.421875 -0.640625 L -4.421875 -1.90625 C -5.328125 -2 -5.546875 -2.328125 -5.546875 -3.265625 C -5.546875 -4.15625 -5.34375 -4.53125 -4.734375 -4.53125 L -4.46875 -4.53125 C -4.0625 -4.53125 -4.015625 -4.421875 -3.90625 -3.625 C -3.734375 -2.203125 -3.6875 -1.984375 -3.53125 -1.609375 C -3.234375 -0.875 -2.53125 -0.359375 -1.765625 -0.359375 C -0.625 -0.359375 0.1875 -1.296875 0.1875 -2.5625 C 0.1875 -3.375 -0.1875 -4.25 -0.59375 -4.625 C -0.390625 -4.671875 0.078125 -5.25 0.078125 -5.734375 C 0.078125 -5.9375 0.0625 -6.09375 -0.046875 -6.546875 Z M -2.296875 -4.53125 C -1.40625 -4.53125 -0.953125 -3.75 -0.953125 -2.78125 C -0.953125 -2 -1.109375 -1.6875 -1.78125 -1.6875 C -2.453125 -1.6875 -2.609375 -1.984375 -2.765625 -3.0625 C -2.90625 -4.109375 -2.953125 -4.328125 -3.03125 -4.53125 Z M -2.296875 -4.53125 \"/>\n",
       "</symbol>\n",
       "<symbol overflow=\"visible\" id=\"glyph1-13\">\n",
       "<path style=\"stroke:none;\" d=\"M -0.125 -3.1875 L -1.15625 -3.1875 C -1.0625 -2.921875 -1.0625 -2.765625 -1.0625 -2.5625 C -1.0625 -2.140625 -1.046875 -2.140625 -1.484375 -2.140625 L -5.46875 -2.140625 L -5.46875 -3.1875 L -6.546875 -3.1875 L -6.546875 -2.140625 L -8.28125 -2.140625 L -8.28125 -0.875 L -6.546875 -0.875 L -6.546875 -0.03125 L -5.46875 -0.03125 L -5.46875 -0.875 L -1.046875 -0.875 C -0.40625 -0.875 0.078125 -1.453125 0.078125 -2.234375 C 0.078125 -2.46875 0.0625 -2.71875 -0.03125 -3.1875 Z M -0.125 -3.1875 \"/>\n",
       "</symbol>\n",
       "<symbol overflow=\"visible\" id=\"glyph1-14\">\n",
       "<path style=\"stroke:none;\" d=\"M -2.984375 -6.28125 C -3.90625 -6.28125 -4.46875 -6.21875 -4.9375 -6.03125 C -5.96875 -5.625 -6.734375 -4.53125 -6.734375 -3.359375 C -6.734375 -1.609375 -5.296875 -0.34375 -3.234375 -0.34375 C -1.171875 -0.34375 0.1875 -1.578125 0.1875 -3.34375 C 0.1875 -4.78125 -0.765625 -5.90625 -2.171875 -6.1875 L -2.171875 -4.921875 C -1.21875 -4.59375 -1.015625 -4.171875 -1.015625 -3.375 C -1.015625 -2.328125 -1.546875 -1.6875 -2.859375 -1.65625 L -2.859375 -6.28125 Z M -3.78125 -5.1875 C -3.78125 -5.1875 -3.921875 -4.984375 -3.9375 -4.984375 L -3.9375 -1.6875 C -4.921875 -1.765625 -5.546875 -2.34375 -5.546875 -3.34375 C -5.546875 -4.328125 -4.859375 -4.9375 -3.875 -4.9375 Z M -3.78125 -5.1875 \"/>\n",
       "</symbol>\n",
       "<symbol overflow=\"visible\" id=\"glyph1-15\">\n",
       "<path style=\"stroke:none;\" d=\"M -0.125 -6.078125 L -9.015625 -6.078125 L -9.015625 -4.796875 L -5.625 -4.796875 L -5.71875 -5.046875 C -6.359375 -4.625 -6.734375 -3.859375 -6.734375 -3.015625 C -6.734375 -1.375 -5.34375 -0.171875 -3.34375 -0.171875 C -1.21875 -0.171875 0.1875 -1.359375 0.1875 -3.046875 C 0.1875 -3.90625 -0.1875 -4.609375 -0.953125 -5.140625 L -1.0625 -4.90625 L 0 -4.90625 L 0 -6.078125 Z M -3.25 -4.796875 C -1.796875 -4.796875 -1.015625 -4.25 -1.015625 -3.1875 C -1.015625 -2.09375 -1.8125 -1.484375 -3.28125 -1.484375 C -4.734375 -1.484375 -5.53125 -2.09375 -5.53125 -3.1875 C -5.53125 -4.265625 -4.703125 -4.796875 -3.25 -4.796875 Z M -3.25 -4.796875 \"/>\n",
       "</symbol>\n",
       "<symbol overflow=\"visible\" id=\"glyph1-16\">\n",
       "<path style=\"stroke:none;\" d=\"\"/>\n",
       "</symbol>\n",
       "<symbol overflow=\"visible\" id=\"glyph1-17\">\n",
       "<path style=\"stroke:none;\" d=\"M -2.421875 -5.71875 L -2.421875 -4.59375 C -1.28125 -4.40625 -1.015625 -4.03125 -1.015625 -3.1875 C -1.015625 -2.078125 -1.734375 -1.546875 -3.21875 -1.546875 C -4.78125 -1.546875 -5.546875 -2.0625 -5.546875 -3.15625 C -5.546875 -4 -5.1875 -4.375 -4.171875 -4.53125 L -4.171875 -5.796875 C -5.84375 -5.65625 -6.734375 -4.578125 -6.734375 -3.171875 C -6.734375 -1.46875 -5.296875 -0.234375 -3.21875 -0.234375 C -1.1875 -0.234375 0.1875 -1.453125 0.1875 -3.15625 C 0.1875 -4.65625 -0.859375 -5.734375 -2.421875 -5.875 Z M -2.421875 -5.71875 \"/>\n",
       "</symbol>\n",
       "<symbol overflow=\"visible\" id=\"glyph1-18\">\n",
       "<path style=\"stroke:none;\" d=\"M -3.234375 -6.25 C -5.40625 -6.25 -6.734375 -5.078125 -6.734375 -3.265625 C -6.734375 -1.5 -5.390625 -0.28125 -3.28125 -0.28125 C -1.15625 -0.28125 0.1875 -1.484375 0.1875 -3.28125 C 0.1875 -5.046875 -1.15625 -6.25 -3.234375 -6.25 Z M -3.234375 -4.9375 C -1.765625 -4.9375 -1.015625 -4.375 -1.015625 -3.28125 C -1.015625 -2.15625 -1.75 -1.609375 -3.28125 -1.609375 C -4.78125 -1.609375 -5.546875 -2.15625 -5.546875 -3.28125 C -5.546875 -4.40625 -4.796875 -4.9375 -3.234375 -4.9375 Z M -3.234375 -4.9375 \"/>\n",
       "</symbol>\n",
       "<symbol overflow=\"visible\" id=\"glyph1-19\">\n",
       "<path style=\"stroke:none;\" d=\"M -0.125 -5.96875 L -4.890625 -5.96875 C -5.921875 -5.96875 -6.734375 -5.0625 -6.734375 -3.859375 C -6.734375 -2.921875 -6.34375 -2.203125 -5.453125 -1.65625 L -5.359375 -1.890625 L -6.546875 -1.890625 L -6.546875 -0.703125 L 0 -0.703125 L 0 -1.96875 L -3.59375 -1.96875 C -4.890625 -1.96875 -5.59375 -2.53125 -5.59375 -3.546875 C -5.59375 -4.34375 -5.25 -4.703125 -4.484375 -4.703125 L 0 -4.703125 L 0 -5.96875 Z M -0.125 -5.96875 \"/>\n",
       "</symbol>\n",
       "</g>\n",
       "<clipPath id=\"clip1\">\n",
       "  <path d=\"M 222 59.039062 L 224 59.039062 L 224 431 L 222 431 Z M 222 59.039062 \"/>\n",
       "</clipPath>\n",
       "<clipPath id=\"clip2\">\n",
       "  <path d=\"M 59.039062 287 L 474.757812 287 L 474.757812 289 L 59.039062 289 Z M 59.039062 287 \"/>\n",
       "</clipPath>\n",
       "</defs>\n",
       "<g id=\"surface86\">\n",
       "<rect x=\"0\" y=\"0\" width=\"504\" height=\"504\" style=\"fill:rgb(100%,100%,100%);fill-opacity:1;stroke:none;\"/>\n",
       "<path style=\"fill:none;stroke-width:0.75;stroke-linecap:round;stroke-linejoin:round;stroke:rgb(0%,0%,0%);stroke-opacity:1;stroke-miterlimit:10;\" d=\"M 77.101562 416.800781 C 77.101562 420.398438 71.699219 420.398438 71.699219 416.800781 C 71.699219 413.199219 77.101562 413.199219 77.101562 416.800781 \"/>\n",
       "<path style=\"fill:none;stroke-width:0.75;stroke-linecap:round;stroke-linejoin:round;stroke:rgb(0%,0%,0%);stroke-opacity:1;stroke-miterlimit:10;\" d=\"M 84.9375 408.234375 C 84.9375 411.835938 79.535156 411.835938 79.535156 408.234375 C 79.535156 404.636719 84.9375 404.636719 84.9375 408.234375 \"/>\n",
       "<path style=\"fill:none;stroke-width:0.75;stroke-linecap:round;stroke-linejoin:round;stroke:rgb(0%,0%,0%);stroke-opacity:1;stroke-miterlimit:10;\" d=\"M 108.445312 385.398438 C 108.445312 388.996094 103.046875 388.996094 103.046875 385.398438 C 103.046875 381.796875 108.445312 381.796875 108.445312 385.398438 \"/>\n",
       "<path style=\"fill:none;stroke-width:0.75;stroke-linecap:round;stroke-linejoin:round;stroke:rgb(0%,0%,0%);stroke-opacity:1;stroke-miterlimit:10;\" d=\"M 147.628906 349.710938 C 147.628906 353.3125 142.230469 353.3125 142.230469 349.710938 C 142.230469 346.113281 147.628906 346.113281 147.628906 349.710938 \"/>\n",
       "<path style=\"fill:none;stroke-width:0.75;stroke-linecap:round;stroke-linejoin:round;stroke:rgb(0%,0%,0%);stroke-opacity:1;stroke-miterlimit:10;\" d=\"M 225.996094 282.625 C 225.996094 286.226562 220.597656 286.226562 220.597656 282.625 C 220.597656 279.027344 225.996094 279.027344 225.996094 282.625 \"/>\n",
       "<path style=\"fill:none;stroke-width:0.75;stroke-linecap:round;stroke-linejoin:round;stroke:rgb(0%,0%,0%);stroke-opacity:1;stroke-miterlimit:10;\" d=\"M 265.179688 245.515625 C 265.179688 249.113281 259.78125 249.113281 259.78125 245.515625 C 259.78125 241.914062 265.179688 241.914062 265.179688 245.515625 \"/>\n",
       "<path style=\"fill:none;stroke-width:0.75;stroke-linecap:round;stroke-linejoin:round;stroke:rgb(0%,0%,0%);stroke-opacity:1;stroke-miterlimit:10;\" d=\"M 461.101562 72.800781 C 461.101562 76.398438 455.699219 76.398438 455.699219 72.800781 C 455.699219 69.199219 461.101562 69.199219 461.101562 72.800781 \"/>\n",
       "<path style=\"fill:none;stroke-width:0.75;stroke-linecap:round;stroke-linejoin:round;stroke:rgb(0%,0%,0%);stroke-opacity:1;stroke-miterlimit:10;\" d=\"M 66.5625 430.558594 L 458.398438 430.558594 \"/>\n",
       "<path style=\"fill:none;stroke-width:0.75;stroke-linecap:round;stroke-linejoin:round;stroke:rgb(0%,0%,0%);stroke-opacity:1;stroke-miterlimit:10;\" d=\"M 66.5625 430.558594 L 66.5625 437.761719 \"/>\n",
       "<path style=\"fill:none;stroke-width:0.75;stroke-linecap:round;stroke-linejoin:round;stroke:rgb(0%,0%,0%);stroke-opacity:1;stroke-miterlimit:10;\" d=\"M 144.929688 430.558594 L 144.929688 437.761719 \"/>\n",
       "<path style=\"fill:none;stroke-width:0.75;stroke-linecap:round;stroke-linejoin:round;stroke:rgb(0%,0%,0%);stroke-opacity:1;stroke-miterlimit:10;\" d=\"M 223.296875 430.558594 L 223.296875 437.761719 \"/>\n",
       "<path style=\"fill:none;stroke-width:0.75;stroke-linecap:round;stroke-linejoin:round;stroke:rgb(0%,0%,0%);stroke-opacity:1;stroke-miterlimit:10;\" d=\"M 301.664062 430.558594 L 301.664062 437.761719 \"/>\n",
       "<path style=\"fill:none;stroke-width:0.75;stroke-linecap:round;stroke-linejoin:round;stroke:rgb(0%,0%,0%);stroke-opacity:1;stroke-miterlimit:10;\" d=\"M 380.03125 430.558594 L 380.03125 437.761719 \"/>\n",
       "<path style=\"fill:none;stroke-width:0.75;stroke-linecap:round;stroke-linejoin:round;stroke:rgb(0%,0%,0%);stroke-opacity:1;stroke-miterlimit:10;\" d=\"M 458.398438 430.558594 L 458.398438 437.761719 \"/>\n",
       "<g style=\"fill:rgb(0%,0%,0%);fill-opacity:1;\">\n",
       "  <use xlink:href=\"#glyph0-1\" x=\"63.0625\" y=\"456.256836\"/>\n",
       "</g>\n",
       "<g style=\"fill:rgb(0%,0%,0%);fill-opacity:1;\">\n",
       "  <use xlink:href=\"#glyph0-2\" x=\"137.929688\" y=\"456.256836\"/>\n",
       "  <use xlink:href=\"#glyph0-1\" x=\"144.601562\" y=\"456.256836\"/>\n",
       "</g>\n",
       "<g style=\"fill:rgb(0%,0%,0%);fill-opacity:1;\">\n",
       "  <use xlink:href=\"#glyph0-3\" x=\"216.296875\" y=\"456.256836\"/>\n",
       "  <use xlink:href=\"#glyph0-1\" x=\"222.96875\" y=\"456.256836\"/>\n",
       "</g>\n",
       "<g style=\"fill:rgb(0%,0%,0%);fill-opacity:1;\">\n",
       "  <use xlink:href=\"#glyph0-4\" x=\"294.664062\" y=\"456.256836\"/>\n",
       "  <use xlink:href=\"#glyph0-1\" x=\"301.335938\" y=\"456.256836\"/>\n",
       "</g>\n",
       "<g style=\"fill:rgb(0%,0%,0%);fill-opacity:1;\">\n",
       "  <use xlink:href=\"#glyph0-5\" x=\"373.03125\" y=\"456.256836\"/>\n",
       "  <use xlink:href=\"#glyph0-1\" x=\"379.703125\" y=\"456.256836\"/>\n",
       "</g>\n",
       "<g style=\"fill:rgb(0%,0%,0%);fill-opacity:1;\">\n",
       "  <use xlink:href=\"#glyph0-6\" x=\"451.398438\" y=\"456.256836\"/>\n",
       "  <use xlink:href=\"#glyph0-1\" x=\"458.070312\" y=\"456.256836\"/>\n",
       "</g>\n",
       "<path style=\"fill:none;stroke-width:0.75;stroke-linecap:round;stroke-linejoin:round;stroke:rgb(0%,0%,0%);stroke-opacity:1;stroke-miterlimit:10;\" d=\"M 59.039062 405.382812 L 59.039062 62.808594 \"/>\n",
       "<path style=\"fill:none;stroke-width:0.75;stroke-linecap:round;stroke-linejoin:round;stroke:rgb(0%,0%,0%);stroke-opacity:1;stroke-miterlimit:10;\" d=\"M 59.039062 405.382812 L 51.839844 405.382812 \"/>\n",
       "<path style=\"fill:none;stroke-width:0.75;stroke-linecap:round;stroke-linejoin:round;stroke:rgb(0%,0%,0%);stroke-opacity:1;stroke-miterlimit:10;\" d=\"M 59.039062 348.285156 L 51.839844 348.285156 \"/>\n",
       "<path style=\"fill:none;stroke-width:0.75;stroke-linecap:round;stroke-linejoin:round;stroke:rgb(0%,0%,0%);stroke-opacity:1;stroke-miterlimit:10;\" d=\"M 59.039062 291.191406 L 51.839844 291.191406 \"/>\n",
       "<path style=\"fill:none;stroke-width:0.75;stroke-linecap:round;stroke-linejoin:round;stroke:rgb(0%,0%,0%);stroke-opacity:1;stroke-miterlimit:10;\" d=\"M 59.039062 234.09375 L 51.839844 234.09375 \"/>\n",
       "<path style=\"fill:none;stroke-width:0.75;stroke-linecap:round;stroke-linejoin:round;stroke:rgb(0%,0%,0%);stroke-opacity:1;stroke-miterlimit:10;\" d=\"M 59.039062 177 L 51.839844 177 \"/>\n",
       "<path style=\"fill:none;stroke-width:0.75;stroke-linecap:round;stroke-linejoin:round;stroke:rgb(0%,0%,0%);stroke-opacity:1;stroke-miterlimit:10;\" d=\"M 59.039062 119.902344 L 51.839844 119.902344 \"/>\n",
       "<path style=\"fill:none;stroke-width:0.75;stroke-linecap:round;stroke-linejoin:round;stroke:rgb(0%,0%,0%);stroke-opacity:1;stroke-miterlimit:10;\" d=\"M 59.039062 62.808594 L 51.839844 62.808594 \"/>\n",
       "<g style=\"fill:rgb(0%,0%,0%);fill-opacity:1;\">\n",
       "  <use xlink:href=\"#glyph1-1\" x=\"41.538086\" y=\"412.382812\"/>\n",
       "  <use xlink:href=\"#glyph1-2\" x=\"41.538086\" y=\"405.710938\"/>\n",
       "</g>\n",
       "<g style=\"fill:rgb(0%,0%,0%);fill-opacity:1;\">\n",
       "  <use xlink:href=\"#glyph1-3\" x=\"41.538086\" y=\"355.285156\"/>\n",
       "  <use xlink:href=\"#glyph1-2\" x=\"41.538086\" y=\"348.613281\"/>\n",
       "</g>\n",
       "<g style=\"fill:rgb(0%,0%,0%);fill-opacity:1;\">\n",
       "  <use xlink:href=\"#glyph1-4\" x=\"41.538086\" y=\"298.191406\"/>\n",
       "  <use xlink:href=\"#glyph1-2\" x=\"41.538086\" y=\"291.519531\"/>\n",
       "</g>\n",
       "<g style=\"fill:rgb(0%,0%,0%);fill-opacity:1;\">\n",
       "  <use xlink:href=\"#glyph1-5\" x=\"41.538086\" y=\"244.59375\"/>\n",
       "  <use xlink:href=\"#glyph1-2\" x=\"41.538086\" y=\"237.921875\"/>\n",
       "  <use xlink:href=\"#glyph1-2\" x=\"41.538086\" y=\"231.25\"/>\n",
       "</g>\n",
       "<g style=\"fill:rgb(0%,0%,0%);fill-opacity:1;\">\n",
       "  <use xlink:href=\"#glyph1-5\" x=\"41.538086\" y=\"187.5\"/>\n",
       "  <use xlink:href=\"#glyph1-6\" x=\"41.538086\" y=\"180.828125\"/>\n",
       "  <use xlink:href=\"#glyph1-2\" x=\"41.538086\" y=\"174.15625\"/>\n",
       "</g>\n",
       "<g style=\"fill:rgb(0%,0%,0%);fill-opacity:1;\">\n",
       "  <use xlink:href=\"#glyph1-5\" x=\"41.538086\" y=\"130.402344\"/>\n",
       "  <use xlink:href=\"#glyph1-1\" x=\"41.538086\" y=\"123.730469\"/>\n",
       "  <use xlink:href=\"#glyph1-2\" x=\"41.538086\" y=\"117.058594\"/>\n",
       "</g>\n",
       "<g style=\"fill:rgb(0%,0%,0%);fill-opacity:1;\">\n",
       "  <use xlink:href=\"#glyph1-5\" x=\"41.538086\" y=\"73.308594\"/>\n",
       "  <use xlink:href=\"#glyph1-3\" x=\"41.538086\" y=\"66.636719\"/>\n",
       "  <use xlink:href=\"#glyph1-2\" x=\"41.538086\" y=\"59.964844\"/>\n",
       "</g>\n",
       "<path style=\"fill:none;stroke-width:0.75;stroke-linecap:round;stroke-linejoin:round;stroke:rgb(0%,0%,0%);stroke-opacity:1;stroke-miterlimit:10;\" d=\"M 59.039062 430.558594 L 473.761719 430.558594 L 473.761719 59.039062 L 59.039062 59.039062 L 59.039062 430.558594 \"/>\n",
       "<g style=\"fill:rgb(0%,0%,0%);fill-opacity:1;\">\n",
       "  <use xlink:href=\"#glyph0-7\" x=\"233.898438\" y=\"485.057617\"/>\n",
       "  <use xlink:href=\"#glyph0-8\" x=\"242.443359\" y=\"485.057617\"/>\n",
       "  <use xlink:href=\"#glyph0-9\" x=\"249.115234\" y=\"485.057617\"/>\n",
       "  <use xlink:href=\"#glyph0-10\" x=\"251.779297\" y=\"485.057617\"/>\n",
       "  <use xlink:href=\"#glyph0-11\" x=\"258.451172\" y=\"485.057617\"/>\n",
       "  <use xlink:href=\"#glyph0-12\" x=\"261.787109\" y=\"485.057617\"/>\n",
       "  <use xlink:href=\"#glyph0-13\" x=\"264.451172\" y=\"485.057617\"/>\n",
       "  <use xlink:href=\"#glyph0-8\" x=\"270.211914\" y=\"485.057617\"/>\n",
       "  <use xlink:href=\"#glyph0-14\" x=\"276.883789\" y=\"485.057617\"/>\n",
       "  <use xlink:href=\"#glyph0-15\" x=\"280.219727\" y=\"485.057617\"/>\n",
       "  <use xlink:href=\"#glyph0-12\" x=\"284.21582\" y=\"485.057617\"/>\n",
       "  <use xlink:href=\"#glyph0-16\" x=\"286.879883\" y=\"485.057617\"/>\n",
       "  <use xlink:href=\"#glyph0-17\" x=\"292.879883\" y=\"485.057617\"/>\n",
       "</g>\n",
       "<g style=\"fill:rgb(0%,0%,0%);fill-opacity:1;\">\n",
       "  <use xlink:href=\"#glyph1-7\" x=\"12.737305\" y=\"287.800781\"/>\n",
       "  <use xlink:href=\"#glyph1-8\" x=\"12.737305\" y=\"279.796875\"/>\n",
       "  <use xlink:href=\"#glyph1-9\" x=\"12.737305\" y=\"277.132812\"/>\n",
       "  <use xlink:href=\"#glyph1-10\" x=\"12.737305\" y=\"267.136719\"/>\n",
       "  <use xlink:href=\"#glyph1-11\" x=\"12.737305\" y=\"260.464844\"/>\n",
       "  <use xlink:href=\"#glyph1-12\" x=\"12.737305\" y=\"257.800781\"/>\n",
       "  <use xlink:href=\"#glyph1-13\" x=\"12.737305\" y=\"251.128906\"/>\n",
       "  <use xlink:href=\"#glyph1-14\" x=\"12.737305\" y=\"247.972656\"/>\n",
       "  <use xlink:href=\"#glyph1-15\" x=\"12.737305\" y=\"241.300781\"/>\n",
       "  <use xlink:href=\"#glyph1-16\" x=\"12.737305\" y=\"234.628906\"/>\n",
       "  <use xlink:href=\"#glyph1-17\" x=\"12.737305\" y=\"231.292969\"/>\n",
       "  <use xlink:href=\"#glyph1-18\" x=\"12.737305\" y=\"225.292969\"/>\n",
       "  <use xlink:href=\"#glyph1-10\" x=\"12.737305\" y=\"218.621094\"/>\n",
       "  <use xlink:href=\"#glyph1-19\" x=\"12.737305\" y=\"211.949219\"/>\n",
       "  <use xlink:href=\"#glyph1-13\" x=\"12.737305\" y=\"205.277344\"/>\n",
       "</g>\n",
       "<g clip-path=\"url(#clip1)\" clip-rule=\"nonzero\">\n",
       "<path style=\"fill:none;stroke-width:0.75;stroke-linecap:round;stroke-linejoin:round;stroke:rgb(100%,0%,0%);stroke-opacity:1;stroke-miterlimit:10;\" d=\"M 223.296875 430.558594 L 223.296875 59.039062 \"/>\n",
       "</g>\n",
       "<g clip-path=\"url(#clip2)\" clip-rule=\"nonzero\">\n",
       "<path style=\"fill:none;stroke-width:0.75;stroke-linecap:round;stroke-linejoin:round;stroke:rgb(100%,0%,0%);stroke-opacity:1;stroke-miterlimit:10;\" d=\"M 59.039062 288.335938 L 473.761719 288.335938 \"/>\n",
       "</g>\n",
       "</g>\n",
       "</svg>\n"
      ],
      "text/plain": [
       "plot without title"
      ]
     },
     "metadata": {
      "image/svg+xml": {
       "isolated": true
      }
     },
     "output_type": "display_data"
    }
   ],
   "source": [
    "    Nsample_old <- 3985 + 356 ##There are 637 de novo mutations in this sample set\n",
    "Nsample <- 550\n",
    "Ncount_old <- 637\n",
    "nPredictedDenovo <- ceiling(Nsample*Ncount_old/Nsample_old )\n",
    "    \n",
    "countSumAverage <- apply(do.call(rbind, countSum), 2, median)\n",
    "\n",
    "    \n",
    "    \n",
    "    plot(rrList, countSumAverage, xlab = 'Relative risk', ylab = 'Simulated count')\n",
    "    \n",
    "    abline(v = 20, col = 'red')\n",
    "    abline(h = nPredictedDenovo, col = 'red') ## Draw a line for predicted counts\n",
    "\n"
   ]
  },
  {
   "cell_type": "markdown",
   "metadata": {},
   "source": [
    "### Now, will check how many recurrent genes are from simulated data?"
   ]
  },
  {
   "cell_type": "code",
   "execution_count": 14,
   "metadata": {
    "collapsed": false
   },
   "outputs": [
    {
     "data": {
      "text/html": [
       "<ol class=list-inline>\n",
       "\t<li>0</li>\n",
       "\t<li>0</li>\n",
       "\t<li>1</li>\n",
       "\t<li>0</li>\n",
       "\t<li>1</li>\n",
       "\t<li>4</li>\n",
       "\t<li>18</li>\n",
       "</ol>\n"
      ],
      "text/latex": [
       "\\begin{enumerate*}\n",
       "\\item 0\n",
       "\\item 0\n",
       "\\item 1\n",
       "\\item 0\n",
       "\\item 1\n",
       "\\item 4\n",
       "\\item 18\n",
       "\\end{enumerate*}\n"
      ],
      "text/markdown": [
       "1. 0\n",
       "2. 0\n",
       "3. 1\n",
       "4. 0\n",
       "5. 1\n",
       "6. 4\n",
       "7. 18\n",
       "\n",
       "\n"
      ],
      "text/plain": [
       "[1]  0  0  1  0  1  4 18"
      ]
     },
     "execution_count": 14,
     "metadata": {},
     "output_type": "execute_result"
    },
    {
     "data": {
      "text/html": [
       "<ol class=list-inline>\n",
       "\t<li>0</li>\n",
       "\t<li>0</li>\n",
       "\t<li>0</li>\n",
       "\t<li>0</li>\n",
       "\t<li>2</li>\n",
       "\t<li>3</li>\n",
       "\t<li>10</li>\n",
       "</ol>\n"
      ],
      "text/latex": [
       "\\begin{enumerate*}\n",
       "\\item 0\n",
       "\\item 0\n",
       "\\item 0\n",
       "\\item 0\n",
       "\\item 2\n",
       "\\item 3\n",
       "\\item 10\n",
       "\\end{enumerate*}\n"
      ],
      "text/markdown": [
       "1. 0\n",
       "2. 0\n",
       "3. 0\n",
       "4. 0\n",
       "5. 2\n",
       "6. 3\n",
       "7. 10\n",
       "\n",
       "\n"
      ],
      "text/plain": [
       "[1]  0  0  0  0  2  3 10"
      ]
     },
     "execution_count": 14,
     "metadata": {},
     "output_type": "execute_result"
    }
   ],
   "source": [
    "recurrentCount <- lapply(geneCountList, function(x) apply(x, 2, function(y) length(y[y>1])))\n",
    "recurrentCount[[1]]\n",
    "\n",
    "recurrentCountAll <- do.call(rbind, recurrentCount)\n",
    "\n",
    "apply(recurrentCountAll, 2, median) ##Not strong, why is it? So, the way we let equal RRs for all risk genes is not suitable\n"
   ]
  },
  {
   "cell_type": "markdown",
   "metadata": {},
   "source": [
    "### Take a look at the Poisson test result for all counts"
   ]
  },
  {
   "cell_type": "code",
   "execution_count": 18,
   "metadata": {
    "collapsed": false
   },
   "outputs": [
    {
     "data": {
      "text/html": [
       "<table>\n",
       "<tbody>\n",
       "\t<tr><th scope=row>poissonTestAll_data</th><td>9.006506e-01</td><td>9.006506e-01</td><td>5.038483e-02</td><td>1.302730e-05</td><td>7.974952e-09</td><td>6.011818e-12</td><td>2.122186e-51</td></tr>\n",
       "\t<tr><th scope=row>poissonTestAll_data</th><td>5.363450e-01</td><td>6.642204e-01</td><td>1.914496e-01</td><td>2.614171e-02</td><td>1.070563e-12</td><td>2.975302e-14</td><td>2.373973e-63</td></tr>\n",
       "\t<tr><th scope=row>poissonTestAll_data</th><td>4.068943e-01</td><td>5.735446e-03</td><td>5.038483e-02</td><td>1.266431e-02</td><td>1.653549e-10</td><td>1.070563e-12</td><td>2.840306e-57</td></tr>\n",
       "</tbody>\n",
       "</table>\n"
      ],
      "text/latex": [
       "\\begin{tabular}{r|lllllll}\n",
       "\tpoissonTestAll_data & 9.006506e-01 & 9.006506e-01 & 5.038483e-02 & 1.302730e-05 & 7.974952e-09 & 6.011818e-12 & 2.122186e-51\\\\\n",
       "\tpoissonTestAll_data & 5.363450e-01 & 6.642204e-01 & 1.914496e-01 & 2.614171e-02 & 1.070563e-12 & 2.975302e-14 & 2.373973e-63\\\\\n",
       "\tpoissonTestAll_data & 4.068943e-01 & 5.735446e-03 & 5.038483e-02 & 1.266431e-02 & 1.653549e-10 & 1.070563e-12 & 2.840306e-57\\\\\n",
       "\\end{tabular}\n"
      ],
      "text/markdown": [
       "1. 0.900650564440848\n",
       "2. 0.536344962365366\n",
       "3. 0.406894309664284\n",
       "4. 0.900650564440848\n",
       "5. 0.664220393623722\n",
       "6. 0.00573544619157609\n",
       "7. 0.0503848276054872\n",
       "8. 0.191449577709424\n",
       "9. 0.0503848276054872\n",
       "10. 1.30273042236797e-05\n",
       "11. 0.0261417100772426\n",
       "12. 0.0126643057594998\n",
       "13. 7.97495166047188e-09\n",
       "14. 1.07056270743757e-12\n",
       "15. 1.65354921688816e-10\n",
       "16. 6.01181776492812e-12\n",
       "17. 2.9753019215637e-14\n",
       "18. 1.07056270743757e-12\n",
       "19. 2.12218562223914e-51\n",
       "20. 2.37397338984909e-63\n",
       "21. 2.84030553672172e-57\n",
       "\n",
       "\n"
      ],
      "text/plain": [
       "                         [,1]        [,2]       [,3]         [,4]         [,5]\n",
       "poissonTestAll_data 0.9006506 0.900650564 0.05038483 0.0000130273 7.974952e-09\n",
       "poissonTestAll_data 0.5363450 0.664220394 0.19144958 0.0261417101 1.070563e-12\n",
       "poissonTestAll_data 0.4068943 0.005735446 0.05038483 0.0126643058 1.653549e-10\n",
       "                            [,6]         [,7]\n",
       "poissonTestAll_data 6.011818e-12 2.122186e-51\n",
       "poissonTestAll_data 2.975302e-14 2.373973e-63\n",
       "poissonTestAll_data 1.070563e-12 2.840306e-57"
      ]
     },
     "execution_count": 18,
     "metadata": {},
     "output_type": "execute_result"
    },
    {
     "data": {
      "text/html": [
       "<ol class=list-inline>\n",
       "\t<li>0.568847343057384</li>\n",
       "\t<li>0.406894309664284</li>\n",
       "\t<li>0.0681515846492254</li>\n",
       "\t<li>0.000594954390593322</li>\n",
       "\t<li>7.34720683084453e-11</li>\n",
       "\t<li>6.9767520164509e-16</li>\n",
       "\t<li>3.14311138549979e-48</li>\n",
       "</ol>\n"
      ],
      "text/latex": [
       "\\begin{enumerate*}\n",
       "\\item 0.568847343057384\n",
       "\\item 0.406894309664284\n",
       "\\item 0.0681515846492254\n",
       "\\item 0.000594954390593322\n",
       "\\item 7.34720683084453e-11\n",
       "\\item 6.9767520164509e-16\n",
       "\\item 3.14311138549979e-48\n",
       "\\end{enumerate*}\n"
      ],
      "text/markdown": [
       "1. 0.568847343057384\n",
       "2. 0.406894309664284\n",
       "3. 0.0681515846492254\n",
       "4. 0.000594954390593322\n",
       "5. 7.34720683084453e-11\n",
       "6. 6.9767520164509e-16\n",
       "7. 3.14311138549979e-48\n",
       "\n",
       "\n"
      ],
      "text/plain": [
       "[1] 5.688473e-01 4.068943e-01 6.815158e-02 5.949544e-04 7.347207e-11\n",
       "[6] 6.976752e-16 3.143111e-48"
      ]
     },
     "execution_count": 18,
     "metadata": {},
     "output_type": "execute_result"
    }
   ],
   "source": [
    "poissonTestAll_data_allSimu[1:3, ]\n",
    "\n",
    "apply(poissonTestAll_data_allSimu, 2, median)"
   ]
  },
  {
   "cell_type": "markdown",
   "metadata": {},
   "source": [
    "# Use real counts from published data\n",
    "\n",
    "## A little bit messy below, and not the results we want\n",
    "\n",
    "## Use the data of AUT + EPI\n",
    "\n",
    "Take a quick look at all information\n",
    "\n",
    "#### DISEASE\tNUM_INDIV\n",
    "\n",
    "AUT\t3985\n",
    "\n",
    "CHD\t362\n",
    "\n",
    "EPI\t356\n",
    "\n",
    "ID\t192\n",
    "\n",
    "SCZ\t1024\n",
    "\n",
    "SIB_CONTROL\t2049\n",
    "\n",
    "### wc -l AUT+EPI.LoF.mut \n",
    "\n",
    "  637\n",
    "\n",
    "(3985 AUT + 356 EPI) samples have 637 LoF mutations\n",
    "\n",
    "#### Here, I randomly allocate counts to nGene, but counts should be allocated to the top 1000 genes\n"
   ]
  },
  {
   "cell_type": "code",
   "execution_count": 21,
   "metadata": {
    "collapsed": false
   },
   "outputs": [
    {
     "data": {
      "text/html": [
       "308"
      ],
      "text/latex": [
       "308"
      ],
      "text/markdown": [
       "308"
      ],
      "text/plain": [
       "[1] 308"
      ]
     },
     "execution_count": 21,
     "metadata": {},
     "output_type": "execute_result"
    }
   ],
   "source": [
    "sum(data$dn.LoF)"
   ]
  },
  {
   "cell_type": "code",
   "execution_count": null,
   "metadata": {
    "collapsed": true
   },
   "outputs": [],
   "source": []
  }
 ],
 "metadata": {
  "kernelspec": {
   "display_name": "R",
   "language": "R",
   "name": "ir"
  },
  "language_info": {
   "codemirror_mode": "r",
   "file_extension": ".r",
   "mimetype": "text/x-r-source",
   "name": "R",
   "pygments_lexer": "r",
   "version": "3.2.2"
  }
 },
 "nbformat": 4,
 "nbformat_minor": 0
}
