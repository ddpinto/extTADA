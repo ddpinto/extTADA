{
 "cells": [
  {
   "cell_type": "markdown",
   "metadata": {},
   "source": [
    "#Some main steps:\n",
    "\n",
    " Download dbNSFP1.3_a \n",
    " \n",
    " Use pseq to annotation all positions inside this database\n",
    " \n",
    " Convert to VCF\n",
    " \n",
    " Extract variants\n"
   ]
  },
  {
   "cell_type": "markdown",
   "metadata": {},
   "source": [
    "## Convert to an input file for pseq\n",
    "\n",
    "zcat db.shortened.dbnsfp31a.gz|awk 'NR>1 {print $1\":\"$2,$5,$6,$7}' > all_coordinate_hg19_dbnsfp31a.txt &\n",
    "\n",
    "## Add chromosomes\n",
    "\n",
    "awk -F\":\" '{print $1, $0}' all_coordinate_hg19_dbnsfp31a.txt > all_coordinate_hg19_dbnsfp31a.txt_singleChr.txt\n",
    "\n",
    "## Split into chromosomes\n",
    "\n",
    "In R\n",
    "\n",
    "library(\"data.table\")\n",
    "aa <- fread(\"all_coordinate_hg19_dbnsfp31a.txt_singleChr.txt\", header = FALSE)\n",
    "\n",
    "setkey(aa, V1)\n",
    "\n",
    "x2 <- table(x1)\n",
    "x2 <- names(x2)\n",
    "\n",
    "for (ii in (1:length(x2))) {\n",
    " xTemp <- aa[x2[ii]]\n",
    " write.table(xTemp, paste(\"SingleChr_annotation/All_coordinate_chr\", x2[ii], \".txt\", sep = \"\"), col.names=FALSE, row.names=FALSE, quote=FALSE) }\n",
    "\n",
    "\n"
   ]
  },
  {
   "cell_type": "code",
   "execution_count": null,
   "metadata": {
    "collapsed": true
   },
   "outputs": [],
   "source": []
  }
 ],
 "metadata": {
  "kernelspec": {
   "display_name": "Python 3",
   "language": "python",
   "name": "python3"
  },
  "language_info": {
   "codemirror_mode": {
    "name": "ipython",
    "version": 3
   },
   "file_extension": ".py",
   "mimetype": "text/x-python",
   "name": "python",
   "nbconvert_exporter": "python",
   "pygments_lexer": "ipython3",
   "version": "3.4.0"
  }
 },
 "nbformat": 4,
 "nbformat_minor": 0
}
