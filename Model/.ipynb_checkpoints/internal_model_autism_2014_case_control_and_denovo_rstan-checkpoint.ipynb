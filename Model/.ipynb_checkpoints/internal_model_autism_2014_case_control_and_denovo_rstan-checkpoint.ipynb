{
 "cells": [
  {
   "cell_type": "code",
   "execution_count": 1,
   "metadata": {
    "collapsed": true
   },
   "outputs": [],
   "source": [
    "%load_ext rpy2.ipython"
   ]
  },
  {
   "cell_type": "markdown",
   "metadata": {},
   "source": [
    "## This is rstan code and results for Autism, 2014 for both denovos (LOF + Mis3) and case control (LoF)"
   ]
  },
  {
   "cell_type": "markdown",
   "metadata": {},
   "source": [
    "### rstan code"
   ]
  },
  {
   "cell_type": "code",
   "execution_count": null,
   "metadata": {
    "collapsed": true
   },
   "outputs": [],
   "source": [
    "data <- read.table(\"TADA/data/ASC_2231trios_1333trans_1601cases_5397controls.csv\", header = TRUE, sep = \",\")\n",
    "ntrio <- 2231  # number of trios\n",
    "ncase <- 1601  # number of cases\n",
    "nctrl <- 5397  # number of controls\n",
    "ntrans <- 1333 # number of subjects with transmission data\n",
    "N <- list(dn=ntrio, ca=ntrans+ncase, cn=ntrans+nctrl)\n",
    "\n",
    "counts <- as.array(cbind(data$dn.LoF, data$case.LoF+data$trans.LoF, data$ctrl.LoF+data$ntrans.LoF,\n",
    "                         data$dn.mis3, data$case.mis3+data$trans.mis3,\n",
    "                         data$ctrl.mis3+data$ntrans.mis3))\n",
    "mu.frac <- c(0.074, 0.32)\n",
    "gamma.mean.dn <- c(20, 4.7)\n",
    "beta.dn <- c(1,1)\n",
    "gamma.mean.CC <- c(2.3, 1.00)\n",
    "beta.CC <- c(4.0, 1000)\n",
    "rho1 <- c(0.1, 0.5)\n",
    "nu1 <- c(200, 100)\n",
    "rho0 <- c(0.1, 0.5)\n",
    "nu0 <- c(200, 100)\n",
    "hyperpar <- as.array(rbind(gamma.mean.dn, beta.dn, gamma.mean.CC, beta.CC, rho1, nu1, rho0, nu0))\n",
    "l <- 100\n",
    "pi0 <- 0.94 # the fraction of non-risk genes\n",
    "y.case.lof <- counts[, 2]\n",
    "y.control.lof <- counts[, 3]\n",
    "y.case.mis3 <- counts[, 5]\n",
    "y.control.mis3 <- counts[, 6]\n",
    "\n",
    "yLoF <- counts[, 1]\n",
    "mutLoF <- data$mut.rate*mu.frac[1]\n",
    "NN = length(y.case.lof)\n",
    "\n",
    "\n",
    "\n",
    "casecontrol <- \"\n",
    "data {\n",
    "int<lower=1> NN;\n",
    "int<lower=1> K;\n",
    "int<lower=1> Ncase;\n",
    "int<lower=1> Ncontrol;\n",
    "int<lower=1> Ntotal;\n",
    "int<lower=1> Ndn;\n",
    "\n",
    "int<lower=0> yCaseLoF[NN];\n",
    "int<lower=0> yTotalLoF[NN];\n",
    "int<lower=0> yLoFdn[NN];\n",
    "real<lower=0> mutLoF[NN];\n",
    "\n",
    "    int<lower=0> yCaseMis3[NN];\n",
    "    int<lower=0> yTotalMis3[NN];\n",
    "int<lower=0> yMis3dn[NN];\n",
    "real<lower=0> mutMis3[NN];\n",
    "\n",
    "real<lower=0.05> thetaH0;\n",
    "\n",
    "}\n",
    "parameters {\n",
    "real<lower=0.001,upper=0.4> pi0;\n",
    "real<lower=1> hyperGammaMeanLoFcc;\n",
    "real<lower=0.5> hyperBetaLoFcc;\n",
    "real<lower=0.5> gammaLoFcc;\n",
    "real<lower=1> hyperGammaMeanLoFdn;\n",
    "real<lower=0.5> hyperBetaLoFdn;\n",
    "real<lower=0.5> gammaLoFdn;\n",
    "\n",
    "real<lower=1> hyperGammaMeanMis3cc;\n",
    "real<lower=0.5> hyperBetaMis3cc;\n",
    "real<lower=0.5> gammaMis3cc;\n",
    "real<lower=1> hyperGammaMeanMis3dn;\n",
    "real<lower=0.5> hyperBetaMis3dn;\n",
    "real<lower=0.5> gammaMis3dn;\n",
    "\n",
    "\n",
    "}\n",
    "\n",
    "model {\n",
    "\n",
    "real ps[K];\n",
    "\n",
    "//lof\n",
    "hyperGammaMeanLoFcc ~ normal(4, 1); //normal(14, 4);\n",
    "hyperBetaLoFcc ~ normal(1, 0.01);\n",
    "gammaLoFcc ~ gamma(hyperGammaMeanLoFcc*hyperBetaLoFcc, hyperBetaLoFcc);\n",
    "//denovo lof\n",
    "hyperGammaMeanLoFdn ~ normal(14, 4);\n",
    "hyperBetaLoFdn ~ normal(1, 0.01);\n",
    "gammaLoFdn ~ gamma(hyperGammaMeanLoFdn*hyperBetaLoFdn, hyperBetaLoFdn);\n",
    "\n",
    "///mis3\n",
    "//hyperGammaMeanMis3cc ~ normal(10, 3);\n",
    "//hyperBetaMis3cc ~ normal(1, 0.01);\n",
    "//gammaMis3cc ~ gamma(hyperGammaMeanLoFcc*hyperBetaMis3cc, hyperBetaMis3cc);\n",
    "//denovo mis3\n",
    "hyperGammaMeanMis3dn ~ normal(4, 1); //normal(14, 4);\n",
    "hyperBetaMis3dn ~ normal(1, 0.01);\n",
    "gammaMis3dn ~ gamma(hyperGammaMeanMis3dn*hyperBetaMis3dn, hyperBetaMis3dn);\n",
    "\n",
    "\n",
    "for (ii in 1:NN){\n",
    "ps[1] <- log1m(pi0) + binomial_log(yCaseLoF[ii], yTotalLoF[ii], thetaH0) \n",
    " + poisson_log(yLoFdn[ii], 2*Ndn*mutLoF[ii]) \n",
    " + poisson_log(yMis3dn[ii], 2*Ndn*mutMis3[ii]);\n",
    "// + binomial_log(yCaseMis3[ii], yTotalMis3[ii], thetaH0) \n",
    "ps[2] <- log(pi0) + binomial_log(yCaseLoF[ii], yTotalLoF[ii], gammaLoFcc*Ncase/(gammaLoFcc*Ncase + Ncontrol)) + poisson_log(yLoFdn[ii], 2*Ndn*mutLoF[ii]*gammaLoFdn) \n",
    "  + poisson_log(yMis3dn[ii], 2*Ndn*mutMis3[ii]*gammaMis3dn); \n",
    "//+ binomial_log(yCaseMis3[ii], yTotalMis3[ii], gammaMis3cc*Ncase/(gammaMis3cc*Ncase + Ncontrol))\n",
    "increment_log_prob(log_sum_exp(ps));\n",
    "}\n",
    "\n",
    "}\n",
    "\"\n",
    "yLoF <- counts[, 1]\n",
    "y.case.lof <- counts[, 2]\n",
    "y.control.lof <- counts[, 3]\n",
    "yMis3 <- counts[, 4]\n",
    "y.case.mis3 <- counts[, 5]\n",
    "y.control.mis3 <- counts[, 6]\n",
    "mutLoF <- data$mut.rate*mu.frac[1]\n",
    "mutMis3 <- data$mut.rate*mu.frac[2]\n",
    "\n",
    "mixdata3 <- list(K = 2, \n",
    "                 yCaseLoF = y.case.lof, yTotalLoF = y.case.lof + y.control.lof,\n",
    "                 yLoFdn = yLoF, mutLoF = mutLoF,\n",
    "                 \n",
    "                 NN = length(y.case.lof),\n",
    "                 Ncase = N$ca, Ncontrol = N$cn, Ntotal = N$ca + N$cn,\n",
    "                 Ndn = N$dn,\n",
    "                 \n",
    "                 yCaseMis3 = y.case.mis3, yTotalMis3 = y.case.mis3 + y.control.mis3,\n",
    "                 yMis3dn = yMis3, mutMis3 = mutMis3,\n",
    "                 thetaH0 = N$ca/(N$ca + N$cn))\n",
    "\n",
    "\n",
    "testFit <- stan(model_code = casecontrol, data = mixdata3, iter = 1000, chains = 1, control = list(adapt_delta = 0.9))\n",
    "#,                init = list(list(hyperGammaMeanLoF = 20, hyperBetaLoF = 1)))\n",
    "#,                 control = list(adapt_delta = 0.89), algorithm = \"HMC\")\n",
    "#, pars = c('hyperbetaLoF', 'hyperalphaMeanLoF'),\n",
    "#                 algorithm = \"HMC\"\n",
    "#, control = list(adapt_delta = 0.999))#,                 init = list(hyperbetaLoF = 1, hyperalphaMeanLoF = 24))\n",
    "vSeed <- 1234\n",
    "fit <- stan(fit = testFit, data = mixdata3, iter = 50000, chains = 3, thin  = 10, cores = 3, \n",
    "               seed = vSeed,\n",
    "            pars = c('pi0',\n",
    "              'hyperGammaMeanLoFdn', 'hyperGammaMeanMis3dn',\n",
    "                     'hyperBetaLoFdn', 'hyperBetaMis3dn',\n",
    "                     'hyperGammaMeanLoFcc'), \n",
    "            control = list(adapt_delta = 0.95),\n",
    "            init = list(list(hyperGammaMeanLoFdn = 20, hyperBetaLoFdn = 1,\n",
    "                                  hyperGammaMeanLoFcc = 2, hyperBetaLoFcc = 1,\n",
    "                                  hyperGammaMeanMis3dn= 4, hyperBetaMis3dn = 1),\n",
    "                        list(hyperGammaMeanLoFdn = 20, hyperBetaLoFdn = 1,\n",
    "                                 hyperGammaMeanLoFcc = 2, hyperBetaLoFcc = 1,\n",
    "                                 hyperGammaMeanMis3dn= 4, hyperBetaMis3dn = 1),\n",
    "            list(hyperGammaMeanLoFdn = 20, hyperBetaLoFdn = 1,\n",
    "                 hyperGammaMeanLoFcc = 2, hyperBetaLoFcc = 1,\n",
    "                 hyperGammaMeanMis3dn= 4, hyperBetaMis3dn = 1)))\n",
    "\n",
    "fit\n",
    "plot(fit)\n",
    "\n",
    "s <- stan2coda(fit)\n",
    "summary(s)\n",
    "allPar <- c('pi0', 'hyperGammaMeanLoFdn', 'hyperGammaMeanMis3dn', 'hyperBetaLoFdn', 'hyperBetaMis3dn',\n",
    "            'hyperGammaMeanLoFcc')\n",
    "ii = 3\n",
    "plot(s[, allPar[ii]], main = paste(allPar[ii], round(sapply(s[, allPar[ii]], mean), 4), sep = \" \"), cex = 0.5)\n",
    "\n",
    "#save.image(\"~/Documents/SaveDataFromServer/rstanAllGeneAutismDataresult_data2014.RData\")\n"
   ]
  },
  {
   "cell_type": "code",
   "execution_count": 3,
   "metadata": {
    "collapsed": false
   },
   "outputs": [
    {
     "data": {
      "text/plain": [
       "Warning: namespace ‘rstan’ is not available and has been replaced\n",
       "by .GlobalEnv when processing object ‘fitMissensescz’\n"
      ]
     },
     "metadata": {},
     "output_type": "display_data"
    }
   ],
   "source": [
    "%%R\n",
    "load(\"/usr/data/Documents/SaveDataFromServer/rstanAllGeneAutismDataresult_data2014.RData\")"
   ]
  },
  {
   "cell_type": "code",
   "execution_count": null,
   "metadata": {
    "collapsed": false
   },
   "outputs": [],
   "source": [
    "%%R -w 28 -u cm\n",
    "library(\"rjags\")\n",
    "\n",
    "for (ii in 1:length(allPar))\n",
    "      \n",
    "plot(s[, allPar[ii]], main = paste(allPar[ii], round(sapply(s[, allPar[ii]], mean), 4), sep = \" \"), cex = 0.5)"
   ]
  },
  {
   "cell_type": "code",
   "execution_count": null,
   "metadata": {
    "collapsed": true
   },
   "outputs": [],
   "source": []
  }
 ],
 "metadata": {
  "kernelspec": {
   "display_name": "Python 3",
   "language": "python",
   "name": "python3"
  },
  "language_info": {
   "codemirror_mode": {
    "name": "ipython",
    "version": 3
   },
   "file_extension": ".py",
   "mimetype": "text/x-python",
   "name": "python",
   "nbconvert_exporter": "python",
   "pygments_lexer": "ipython3",
   "version": "3.4.0"
  }
 },
 "nbformat": 4,
 "nbformat_minor": 0
}
