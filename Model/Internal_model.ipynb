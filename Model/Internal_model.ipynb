{
 "cells": [
  {
   "cell_type": "code",
   "execution_count": 1,
   "metadata": {
    "collapsed": true
   },
   "outputs": [],
   "source": [
    "%load_ext rpy2.ipython"
   ]
  },
  {
   "cell_type": "code",
   "execution_count": null,
   "metadata": {
    "collapsed": true
   },
   "outputs": [],
   "source": []
  },
  {
   "cell_type": "markdown",
   "metadata": {},
   "source": [
    "## The internal model\n",
    "\n",
    "### $P(x_i|\\theta_1, \\theta_0) = (1 - \\pi)\\prod_{j} P(x_{ij}|\\theta_{0j}) + \\pi \\prod_j P(x_{ij}|\\theta_{1j}) $\n",
    "\n",
    "### Or for all data values\n",
    "\n",
    "$P(x|\\theta_1, \\theta_0) = \\prod_{i=1}^{n} \\left[ (1 - \\pi)\\prod_{j} P(x_{ij}|\\theta_{0j}) + \\pi \\prod_jP(x_{ij}|\\theta_{1j}) \\right]$\n",
    "\n",
    "with $j = \\{LoFdn, LoFcc, Mis3dn, Mis3cc \\}$\n",
    "\n",
    "$\\theta_1$: parameters of $H_1$\n",
    "\n",
    "$\\theta_0$: parameters of $H_0$\n",
    "\n",
    "\n",
    "## Data\n",
    "\n",
    "$Xdn$: de novo data; $Xcase$: case data; $Xcontrol$: control data\n",
    "\n",
    "## To test if a gene is a causal gene for a disease, two hypothesis are compared:\n",
    "\n",
    "$H_1: \\gamma \\neq 1$ and $H_0: \\gamma = 1$\n",
    "\n",
    "|$H_1$ | $H_0$|\n",
    "|------|------|\n",
    "|$Xdn \\sim Poisson(2 \\mu \\gamma Nd)$  |  $Xdn \\sim Poisson(2 \\mu  Nd)$|\n",
    "|$Xcontrol \\sim Poisson(q Ncontrol)$  |$Xcontrol \\sim Poisson(q Ncontrol)$|\n",
    "|$Xcase \\sim Poisson(q \\gamma Ncase)$  |$Xcase \\sim Poisson(q  Ncase)$ |\n",
    "\n",
    "\n"
   ]
  },
  {
   "cell_type": "markdown",
   "metadata": {},
   "source": [
    "## Set conjugate priors for relative risk ($\\gamma$) \n",
    "\n",
    "$\\gamma \\sim Gamma(\\alpha, \\beta) = Gamma(\\bar{\\gamma}*\\beta, \\beta)$"
   ]
  },
  {
   "cell_type": "code",
   "execution_count": null,
   "metadata": {
    "collapsed": true
   },
   "outputs": [],
   "source": []
  }
 ],
 "metadata": {
  "kernelspec": {
   "display_name": "Python 3",
   "language": "python",
   "name": "python3"
  },
  "language_info": {
   "codemirror_mode": {
    "name": "ipython",
    "version": 3
   },
   "file_extension": ".py",
   "mimetype": "text/x-python",
   "name": "python",
   "nbconvert_exporter": "python",
   "pygments_lexer": "ipython3",
   "version": "3.4.0"
  }
 },
 "nbformat": 4,
 "nbformat_minor": 0
}
