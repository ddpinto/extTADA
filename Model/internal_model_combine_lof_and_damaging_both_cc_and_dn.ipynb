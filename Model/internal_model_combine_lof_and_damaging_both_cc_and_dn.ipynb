{
 "cells": [
  {
   "cell_type": "code",
   "execution_count": 1,
   "metadata": {
    "collapsed": true
   },
   "outputs": [],
   "source": [
    "%load_ext rpy2.ipython"
   ]
  },
  {
   "cell_type": "code",
   "execution_count": 2,
   "metadata": {
    "collapsed": false
   },
   "outputs": [
    {
     "data": {
      "text/plain": [
       "Warning: namespace ‘rstan’ is not available and has been replaced\n",
       "by .GlobalEnv when processing object ‘fit’\n",
       "Loading required package: coda\n",
       "Linked to JAGS 3.4.0\n",
       "Loaded modules: basemod,bugs\n"
      ]
     },
     "metadata": {},
     "output_type": "display_data"
    }
   ],
   "source": [
    "%%R\n",
    "load(\"/usr/data/Documents/SaveDataFromServer/RSTAN/test_rstan_2016_scz_conditionalCaseControl_andDenovo_combineLoFandDamaging.nChain.3.nThin.2.index.1.dataType.LOF.add_stan2coda.RData\")\n",
    "library(\"rjags\")"
   ]
  },
  {
   "cell_type": "markdown",
   "metadata": {},
   "source": [
    "## Calculate Bayes Factor"
   ]
  },
  {
   "cell_type": "code",
   "execution_count": 4,
   "metadata": {
    "collapsed": false
   },
   "outputs": [
    {
     "name": "stdout",
     "output_type": "stream",
     "text": [
      "/usr/data/Documents/GitHub/HierachicalBayesianproject/Model\r\n"
     ]
    }
   ],
   "source": [
    "!pwd"
   ]
  },
  {
   "cell_type": "code",
   "execution_count": 6,
   "metadata": {
    "collapsed": false
   },
   "outputs": [
    {
     "data": {
      "image/png": "[encoded data removed]"
     },
     "metadata": {},
     "output_type": "display_data"
    }
   ],
   "source": [
    "%%R\n",
    "###Calculate Bayes Factor\n",
    "source(\"../TADA/TADA.R\")\n",
    "ycase <- data$case_damaging + data$case_lof\n",
    "ycontrol <- data$case_damaging + data$control_lof\n",
    "ydn <- data$dn_lof + data$dn_damaging\n",
    "mutAll <- data$mut_lof + data$mut_damaging\n",
    "\n",
    "ytotal <- ycase + ycontrol\n",
    "Ncase <- N$ca\n",
    "Ncontrol <- N$cn\n",
    "pH0 <- Ncase/(Ncase + Ncontrol)\n",
    "\n",
    "bfcc <- function(ycase, ytotal, Ncase, Ncontrol,\n",
    "                 lower.gamma = 1, upper.gamma = 50,\n",
    "                 hyperGammaMeanCC = 1.94, hyperBetaCC = 1.98){\n",
    "  bfH0 <- dbinom(ycase, ytotal, prob = pH0)\n",
    "  \n",
    "  \n",
    "  bfH1 <- apply(cbind(ycase, ytotal), 1, function(x){\n",
    "    f1 <- function(gamma0)\n",
    "      dbinom(x[1], x[2], gamma0*Ncase/(gamma0*Ncase + Ncontrol))*dgamma(gamma0, shape = hyperGammaMeanCC*hyperBetaCC,\n",
    "                                                                        rate = hyperBetaCC)\n",
    "    return(integrate(f1, lower = lower.gamma, upper = upper.gamma)$value)\n",
    "  })\n",
    "  return(bfH1/bfH0)\n",
    "  \n",
    "}\n",
    "\n",
    "bfTempH1 <- apply(cbind(ycase, ytotal), 1, function(x)\n",
    "  dbinom(x[1], x[2], 1.9*Ncase/(1.9*Ncase + Ncontrol)))\n",
    "bfTempH0 <- apply(cbind(ycase, ytotal), 1, function(x)\n",
    "  dbinom(x[1], x[2], pH0))\n",
    "\n",
    "\n",
    "BFcc <- bfcc(ycase = ycase, ytotal = ytotal, Ncase = N$ca, Ncontrol = N$cn)\n",
    "\n",
    "BFdn <- bayes.factor.denovo(x = ydn, N = N$dn, mu = mutAll, gamma.mean = 6, beta = 1)\n",
    "\n",
    "BFall <- BFcc*BFdn\n",
    "cor(BFcc, bfTempH1/bfTempH0)\n"
   ]
  },
  {
   "cell_type": "code",
   "execution_count": 8,
   "metadata": {
    "collapsed": false
   },
   "outputs": [
    {
     "data": {
      "image/png": "[encoded data removed]"
     },
     "metadata": {},
     "output_type": "display_data"
    },
    {
     "data": {
      "image/png": "[encoded data removed]"
     },
     "metadata": {},
     "output_type": "display_data"
    }
   ],
   "source": [
    "%%R\n",
    "\n",
    "plot(BFcc, ycase - ycontrol , xlab = 'Case-control BF', ylab = 'case count - control count')\n",
    "plot(BFdn, ydn, xlab = 'De novo BF', ylab = 'De novo count')"
   ]
  },
  {
   "cell_type": "code",
   "execution_count": 9,
   "metadata": {
    "collapsed": false
   },
   "outputs": [
    {
     "data": {
      "text/plain": [
       "[1] 17 12\n",
       "         Gene      mut_lof mut_missense dn_damaging dn_lof control_damaging\n",
       "550   ALDH1L2 2.290933e-06 2.544296e-05           1      0               13\n",
       "4942     DPYD 2.614601e-06 2.863038e-05           1      1               22\n",
       "18219   TAF13 6.247358e-07 3.132438e-06           0      2                1\n",
       "16614  SETD1A 3.434251e-06 6.973815e-05           0      2                5\n",
       "11228     MAZ 9.143764e-07 2.793545e-05           0      0                1\n",
       "9858     LNX1 1.881175e-06 2.362092e-05           0      0               11\n",
       "20478    XPO7 3.535579e-06 3.172106e-05           1      0                2\n",
       "609    ALS2CL 2.960004e-06 3.336706e-05           0      1                5\n",
       "12315 NCKIPSD 1.904592e-06 2.744705e-05           0      1                0\n",
       "11601   MKI67 4.917779e-06 8.734509e-05           0      2                2\n",
       "11523     MIF 2.135010e-07 6.279413e-06           0      1                3\n",
       "9000  KIR2DL3 6.994990e-07 1.027114e-05           0      0                0\n",
       "8551    ITFG3 1.246894e-06 2.157846e-05           0      0                6\n",
       "10744   LPHN2 3.816321e-06 3.703919e-05           1      1               14\n",
       "20830  ZNF211 1.209178e-06 1.682831e-05           0      0                0\n",
       "20981  ZNF442 1.529576e-06 1.598829e-05           0      0                0\n",
       "4358     DARC 3.913169e-07 8.329314e-06           0      1                0\n",
       "      case_damaging control_lof case_lof mut_damaging        BF     qvalue\n",
       "550               8           6       21  7.69857e-06 256.27668 0.03392684\n",
       "4942             12           3        8  6.73710e-06  61.90333 0.08043011\n",
       "18219             0           0        1  6.95729e-07  47.70868 0.10652203\n",
       "16614             4           0        1  9.77920e-06  30.57428 0.13674663\n",
       "11228             0           5       16  1.23072e-06  28.61483 0.15725077\n",
       "9858              5           1       12  5.51080e-06  23.50359 0.17719106\n",
       "20478             1           0        5  8.04147e-06  23.17161 0.19184230\n",
       "609               4           5       12  3.92081e-06  23.00780 0.20300969\n",
       "12315             0           1        5  0.00000e+00  17.73503 0.21785717\n",
       "11601             2          11       10  1.79116e-06  16.17404 0.23182256\n",
       "11523             5           1        6  8.42673e-07  15.83452 0.24369312\n",
       "9000              0           4       13  0.00000e+00  14.61304 0.25514748\n",
       "8551              4           3       13  3.24541e-06  14.27897 0.26526036\n",
       "10744            13           1        0  1.25611e-05  13.97912 0.27428890\n",
       "20830             0           2       10  0.00000e+00  12.91381 0.28338297\n",
       "20981             0           5       14  0.00000e+00  12.66769 0.29163184\n",
       "4358              0           1        4  0.00000e+00  12.51691 0.29908148\n"
      ]
     },
     "metadata": {},
     "output_type": "display_data"
    }
   ],
   "source": [
    "%%R\n",
    "BFall <- BFcc*BFdn\n",
    "\n",
    "data$BF <- BFall\n",
    "data <- data[order(-data$BF),]\n",
    "pi0 <- 1 - 0.1\n",
    "data$qvalue <- Bayesian.FDR(data$BF, pi0)$FDR\n",
    "\n",
    "data1 <- (data[data$qvalue < 0.3, ])\n",
    "data1\n",
    "\n",
    "\n",
    "print(dim(data1))\n",
    "print(data1)\n"
   ]
  },
  {
   "cell_type": "code",
   "execution_count": null,
   "metadata": {
    "collapsed": true
   },
   "outputs": [],
   "source": []
  }
 ],
 "metadata": {
  "kernelspec": {
   "display_name": "Python 3",
   "language": "python",
   "name": "python3"
  },
  "language_info": {
   "codemirror_mode": {
    "name": "ipython",
    "version": 3
   },
   "file_extension": ".py",
   "mimetype": "text/x-python",
   "name": "python",
   "nbconvert_exporter": "python",
   "pygments_lexer": "ipython3",
   "version": "3.4.0"
  }
 },
 "nbformat": 4,
 "nbformat_minor": 0
}
