{
 "cells": [
  {
   "cell_type": "code",
   "execution_count": 1,
   "metadata": {
    "collapsed": true
   },
   "outputs": [],
   "source": [
    "%load_ext rpy2.ipython"
   ]
  },
  {
   "cell_type": "code",
   "execution_count": 2,
   "metadata": {
    "collapsed": true
   },
   "outputs": [],
   "source": [
    "%%R\n",
    "mainDir=\"./\"\n",
    "source(paste(mainDir, \"/TADA/TADA.R\", sep = \"\"))\n",
    "#source(paste(mainDir, \"/newLikelihood.R\", sep = \"\"))\n",
    "library(\"parallel\")\n",
    "\n",
    "\n",
    "mu.frac <- c(0.074, 0.32)\n",
    "gamma.mean.dn <- c(20, 4.7)\n",
    "beta.dn <- c(1,1)\n",
    "gamma.mean.CC <- c(2.3, 1.00)\n",
    "beta.CC <- c(4.0, 1000)\n",
    "rho1 <- c(0.1, 0.5)\n",
    "nu1 <- c(200, 100)\n",
    "rho0 <- c(0.1, 0.5)\n",
    "nu0 <- c(200, 100)\n",
    "hyperpar <- as.array(rbind(gamma.mean.dn, beta.dn, gamma.mean.CC, beta.CC, rho1, nu1, rho0, nu0))\n",
    "l <- 100\n",
    "pi0 <- 0.94 # the fraction of non-risk genes\n",
    "\n",
    "# ASC (Autism Sequencing Consortium) data\n",
    "# The file name contains the sample size information\n",
    "# The only relevant counts are dn.LoF and dn.mis3\n",
    "data <- read.csv(\"TADA/data/ASC_2231trios_1333trans_1601cases_5397controls.csv\", header=TRUE, as.is=TRUE)\n",
    "ntrio <- 2231  # number of trios\n",
    "ncase <- 1601  # number of cases\n",
    "nctrl <- 5397  # number of controls\n",
    "ntrans <- 1333 # number of subjects with transmission data\n",
    "N <- list(dn=ntrio, ca=ntrans+ncase, cn=ntrans+nctrl)\n"
   ]
  },
  {
   "cell_type": "code",
   "execution_count": 3,
   "metadata": {
    "collapsed": false
   },
   "outputs": [
    {
     "data": {
      "text/plain": [
       "    Gene  mut.rate dn.LoF case.LoF ctrl.LoF trans.LoF ntrans.LoF dn.mis3\n",
       "1   A1BG 2.355e-05      0        0        1         0          0       0\n",
       "2   A1CF 2.174e-05      0        1        2         1          1       0\n",
       "3  A2LD1 6.090e-06      0        0        0         0          0       0\n",
       "4    A2M 5.640e-05      0        1        5         1          0       0\n",
       "5  A2ML1 5.700e-05      0        3       16         2          6       0\n",
       "6 A4GALT 2.415e-05      0        0        2         1          0       0\n",
       "  case.mis3 ctrl.mis3 trans.mis3 ntrans.mis3\n",
       "1         0         4          7           3\n",
       "2         0         7          3           7\n",
       "3         0         0          0           0\n",
       "4         4        22          6           6\n",
       "5         5        30          6          10\n",
       "6         1         5          2           1\n"
      ]
     },
     "metadata": {},
     "output_type": "display_data"
    }
   ],
   "source": [
    "%%R\n",
    "head(data)"
   ]
  },
  {
   "cell_type": "code",
   "execution_count": 4,
   "metadata": {
    "collapsed": true
   },
   "outputs": [],
   "source": [
    "%%R\n",
    "# Running TADA\n",
    "counts <- as.array(cbind(data$dn.LoF, data$case.LoF+data$trans.LoF, data$ctrl.LoF+data$ntrans.LoF, data$dn.mis3, data$case.mis3+data$trans.mis3,\n",
    " data$ctrl.mis3+data$ntrans.mis3))\n",
    "\n",
    "\n",
    "count.mu.Data <- cbind(counts[, 1:3], data$mut.rate*mu.frac[1])\n",
    "#Count.mu.Data <- cbind(counts[, 4:6], data$mut.rate*mu.frac[2])\n",
    "\n",
    "########Calculate data.frame and likelihood function\n",
    "##countData should be a data.frame including all annotation types.\n",
    "#Each type includes 3 columns: de novo, case and control\n",
    "                                        #mutData: a data.frame including mutation rates of each type\n"
   ]
  },
  {
   "cell_type": "code",
   "execution_count": 5,
   "metadata": {
    "collapsed": true
   },
   "outputs": [],
   "source": [
    "%%R\n",
    "logLikelihood <- function(countData, hyperpar, pi0 = 0.06, mutationData,\n",
    "                          testType = c(\"dn\", \"CaseControl\", \"both\"), nCore = 1, combinationType = 1){\n",
    "    ##Identify how many annotation types\n",
    "    if (is.numeric(mutationData))\n",
    "        mutationData <- cbind(mutationData)\n",
    "    kk <- dim(mutationData)[2]\n",
    "\n",
    "        ###Choose only de novo (dn), only cc (cc), or both (\"both\")\n",
    "        testType <- match.arg(testType)\n",
    "\n",
    "#    message(\"testType: \", testType)\n",
    "\n",
    "    dataOut <- NULL\n",
    "\n",
    "    logLLKallType <- 0\n",
    "\n",
    "    for (jj in 1:kk){\n",
    "\n",
    "        ##Extract each annotation\n",
    "        sIndex <- 3*(jj - 1) + 1\n",
    "\n",
    "        countData.type <- apply(cbind(countData[, c(sIndex, sIndex + 1, sIndex + 2)], mutationData[, jj]), 1, as.list)\n",
    "\n",
    "#        print(dim(countData.type))\n",
    "\n",
    "        typeData <- mclapply(countData.type, function(xRow){\n",
    "                                 xRow <- as.numeric(xRow)\n",
    "            x <- list(dn = xRow[1],\n",
    "                    ca = xRow[2], cn = xRow[3], mu = xRow[4])\n",
    "\n",
    " #           print(xRow)\n",
    "                #####Alternative hypothesis\n",
    "                x.alt.CC <- evidence.alt.CC(x = x, N = N, gamma.mean = hyperpar[3, jj],\n",
    "                                            beta = hyperpar[4, jj],\n",
    "                                            rho1 = hyperpar[5, jj], nu1 = hyperpar[6, jj])$total\n",
    "                            x.alt.dn <- dnbinom(x = x$dn, hyperpar[1, jj]*hyperpar[2, jj],\n",
    "                                   hyperpar[2, jj]/(hyperpar[2, jj] + 2*N$dn*x$mu))\n",
    "                    #evidence.alt.dn(x = xRow[1], N = N$dn, mu = xRow[4],\n",
    "                     #                       gamma.mean = hyperpar[1, 1], beta = hyperpar[2, 1])\n",
    "\n",
    "#####Null hypothesis\n",
    "\n",
    "                x.null.CC <- evidence.null.CC(x = x, N = N, rho0 = hyperpar[7, jj], nu0 = hyperpar[8, jj])$total\n",
    "                x.null.dn <- dpois(x$dn, 2*N$dn*x$mu) #evidence.null.dn(x = xRow[1], N = N$dn, mu = xRow[4])\n",
    "\n",
    "\n",
    "            return(c(x.alt.CC, x.alt.dn, x.null.CC, x.null.dn))\n",
    "\n",
    "        }, mc.cores = nCore)\n",
    "\n",
    "        #########Done\n",
    "\n",
    "        ##############################################\n",
    "                    ##########Calculate log likelihood\n",
    "        typeData <- do.call(rbind, typeData)\n",
    "\n",
    "            pH1.dn <- typeData[, 2]\n",
    "            pH0.dn <- typeData[, 4]\n",
    "\n",
    "        pH1.cc <- typeData[, 1]\n",
    "        pH0.cc <- typeData[, 3]\n",
    "\n",
    "        if (testType == \"dn\"){\n",
    "            pH1 <- pi0*pH1.dn\n",
    "            pH0 <- (1 - pi0)*pH0.dn\n",
    "        }\n",
    "        if (testType == \"CaseControl\"){\n",
    "            pH1 <- pi0*pH1.cc\n",
    "            pH0 <- (1 - pi0)*pH0.cc\n",
    "        }\n",
    "\n",
    "        if (testType == \"both\") {\n",
    "            pH1 <- pi0*pH1.cc*pH1.dn\n",
    "            pH0 <- (1- pi0)*pH0.cc*pH0.dn\n",
    "            if (jj > 1){\n",
    "                pH1 <- pi0*pH1.dn\n",
    "                pH0 <- (1 - pi0)*pH0.dn\n",
    "            }\n",
    "        }\n",
    "            pAll <- pH1 + pH0\n",
    "\n",
    "            #sum(log(pAll))\n",
    "\n",
    "            log.pAll <- sum(log(pAll[!is.na(pAll)]))#log(prod(pAll))\n",
    "\n",
    "\n",
    "        dataOut <- cbind(dataOut, typeData)\n",
    "\n",
    "            logLLKallType <- logLLKallType + log.pAll\n",
    "\n",
    "\n",
    "    }\n",
    "\n",
    "\n",
    "    return(list(dataOut = dataOut, logLik = logLLKallType))\n",
    "}\n",
    "\n",
    "\n",
    "\n"
   ]
  },
  {
   "cell_type": "code",
   "execution_count": 13,
   "metadata": {
    "collapsed": false
   },
   "outputs": [],
   "source": [
    "%%R\n",
    "countsAll <- cbind(counts, data$mut.rate*mu.frac[1], data$mut.rate*mu.frac[2])\n",
    "\n",
    "tempCount <- countsAll[sample(1:dim(countsAll)[1], 2000), ]\n",
    "\n",
    "countData <- tempCount[, 1:6]\n",
    "mutationData <- tempCount[, 7:8]"
   ]
  },
  {
   "cell_type": "code",
   "execution_count": 14,
   "metadata": {
    "collapsed": false
   },
   "outputs": [
    {
     "data": {
      "text/plain": [
       "[1] 7026.05\n"
      ]
     },
     "metadata": {},
     "output_type": "display_data"
    }
   ],
   "source": [
    "\n",
    "%%R\n",
    "\n",
    "piFunc.bothLoF.dnMis3 <- function(xIn){\n",
    "  \n",
    "  piX <- xIn[1]\n",
    "  \n",
    "  hyperparNew <- matrix(1, ncol = 2, nrow = 8)\n",
    "  \n",
    "  #######LoF\n",
    "  ###Denovo\n",
    "  hyperparNew[1, 1] <- xIn[2] ##gamma.dn.mean\n",
    "  hyperparNew[2, 1] <- xIn[3] ##beta.dn\n",
    "  ###Case-control\n",
    "  hyperparNew[3, 1] <- xIn[4] ##gamma.cc.mean\n",
    "  hyperparNew[4, 1] <- xIn[5] ##beta.cc\n",
    "  hyperparNew[5, 1] <- xIn[6] ##rho1\n",
    "  hyperparNew[6, 1] <- xIn[7] ##nu1\n",
    "  hyperparNew[7, 1] <- xIn[8] ##rho0\n",
    "  hyperparNew[8, 1] <- xIn[9] ##nu0\n",
    "  \n",
    "  ####Mis3\n",
    "  hyperparNew[1, 2] <- xIn[10] ##gamma.dn.mean.mis3\n",
    "  hyperparNew[2, 2] <- xIn[11] ##beta.dn.mis3\n",
    "  \n",
    "  \n",
    "  log.All <- -logLikelihood(countData = countData, hyperpar = hyperparNew,testType = \"both\",\n",
    "                            pi0 = piX, mutationData = mutationData)$logLik\n",
    "  return(log.All)\n",
    "}\n",
    "\n",
    "library(\"optimx\")\n",
    "x1 <- c(0.07, 22, 0.95, 2.8, 5, 1, 10000, 0.45, 800, 4, 1.2)\n",
    "piFunc.bothLoF.dnMis3(xIn = x1)\n",
    "\n"
   ]
  },
  {
   "cell_type": "code",
   "execution_count": 15,
   "metadata": {
    "collapsed": false
   },
   "outputs": [
    {
     "data": {
      "text/plain": [
       "           p1 p2  p3       p4 p5  p6       p7        p8  p9      p10 p11\n",
       "L-BFGS-B 0.09 10 0.9 2.322967  6 1.2 9999.597 0.4585633 900 4.057077 0.8\n",
       "            value fevals gevals niter convcode  kkt1  kkt2 xtimes\n",
       "L-BFGS-B 6990.383    104    104    NA        0 FALSE FALSE 2566.3\n"
      ]
     },
     "metadata": {},
     "output_type": "display_data"
    }
   ],
   "source": [
    "%%R\n",
    "library(\"optimx\")\n",
    "\n",
    "es.p <- optimx(par = c(0.07, 22, 0.95, 2.8, 5, 1, 10000, 0.45, 800, 4, 1.2),\n",
    "               fn = piFunc.bothLoF.dnMis3,\n",
    "               lower = c(0.02, 10, 0.9, 2, 2, 0.6, 9000, 0.3, 660, 3, 0.8),\n",
    "               upper = c(0.09, 30, 1.1, 4, 6, 1.2, 11000, 0.6, 900, 6, 2))\n",
    "es.p"
   ]
  },
  {
   "cell_type": "code",
   "execution_count": 16,
   "metadata": {
    "collapsed": false
   },
   "outputs": [
    {
     "data": {
      "text/plain": [
       "           p1 p2  p3       p4 p5  p6       p7        p8       p9      p10 p11\n",
       "L-BFGS-B 0.09 10 0.6 2.417714  6 1.2 9999.926 0.4367284 821.3144 3.471578 0.8\n",
       "            value fevals gevals niter convcode  kkt1  kkt2 xtimes\n",
       "L-BFGS-B 7008.855    115    115    NA        1 FALSE FALSE 2824.8\n"
      ]
     },
     "metadata": {},
     "output_type": "display_data"
    }
   ],
   "source": [
    "%%R\n",
    "library(\"optimx\")\n",
    "\n",
    "es.p1 <- optimx(par = c(0.07, 22, 0.95, 2.8, 5, 1, 10000, 0.45, 800, 4, 1.2),\n",
    "               fn = piFunc.bothLoF.dnMis3,\n",
    "               lower = c(0.02, 10, 0.6, 2, 2, 0.6, 5000, 0.3, 660, 3, 0.8),\n",
    "               upper = c(0.09, 30, 1.5, 4, 6, 1.2, 15000, 0.9, 3000, 6, 2))\n",
    "es.p1"
   ]
  },
  {
   "cell_type": "code",
   "execution_count": 17,
   "metadata": {
    "collapsed": true
   },
   "outputs": [],
   "source": [
    "%%R\n",
    "countsAll <- cbind(counts, data$mut.rate*mu.frac[1], data$mut.rate*mu.frac[2])\n",
    "\n",
    "tempCount <- countsAll[sample(1:dim(countsAll)[1], 100), ]\n",
    "\n",
    "countData <- tempCount[, 1:6]\n",
    "mutationData <- tempCount[, 7:8]"
   ]
  },
  {
   "cell_type": "code",
   "execution_count": 18,
   "metadata": {
    "collapsed": false
   },
   "outputs": [
    {
     "data": {
      "text/plain": [
       "           p1 p2  p3 p4       p5        p6       p7        p8       p9 p10 p11\n",
       "L-BFGS-B 0.02 10 0.6  2 5.991746 0.7792232 9995.012 0.8453653 2662.505   3   2\n",
       "            value fevals gevals niter convcode  kkt1  kkt2 xtimes\n",
       "L-BFGS-B 312.7109    108    108    NA        0 FALSE FALSE 130.81\n"
      ]
     },
     "metadata": {},
     "output_type": "display_data"
    }
   ],
   "source": [
    "%%R\n",
    "library(\"optimx\")\n",
    "\n",
    "es.p2 <- optimx(par = c(0.07, 22, 0.95, 2.8, 5, 1, 10000, 0.45, 800, 4, 1.2),\n",
    "               fn = piFunc.bothLoF.dnMis3,\n",
    "               lower = c(0.02, 10, 0.6, 2, 2, 0.6, 5000, 0.3, 660, 3, 0.8),\n",
    "               upper = c(0.09, 30, 1.5, 4, 6, 1.2, 15000, 0.9, 3000, 6, 2))\n",
    "es.p2"
   ]
  },
  {
   "cell_type": "code",
   "execution_count": null,
   "metadata": {
    "collapsed": true
   },
   "outputs": [],
   "source": []
  }
 ],
 "metadata": {
  "kernelspec": {
   "display_name": "Python 3",
   "language": "python",
   "name": "python3"
  },
  "language_info": {
   "codemirror_mode": {
    "name": "ipython",
    "version": 3
   },
   "file_extension": ".py",
   "mimetype": "text/x-python",
   "name": "python",
   "nbconvert_exporter": "python",
   "pygments_lexer": "ipython3",
   "version": "3.4.0"
  }
 },
 "nbformat": 4,
 "nbformat_minor": 0
}
