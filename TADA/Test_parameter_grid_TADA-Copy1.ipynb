{
 "cells": [
  {
   "cell_type": "code",
   "execution_count": 2,
   "metadata": {
    "collapsed": false
   },
   "outputs": [],
   "source": [
    "%load_ext rpy2.ipython"
   ]
  },
  {
   "cell_type": "code",
   "execution_count": 3,
   "metadata": {
    "collapsed": true
   },
   "outputs": [],
   "source": [
    "%%R\n",
    "mu.frac <- c(0.074, 0.32)\n",
    "gamma.mean.dn <- c(20, 4.7)\n",
    "beta.dn <- c(1,1)\n",
    "gamma.mean.CC <- c(2.3, 1.00)\n",
    "beta.CC <- c(4.0, 1000)\n",
    "rho1 <- c(0.1, 0.5)\n",
    "nu1 <- c(200, 100)\n",
    "rho0 <- c(0.1, 0.5)\n",
    "nu0 <- c(200, 100)\n",
    "hyperpar <- as.array(rbind(gamma.mean.dn, beta.dn, gamma.mean.CC, beta.CC, rho1, nu1, rho0, nu0))\n",
    "l <- 100\n",
    "pi0 <- 0.94 # the fraction of non-risk genes\n",
    "\n",
    "# ASC (Autism Sequencing Consortium) data\n",
    "# The file name contains the sample size information\n",
    "# The only relevant counts are dn.LoF and dn.mis3\n",
    "data <- read.csv(\"TADA/data/ASC_2231trios_1333trans_1601cases_5397controls.csv\", header=TRUE, as.is=TRUE)\n",
    "ntrio <- 2231  # number of trios\n",
    "ncase <- 1601  # number of cases\n",
    "nctrl <- 5397  # number of controls\n",
    "ntrans <- 1333 # number of subjects with transmission data\n",
    "N <- list(dn=ntrio, ca=ntrans+ncase, cn=ntrans+nctrl)\n",
    "\n",
    "# Running TADA\n",
    "counts <- as.array(cbind(data$dn.LoF, data$case.LoF+data$trans.LoF, data$ctrl.LoF+data$ntrans.LoF, data$dn.mis3, data$case.mis3+data$trans.mis3,\n",
    " data$ctrl.mis3+data$ntrans.mis3))\n",
    "\n",
    "\n",
    "count.mu.Data <- cbind(counts[, 1:3], data$mut.rate*mu.frac[1])\n",
    "#Count.mu.Data <- cbind(counts[, 4:6], data$mut.rate*mu.frac[2])\n",
    "\n",
    "########Calculate data.frame and likelihood function\n",
    "##countData should be a data.frame including all annotation types.\n",
    "#Each type includes 3 columns: de novo, case and control\n",
    "                                        #mutData: a data.frame including mutation rates of each type\n",
    "\n",
    "logLikelihood <- function(countData, hyperpar, pi0 = 0.06, mutationData,\n",
    "                          testType = c(\"dn\", \"CaseControl\", \"both\"), nCore = 1, combinationType = 1){\n",
    "    ##Identify how many annotation types\n",
    "    if (is.numeric(mutationData))\n",
    "        mutationData <- cbind(mutationData)\n",
    "    kk <- dim(mutationData)[2]\n",
    "\n",
    "        ###Choose only de novo (dn), only cc (cc), or both (\"both\")\n",
    "        testType <- match.arg(testType)\n",
    "\n",
    "#    message(\"testType: \", testType)\n",
    "\n",
    "    dataOut <- NULL\n",
    "\n",
    "    logLLKallType <- 0\n",
    "\n",
    "    for (jj in 1:kk){\n",
    "\n",
    "        ##Extract each annotation\n",
    "        sIndex <- 3*(jj - 1) + 1\n",
    "\n",
    "        countData.type <- apply(cbind(countData[, c(sIndex, sIndex + 1, sIndex + 2)], mutationData[, jj]), 1, as.list)\n",
    "\n",
    "#        print(dim(countData.type))\n",
    "\n",
    "        typeData <- mclapply(countData.type, function(xRow){\n",
    "                                 xRow <- as.numeric(xRow)\n",
    "            x <- list(dn = xRow[1],\n",
    "                    ca = xRow[2], cn = xRow[3], mu = xRow[4])\n",
    "\n",
    " #           print(xRow)\n",
    "                #####Alternative hypothesis\n",
    "                x.alt.CC <- evidence.alt.CC(x = x, N = N, gamma.mean = hyperpar[3, jj],\n",
    "                                            beta = hyperpar[4, jj],\n",
    "                                            rho1 = hyperpar[5, jj], nu1 = hyperpar[6, jj])$total\n",
    "\n",
    "                x.alt.dn <- dnbinom(x = x$dn, hyperpar[1, jj]*hyperpar[2, jj],\n",
    "                                   hyperpar[2, jj]/(hyperpar[2, jj] + 2*N$dn*x$mu))\n",
    "                    #evidence.alt.dn(x = xRow[1], N = N$dn, mu = xRow[4],\n",
    "                     #                       gamma.mean = hyperpar[1, 1], beta = hyperpar[2, 1])\n",
    "\n",
    "#####Null hypothesis\n",
    "\n",
    "                x.null.CC <- evidence.null.CC(x = x, N = N, rho0 = hyperpar[7, jj], nu0 = hyperpar[8, jj])$total\n",
    "                x.null.dn <- dpois(x$dn, 2*N$dn*x$mu) #evidence.null.dn(x = xRow[1], N = N$dn, mu = xRow[4])\n",
    "\n",
    "\n",
    "            return(c(x.alt.CC, x.alt.dn, x.null.CC, x.null.dn))\n",
    "\n",
    "        }, mc.cores = nCore)\n",
    "\n",
    "        #########Done\n",
    "\n",
    "        ##############################################\n",
    "                    ##########Calculate log likelihood\n",
    "        typeData <- do.call(rbind, typeData)\n",
    "\n",
    "            pH1.dn <- typeData[, 2]\n",
    "            pH0.dn <- typeData[, 4]\n",
    "\n",
    "        pH1.cc <- typeData[, 1]\n",
    "        pH0.cc <- typeData[, 3]\n",
    "\n",
    "        if (testType == \"dn\"){\n",
    "            pH1 <- pi0*pH1.dn\n",
    "            pH0 <- (1 - pi0)*pH0.dn\n",
    "        }\n",
    "        if (testType == \"CaseControl\"){\n",
    "            pH1 <- pi0*pH1.cc\n",
    "            pH0 <- (1 - pi0)*pH0.cc\n",
    "        }\n",
    "\n",
    "        if (testType == \"both\") {\n",
    "            pH1 <- pi0*pH1.cc*pH1.dn\n",
    "            pH0 <- (1- pi0)*pH0.cc*pH0.dn\n",
    "        }\n",
    "            pAll <- pH1 + pH0\n",
    "\n",
    "            #sum(log(pAll))\n",
    "\n",
    "            log.pAll <- sum(log(pAll[!is.na(pAll)]))#log(prod(pAll))\n",
    "\n",
    "\n",
    "        dataOut <- cbind(dataOut, typeData)\n",
    "\n",
    "            logLLKallType <- logLLKallType + log.pAll\n",
    "\n",
    "\n",
    "    }\n",
    "\n",
    "\n",
    "    return(list(dataOut = dataOut, logLik = logLLKallType))\n",
    "}\n",
    "\n",
    "\n"
   ]
  },
  {
   "cell_type": "code",
   "execution_count": 19,
   "metadata": {
    "collapsed": true
   },
   "outputs": [],
   "source": [
    "%%R\n",
    "\n",
    "mutationData <- data$mut.rate*mu.frac[1]\n",
    "piFunc.dn.3 <- function(x){\n",
    "\n",
    "    piX <- x[1]\n",
    "\n",
    "    hyperparNew <- hyperpar\n",
    "    hyperparNew[1, 1] <- x[2]\n",
    "    hyperparNew[2, 1] <- x[3]\n",
    "\n",
    "    log.All <- -logLikelihood(countData = counts, hyperpar = hyperparNew,\n",
    "                                      pi0 = piX, mutationData = mutationData)$logLik\n",
    "    return(log.All)\n",
    "}\n"
   ]
  },
  {
   "cell_type": "code",
   "execution_count": 20,
   "metadata": {
    "collapsed": false
   },
   "outputs": [],
   "source": [
    "%%R\n",
    "n.pi <- 50\n",
    "n.gamma.mean.dn <- 50\n",
    "n.beta.dn <- 50\n",
    "\n",
    "s.pi <- sort(runif(n.pi, 0.00001, 0.1))\n",
    "s.gamma.mean.dn <- sort(runif(n.gamma.mean.dn, 1, 50))\n",
    "s.beta.dn <- sort(runif(n.beta.dn, 1, 10))\n",
    "\n",
    "dn.grid <- list()\n",
    "inDex <- 1\n",
    "for (ii in 1:n.pi){\n",
    "    for (jj in 1:n.gamma.mean.dn){\n",
    "        for (kk in 1:n.beta.dn){\n",
    "            dn.grid[[inDex]] <- c(s.pi[ii], s.gamma.mean.dn[jj], s.beta.dn[kk])\n",
    "        inDex <- inDex + 1\n",
    "        }\n",
    "    }\n",
    "}"
   ]
  },
  {
   "cell_type": "code",
   "execution_count": 21,
   "metadata": {
    "collapsed": false
   },
   "outputs": [],
   "source": [
    "%%R\n",
    "library(\"parallel\")\n",
    "\n",
    "llk <- mclapply(dn.grid, piFunc.dn.3)\n"
   ]
  },
  {
   "cell_type": "code",
   "execution_count": 22,
   "metadata": {
    "collapsed": true
   },
   "outputs": [],
   "source": [
    "%%R\n",
    "c.grid <- cbind(do.call(rbind, dn.grid), llk)"
   ]
  },
  {
   "cell_type": "code",
   "execution_count": 23,
   "metadata": {
    "collapsed": false
   },
   "outputs": [
    {
     "name": "stdout",
     "output_type": "stream",
     "text": [
      "Error in plot.window(...) : need finite 'ylim' values\n",
      "In addition: There were 50 or more warnings (use warnings() to see the first 50)\n",
      "Error in plot.window(...) : need finite 'ylim' values\n"
     ]
    }
   ],
   "source": [
    "%%R -h 20 -w 20 -u cm\n",
    "\n",
    "plot(c.grid[, 1], c.grid[, 4], xlab = 'pi', ylab = '-logLikelihood')\n",
    "plot(c.grid[, 2], c.grid[, 4], xlab = 'gamma.mean.dn', ylab = '-logLikelihood')\n",
    "\n",
    "plot(c.grid[, 3], c.grid[, 4], xlab = 'beta.dn', ylab = '-logLikelihood')\n",
    "\n",
    "\n"
   ]
  },
  {
   "cell_type": "code",
   "execution_count": 24,
   "metadata": {
    "collapsed": false
   },
   "outputs": [
    {
     "data": {
      "text/plain": [
       "                                  \n",
       "[1,] 0.004678172 1.409251 1.529332\n",
       "[2,] 0.004678172 1.409251 1.547745\n",
       "[3,] 0.004678172 1.409251 1.663911\n",
       "[4,] 0.004678172 1.409251 1.887851\n",
       "[5,] 0.004678172 1.409251 1.947711\n",
       "[6,] 0.004678172 1.409251 2.23663 \n",
       "     llk                                                                       \n",
       "[1,] \"Error in FUN(X[[1L]], ...) : could not find function \"evidence.alt.CC\"\\n\"\n",
       "[2,] \"Error in FUN(X[[1L]], ...) : could not find function \"evidence.alt.CC\"\\n\"\n",
       "[3,] \"Error in FUN(X[[1L]], ...) : could not find function \"evidence.alt.CC\"\\n\"\n",
       "[4,] \"Error in FUN(X[[1L]], ...) : could not find function \"evidence.alt.CC\"\\n\"\n",
       "[5,] \"Error in FUN(X[[1L]], ...) : could not find function \"evidence.alt.CC\"\\n\"\n",
       "[6,] \"Error in FUN(X[[1L]], ...) : could not find function \"evidence.alt.CC\"\\n\"\n"
      ]
     },
     "metadata": {},
     "output_type": "display_data"
    }
   ],
   "source": [
    "%%R\n",
    "head(c.grid)"
   ]
  },
  {
   "cell_type": "code",
   "execution_count": null,
   "metadata": {
    "collapsed": true
   },
   "outputs": [],
   "source": []
  }
 ],
 "metadata": {
  "kernelspec": {
   "display_name": "Python 3",
   "language": "python",
   "name": "python3"
  },
  "language_info": {
   "codemirror_mode": {
    "name": "ipython",
    "version": 3
   },
   "file_extension": ".py",
   "mimetype": "text/x-python",
   "name": "python",
   "nbconvert_exporter": "python",
   "pygments_lexer": "ipython3",
   "version": "3.4.0"
  }
 },
 "nbformat": 4,
 "nbformat_minor": 0
}
