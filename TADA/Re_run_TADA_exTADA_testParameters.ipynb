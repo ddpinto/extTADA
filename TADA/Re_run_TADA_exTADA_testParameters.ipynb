{
 "cells": [
  {
   "cell_type": "code",
   "execution_count": 2,
   "metadata": {
    "collapsed": true
   },
   "outputs": [],
   "source": [
    "%load_ext rpy2.ipython"
   ]
  },
  {
   "cell_type": "markdown",
   "metadata": {},
   "source": [
    "###Change gamma.CC"
   ]
  },
  {
   "cell_type": "code",
   "execution_count": 3,
   "metadata": {
    "collapsed": false
   },
   "outputs": [
    {
     "data": {
      "text/plain": [
       "    Gene mut.rate dn.LoF case.LoF ctrl.LoF trans.LoF ntrans.LoF dn.mis3\n",
       "1   A1BG 2.36e-05      0        0        1         0          0       0\n",
       "2   A1CF 2.17e-05      0        1        2         1          1       0\n",
       "3  A2LD1 6.09e-06      0        0        0         0          0       0\n",
       "4    A2M 5.64e-05      0        1        5         1          0       1\n",
       "5  A2ML1 5.70e-05      0        3       16         2          6       1\n",
       "6 A4GALT 2.42e-05      0        0        2         1          0       0\n",
       "  case.mis3 ctrl.mis3 trans.mis3 ntrans.mis3     BF.dn         BF qvalue.dn\n",
       "1         0         4          7           3 0.7641762 0.54953615 0.9308429\n",
       "2         0         7          3           7 0.7799631 0.75499580 0.9294060\n",
       "3         0         0          0           0 0.9322423 0.50824558 0.8592336\n",
       "4         4        22          6           6 0.5305202 0.29674445 0.9388012\n",
       "5         5        30          6          10 0.5270516 0.05155223 0.9388542\n",
       "6         1         5          2           1 0.7590199 0.63110457 0.9312457\n",
       "     qvalue\n",
       "1 0.9132353\n",
       "2 0.8841540\n",
       "3 0.9229287\n",
       "4 0.9456775\n",
       "5 0.9506706\n",
       "6 0.9018963\n",
       "[1] 14952\n"
      ]
     },
     "metadata": {},
     "output_type": "display_data"
    }
   ],
   "source": [
    "%%R\n",
    "# ASC (Autism Sequencing Consortium) data\n",
    "# The file name contains the sample size information\n",
    "# The only relevant counts are dn.LoF and dn.mis3\n",
    "#data <- read.csv(\"data/ASC_2231trios_1333trans_1601cases_5397controls.csv\", header=TRUE, as.is=TRUE)\n",
    "#ntrio <- 2231  # number of trios\n",
    "#ncase <- 1601  # number of cases\n",
    "#nctrl <- 5397  # number of controls\n",
    "#ntrans <- 1333 # number of subjects with transmission data\n",
    "#N <- list(dn=ntrio, ca=ntrans+ncase, cn=ntrans+nctrl)\n",
    "\n",
    "data <- read.csv(\"data/nature_aut_id_epi.merged.txt\", header = TRUE, sep = \" \")\n",
    "#source(\"TADA/TADA.R\")\n",
    "ntrio <- 2270 + 32 + 0 + 2508 ##AUT\n",
    "ntrio <- ntrio + 0 + 356 #add EPI\n",
    "ntrio <- ntrio + 100 + 0 + 41 + 51 ##add ID samples\n",
    "ncase <- 1601 #Only from AUT paper\n",
    "nctrl <- 5397  #Only from AUT paper\n",
    "ntrans <- 1298 ##Check this information, Only use transmitted information from AUT paper nature13772\n",
    "#ntrans <- ntrio\n",
    "\n",
    "N <- list(dn=ntrio, ca=ntrans+ncase, cn=ntrans+nctrl)\n",
    "\n",
    "\n",
    "print(head(data))\n",
    "\n",
    "sum(unlist(N))"
   ]
  },
  {
   "cell_type": "code",
   "execution_count": 4,
   "metadata": {
    "collapsed": false
   },
   "outputs": [
    {
     "data": {
      "text/plain": [
       "               [,1]     [,2]\n",
       "gamma.mean.dn  14.0    2.330\n",
       "beta.dn         4.8    2.325\n",
       "gamma.mean.CC   2.3    1.000\n",
       "beta.CC         4.0 1000.000\n",
       "rho1            0.1    0.500\n",
       "nu1           200.0  100.000\n",
       "rho0            0.1    0.500\n",
       "nu0           200.0  100.000\n"
      ]
     },
     "metadata": {},
     "output_type": "display_data"
    }
   ],
   "source": [
    "%%R\n",
    "\n",
    "source(\"scripts/TADA/TADA.R\")\n",
    "\n",
    "#################################################################\n",
    "# Application of TADA\n",
    "#################################################################\n",
    "\n",
    "# Model parameters: two categories of mutations - LoF and mis3 mutations (\"probably damaging\" by PolyPhen2)\n",
    "mu.frac <- c(0.074, 0.32) ##Mutation rates for specific category\n",
    "#gamma.mean.dn <- c(20, 4.7)\n",
    "gamma.mean.dn <- c(14, 2.33)\n",
    "#beta.dn <- c(1,1)\n",
    "beta.dn <- c(4.8, 2.325)\n",
    "\n",
    "\n",
    "gamma.mean.CC <- c(2.3, 1.00)\n",
    "\n",
    "#gamma.mean.CC <- c(2.0, 1.00)\n",
    "\n",
    "\n",
    "beta.CC <- c(4.0, 1000)\n",
    "rho1 <- c(0.1, 0.5)\n",
    "nu1 <- c(200, 100)\n",
    "rho0 <- c(0.1, 0.5)\n",
    "nu0 <- c(200, 100)\n",
    "hyperpar <- as.array(rbind(gamma.mean.dn, beta.dn, gamma.mean.CC, beta.CC, rho1, nu1, rho0, nu0))\n",
    "l <- 100\n",
    "#pi0 <- 0.94 # the fraction of non-risk genes\n",
    "pi0 <- 1 - 0.07419\n",
    "\n",
    "hyperpar"
   ]
  },
  {
   "cell_type": "code",
   "execution_count": 7,
   "metadata": {
    "collapsed": false
   },
   "outputs": [
    {
     "data": {
      "text/plain": [
       "     [,1] [,2] [,3] [,4] [,5] [,6]\n",
       "[1,]    0    0    1    0    7    7\n",
       "[2,]    0    2    3    0    3   14\n",
       "[3,]    0    0    0    0    0    0\n",
       "[4,]    0    2    5    1   10   28\n",
       "[5,]    0    5   22    1   11   40\n",
       "[6,]    0    1    2    0    3    6\n"
      ]
     },
     "metadata": {},
     "output_type": "display_data"
    }
   ],
   "source": [
    "%%R\n",
    "\n",
    "# Running TADA\n",
    "counts <- as.array(cbind(data$dn.LoF, ##Xd\n",
    "                         data$case.LoF+data$trans.LoF, data$ctrl.LoF+data$ntrans.LoF, ##X1, X0\n",
    "                         data$dn.mis3, \n",
    "                         data$case.mis3+data$trans.mis3, data$ctrl.mis3+data$ntrans.mis3))\n",
    "head(counts)"
   ]
  },
  {
   "cell_type": "code",
   "execution_count": 24,
   "metadata": {
    "collapsed": false
   },
   "outputs": [
    {
     "data": {
      "text/plain": [
       "               [,1]     [,2]\n",
       "gamma.mean.dn  20.0    4.700\n",
       "beta.dn         4.8    2.325\n",
       "gamma.mean.CC   2.0    1.000\n",
       "beta.CC         4.0 1000.000\n",
       "rho1            0.1    0.500\n",
       "nu1           200.0  100.000\n",
       "rho0            0.1    0.500\n",
       "nu0           200.0  100.000\n",
       "               [,1]     [,2]\n",
       "gamma.mean.dn  20.0    4.700\n",
       "beta.dn         4.8    2.325\n",
       "gamma.mean.CC   2.1    1.000\n",
       "beta.CC         4.0 1000.000\n",
       "rho1            0.1    0.500\n",
       "nu1           200.0  100.000\n",
       "rho0            0.1    0.500\n",
       "nu0           200.0  100.000\n",
       "               [,1]     [,2]\n",
       "gamma.mean.dn  20.0    4.700\n",
       "beta.dn         4.8    2.325\n",
       "gamma.mean.CC   2.2    1.000\n",
       "beta.CC         4.0 1000.000\n",
       "rho1            0.1    0.500\n",
       "nu1           200.0  100.000\n",
       "rho0            0.1    0.500\n",
       "nu0           200.0  100.000\n",
       "               [,1]     [,2]\n",
       "gamma.mean.dn  20.0    4.700\n",
       "beta.dn         4.8    2.325\n",
       "gamma.mean.CC   2.3    1.000\n",
       "beta.CC         4.0 1000.000\n",
       "rho1            0.1    0.500\n",
       "nu1           200.0  100.000\n",
       "rho0            0.1    0.500\n",
       "nu0           200.0  100.000\n",
       "               [,1]     [,2]\n",
       "gamma.mean.dn  20.0    4.700\n",
       "beta.dn         4.8    2.325\n",
       "gamma.mean.CC   2.4    1.000\n",
       "beta.CC         4.0 1000.000\n",
       "rho1            0.1    0.500\n",
       "nu1           200.0  100.000\n",
       "rho0            0.1    0.500\n",
       "nu0           200.0  100.000\n",
       "               [,1]     [,2]\n",
       "gamma.mean.dn  20.0    4.700\n",
       "beta.dn         4.8    2.325\n",
       "gamma.mean.CC   2.5    1.000\n",
       "beta.CC         4.0 1000.000\n",
       "rho1            0.1    0.500\n",
       "nu1           200.0  100.000\n",
       "rho0            0.1    0.500\n",
       "nu0           200.0  100.000\n"
      ]
     },
     "metadata": {},
     "output_type": "display_data"
    }
   ],
   "source": [
    "%%R\n",
    "\n",
    "seqGamma <- seq(2, 2.5, by = 0.1)\n",
    "\n",
    "listGenes <- NULL\n",
    "\n",
    "for (ii in 1:length(seqGamma)){\n",
    "    \n",
    "    mu.frac <- c(0.074, 0.32) ##Mutation rates for specific category\n",
    "gamma.mean.dn <- c(20, 4.7)\n",
    "\n",
    "    #gamma.mean.dn <- c(14, 2.33)\n",
    "\n",
    "    #beta.dn <- c(1,1)\n",
    "beta.dn <- c(4.8, 2.325)\n",
    "    \n",
    "    gamma.mean.CC <- c(as.numeric(seqGamma[ii]), 1.00)\n",
    "\n",
    "#gamma.mean.CC <- c(2.0, 1.00)\n",
    "\n",
    "\n",
    "beta.CC <- c(4.0, 1000)\n",
    "rho1 <- c(0.1, 0.5)\n",
    "nu1 <- c(200, 100)\n",
    "rho0 <- c(0.1, 0.5)\n",
    "nu0 <- c(200, 100)\n",
    "hyperpar <- as.array(rbind(gamma.mean.dn, beta.dn, gamma.mean.CC, beta.CC, rho1, nu1, rho0, nu0))\n",
    "l <- 100\n",
    "#pi0 <- 0.94 # the fraction of non-risk genes\n",
    "pi0 <- 1 - 0.07419\n",
    "\n",
    "hyperpar\n",
    "    \n",
    "    \n",
    "    \n",
    "    print(hyperpar)\n",
    "    rs <- TADA(counts, N, data$mut.rate, mu.frac, hyperpar)\n",
    "    data$BF <- rs$BF.total\n",
    "    \n",
    "    \n",
    "# Estimating p-values of BFs (this is optional and slow)\n",
    "#rsp <- TADAp(counts, N, data$mut.rate, mu.frac, hyperpar, l=100)\n",
    "#data$pval.TADA <- rsp$pval\n",
    "\n",
    "# FDR estimation\n",
    "\n",
    "    data <- data[order(-data$BF),]\n",
    "\n",
    "    data$qvalue <- Bayesian.FDR(data$BF, pi0)$FDR\n",
    "\n",
    "    listGenes[[ii]] <- data[data$qvalue < 0.1, 1]\n",
    "    \n",
    "    write.csv(data, \n",
    "          paste(\"data/OutTestGammaCC/ext_TADA_results_gammaCC.\", seqGamma[ii], \".csv\", sep = \"\"), \n",
    "          row.names=FALSE)\n",
    "\n",
    "    }\n",
    "\n"
   ]
  },
  {
   "cell_type": "code",
   "execution_count": 23,
   "metadata": {
    "collapsed": false
   },
   "outputs": [
    {
     "data": {
      "text/plain": [
       "       Gene    mut.rate dn.LoF case.LoF ctrl.LoF trans.LoF ntrans.LoF dn.mis3\n",
       "7610  HYDIN 0.000212595      0        1        3         0          0       0\n",
       "4462   DENR 0.000004540      0        0        0         0          0       1\n",
       "11971  PER1 0.000064200      0        3        3         0          4       0\n",
       "17978 ZBED5 0.000027200      0        0        0         0          0       0\n",
       "13312 RAMP2 0.000005040      0        0        0         1          2       0\n",
       "4521  DHRS9 0.000011900      0        3        6         1          0       0\n",
       "      case.mis3 ctrl.mis3 trans.mis3 ntrans.mis3     BF.dn           BF\n",
       "7610          2        11          2           2 0.1076329 8.812003e+15\n",
       "4462          0         1          0           0 4.4315745 7.505474e+09\n",
       "11971        10        59         12          10 0.4872958 6.865462e+09\n",
       "17978         0         0          0           0 0.7333870 2.304832e+08\n",
       "13312         0         0          0           2 0.9435590 3.273862e+07\n",
       "4521          3         7          2           0 0.8722332 9.875391e+06\n",
       "      qvalue.dn       qvalue\n",
       "7610  0.9406645 1.332268e-15\n",
       "4462  0.4901566 8.313208e-10\n",
       "11971 0.9393254 1.160092e-09\n",
       "17978 0.9330894 1.440566e-08\n",
       "13312 0.8394201 8.775804e-08\n",
       "4521  0.9107752 2.837375e-07\n"
      ]
     },
     "metadata": {},
     "output_type": "display_data"
    }
   ],
   "source": [
    "%%R\n",
    "dataOut <- data[data$qvalue < 0.1,]\n",
    "head(dataOut)"
   ]
  },
  {
   "cell_type": "code",
   "execution_count": 13,
   "metadata": {
    "collapsed": false
   },
   "outputs": [
    {
     "data": {
      "text/plain": [
       "[1] 23\n"
      ]
     },
     "metadata": {},
     "output_type": "display_data"
    }
   ],
   "source": [
    "%%R\n",
    "seqGamma\n",
    "ii"
   ]
  },
  {
   "cell_type": "markdown",
   "metadata": {},
   "source": [
    "###Change pi"
   ]
  },
  {
   "cell_type": "code",
   "execution_count": 19,
   "metadata": {
    "collapsed": false
   },
   "outputs": [],
   "source": [
    "%%R\n",
    "\n",
    "seqPi <- seq(0.01, 0.2, by = 0.01)\n",
    "\n",
    "listGenes <- NULL\n",
    "rs <- TADA(counts, N, data$mut.rate, mu.frac, hyperpar)\n",
    "data$BF <- rs$BF.total\n",
    "\n",
    "\n",
    "for (ii in 1:length(seqPi)){\n",
    "    \n",
    "    \n",
    "    \n",
    "    \n",
    "# Estimating p-values of BFs (this is optional and slow)\n",
    "#rsp <- TADAp(counts, N, data$mut.rate, mu.frac, hyperpar, l=100)\n",
    "#data$pval.TADA <- rsp$pval\n",
    "\n",
    "# FDR estimation\n",
    "\n",
    "    data <- data[order(-data$BF),]\n",
    "    \n",
    "    piTemp <- seqPi[ii]\n",
    "\n",
    "    data$qvalue <- Bayesian.FDR(data$BF, 1 - piTemp)$FDR\n",
    "\n",
    "    listGenes[[ii]] <- data[data$qvalue < 0.1, 1]\n",
    "    \n",
    "    write.csv(data, \n",
    "          paste(\"data/OutTestGammaCC/ext_TADA_results_pi.\", piTemp, \".csv\", sep = \"\"), \n",
    "          row.names=FALSE)\n",
    "\n",
    "    }\n",
    "\n"
   ]
  },
  {
   "cell_type": "code",
   "execution_count": 11,
   "metadata": {
    "collapsed": false
   },
   "outputs": [
    {
     "data": {
      "text/plain": [
       "[[1]]\n",
       "  [1] AGPAT9   NCCRP1   ERBB2IP  KLF11    PHF8     SGCB     ONECUT3  GABRA5  \n",
       "  [9] C2orf40  MGAT3    KIR2DS4  KLHL10   GSR      MZB1     SRMS     OR3A2   \n",
       " [17] ZBTB47   RPS20    ZFPL1    A1BG     CEP290   TMX4     NEUROG1  TNFSF15 \n",
       " [25] MAP2K7   TAS2R19  NXPH4    EVC2     RNF38    CCDC151  LYST     HIPK1   \n",
       " [33] NUDT16   PJA2     ARL3     GATAD2A  NNMT     ZNF616   SMC6     DMBX1   \n",
       " [41] FNDC7    MAB21L1  CPEB1    ANO2     GALNTL1  NCAPD2   GNG5     SPANXN3 \n",
       " [49] FLJ42280 NDUFB2   C12orf12 PLAG1    RP2      ZCWPW2   TUBB1    AEBP2   \n",
       " [57] TMEM192  RGR      PRPF19   BTBD9    DGCR2    PTGER4   SMC3     OR1L8   \n",
       " [65] ZNF354A  CCNB1IP1 FAM170B  OR1F1    C16orf72 GPR89A   TMEM120A C2orf56 \n",
       " [73] MRS2     WSB2     OR11H12  C14orf49 C8A      XCL1     KIF9     TNFRSF1B\n",
       " [81] PEMT     TTC37    SMARCB1  TMEM114  RAX2     GLUD1    GRK4     MDM1    \n",
       " [89] FAM210A  SERPINE1 OR51F2   BHLHA15  ZNF254   C11orf10 IQCF6    LRRC66  \n",
       " [97] UBXN10   E2F6     LPAR6    ZC3H7A   PFKM     MRPL10   KBTBD2  \n",
       "18735 Levels: A1BG A1CF A2LD1 A2M A2ML1 A4GALT A4GNT AAAS AACS AADAC ... ZZZ3\n",
       "\n",
       "[[2]]\n",
       "  [1] GP2       MAPK8IP2  CNRIP1    RTKN      WFDC12    SULT1A2   FYTTD1   \n",
       "  [8] ZKSCAN5   TSNARE1   TAS2R42   LRRC6     PLK2      RPL10A    TMEM184A \n",
       " [15] OR1Q1     CD200R1   C10orf118 OR52K1    LDHA      CALHM2    SLC1A6   \n",
       " [22] PLSCR2    TMC6      BICD1     AQP2      FANCE     C4orf6    ALAD     \n",
       " [29] L2HGDH    PPAT      ZNF688    UBE2H     CBR3      BBS4      GCH1     \n",
       " [36] PNMA3     GCAT      CBLN3     RAMP3     EPT1      NCOA2     SLC25A43 \n",
       " [43] RNPEPL1   C6orf222  PI4K2A    ASXL2     NAT14     MRAP      NOP10    \n",
       " [50] GOLPH3L   LPGAT1    ZDHHC15   OR1E1     OR6C76    CPVL      GRIK2    \n",
       " [57] PPP1R9B   SLC25A25  SEPW1     MPRIP     ADAP1     ZNF148    TDP2     \n",
       " [64] DAXX      POT1      NAP1L1    ODF2L     ADAMTS20  DEFA5     CCDC76   \n",
       " [71] ARCN1     PCDH18    THOC1     ZNF107    FAM115C   FAM189B   ZNF445   \n",
       " [78] FZD9      SHISA4    C15orf55  RNASE7    PRAP1     SPRY1     GAGE2D   \n",
       " [85] C17orf104 ADAM12    FTSJD1    ASAP2     IFNK      DOLPP1    TUBG2    \n",
       " [92] UBTF      FCGR3B    ARL6IP5   SRSF10    KLK15     SMAD5     LHB      \n",
       " [99] CNST      GRM8      GRB14     ITGB1BP3  ZCCHC10  \n",
       "18735 Levels: A1BG A1CF A2LD1 A2M A2ML1 A4GALT A4GNT AAAS AACS AADAC ... ZZZ3\n",
       "\n",
       "[[3]]\n",
       "  [1] TIGD1      SLC26A5    ZNF652     RELT       SLC22A9    C20orf29  \n",
       "  [7] C11orf70   SLC22A18AS C6orf203   AMIGO2     FBXL3      SLC3A2    \n",
       " [13] OR5AU1     ID2        RECQL5     C1R        CD200      ELFN2     \n",
       " [19] SCAND1     KRT4       RNASE3     C9orf116   CHRNB4     RIMS1     \n",
       " [25] TP73       UGDH       KRT20      RGMB       FXYD6      TSPAN13   \n",
       " [31] ATP12A     LTC4S      PDLIM4     CD101      EID2B      SLC46A2   \n",
       " [37] SLC14A2    PYGM       RAP2A      TLK2       CXCR5      ATPAF1    \n",
       " [43] PSMA3      KIAA0391   MLX        CLCA2      MCRS1      NPL       \n",
       " [49] TMEM174    DPM2       LAIR2      LYZL2      SPINT2     LHFPL2    \n",
       " [55] NME1-NME2  ASB11      POLDIP3    LRRC2      PLA2G2D    CHST6     \n",
       " [61] DEFA1B     S100B      RNF7       GABRG3     TBX5       STMN3     \n",
       " [67] NCKIPSD    BCDIN3D    PLXNC1     MOK        CYB561D2   PCDP1     \n",
       " [73] RPUSD4     TMEM145    ESRP2      PLCL1      MCHR2      ANKRD13D  \n",
       " [79] IPO5       MYO6       TRAT1      FBXO28     GOLGA6L1   PANK4     \n",
       " [85] TESC       TMEM55A    RPL18A     IMMT       GAGE12I    SAT1      \n",
       " [91] CLEC12A    MSI1       ZNF761     C8orf42    FAM8A1     ZFP36L2   \n",
       " [97] SNED1      ADORA1     GON4L      RHOD       CCDC24     TSTD1     \n",
       "[103] FOXF2      C3orf67   \n",
       "18735 Levels: A1BG A1CF A2LD1 A2M A2ML1 A4GALT A4GNT AAAS AACS AADAC ... ZZZ3\n",
       "\n",
       "[[4]]\n",
       "  [1] DPH1     OGFR     RCL1     HTR5A    UTS2D    TNFSF14  CDKL3    MSANTD4 \n",
       "  [9] PDK1     ARL6IP4  LPPR5    C10orf54 NPHP3    DARS2    BEAN1    ZSCAN10 \n",
       " [17] FAM200A  SLBP     ERN1     DDHD2    C20orf30 FGFR4    C11orf57 ADRB3   \n",
       " [25] FANCA    EXOSC7   HMGB4    P2RY1    ZNF436   CCBL1    ZNF765   EPM2A   \n",
       " [33] TMEM230  FNBP1L   FMO4     GLTSCR2  INO80E   RLIM     POLR3G   CBLC    \n",
       " [41] MTBP     CCDC71   FAM3A    OR4P4    TRPM6    STAT1    ESR1     APOBEC3C\n",
       " [49] SCOC     CCL14    FSCB     BIRC8    KCNE3    CEPT1    SLC17A2  JRK     \n",
       " [57] RIC8B    PDZD3    CD300E   NHLRC1   SPATC1   TCEAL2   STIM1    C21orf58\n",
       " [65] BST1     RIMBP2   PSTPIP2  GCH1     AQP7     DDIT4    ZNF668   YY2     \n",
       " [73] PRDM12   HACE1    GZMA     HELLS    GUCY2F   U2AF2    IDH3B    MGEA5   \n",
       " [81] CHAF1A   CABP1    RHOJ     VGLL2    HNRNPUL1 PABPC3   IFI30    PITX3   \n",
       " [89] TGFBR1   SGCE     ECI2     CDHR5    C10orf10 PITX2    VGLL1    APOC3   \n",
       " [97] IGFALS   FAM59B   KRT3     CD84     RAD23B   KIF2A    ZBTB10  \n",
       "18735 Levels: A1BG A1CF A2LD1 A2M A2ML1 A4GALT A4GNT AAAS AACS AADAC ... ZZZ3\n",
       "\n",
       "[[5]]\n",
       "  [1] TMPRSS13  TXNIP     COPS7A    PRMT5     CELF2     IQCA1     CXorf23  \n",
       "  [8] PACSIN1   PCDHGA9   BRCA1     TCEAL5    SEH1L     TMEM203   IQCF6    \n",
       " [15] ZIC2      PPRC1     OR52B4    C21orf62  NCOA5     TMEM89    MYO9B    \n",
       " [22] GSX2      FAM75A2   RNF165    TCEAL8    THEM5     PDLIM5    DCP1A    \n",
       " [29] GNB3      GALM      DHDH      OR2AT4    SEC22C    C6orf223  WEE1     \n",
       " [36] THAP5     LPHN3     KLF3      NAT10     BLVRB     S100A2    RASGEF1A \n",
       " [43] LUM       RBM47     F2        ZNF443    NOVA1     CD300C    CD3D     \n",
       " [50] MYCBP     ARMC4     TMEM56    WFDC11    RIMS4     AKIP1     UGT2A3   \n",
       " [57] DDX6      SPON2     DDI1      ZNF813    FAM32A    KIAA1045  SLC16A1  \n",
       " [64] CLEC12B   KIF17     GDNF      MAU2      ADH1A     FAHD1     AGMAT    \n",
       " [71] UGT3A2    HTR2C     EIF2B4    ARMCX3    YIF1B     FFAR2     KL       \n",
       " [78] SLC27A1   ZZZ3      MINOS1    FANCF     MEFV      GRAP      XAGE1D   \n",
       " [85] ROM1      CEP170    KRTAP22-1 ISG20L2   OR6N2     LIAS      HTR3C    \n",
       " [92] SHCBP1L   FNDC7     PSME3     SHFM1     NOS3      C5orf43   C10orf25 \n",
       " [99] TOM1L2    GOLGA2    HSD17B2   KCNQ4     FIGNL2    RANBP9    CD3EAP   \n",
       "18735 Levels: A1BG A1CF A2LD1 A2M A2ML1 A4GALT A4GNT AAAS AACS AADAC ... ZZZ3\n",
       "\n",
       "[[6]]\n",
       "  [1] GAD2      USP47     CLUL1     NDUFV1    MAGEA11   TUBG2     HOXA4    \n",
       "  [8] MAP3K8    POLR2B    ACTN2     APLF      OR14C36   WFDC6     DEFB125  \n",
       " [15] CC2D1B    WNT7A     CLCN1     OPHN1     METTL21A  MEAF6     SRSF12   \n",
       " [22] ADAMTS1   FAM75E1   KCNJ2     LEFTY1    KCTD1     KIR3DL1   ZDHHC2   \n",
       " [29] FUT9      ASTE1     SLC22A17  WNT8A     ZBTB46    PLSCR1    TAS2R8   \n",
       " [36] ADAMTSL5  SMARCA1   OR2A2     CNN3      SIX4      FAM24B    APBB1    \n",
       " [43] GNLY      QTRT1     FOXO1     LGALS8    XRCC5     RNF41     BET1L    \n",
       " [50] MXRA7     LCN15     RDH10     PIGW      KBTBD4    PAQR4     CBLL1    \n",
       " [57] SCGB3A2   PPOX      EIF4H     PSAPL1    ETS2      SATB1     UACA     \n",
       " [64] CCDC43    BMP4      CD82      TIAL1     GRIP1     IFNGR1    MAP7D1   \n",
       " [71] KLF10     PKDCC     C6orf165  TINF2     ERCC6L2   C3orf25   C9orf96  \n",
       " [78] VPS39     ANKS1B    OR10H4    MIR205HG  POLB      RNF112    FBXW7    \n",
       " [85] PANK1     PWP2      CLDND2    POLR2D    TNFRSF10C RAD51B    FAM211A  \n",
       " [92] DCAF17    C9orf152  NDUFAF4   AAGAB     SSBP3     SLC33A1   GJB6     \n",
       " [99] TMPRSS11A C11orf74  BRE       SGK196    SCN2A     FBXL6     B3GALT6  \n",
       "[106] RBMXL2   \n",
       "18735 Levels: A1BG A1CF A2LD1 A2M A2ML1 A4GALT A4GNT AAAS AACS AADAC ... ZZZ3\n",
       "\n",
       "[[7]]\n",
       "  [1] ADAM30       PEAK1        DCDC2B       CTTN         COX5A       \n",
       "  [6] GPR141       SOWAHC       CBX8         MREG         C10orf12    \n",
       " [11] C20orf160    TBX1         SEC11A       AGPS         WDR25       \n",
       " [16] MAX          FAM46A       PEX1         RHOC         EXT2        \n",
       " [21] PARP2        PPP1R15B     UQCRC2       MAN2B2       ZNF296      \n",
       " [26] CYGB         MRPL15       HP1BP3       PIGX         BTBD16      \n",
       " [31] GPCPD1       TAF7         DPY19L1      RFX4         FEM1C       \n",
       " [36] C12orf45     MS4A6A       OR5T2        SCO1         STRAP       \n",
       " [41] MTM1         CHTF8        ZRANB3       CDO1         C15orf58    \n",
       " [46] ASCC3        ABCC4        BBS9         GPR172B      GLOD5       \n",
       " [51] ANXA2R       BPIFA2       EIF3L        TFAP2D       HSD17B4     \n",
       " [56] OPN1MW       IP6K2        TIMM8A       GAS1         PHKG1       \n",
       " [61] TXN2         CACNG6       PRRT2        CHST15       YTHDF2      \n",
       " [66] CABP4        C1orf114     SRPX         TTLL11       MAEL        \n",
       " [71] PHF20L1      ATP5J2-PTCD1 MAGED2       MYCBPAP      LIN54       \n",
       " [76] NUCB1        CYP4A11      OR7C1        ISLR2        BAIAP3      \n",
       " [81] GTF3C6       HAUS1        PREPL        SLC7A13      SP3         \n",
       " [86] POLR3F       OR2M2        OR51A7       ITPRIPL2     C15orf56    \n",
       " [91] LCE2B        C3orf67      CDX2         MYT1         TAOK2       \n",
       " [96] ERLIN2       TMEM114      RNF182       SNF8         BICD2       \n",
       "[101] PLEKHA2      HOXC8        ZDHHC11      FAM3D        TMEM56-RWDD3\n",
       "18735 Levels: A1BG A1CF A2LD1 A2M A2ML1 A4GALT A4GNT AAAS AACS AADAC ... ZZZ3\n",
       "\n",
       "[[8]]\n",
       "  [1] CEP192   ZNFX1    C17orf74 ZP2      TSPAN17  PCBD2    ETV6     IRX5    \n",
       "  [9] AP1M1    LPHN2    GFPT1    PCYOX1L  WBP2NL   CES3     C13orf15 MTMR1   \n",
       " [17] OR2T10   DVL1     SYT16    UBASH3A  CD86     VTI1A    IGSF3    TMEM237 \n",
       " [25] BACH2    WTH3DI   UTP14A   DCAF12L2 ZNF493   SLC24A2  ACTL10   GPAM    \n",
       " [33] DHFRL1   ANKFN1   ARPC4    C11orf74 CCDC18   FRMD6    SULT1B1  KRTAP5-1\n",
       " [41] PARL     GPRIN3   DDX11    RGS18    ZSCAN12  CASP14   DDX39B   CLLU1   \n",
       " [49] ARHGAP40 C1orf109 TIPARP   ZBED2    NXF5     DUSP4    S100A2   HMGN4   \n",
       " [57] HN1      FRS3     EID2B    KIF2C    OR8B3    ZFP42    ATP5D    RPL13   \n",
       " [65] FCRL4    ITGBL1   TIMMDC1  NFE2L1   C12orf10 TPP2     FAM173B  PYGL    \n",
       " [73] STRN4    AGTPBP1  TH1L     ESPNL    TRIM2    ZNF580   MRPL13   ACTN2   \n",
       " [81] NDUFS3   MYO1F    LIN9     MPV17L   MTUS2    FIGF     RPA2     CDHR1   \n",
       " [89] PRR11    NPY      LRSAM1   FAM48B2  SYMPK    POLR2K   RAD51    C21orf58\n",
       " [97] HIST1H1B MICA     ZNF335   ZNF658   SLC25A14 C16orf89 FHDC1    TCEAL3  \n",
       "18735 Levels: A1BG A1CF A2LD1 A2M A2ML1 A4GALT A4GNT AAAS AACS AADAC ... ZZZ3\n",
       "\n",
       "[[9]]\n",
       "  [1] SLC34A3  UBN1     DCAF5    GDAP1L1  OR51M1   C5orf4   NXT2     GNAZ    \n",
       "  [9] SPN      SERPINA6 KCNAB1   NUDT9    CST8     MGEA5    DCAF15   GTF2F2  \n",
       " [17] SLC39A2  BTBD11   FAM3B    OR2G2    MRPL22   FHL2     SAMD14   KIF13A  \n",
       " [25] C9orf7   RAB27B   RGMB     TFPI2    PON3     IL1RAPL1 ZMYND11  B3GALT6 \n",
       " [33] FCRLB    FAM22A   MAK16    NRXN2    FOXA1    OR11H1   SPDYC    TMPRSS2 \n",
       " [41] GARNL3   PPP1R14C STOX1    PCBP3    FHOD1    PCSK7    PIAS4    MSMB    \n",
       " [49] AMTN     UBAC2    CCDC170  OR1B1    CLPSL1   MC2R     LGALS3   CCNJ    \n",
       " [57] ADCY2    GIP      MRPS16   SEC61A1  NKX2-4   SOD3     NME7     GUF1    \n",
       " [65] WIPF2    ADO      SNCG     SLC45A3  CADM3    SFRP4    VCX3B    ALPK1   \n",
       " [73] ST8SIA2  FBF1     PDIA4    SGSM3    FAM135A  OTOP3    MCMBP    DSG3    \n",
       " [81] AGAP6    HIST1H4F SLC40A1  MBD3L1   MRPL4    C9orf57  MTRF1L   RASSF8  \n",
       " [89] EIF3L    TERF2IP  SULT1C2  IMPG1    GNPAT    MRPL36   SS18     SIN3B   \n",
       " [97] CLN6     CD8B     LIN52    DRD4     KDM4D    C10orf93 TSPAN8  \n",
       "18735 Levels: A1BG A1CF A2LD1 A2M A2ML1 A4GALT A4GNT AAAS AACS AADAC ... ZZZ3\n",
       "\n",
       "[[10]]\n",
       "  [1] TAC1        SLC1A3      PRELID2     PPIL2       TYW1        SPANXC     \n",
       "  [7] TMEM177     C2CD2       LIPH        MAFK        C9orf72     SRSF2      \n",
       " [13] CLLU1OS     OR6K3       SMR3A       SUZ12       LRRC20      ZNF777     \n",
       " [19] HOXB5       B4GALNT2    APITD1-CORT NOM1        KAL1        ZNF579     \n",
       " [25] ETV7        RCOR3       RBM8A       FOXD2       CPEB3       GBP6       \n",
       " [31] SORL1       ADPGK       FUBP3       APOBEC3B    VWC2        RNF149     \n",
       " [37] TMEM95      OR13H1      PLA2R1      CNTN2       ODF3        TWF1       \n",
       " [43] HACE1       UBE2H       GP6         XXYLT1      ZHX1        TMEM167B   \n",
       " [49] CLIC1       HSD17B7     CIR1        CALB1       OSR1        CEP57      \n",
       " [55] EIF3M       TTR         NRAS        HAS2        NPPB        MPL        \n",
       " [61] C9          RBM42       CFC1B       KDM1B       TUBD1       LEPRE1     \n",
       " [67] RAB11FIP4   ZNF649      SLMO1       HFE2        PRDM11      CA3        \n",
       " [73] C16orf42    PITX1       SLC16A3     HAUS2       FEZF1       ABCC5      \n",
       " [79] ROBO2       MFSD2A      IL9R        RCBTB2      PPP1R12C    C1orf122   \n",
       " [85] PEX11G      RTN4IP1     VPS45       SLMO2       SRSF3       PYCARD     \n",
       " [91] IQCF2       GKN2        BAGE5       PRRC2B      ORM2        IMPDH2     \n",
       " [97] SAMD5       RAB11FIP1   GPR111      MAGEA8      KIR2DL3     MYEOV      \n",
       "[103] HIST1H2BJ   UGT2B17    \n",
       "18735 Levels: A1BG A1CF A2LD1 A2M A2ML1 A4GALT A4GNT AAAS AACS AADAC ... ZZZ3\n",
       "\n",
       "[[11]]\n",
       "  [1] AAED1    AVL9     LYZ      DNAL1    BEX4     TMEM66   SULT1A1  SEC61B  \n",
       "  [9] WDR52    TMEM31   RASSF4   GAB2     BLID     OPHN1    FAM19A5  DMXL1   \n",
       " [17] C16orf93 CACNA2D4 MT1B     CLRN1    C9orf100 PAAF1    MOGAT2   ILKAP   \n",
       " [25] PI3      HSPA8    NOG      PTPDC1   GPR156   YME1L1   C19orf24 AGAP2   \n",
       " [33] ANKRD6   CD151    LRRC33   SLC6A9   BMP4     RND1     ARNTL2   PTPRCAP \n",
       " [41] MGA      SETD4    TOX2     KRR1     PCDH10   RPP25L   SRMS     CREG2   \n",
       " [49] ADORA2A  HMHA1    C9orf150 UBR1     ELK4     IFITM2   N6AMT1   TERF2IP \n",
       " [57] SAE1     KCTD2    RPS21    SYT4     SENP8    RAB9B    KIAA0748 FHL5    \n",
       " [65] RLIM     NANOS3   SIT1     ZNF578   OTX1     FAM212A  FADS3    AGMO    \n",
       " [73] OR6C75   GPR82    FAM149B1 AP5S1    DPPA5    PPP1R18  CDRT1    FZD3    \n",
       " [81] IFT20    TMEM14C  HTRA3    METTL10  ADAMTS10 FKSG83   SNAPC3   NFRKB   \n",
       " [89] KRT8     C2orf83  GDA      APLF     MPHOSPH6 AXDND1   GLRX5    C19orf18\n",
       " [97] OR5D14   PTBP3    LY6G6D   QRSL1    MED1     CLVS2    C17orf78 HBZ     \n",
       "18735 Levels: A1BG A1CF A2LD1 A2M A2ML1 A4GALT A4GNT AAAS AACS AADAC ... ZZZ3\n",
       "\n",
       "[[12]]\n",
       "  [1] RSU1      KIAA1751  INTU      DDX23     RPA3      GLT8D1    ZBTB24   \n",
       "  [8] ZNF524    RWDD1     MPO       IQGAP1    ZBED3     C1orf49   ZNF592   \n",
       " [15] SPSB2     GPBP1L1   UGT3A2    SUCLG1    PGS1      GAPDHS    CKS2     \n",
       " [22] IL17RA    CNNM3     KCNS2     IFI44L    RETNLB    ACRBP     ZSCAN16  \n",
       " [29] SCD5      DHRSX     LGALS9    BACH1     FARSA     DYDC2     TBC1D10A \n",
       " [36] FAM198B   C2orf77   SVEP1     SETDB2    PCDHA7    CLNK      NUDT13   \n",
       " [43] PSTPIP1   TIPIN     PLEKHM2   CLCN3     FOXD3     OR7E24    SPRYD7   \n",
       " [50] IL29      KBTBD5    LOC285033 REEP6     C17orf105 CHKA      CCDC170  \n",
       " [57] SPACA7    MSANTD3   DGAT1     TESK2     ERO1LB    SRSF1     FAM126B  \n",
       " [64] CTNNBL1   KLHL20    AMICA1    SNRNP70   TEKT1     CAMK2N2   MARVELD3 \n",
       " [71] MYD88     SSNA1     ERG       MAP3K2    RAD51B    UNC45B    ATF6B    \n",
       " [78] LYZL1     WSB2      MLLT11    DHX57     SELO      DKK4      AKIRIN2  \n",
       " [85] TTC5      MTHFR     DEFB128   DDIT4L    SPRY2     NUDT22    BOC      \n",
       " [92] PDZD11    IQCB1     SRD5A2    KIAA1211  PDAP1     THYN1     WFDC8    \n",
       " [99] SYF2      MAFB      DPM1      C3orf64  \n",
       "18735 Levels: A1BG A1CF A2LD1 A2M A2ML1 A4GALT A4GNT AAAS AACS AADAC ... ZZZ3\n",
       "\n",
       "[[13]]\n",
       "  [1] RRP12     PNPLA1    MAX       PLEKHA5   C1QL1     ATP5G1    GCNT3    \n",
       "  [8] EFTUD1    FIZ1      PCYT1B    GTSF1     RTEL1     RNGTT     TMEM244  \n",
       " [15] SHROOM2   PMM2      HMGCS2    TAS2R41   CYP27A1   CHRNA9    XYLT2    \n",
       " [22] STAC3     ZNF384    PRPF4B    C16orf52  SLC25A18  ZMIZ2     OR2B2    \n",
       " [29] UGT1A6    IMPA2     CST8      ZDHHC9    TBC1D17   DEFB134   GTPBP4   \n",
       " [36] CIRH1A    THEM5     CHAF1A    SH3KBP1   FFAR2     ACAA2     ZNF24    \n",
       " [43] MRPL46    PLEKHH2   MPP1      CDT1      PCBP1     TRPA1     FKBP11   \n",
       " [50] HIST1H4J  COG8      NFYA      PPP1R2    KRTAP10-8 UGT2B11   UBE2G1   \n",
       " [57] H2AFZ     ARMC8     FAM3B     PRSS27    PLA2G12A  TNFSF12   ACAT1    \n",
       " [64] SP110     FOXL2     TSR2      ZNF791    ATP1B1    PLA2G3    MON1A    \n",
       " [71] B3GAT1    C3orf32   IRF8      ITK       CRISPLD2  BZW1      IFNA5    \n",
       " [78] XAB2      DHRS7B    CBR1      GTPBP1    CEP170    RGPD4     NDUFB3   \n",
       " [85] AFF2      CLCN2     ALX1      ATRNL1    MSMO1     OR13A1    AIFM2    \n",
       " [92] ZNF746    CXorf58   CRH       TRIM7     RNF182    CSAG3     NKX2-3   \n",
       " [99] PNLIPRP2  TMEM40    CAPS2     OR5D18    RNF135    C9orf152 \n",
       "18735 Levels: A1BG A1CF A2LD1 A2M A2ML1 A4GALT A4GNT AAAS AACS AADAC ... ZZZ3\n",
       "\n",
       "[[14]]\n",
       "  [1] EEF2           RPL36A-HNRNPH2 C3orf27        DNAJA3         NAP1L1        \n",
       "  [6] FBXO15         OR56B1         OCLN           LOC391322      HUNK          \n",
       " [11] TMPRSS9        FAM212B        TMEM194A       TRIP11         BCR           \n",
       " [16] MRPL15         ISPD           HIP1R          GSTO1          BSX           \n",
       " [21] POLR2B         FBXL2          AJAP1          C22orf39       PPP1R21       \n",
       " [26] MAEL           SIRPD          ZBED2          STON1          PITX1         \n",
       " [31] TMEFF2         OR5AR1         PDK4           C1orf177       PIP5K1C       \n",
       " [36] C6orf162       CAMKK2         BEND7          FUT2           PCDHGC5       \n",
       " [41] FOXG1          GAL3ST2        ZNF300         GGPS1          TMEM74        \n",
       " [46] FBF1           ECHDC2         CEP41          GRAMD1A        OR5H1         \n",
       " [51] TRAIP          HPCAL4         RNF38          C1orf96        ZNF771        \n",
       " [56] ALG8           C2orf50        TPK1           CD2BP2         CCDC121       \n",
       " [61] GOT1           DENND2A        MLEC           CDKAL1         LCMT1         \n",
       " [66] MYEOV2         ZAK            LOC650293      STK32C         HDAC11        \n",
       " [71] FLVCR1         IL1RL2         C17orf105      USP44          ZNF557        \n",
       " [76] GOLGA1         PTCD1          TM9SF4         FOXE1          B2M           \n",
       " [81] VMP1           CDK9           OR13C4         KRT78          TOMM5         \n",
       " [86] PGR            MRP63          LRRIQ1         UTP23          PDZK1         \n",
       " [91] C19orf24       TESC           SPRR4          OR51A4         DNAJB6        \n",
       " [96] MTF2           RBM7           OR2G3          MAF            SEC31A        \n",
       "[101] SETD8          CTRB2          TMPO          \n",
       "18735 Levels: A1BG A1CF A2LD1 A2M A2ML1 A4GALT A4GNT AAAS AACS AADAC ... ZZZ3\n",
       "\n",
       "[[15]]\n",
       "  [1] ALKBH5    NTN3      MIP       CARS2     TNFRSF10B GABRG1    ANKRD33  \n",
       "  [8] BLM       PRH2      SLC43A2   SPEF1     ATXN7L3B  GRIK5     DUOX2    \n",
       " [15] HBA2      SPTBN5    PRCD      NAA11     SHOX      TRABD     ZBTB41   \n",
       " [22] LIMS2     PRSS38    UTF1      CCDC6     KLK2      CRTC3     TMEM111  \n",
       " [29] HIST2H3D  CLIC3     C19orf21  PLRG1     UNC5CL    SPTY2D1   GAGE10   \n",
       " [36] MAML1     PTDSS1    ATP6V1H   OR10G3    SMC1B     HTR3E     FAM157A  \n",
       " [43] ELOVL6    USE1      SUGP2     VRK1      ADCYAP1R1 LRRC16B   RNF151   \n",
       " [50] NDUFB5    TMEM42    ZNRF2     PKLR      PAFAH1B3  OR10K1    GPR115   \n",
       " [57] ZNF713    ADAM21    STK38L    METTL15   STX6      METTL20   SNX2     \n",
       " [64] PARP11    NT5C3     DNTTIP1   ENTPD1    SKP2      PREB      ACADS    \n",
       " [71] NPLOC4    HEATR7A   FTSJD2    DVL2      TLE6      VPS28     C15orf32 \n",
       " [78] LIPI      B4GALT2   RABGGTA   PKP1      FAM122C   APOBEC3H  DGCR14   \n",
       " [85] TMED6     TBCB      HIST1H4K  SETD5     VPS39     CCDC147   NPS      \n",
       " [92] DDX39B    FAM75E1   MIS12     ZNF720    C11orf46  SPINT2    MAPKBP1  \n",
       " [99] ALS2CR11  TMEM129   KIAA0408  ALDH1A1   AHSG     \n",
       "18735 Levels: A1BG A1CF A2LD1 A2M A2ML1 A4GALT A4GNT AAAS AACS AADAC ... ZZZ3\n",
       "\n",
       "[[16]]\n",
       "  [1] KRTAP19-1      LAG3           TNFRSF19       DARS2          ZDHHC16       \n",
       "  [6] RPN2           GKN1           C18orf1        LAP3           TMEM223       \n",
       " [11] EPYC           TECTA          KIAA1147       ALS2CR12       PCDH19        \n",
       " [16] RAB37          ZC4H2          SNAPC5         C22orf29       C17orf53      \n",
       " [21] PPM1J          ST3GAL5        FARSA          ZNF483         ZDHHC17       \n",
       " [26] ZBTB44         C3orf18        FAM71F2        LRRC48         MCHR2         \n",
       " [31] WASF2          PRKACA         ZWILCH         RAP1GAP        CLK2          \n",
       " [36] FAM164A        OR5V1          OCM            ZNF2           HDAC6         \n",
       " [41] CCDC57         PCDHGA7        NIPAL3         CD164          GPX3          \n",
       " [46] SLC38A6        THEG           TMED10         MARS           CNPY4         \n",
       " [51] DCPS           SORT1          B3GALNT1       C9orf152       NAT2          \n",
       " [56] CHCHD1         CXorf58        RAP1GAP2       PRKAR2A        TRAPPC4       \n",
       " [61] RAB17          MTRF1L         KLF10          PAX4           SERINC1       \n",
       " [66] PATL1          PCBP2          ACCSL          RASEF          C15orf44      \n",
       " [71] PRMT5          C1orf52        SCTR           MAP3K3         PLK3          \n",
       " [76] BLNK           MCART1         DLG3           HERC3          SLC27A1       \n",
       " [81] IFI35          STAU2          NOA1           DDO            C1orf111      \n",
       " [86] RABGAP1L       FAM26E         ZNF280D        ZNF674         EPN2          \n",
       " [91] MSANTD3-TMEFF1 PSKH2          BRWD3          CCNF           KRTAP10-6     \n",
       " [96] C1orf53        RNF114         F8             CEACAM4        TAC3          \n",
       "[101] TMEM14B        DECR1          TNFRSF13B      GMFG          \n",
       "18735 Levels: A1BG A1CF A2LD1 A2M A2ML1 A4GALT A4GNT AAAS AACS AADAC ... ZZZ3\n",
       "\n",
       "[[17]]\n",
       "  [1] FUK       GFRA2     VAMP4     RLIM      GCNT7     RNF182    PPP2R3A  \n",
       "  [8] MARK4     RECQL     NAPA      C3orf70   CSAG3     RANBP9    LRPPRC   \n",
       " [15] DEFB112   PPP2R5E   RPP14     NAP1L3    CACNB3    ZNF791    DDR2     \n",
       " [22] FNTB      BTBD10    NKRF      PITX2     B3GALTL   TBL1XR1   APOPT1   \n",
       " [29] OR8B4     SPACA5B   ZBTB7B    DRAP1     ZNF267    OR51F1    DDX23    \n",
       " [36] TSC1      HM13      TBX5      RPGRIP1   RAPGEF1   KIF19     ARHGAP22 \n",
       " [43] CYP4A22   APOLD1    PRPF38A   ZBTB1     NUDT5     SLC25A26  SIM1     \n",
       " [50] ZNHIT2    C9orf80   AATF      CAPZB     C6orf58   OR6P1     ILDR1    \n",
       " [57] IL15      LPAR3     TXNL1     INTS12    C7orf50   MT1E      FAM46D   \n",
       " [64] RFC4      TMPRSS11E COCH      MBLAC2    SERF1A    NDUFS2    KRT13    \n",
       " [71] ZP1       IFI16     ZNFX1     PPEF1     TBC1D3G   PRKCZ     ASPG     \n",
       " [78] NXPH1     CLNS1A    FBLIM1    TRIM8     OR52B6    HTR6      CHRNA6   \n",
       " [85] OVCA2     MPDU1     MBD1      LALBA     GOSR1     PHF13     WFDC5    \n",
       " [92] HIST1H2AJ PIK3CD    TPRG1L    OR1D5     SPESP1    PRIMA1    FAM20B   \n",
       " [99] OR4F15    SMPX      SQRDL     LPIN2     CAP1     \n",
       "18735 Levels: A1BG A1CF A2LD1 A2M A2ML1 A4GALT A4GNT AAAS AACS AADAC ... ZZZ3\n",
       "\n",
       "[[18]]\n",
       "  [1] CNTN2     DDAH2     IL24      DYSF      C22orf23  DYNC2H1   MGAT4C   \n",
       "  [8] ACOX3     IFIT3     TNS1      DGCR14    C14orf129 MYBPC3    ZNF213   \n",
       " [15] ENPEP     ZNF461    TMEM133   WWC1      HRH2      GNA15     SLC39A7  \n",
       " [22] HPD       SLC12A5   GRHL3     EPM2A     PRKCI     RGR       LRIT2    \n",
       " [29] OR4C13    APTX      SLC30A7   LMCD1     SRSF6     CYP2J2    C13orf15 \n",
       " [36] ZFAND4    VWA3A     CBLN4     FAM111A   C9orf169  PRDM1     KLF2     \n",
       " [43] TSPYL5    FANCE     KBTBD8    CSN1S1    SAA4      RSRC2     CACNA1S  \n",
       " [50] GPR137    BRIP1     HMGA1     MRTO4     TMEM128   TPGS1     PRSS3    \n",
       " [57] COMMD10   SNX12     TNFAIP8   SMO       MACROD2   RIT1      GPR151   \n",
       " [64] GLT8D1    FTMT      ABHD4     GPRC5A    RSPO3     GPR146    STARD6   \n",
       " [71] FOXJ2     SLC2A8    GCFC2     ATMIN     GUCY1A2   ZC3H12D   SPRR1B   \n",
       " [78] UBE2E1    ABCD1     SPATA20   CDSN      MINPP1    OR4F5     HIST1H3H \n",
       " [85] SLC22A12  OR6T1     FAM153C   KHSRP     OR1F1     SNAPC1    FAM157B  \n",
       " [92] HKR1      CETN2     FABP6     SNAPC2    GOPC      KPNA4     FRMPD1   \n",
       " [99] CTF1      NASP      MRPL38    FXYD4     RASD2    \n",
       "18735 Levels: A1BG A1CF A2LD1 A2M A2ML1 A4GALT A4GNT AAAS AACS AADAC ... ZZZ3\n",
       "\n",
       "[[19]]\n",
       "  [1] TMEM175   APOBEC3D  CDH15     HS6ST3    GTF2F2    HIST1H2BO IPO9     \n",
       "  [8] LRP12     AASDHPPT  MSX2      KSR1      SHARPIN   NPTXR     DUOX1    \n",
       " [15] PPT1      BIRC6     HAUS2     TBC1D4    MMP1      BHLHE41   GHR      \n",
       " [22] BEST1     GEMIN5    JKAMP     OR5K1     MTMR9     BST1      BCHE     \n",
       " [29] RASL11B   TAS2R8    SPAG8     SGK1      ARID3A    SLC5A8    SPPL2C   \n",
       " [36] CSF2RA    KRT28     TSPAN32   ANKRD37   ZSCAN20   HCN3      TECPR1   \n",
       " [43] CDC14A    GJB2      TSPAN14   KRT13     HOXD9     DSN1      CLIC4    \n",
       " [50] LRRC17    SKA2      ZBTB46    ATP5I     C7orf65   LAX1      OMP      \n",
       " [57] C1QTNF6   TAF9B     OR2M3     OR14C36   CCR2      HSDL1     MRPS5    \n",
       " [64] BMPR1B    ELF3      FAM127C   SPSB3     PPP3CA    TMEM245   FAM108A1 \n",
       " [71] MATK      TOMM20L   RAD54L2   ITFG3     CDK5R2    CCDC151   EPS8L2   \n",
       " [78] KIRREL3   WFDC6     TBC1D29   FMO4      TSR1      PABPC1L   ZBTB34   \n",
       " [85] NXF2      ISG15     ERLIN1    H1FX      MDP1      KCTD13    ATL2     \n",
       " [92] C16orf45  TMEM91    TAL2      RAB5C     ZNF280B   RG9MTD2   TRMT112  \n",
       " [99] ESR2      MAGI2     GSDMA     NR6A1     MMADHC   \n",
       "18735 Levels: A1BG A1CF A2LD1 A2M A2ML1 A4GALT A4GNT AAAS AACS AADAC ... ZZZ3\n",
       "\n",
       "[[20]]\n",
       "  [1] PTPN14    MCOLN3    RPS13     PLCD4     PLEKHA6   ADCYAP1   DUX4L7   \n",
       "  [8] FTSJD2    ALKBH5    CYP4A11   HIST1H4B  GMFB      MBP       RBM46    \n",
       " [15] UGT1A9    CERS5     C10orf10  RAB13     AQP12B    MDM1      CD8B     \n",
       " [22] ACTR5     SEC61A2   FAM98A    SPIB      MMP19     SSBP2     SPINK8   \n",
       " [29] AKNAD1    DARC      ZNF747    MOB2      GLYATL3   BCMO1     HOXD1    \n",
       " [36] CNOT4     MYL12B    UBE4A     ALB       GLOD4     RGS10     PIK3C2A  \n",
       " [43] SLC25A12  CTGF      DNAJC25   AAAS      NXF2B     CREB3L4   MMACHC   \n",
       " [50] OCLM      HTR7      ZXDB      XKR8      C1orf95   PPP1R17   PFKM     \n",
       " [57] OTUD6B    MRPL32    C19orf52  KLK3      ARHGDIG   CDKN2A    C2orf53  \n",
       " [64] ABI1      GMPS      HERC3     FZD4      GGTLC2    RPS6KA5   REPS1    \n",
       " [71] DPCR1     MCMBP     ELFN1     OSMR      OSBPL1A   SV2A      CCDC92   \n",
       " [78] UQCRB     AOX1      SLC22A6   WDR66     DYTN      ASAH2     CA10     \n",
       " [85] SPINK4    FAM216A   KCNJ15    KRT6B     VWC2L     EEF2      RHOH     \n",
       " [92] SLC25A28  OCIAD2    CLIC6     BPGM      OR10G2    CHMP3     RFK      \n",
       " [99] CEACAM18  APOL5     MICALCL   C14orf118\n",
       "18735 Levels: A1BG A1CF A2LD1 A2M A2ML1 A4GALT A4GNT AAAS AACS AADAC ... ZZZ3\n",
       "\n",
       "[[21]]\n",
       " [1] KCNH6     AKR7A3    UROD      DCAF16    COPG      PDHB      PLA2G4B  \n",
       " [8] FUT11     SLC17A1   RPL10A    APC       NT5C1B    KCNA3     RFX7     \n",
       "[15] GAGE12E   MRPL3     KHDC1     RDH8      CAMK1D    NDUFS1    STRN     \n",
       "[22] KDM4DL    RNF157    RTBDN     KIAA1430  TNFSF13B  PAN3      FAM155B  \n",
       "[29] FNTA      HN1L      CLDN17    TMEM54    TOM1L2    CD96      TUBG1    \n",
       "[36] IL17F     HEXIM1    ZNF800    UBN2      UPRT      MPZL3     TLR10    \n",
       "[43] MAP2K4    MRPL24    TBK1      DENND4B   TDRD12    PPIL3     ZBTB38   \n",
       "[50] ZBTB7C    GNGT1     CFHR1     FAM160A2  GSC2      KBTBD3    SGCB     \n",
       "[57] CA8       KCNK7     ADH6      HSD17B3   FGD4      NMD3      ADRA1B   \n",
       "[64] PRR21     PHACTR2   RNASE7    NR5A1     ATP11B    CIDEB     ASB16    \n",
       "[71] CPEB2     CAPN10    COG7      MMP17     SERP1     KIAA0319L SSX2IP   \n",
       "[78] CXorf1    WDR59     BRPF1     FAM48B1   DEK       LRAT      C17orf47 \n",
       "[85] CXCR4     PLCXD1    CLRN3     CYBRD1    PDCD7     CCDC89    YEATS4   \n",
       "[92] KIAA0319  GPANK1    CETN2     KLF10     ARHGAP1   RTKN      CCNC     \n",
       "[99] CATSPER2 \n",
       "18735 Levels: A1BG A1CF A2LD1 A2M A2ML1 A4GALT A4GNT AAAS AACS AADAC ... ZZZ3\n",
       "\n",
       "[[22]]\n",
       "  [1] CDC20B        PHYHIP        C1orf151-NBL1 BCL11B        SYNJ2BP-COX16\n",
       "  [6] AKR1B1        RABGAP1       HAUS2         RNASE10       BNIP2        \n",
       " [11] CGGBP1        GOLGA6L1      LPA           MEGF10        SDF4         \n",
       " [16] C6orf62       ALG3          WNT7A         ANKRD22       NAA60        \n",
       " [21] METTL12       MOXD1         GK            C1orf74       TAPBPL       \n",
       " [26] OR2J2         KRT83         LRRC40        TLCD2         MAP1LC3C     \n",
       " [31] STXBP6        TNFRSF1A      UGT2B4        ASPHD2        COX4I2       \n",
       " [36] ALS2CR8       TREH          MTA1          NUP155        C21orf2      \n",
       " [41] PSMA8         PTPN22        APBA1         KRTAP10-9     SLC25A47     \n",
       " [46] NBPF15        OR4K14        GLO1          PVRL3         SLC14A1      \n",
       " [51] VKORC1L1      APOC2         PAGE2         FAHD2B        RAB7L1       \n",
       " [56] C11orf71      ZNF844        DPM1          C4orf29       ACMSD        \n",
       " [61] IBSP          IFNE          CRYL1         TMEM55A       TMPRSS11E    \n",
       " [66] PANX3         RPTN          FTL           RNF44         SMURF2       \n",
       " [71] C1orf111      ANKRD20A1     OCRL          MEIS3         KCNQ5        \n",
       " [76] TASP1         TRMT112       DUSP5         SFTA2         MORN2        \n",
       " [81] MATN2         LYSMD2        PLAC8         CCDC117       ZHX1         \n",
       " [86] FAM118B       RFPL3         CNPY2         PRPSAP1       DIRAS3       \n",
       " [91] LANCL2        CDC123        ZADH2         FAM157B       UQCR10       \n",
       " [96] AFG3L2        UMOD          ROBO3         FUT3          PFKFB2       \n",
       "[101] NXT2          FNDC7        \n",
       "18735 Levels: A1BG A1CF A2LD1 A2M A2ML1 A4GALT A4GNT AAAS AACS AADAC ... ZZZ3\n",
       "\n",
       "[[23]]\n",
       "  [1] PXK       WFDC1     CAMTA2    C10orf99  BHLHE23   FBXO47    RBL1     \n",
       "  [8] KIF18A    RPL23     P4HB      PPAP2A    KRT74     SWI5      CNST     \n",
       " [15] ELMO3     LYRM7     CDO1      EPHX4     MRPS16    CYP7A1    AK3      \n",
       " [22] DARS2     PRR25     PIAS2     OR4F4     CD5       ARF4      CCL19    \n",
       " [29] IL10      TIAM2     KRT71     TRDN      TIFAB     ESR2      EVX1     \n",
       " [36] UFL1      PKP3      DNTTIP2   CACNA1C   IGBP1     AXIN1     CHRND    \n",
       " [43] NAA35     TNFRSF1B  ZNF90     CNGA1     FAS       CCDC68    CXorf58  \n",
       " [50] PPM1L     BRP44L    TSEN15    IL18BP    LOC375190 DEFB119   CEBPG    \n",
       " [57] WDYHV1    TLR10     ATAD1     LSM11     FPR2      COPA      ASZ1     \n",
       " [64] CAMK2G    ATF7      YES1      SDC3      CCDC171   ZNF107    KLHL21   \n",
       " [71] RNF182    SLITRK6   CTTN      LRRC56    ANKRD20A4 PHF21A    HDX      \n",
       " [78] EXOC8     SEC24D    SST       ABLIM3    RPL36A    NT5C3L    ASCL1    \n",
       " [85] CCDC15    H1FOO     PREB      KIAA0513  ELK4      GFRA2     CMTM3    \n",
       " [92] SPAG4     CCNDBP1   LENG9     NR5A2     SLC6A17   GPR64     FRAT2    \n",
       " [99] HOXD9     C7orf43   C2orf80  \n",
       "18735 Levels: A1BG A1CF A2LD1 A2M A2ML1 A4GALT A4GNT AAAS AACS AADAC ... ZZZ3\n",
       "\n"
      ]
     },
     "metadata": {},
     "output_type": "display_data"
    }
   ],
   "source": [
    "%%R\n",
    "listGenes"
   ]
  },
  {
   "cell_type": "code",
   "execution_count": 132,
   "metadata": {
    "collapsed": false
   },
   "outputs": [
    {
     "name": "stdout",
     "output_type": "stream",
     "text": [
      "Error in data.frame(data$BF, data$pval.TADA) : \n",
      "  arguments imply differing number of rows: 18735, 0\n"
     ]
    }
   ],
   "source": [
    "%%R\n",
    "tempData <- data.frame(data$BF, data$pval.TADA)\n",
    "\n",
    "tempData <- tempData[tempData[, 1] < quantile(tempData[, 1], 0.99), ]\n",
    "\n",
    "plot(tempData[, 1], tempData[, 2], xlab = \"BF\", ylab = \"p\")"
   ]
  },
  {
   "cell_type": "markdown",
   "metadata": {},
   "source": [
    "###Extract genes whose FDRs < 0.1"
   ]
  },
  {
   "cell_type": "code",
   "execution_count": 133,
   "metadata": {
    "collapsed": false
   },
   "outputs": [
    {
     "name": "stdout",
     "output_type": "stream",
     "text": [
      "32\n",
      "ADNP ANK2 APH1A ARID1B ASH1L ASXL3 BCL11A BIRC6 CACNA2D3 CHD8 CUL3 DPP3 DYRK1A GABRB3 GALNTL4 GRIN2B KATNAL2 KIAA0182 MLL3 MYO9B NAA15 NR3C2 POGZ PTEN PYHIN1 RELN SCN2A SUV420H1 SYNGAP1 TBR1 TGM1 TRIO "
     ]
    }
   ],
   "source": [
    "%%bash\n",
    "cat data/ext_TADA_results.csv |awk -F\",\" '$(NF-1)<0.1'|\\\n",
    "    awk -F\",\" '{print $1}'|sed 's/\"//g'|grep -v \"Gene\" |sort > data/list.genesWithNewPiFDR01.txt\n",
    "    \n",
    "cat data/list.genesWithNewPiFDR01.txt|wc -l\n",
    "cat data/list.genesWithNewPiFDR01.txt|tr \"\\n\" \" \""
   ]
  },
  {
   "cell_type": "markdown",
   "metadata": {},
   "source": [
    "###Intersect this gene set with the 33 genes in AUT"
   ]
  },
  {
   "cell_type": "code",
   "execution_count": 134,
   "metadata": {
    "collapsed": false
   },
   "outputs": [
    {
     "name": "stdout",
     "output_type": "stream",
     "text": [
      "26\n"
     ]
    }
   ],
   "source": [
    "%%bash\n",
    "join -1 1 -2 1 data/list.genesWithNewPiFDR01.txt data/list.33genes.FDR0.1.txt|wc -l"
   ]
  },
  {
   "cell_type": "markdown",
   "metadata": {},
   "source": [
    "####Test with known risk genes from three diseases: ASD + EPI + ID"
   ]
  },
  {
   "cell_type": "code",
   "execution_count": 94,
   "metadata": {
    "collapsed": false
   },
   "outputs": [],
   "source": [
    "%%R\n",
    "#################################################################\n",
    "# Application of TADA\n",
    "#################################################################\n",
    "\n",
    "# Model parameters: two categories of mutations - LoF and mis3 mutations (\"probably damaging\" by PolyPhen2)\n",
    "mu.frac <- c(0.074, 0.32) ##Mutation rates for specific category\n",
    "#gamma.mean.dn <- c(20, 4.7)\n",
    "gamma.mean.dn <- c(14, 2.33)\n",
    "#beta.dn <- c(1,1)\n",
    "beta.dn <- c(4.8, 2.325)\n",
    "\n",
    "\n",
    "gamma.mean.CC <- c(2.3, 1.00)\n",
    "beta.CC <- c(4.0, 1000)\n",
    "rho1 <- c(0.1, 0.5)\n",
    "nu1 <- c(200, 100)\n",
    "rho0 <- c(0.1, 0.5)\n",
    "nu0 <- c(200, 100)\n",
    "hyperpar1 <- as.array(rbind(gamma.mean.dn, beta.dn, gamma.mean.CC, beta.CC, rho1, nu1, rho0, nu0))\n",
    "l <- 100\n",
    "#pi0 <- 0.94 # the fraction of non-risk genes\n",
    "pi0 <- 1 - 0.07419\n"
   ]
  },
  {
   "cell_type": "code",
   "execution_count": 100,
   "metadata": {
    "collapsed": false
   },
   "outputs": [],
   "source": [
    "%%R\n",
    "#Running TADA\n",
    "rs <- TADA(counts, N, data$mut.rate, mu.frac, hyperpar1)\n",
    "data$BF <- rs$BF.total\n",
    "# Estimating p-values of BFs (this is optional and slow)\n",
    "\n",
    "#rsp1 <- TADAp(counts, N, data1$mut.rate, mu.frac, hyperpar1, l=100)\n",
    "#data1$pval.TADA <- rsp1$pval\n",
    "\n",
    "\n"
   ]
  },
  {
   "cell_type": "code",
   "execution_count": 101,
   "metadata": {
    "collapsed": true
   },
   "outputs": [],
   "source": [
    "%%R\n",
    "# FDR estimation\n",
    "data <- data[order(-data$BF),]\n",
    "data$qvalue <- Bayesian.FDR(data$BF, pi0)$FDR\n",
    "\n"
   ]
  },
  {
   "cell_type": "code",
   "execution_count": 102,
   "metadata": {
    "collapsed": false
   },
   "outputs": [
    {
     "data": {
      "text/plain": [
       "[1] \"/usr/data/extTADA\"\n"
      ]
     },
     "metadata": {},
     "output_type": "display_data"
    }
   ],
   "source": [
    "%%R\n",
    "write.csv(data1, \"data/ext_TADA_results_usingThreeGeneSets.csv\", row.names=FALSE)\n",
    "\n",
    "getwd()"
   ]
  },
  {
   "cell_type": "code",
   "execution_count": 103,
   "metadata": {
    "collapsed": false
   },
   "outputs": [
    {
     "name": "stdout",
     "output_type": "stream",
     "text": [
      "105\n",
      "ACTL6B AIFM3 ARHGEF10L ARL5C ASS1 ATAD2 BAMBI BEND3 BPIFB3 BRIX1 C12orf68 C1orf27 C20orf197 C21orf33 C2CD4A C2orf53 C3orf26 C3orf79 C6orf72 CCL18 CD27 CD300A CD9 CLRN3 CLTCL1 CYP4F8 DLG2 DUSP28 DYNC1LI2 EDARADD EIF2S1 EIF4E1B ESPNL EXOC7 F2R FAM178B FAM26F FAM55B FGFR1 GALNT2 GGTLC2 GJD2 GSTT1 GUCY2C HINT1 HIST1H2AJ HLA-DPB1 HN1L HSPA1A IHH KATNAL2 KCNK2 KCNN1 KIAA0226 KIF14 KRTAP20-2 KRTAP21-1 LITAF LRTOMT MAN2B2 METTL20 MGP MKL1 MPPED2 MRC1 MRPL2 NDUFA3 NIPSNAP3A NKX6-2 NTPCR OGDHL OR10A2 OR2T1 OVCH1 PCDHAC1 PDHA2 PHOX2B PLA2G4A PLA2G4C PNMA1 PRKAG3 RABGAP1L RDH10 RHOG RNASEH2A SBDS SEMA4B SLC30A2 SLC9C2 SMPX SPDYE2 SRP19 SUZ12 TCF23 TMEM126B TMEM176B TNFRSF12A TNFRSF6B TSPYL5 UNC5B VAX1 WBSCR22 ZDHHC19 ZNF714 ZXDC "
     ]
    }
   ],
   "source": [
    "%%bash\n",
    "cat data/ext_TADA_results_usingThreeGeneSets.csv |awk -F\",\" '$(NF-1)<0.1'|\\\n",
    "    awk -F\",\" '{print $1}'|sed 's/\"//g'|grep -v \"Gene\" |\\\n",
    "    sort > data/list.genesWithNewPiFDR01.usingThreeGeneSets.txt\n",
    "    \n",
    "cat data/list.genesWithNewPiFDR01.usingThreeGeneSets.txt|wc -l\n",
    "cat data/list.genesWithNewPiFDR01.usingThreeGeneSets.txt|tr \"\\n\" \" \"\n"
   ]
  },
  {
   "cell_type": "code",
   "execution_count": 104,
   "metadata": {
    "collapsed": false
   },
   "outputs": [
    {
     "name": "stdout",
     "output_type": "stream",
     "text": [
      "1\n"
     ]
    }
   ],
   "source": [
    "%%bash\n",
    "join -1 1 -2 1 data/list.genesWithNewPiFDR01.usingThreeGeneSets.txt data/list.33genes.FDR0.1.txt|wc -l"
   ]
  },
  {
   "cell_type": "code",
   "execution_count": 25,
   "metadata": {
    "collapsed": false
   },
   "outputs": [
    {
     "name": "stdout",
     "output_type": "stream",
     "text": [
      "https://gist.github.com/7eeb2d36815d0b40922f\r\n"
     ]
    }
   ],
   "source": [
    "#!gist -p Re_run_TADA_exTADA_testParameters.ipynb"
   ]
  },
  {
   "cell_type": "code",
   "execution_count": 26,
   "metadata": {
    "collapsed": false
   },
   "outputs": [
    {
     "name": "stdout",
     "output_type": "stream",
     "text": [
      "https://gist.github.com/7eeb2d36815d0b40922f\r\n"
     ]
    }
   ],
   "source": [
    "!gist -u https://gist.github.com/7eeb2d36815d0b40922f Re_run_TADA_exTADA_testParameters.ipynb"
   ]
  },
  {
   "cell_type": "code",
   "execution_count": null,
   "metadata": {
    "collapsed": true
   },
   "outputs": [],
   "source": []
  }
 ],
 "metadata": {
  "kernelspec": {
   "display_name": "Python 3",
   "language": "python",
   "name": "python3"
  },
  "language_info": {
   "codemirror_mode": {
    "name": "ipython",
    "version": 3
   },
   "file_extension": ".py",
   "mimetype": "text/x-python",
   "name": "python",
   "nbconvert_exporter": "python",
   "pygments_lexer": "ipython3",
   "version": "3.4.0"
  }
 },
 "nbformat": 4,
 "nbformat_minor": 0
}
