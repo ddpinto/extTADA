{
 "cells": [
  {
   "cell_type": "code",
   "execution_count": 1,
   "metadata": {
    "collapsed": true
   },
   "outputs": [],
   "source": [
    "%load_ext rpy2.ipython"
   ]
  },
  {
   "cell_type": "code",
   "execution_count": 2,
   "metadata": {
    "collapsed": true
   },
   "outputs": [],
   "source": [
    "%%R\n",
    "source(\"likelihoodFunctionCC.R\")\n",
    "source(\"TADAaddEvidence.R\")\n",
    "mu.frac <- c(0.074, 0.32)\n",
    "gamma.mean.dn <- c(20, 4.7)\n",
    "beta.dn <- c(1,1)\n",
    "gamma.mean.CC <- c(2.3, 1.00)\n",
    "beta.CC <- c(4.0, 1000)\n",
    "rho1 <- c(0.1, 0.5)\n",
    "nu1 <- c(200, 100)\n",
    "rho0 <- c(0.1, 0.5)\n",
    "nu0 <- c(200, 100)\n",
    "hyperpar <- as.array(rbind(gamma.mean.dn, beta.dn, gamma.mean.CC, beta.CC, rho1, nu1, rho0, nu0))\n",
    "l <- 100\n",
    "pi0 <- 0.94 # the fraction of non-risk genes\n",
    "\n",
    "# ASC (Autism Sequencing Consortium) data\n",
    "# The file name contains the sample size information\n",
    "# The only relevant counts are dn.LoF and dn.mis3\n",
    "data <- read.csv(\"TADA/data/ASC_2231trios_1333trans_1601cases_5397controls.csv\", header=TRUE, as.is=TRUE)\n",
    "ntrio <- 2231  # number of trios\n",
    "ncase <- 1601  # number of cases\n",
    "nctrl <- 5397  # number of controls\n",
    "ntrans <- 1333 # number of subjects with transmission data\n",
    "N <- list(dn=ntrio, ca=ntrans+ncase, cn=ntrans+nctrl)\n",
    "\n",
    "# Running TADA\n",
    "counts <- as.array(cbind(data$dn.LoF, data$case.LoF+data$trans.LoF, data$ctrl.LoF+data$ntrans.LoF, data$dn.mis3, data$case.mis3+data$trans.mis3,\n",
    " data$ctrl.mis3+data$ntrans.mis3))\n",
    "\n",
    "\n",
    "count.mu.Data <- cbind(counts[, 1:3], data$mut.rate*mu.frac[1])\n",
    "#count.mu.Data <- cbind(counts[, 4:6], data$mut.rate*mu.frac[2])\n",
    "\n",
    "########Calculate data.frame and likelihood function\n",
    "##countData should be a data.frame including all annotation types.\n",
    "#Each type includes 3 columns: de novo, case and control\n",
    "#mutData: a data.frame including mutation rates of each type\n"
   ]
  },
  {
   "cell_type": "markdown",
   "metadata": {},
   "source": [
    "###Re-write the likelihood function"
   ]
  },
  {
   "cell_type": "code",
   "execution_count": 3,
   "metadata": {
    "collapsed": true
   },
   "outputs": [],
   "source": [
    "%%R\n",
    "logLikelihood <- function(countData, hyperpar, pi0 = 0.06, mutationData,\n",
    "                          testType = c(\"dn\", \"CaseControl\", \"both\"), nCore = 1, combinationType = 1){\n",
    "    ##Identify how many annotation types\n",
    "    if (is.numeric(mutationData))\n",
    "        mutationData <- cbind(mutationData)\n",
    "    kk <- dim(mutationData)[2]\n",
    "\n",
    "        ###Choose only de novo (dn), only cc (cc), or both (\"both\")\n",
    "        testType <- match.arg(testType)\n",
    "        \n",
    "        nGene <- dim(countData)[1]\n",
    "    dataOut <- cbind(rep(1, nGene), rep(1, nGene))\n",
    "\n",
    "    logLLKallType <- 0\n",
    "    \n",
    "    for (jj in 1:kk){\n",
    "\n",
    "        ##Extract each annotation\n",
    "        sIndex <- 3*(jj - 1) + 1\n",
    "        \n",
    "        countData.type <- cbind(countData[, c(sIndex, sIndex + 1, sIndex + 2)], mutationData[, jj])\n",
    "\n",
    "#        print(dim(countData.type))\n",
    "        \n",
    "        typeData <- apply(countData.type, 1, function(xRow){\n",
    "            x <- list(dn = xRow[1],\n",
    "                    ca = xRow[2], cn = xRow[3], mu = xRow[4])\n",
    "\n",
    " #           print(xRow)\n",
    "                #####Alternative hypothesis\n",
    "                x.alt.CC <- evidence.alt.CC(x = x, N = N, gamma.mean = hyperpar[3, jj],\n",
    "                                            beta = hyperpar[4, jj],\n",
    "                                            rho1 = hyperpar[5, jj], nu1 = hyperpar[6, jj])$total\n",
    "\n",
    "                x.alt.dn <- dnbinom(x = x$dn, hyperpar[1, jj]*hyperpar[2, jj],\n",
    "                                   hyperpar[2, jj]/(hyperpar[2, jj] + 2*N$dn*x$mu)) \n",
    "                    #evidence.alt.dn(x = xRow[1], N = N$dn, mu = xRow[4],\n",
    "                     #                       gamma.mean = hyperpar[1, 1], beta = hyperpar[2, 1])\n",
    "\n",
    "#####Null hypothesis\n",
    "\n",
    "                x.null.CC <- evidence.null.CC(x = x, N = N, rho0 = hyperpar[7, jj], nu0 = hyperpar[8, jj])$total\n",
    "                x.null.dn <- dpois(x$dn, 2*N$dn*x$mu) #evidence.null.dn(x = xRow[1], N = N$dn, mu = xRow[4])\n",
    "\n",
    "\n",
    "            return(c(x.alt.CC, x.alt.dn, x.null.CC, x.null.dn))\n",
    "\n",
    "        })\n",
    "\n",
    "        #########Done\n",
    "\n",
    "        ##############################################\n",
    "                    ##########Calculate log likelihood\n",
    "        typeData <- t(typeData)\n",
    "        \n",
    "            pH1.dn <- typeData[, 2]\n",
    "            pH0.dn <- typeData[, 4]\n",
    "\n",
    "        pH1.cc <- typeData[, 1]\n",
    "        pH0.cc <- typeData[, 3]\n",
    "        \n",
    "        if (testType == \"dn\"){\n",
    "            pH1 <- pH1.dn\n",
    "            pH0 <- pH0.dn\n",
    "        } \n",
    "        if (testType == \"CaseControl\"){\n",
    "            pH1 <- pH1.cc\n",
    "            pH0 <- pH0.cc\n",
    "        }\n",
    "        if (testType == \"both\") {\n",
    "            pH1 <- pH1.cc*pH1.dn\n",
    "            pH0 <- pH0.cc*pH0.dn\n",
    "        }\n",
    "        \n",
    "        dataOut[, 1] <- dataOut[, 1]*pH1\n",
    "        dataOut[, 2] <- dataOut[, 2]*pH0\n",
    "\n",
    "        \n",
    "    }\n",
    "\n",
    "        pH1.all <- pi0*dataOut[, 1]\n",
    "        pH0.all <- (1 - pi0)*dataOut[, 2]\n",
    "\n",
    "        pH.all <- pH1.all + pH0.all\n",
    "        \n",
    "        logLLK <- sum(log(pH.all[!is.na(pH.all)]))\n",
    "\n",
    "    return(list(dataOut = dataOut, logLik = logLLK))\n",
    "}\n",
    "\n"
   ]
  },
  {
   "cell_type": "markdown",
   "metadata": {},
   "source": [
    "###Likelihood for de novo LoF only"
   ]
  },
  {
   "cell_type": "code",
   "execution_count": 4,
   "metadata": {
    "collapsed": false
   },
   "outputs": [],
   "source": [
    "%%R\n",
    "piSeq <- seq(0.001, 0.07, 0.002)\n",
    "library('parallel')\n",
    "\n",
    "llkout <- lapply(piSeq, function(piX) logLikelihood(countData = counts, hyperpar = hyperpar,\n",
    "                                      pi0 = piX, mutationData = data$mut.rate*mu.frac[1], \n",
    "                                                   testType = \"dn\")$logLik)\n",
    "                 \n"
   ]
  },
  {
   "cell_type": "code",
   "execution_count": 5,
   "metadata": {
    "collapsed": false
   },
   "outputs": [
    {
     "data": {
      "image/png": "[encoded data removed]"
     },
     "metadata": {},
     "output_type": "display_data"
    }
   ],
   "source": [
    "%%R\n",
    "llkout\n",
    "plot(piSeq, as.numeric(llkout))\n",
    "\n"
   ]
  },
  {
   "cell_type": "code",
   "execution_count": 6,
   "metadata": {
    "collapsed": false
   },
   "outputs": [],
   "source": [
    "%%R\n",
    "piSeq <- seq(0.001, 0.07, 0.002)\n",
    "library('parallel')\n",
    "\n",
    "mutationData <- cbind(data$mut.rate*mu.frac[1],\n",
    "                     data$mut.rate*mu.frac[2])\n",
    "\n",
    "llkout <- lapply(piSeq, function(piX) logLikelihood(countData = counts, hyperpar = hyperpar,\n",
    "                                      pi0 = piX, mutationData = mutationData, \n",
    "                                                   testType = \"dn\")$logLik)\n",
    "                 \n"
   ]
  },
  {
   "cell_type": "code",
   "execution_count": 7,
   "metadata": {
    "collapsed": false
   },
   "outputs": [
    {
     "data": {
      "image/png": "[encoded data removed]"
     },
     "metadata": {},
     "output_type": "display_data"
    }
   ],
   "source": [
    "%%R\n",
    "llkout\n",
    "plot(piSeq, as.numeric(llkout))\n",
    "\n"
   ]
  },
  {
   "cell_type": "code",
   "execution_count": 8,
   "metadata": {
    "collapsed": false
   },
   "outputs": [],
   "source": [
    "%%R\n",
    "piSeq.cc <- seq(0.000001, 0.0001, 0.000002)\n",
    "\n",
    "\n",
    "llkout.cc <- lapply(piSeq.cc, function(piX) logLikelihood(countData = counts, hyperpar = hyperpar,\n",
    "                                      pi0 = piX, mutationData = data$mut.rate*mu.frac[1], \n",
    "                                                   testType = \"CaseControl\")$logLik)\n",
    "                 \n"
   ]
  },
  {
   "cell_type": "code",
   "execution_count": 9,
   "metadata": {
    "collapsed": false
   },
   "outputs": [
    {
     "data": {
      "image/png": "[encoded data removed]"
     },
     "metadata": {},
     "output_type": "display_data"
    }
   ],
   "source": [
    "%%R\n",
    "plot(piSeq.cc, as.numeric(llkout.cc))"
   ]
  },
  {
   "cell_type": "markdown",
   "metadata": {},
   "source": [
    "###For mis3"
   ]
  },
  {
   "cell_type": "code",
   "execution_count": 14,
   "metadata": {
    "collapsed": false
   },
   "outputs": [],
   "source": [
    "%%R\n",
    "piSeq.cc <- seq(0.000001, 0.03, 0.0002)\n",
    "\n",
    "\n",
    "llkout.cc <- lapply(piSeq.cc, function(piX) logLikelihood(countData = counts[, c(4, 5, 6)], hyperpar = hyperpar,\n",
    "                                      pi0 = piX, mutationData = data$mut.rate*mu.frac[2], \n",
    "                                                   testType = \"CaseControl\")$logLik)\n",
    "                 \n"
   ]
  },
  {
   "cell_type": "code",
   "execution_count": 15,
   "metadata": {
    "collapsed": false
   },
   "outputs": [
    {
     "data": {
      "image/png": "[encoded data removed]"
     },
     "metadata": {},
     "output_type": "display_data"
    }
   ],
   "source": [
    "%%R\n",
    "plot(piSeq.cc, as.numeric(llkout.cc))"
   ]
  },
  {
   "cell_type": "markdown",
   "metadata": {},
   "source": [
    "###Combine case-control data of two annovation types"
   ]
  },
  {
   "cell_type": "code",
   "execution_count": 10,
   "metadata": {
    "collapsed": false
   },
   "outputs": [],
   "source": [
    "%%R\n",
    "piSeq.cc.both <- seq(0.000001, 0.001, 0.000002)\n",
    "\n",
    "\n",
    "llkout.cc.both <- lapply(piSeq.cc, function(piX) logLikelihood(countData = counts, hyperpar = hyperpar,\n",
    "                                      pi0 = piX, mutationData = mutationData, \n",
    "                                                   testType = \"CaseControl\")$logLik)\n",
    "                 \n"
   ]
  },
  {
   "cell_type": "code",
   "execution_count": 13,
   "metadata": {
    "collapsed": false
   },
   "outputs": [
    {
     "data": {
      "image/png": "[encoded data removed]"
     },
     "metadata": {},
     "output_type": "display_data"
    }
   ],
   "source": [
    "%%R\n",
    "plot(piSeq.cc, as.numeric(llkout.cc.both))"
   ]
  },
  {
   "cell_type": "markdown",
   "metadata": {},
   "source": [
    "\n",
    "#Just here\n",
    "###Cannnot see the optimal point for case-control data, use an analytic way\n",
    "\n",
    "####Write a function to calculate the optimal values"
   ]
  },
  {
   "cell_type": "markdown",
   "metadata": {},
   "source": [
    "###Combine case-control data"
   ]
  },
  {
   "cell_type": "code",
   "execution_count": 16,
   "metadata": {
    "collapsed": true
   },
   "outputs": [],
   "source": [
    "%%R\n",
    "library('parallel')\n",
    "piSeq1 <- seq(0.00001, 0.05, 0.0002)\n",
    "\n",
    "\n",
    "llkout.cc <- mclapply(piSeq1, function(piX) logLikelihood(countData = counts, hyperpar = hyperpar,\n",
    "                                      pi0 = piX, mutationData = mutationData, \n",
    "                                                        testType = \"both\")$logLik)\n",
    "                 \n",
    "\n"
   ]
  },
  {
   "cell_type": "code",
   "execution_count": 17,
   "metadata": {
    "collapsed": false
   },
   "outputs": [
    {
     "data": {
      "image/png": "[encoded data removed]"
     },
     "metadata": {},
     "output_type": "display_data"
    }
   ],
   "source": [
    "%%R\n",
    "plot(piSeq1, as.numeric(llkout.cc))"
   ]
  },
  {
   "cell_type": "markdown",
   "metadata": {},
   "source": [
    "###Write a function to calculate optimal values"
   ]
  },
  {
   "cell_type": "code",
   "execution_count": 29,
   "metadata": {
    "collapsed": true
   },
   "outputs": [],
   "source": [
    "%%R\n",
    "#mutationData <- cbind(data$mut.rate*mu.frac[1])\n",
    "mutationData <- cbind(data$mut.rate*mu.frac[1], data$mut.rate*mu.frac[2])\n",
    "\n",
    "piFunc <- function(x){\n",
    "\n",
    "    piX <- x[1]\n",
    "    gamma.mean.dn.lof <- x[2]\n",
    "    beta.dn.lof <- x[3]\n",
    "    gamma.mean.dn.mis3 <- x[4]\n",
    "    beta.dn.mis3 <- x[5]\n",
    "\n",
    "    hyperparNew <- hyperpar\n",
    "    hyperparNew[1, 1] <- gamma.mean.dn.lof\n",
    "    hyperparNew[1, 2] <- gamma.mean.dn.mis3\n",
    "    hyperparNew[2, 1] <- beta.dn.lof\n",
    "    hyperparNew[2, 2] <- beta.dn.mis3\n",
    "\n",
    "    log.All <- -logLikelihood(countData = counts, hyperpar = hyperparNew,\n",
    "                                      pi0 = piX, mutationData = mutationData)$logLik\n",
    "    return(log.All)\n",
    "}\n",
    "\n",
    "#R -e \"install.packages(c('rjags'), repos='http://cran.rstudio.com/')\""
   ]
  },
  {
   "cell_type": "markdown",
   "metadata": {},
   "source": [
    "###Optimize to obtain local optimization values for de novo data of LoF and mis3"
   ]
  },
  {
   "cell_type": "code",
   "execution_count": 30,
   "metadata": {
    "collapsed": false
   },
   "outputs": [],
   "source": [
    "%%R\n",
    "library(\"optimx\")\n",
    "pi.M <- optimx(c(0.05, 20, 1, 5, 1), fn = piFunc,\n",
    "               lower = c(0,   5, 0.01,   1, 0.01),\n",
    "               upper = c(1, 100, 5.00, 100, 5.00))\n",
    "\n"
   ]
  },
  {
   "cell_type": "code",
   "execution_count": 31,
   "metadata": {
    "collapsed": false
   },
   "outputs": [
    {
     "data": {
      "text/plain": [
       "                 p1       p2         p3       p4       p5    value fevals\n",
       "L-BFGS-B 0.07183842 13.81419 0.04287801 4.547195 4.997559 4492.687     66\n",
       "         gevals niter convcode kkt1  kkt2  xtimes\n",
       "L-BFGS-B     66    NA        0 TRUE FALSE 8918.82\n"
      ]
     },
     "metadata": {},
     "output_type": "display_data"
    }
   ],
   "source": [
    "%%R\n",
    "pi.M"
   ]
  },
  {
   "cell_type": "markdown",
   "metadata": {},
   "source": [
    "###Set a lower limit for gamma.mean"
   ]
  },
  {
   "cell_type": "code",
   "execution_count": 49,
   "metadata": {
    "collapsed": false
   },
   "outputs": [],
   "source": [
    "%%R\n",
    "library(\"optimx\")\n",
    "pi.M.n <- optimx(c(0.05, 20, 1, 5, 1), fn = piFunc,\n",
    "               lower = c(0,   5, 1,   1, 1),\n",
    "               upper = c(1, 100, 5.00, 100, Inf))\n",
    "\n"
   ]
  },
  {
   "cell_type": "code",
   "execution_count": 50,
   "metadata": {
    "collapsed": false
   },
   "outputs": [
    {
     "data": {
      "text/plain": [
       "                 p1      p2 p3     p4 p5    value fevals gevals niter convcode\n",
       "L-BFGS-B 0.05063322 20.0001  1 5.0002  1 4501.807      5      5    NA        0\n",
       "         kkt1 kkt2 xtimes\n",
       "L-BFGS-B TRUE TRUE 648.31\n"
      ]
     },
     "metadata": {},
     "output_type": "display_data"
    }
   ],
   "source": [
    "%%R\n",
    "\n",
    "pi.M.n"
   ]
  },
  {
   "cell_type": "markdown",
   "metadata": {},
   "source": [
    "#### => When beta is small => higher likelihood value"
   ]
  },
  {
   "cell_type": "code",
   "execution_count": 21,
   "metadata": {
    "collapsed": false
   },
   "outputs": [
    {
     "data": {
      "text/plain": [
       "               [,1]   [,2]\n",
       "gamma.mean.dn  20.0    4.7\n",
       "beta.dn         1.0    1.0\n",
       "gamma.mean.CC   2.3    1.0\n",
       "beta.CC         4.0 1000.0\n",
       "rho1            0.1    0.5\n",
       "nu1           200.0  100.0\n",
       "rho0            0.1    0.5\n",
       "nu0           200.0  100.0\n"
      ]
     },
     "metadata": {},
     "output_type": "display_data"
    }
   ],
   "source": [
    "%%R\n",
    "hyperpar"
   ]
  },
  {
   "cell_type": "code",
   "execution_count": 54,
   "metadata": {
    "collapsed": true
   },
   "outputs": [],
   "source": [
    "%%R\n",
    "#mutationData <- cbind(data$mut.rate*mu.frac[1])\n",
    "mutationData <- cbind(data$mut.rate*mu.frac[1], data$mut.rate*mu.frac[2])\n",
    "\n",
    "piFunc.both <- function(x){\n",
    "\n",
    "    piX <- x[1]\n",
    "    \n",
    "    ###De novo\n",
    "    gamma.mean.dn.lof <- x[2]\n",
    "    beta.dn.lof <- x[3]\n",
    "    gamma.mean.dn.mis3 <- x[4]\n",
    "    beta.dn.mis3 <- x[5]\n",
    "    \n",
    "    ###Case-control\n",
    "    gamma.mean.cc.lof <- x[6]\n",
    "    beta.cc.lof <- x[7]\n",
    "    gamma.mean.cc.mis3 <- x[8]\n",
    "    beta.cc.mis3 <- x[9]\n",
    "\n",
    "    hyperparNew <- hyperpar\n",
    "    hyperparNew[1, 1] <- gamma.mean.dn.lof\n",
    "    hyperparNew[1, 2] <- gamma.mean.dn.mis3\n",
    "    hyperparNew[2, 1] <- beta.dn.lof\n",
    "    hyperparNew[2, 2] <- beta.dn.mis3\n",
    "    \n",
    "    hyperparNew[3, 1] <- gamma.mean.cc.lof\n",
    "    hyperparNew[3, 2] <- gamma.mean.cc.mis3\n",
    "    hyperparNew[4, 1] <- beta.cc.lof\n",
    "    hyperparNew[4, 2] <- beta.cc.mis3\n",
    "\n",
    "    log.All <- -logLikelihood(countData = counts, hyperpar = hyperparNew,\n",
    "                                      pi0 = piX, \n",
    "                              testType = \"both\",\n",
    "                              mutationData = mutationData)$logLik\n",
    "    return(log.All)\n",
    "}\n",
    "\n"
   ]
  },
  {
   "cell_type": "markdown",
   "metadata": {},
   "source": [
    "###Test for case-control + de novo data for both LoF + mis3"
   ]
  },
  {
   "cell_type": "code",
   "execution_count": 23,
   "metadata": {
    "collapsed": false
   },
   "outputs": [],
   "source": [
    "%%R\n",
    "library(\"optimx\")\n",
    "pi.M.both <- optimx(c(0.05, \n",
    "                      20, 1, 5, 1, \n",
    "                     2.3, 4, 1, 100), \n",
    "                    \n",
    "                    fn = piFunc.both,\n",
    "                    \n",
    "               lower = c(0,   \n",
    "                         5, 0.01,   1, 0.01,\n",
    "                        1, 0.01, 1, 0.01),\n",
    "               upper = c(1, \n",
    "                         100, 5.00, 100, 5.00,\n",
    "                        100, Inf, 100, Inf))\n",
    "\n"
   ]
  },
  {
   "cell_type": "code",
   "execution_count": 24,
   "metadata": {
    "collapsed": false
   },
   "outputs": [
    {
     "data": {
      "text/plain": [
       "                  p1      p2         p3       p4        p5  p6 p7 p8  p9\n",
       "L-BFGS-B 0.007732048 20.4113 0.01988988 5.437522 0.9675653 2.3  4  1 100\n",
       "            value fevals gevals niter convcode kkt1  kkt2 xtimes\n",
       "L-BFGS-B 183050.5     11     11    NA        0 TRUE FALSE   2573\n"
      ]
     },
     "metadata": {},
     "output_type": "display_data"
    }
   ],
   "source": [
    "%%R\n",
    "pi.M.both"
   ]
  },
  {
   "cell_type": "code",
   "execution_count": 25,
   "metadata": {
    "collapsed": false
   },
   "outputs": [
    {
     "data": {
      "text/plain": [
       "                  p1      p2         p3       p4        p5  p6 p7 p8  p9\n",
       "L-BFGS-B 0.007732048 20.4113 0.01988988 5.437522 0.9675653 2.3  4  1 100\n",
       "            value fevals gevals niter convcode kkt1  kkt2 xtimes\n",
       "L-BFGS-B 183050.5     11     11    NA        0 TRUE FALSE   2573\n"
      ]
     },
     "metadata": {},
     "output_type": "display_data"
    }
   ],
   "source": [
    "%%R\n",
    "summary(pi.M.both)"
   ]
  },
  {
   "cell_type": "code",
   "execution_count": 36,
   "metadata": {
    "collapsed": false
   },
   "outputs": [
    {
     "data": {
      "text/plain": [
       "[1] 0.007732048\n"
      ]
     },
     "metadata": {},
     "output_type": "display_data"
    }
   ],
   "source": [
    "%%R\n",
    "pi.M.both$p1"
   ]
  },
  {
   "cell_type": "code",
   "execution_count": 40,
   "metadata": {
    "collapsed": true
   },
   "outputs": [],
   "source": [
    "%%R\n",
    "xOut <- pi.M.both\n",
    "\n",
    "est.gamma.mean.dn.lof <- xOut$p2\n",
    "est.beta.dn.lof <- xOut$p3\n",
    "est.gamma.mean.dn.mis3 <- xOut$p4\n",
    "est.beta.dn.mis3 <- xOut$p5\n",
    "\n",
    "est.gamma.mean.cc.lof <- xOut$p6\n",
    "est.beta.cc.lof <- xOut$p7\n",
    "est.gamma.mean.cc.mis3 <- xOut$p8\n",
    "est.beta.cc.mis3 <- xOut$p9\n"
   ]
  },
  {
   "cell_type": "code",
   "execution_count": 48,
   "metadata": {
    "collapsed": false
   },
   "outputs": [
    {
     "data": {
      "image/png": "[encoded data removed]"
     },
     "metadata": {},
     "output_type": "display_data"
    }
   ],
   "source": [
    "%%R -w 20 -h 20 -u cm\n",
    "xGamma.lof <- rgamma(1000, shape = est.gamma.mean.dn.lof*est.beta.dn.lof, \n",
    "                    rate = est.beta.dn.lof)\n",
    "\n",
    "\n",
    "par(mfrow = c(2, 2))\n",
    "plot(density(xGamma.lof))\n",
    "plot(xGamma.lof, dgamma(xGamma.lof, shape = est.gamma.mean.dn.lof*est.beta.dn.lof, \n",
    "                    rate = est.beta.dn.lof))\n",
    "plot(xGamma.lof, dgamma(xGamma.lof, shape = est.gamma.mean.dn.lof*4.7, \n",
    "                    rate = 4.7))\n",
    "plot(xGamma.lof, dgamma(xGamma.lof, shape = est.gamma.mean.dn.lof*1, \n",
    "                    rate = 1))"
   ]
  },
  {
   "cell_type": "code",
   "execution_count": 46,
   "metadata": {
    "collapsed": false
   },
   "outputs": [
    {
     "data": {
      "text/plain": [
       "               [,1]   [,2]\n",
       "gamma.mean.dn  20.0    4.7\n",
       "beta.dn         1.0    1.0\n",
       "gamma.mean.CC   2.3    1.0\n",
       "beta.CC         4.0 1000.0\n",
       "rho1            0.1    0.5\n",
       "nu1           200.0  100.0\n",
       "rho0            0.1    0.5\n",
       "nu0           200.0  100.0\n"
      ]
     },
     "metadata": {},
     "output_type": "display_data"
    }
   ],
   "source": [
    "%%R\n",
    "hyperpar"
   ]
  },
  {
   "cell_type": "markdown",
   "metadata": {},
   "source": [
    "###Change the lower + upper limitation for (case-control + de-novo) of both LoF + mis3"
   ]
  },
  {
   "cell_type": "code",
   "execution_count": 55,
   "metadata": {
    "collapsed": false
   },
   "outputs": [
    {
     "data": {
      "text/plain": [
       "function (x) \n",
       "{\n",
       "    piX <- x[1]\n",
       "    gamma.mean.dn.lof <- x[2]\n",
       "    beta.dn.lof <- x[3]\n",
       "    gamma.mean.dn.mis3 <- x[4]\n",
       "    beta.dn.mis3 <- x[5]\n",
       "    gamma.mean.cc.lof <- x[6]\n",
       "    beta.cc.lof <- x[7]\n",
       "    gamma.mean.cc.mis3 <- x[8]\n",
       "    beta.cc.mis3 <- x[9]\n",
       "    hyperparNew <- hyperpar\n",
       "    hyperparNew[1, 1] <- gamma.mean.dn.lof\n",
       "    hyperparNew[1, 2] <- gamma.mean.dn.mis3\n",
       "    hyperparNew[2, 1] <- beta.dn.lof\n",
       "    hyperparNew[2, 2] <- beta.dn.mis3\n",
       "    hyperparNew[3, 1] <- gamma.mean.cc.lof\n",
       "    hyperparNew[3, 2] <- gamma.mean.cc.mis3\n",
       "    hyperparNew[4, 1] <- beta.cc.lof\n",
       "    hyperparNew[4, 2] <- beta.cc.mis3\n",
       "    log.All <- -logLikelihood(countData = counts, hyperpar = hyperparNew, \n",
       "        pi0 = piX, testType = \"both\", mutationData = mutationData)$logLik\n",
       "    return(log.All)\n",
       "}\n"
      ]
     },
     "metadata": {},
     "output_type": "display_data"
    }
   ],
   "source": [
    "%%R\n",
    "piFunc.both"
   ]
  },
  {
   "cell_type": "code",
   "execution_count": 57,
   "metadata": {
    "collapsed": false
   },
   "outputs": [],
   "source": [
    "%%R\n",
    "library(\"optimx\")\n",
    "pi.M.both.n <- optimx(c(0.05, \n",
    "                      20, 1, 5, 1, \n",
    "                     2.3, 4, 1, 100), \n",
    "                    \n",
    "                    fn = piFunc.both,\n",
    "                    \n",
    "               lower = c(0,   \n",
    "                         5, 1,   1, 1,\n",
    "                        1, 1, 1, 1),\n",
    "               upper = c(1, \n",
    "                         100, 5.00, 100, Inf,\n",
    "                        100, Inf, 100, Inf))\n",
    "\n"
   ]
  },
  {
   "cell_type": "code",
   "execution_count": 52,
   "metadata": {
    "collapsed": false
   },
   "outputs": [
    {
     "data": {
      "text/plain": [
       "                 p1       p2 p3       p4       p5  p6 p7 p8  p9    value fevals\n",
       "L-BFGS-B 0.00651686 29.83633  1 15.45292 1.000007 2.3  4  1 100 183049.4     24\n",
       "         gevals niter convcode kkt1  kkt2  xtimes\n",
       "L-BFGS-B     24    NA        0 TRUE FALSE 5382.88\n"
      ]
     },
     "metadata": {},
     "output_type": "display_data"
    }
   ],
   "source": [
    "%%R\n",
    "pi.M.both.n"
   ]
  },
  {
   "cell_type": "code",
   "execution_count": 61,
   "metadata": {
    "collapsed": false
   },
   "outputs": [
    {
     "name": "stdout",
     "output_type": "stream",
     "text": [
      "https://gist.github.com/f89b1829b734f4ae2781\r\n"
     ]
    }
   ],
   "source": [
    "#!gist -p Re_test_all_parameters_inTADA_useProd_inside.ipynb"
   ]
  },
  {
   "cell_type": "code",
   "execution_count": 63,
   "metadata": {
    "collapsed": false
   },
   "outputs": [
    {
     "name": "stdout",
     "output_type": "stream",
     "text": [
      "https://gist.github.com/f89b1829b734f4ae2781\r\n"
     ]
    }
   ],
   "source": [
    "!gist -u https://gist.github.com/f89b1829b734f4ae2781 Re_test_all_parameters_inTADA_useProd_inside.ipynb"
   ]
  },
  {
   "cell_type": "code",
   "execution_count": null,
   "metadata": {
    "collapsed": true
   },
   "outputs": [],
   "source": []
  }
 ],
 "metadata": {
  "kernelspec": {
   "display_name": "Python 3",
   "language": "python",
   "name": "python3"
  },
  "language_info": {
   "codemirror_mode": {
    "name": "ipython",
    "version": 3
   },
   "file_extension": ".py",
   "mimetype": "text/x-python",
   "name": "python",
   "nbconvert_exporter": "python",
   "pygments_lexer": "ipython3",
   "version": "3.4.0"
  }
 },
 "nbformat": 4,
 "nbformat_minor": 0
}
