{
 "cells": [
  {
   "cell_type": "code",
   "execution_count": 2,
   "metadata": {
    "collapsed": true
   },
   "outputs": [],
   "source": [
    "%load_ext rpy2.ipython"
   ]
  },
  {
   "cell_type": "markdown",
   "metadata": {},
   "source": [
    "$\\gamma_i$: relative risk; $q_i$: allel frequency\n",
    "\n",
    "###Under H0: $\\gamma = 1$\n",
    "\n",
    "$q \\sim Gamma(\\rho_0, \\nu_0)$    OR     $q \\sim Gamma(\\bar{q_0}\\nu_0, \\nu_0 )$ \n",
    "\n",
    "###Under H1:\n",
    "\n",
    "$q \\sim Gamma(\\rho_1, \\nu_1)$    OR    $q_i \\sim Gamma(\\bar{q_1}v_1, v_1)$\n",
    "\n",
    "$\\gamma_i \\sim Gamma(\\bar{\\gamma}\\beta, \\beta)$\n",
    "\n",
    "###Hyperparameters\n",
    "\n",
    "$\\phi_1 = (\\bar{\\gamma}, \\beta, \\bar{q_1}, v_1)$\n",
    "\n",
    "$\\phi_0 = (\\bar{q_0}, v_0)$\n",
    "\n",
    "###The rate of a specific type of mutation:\n",
    "\n",
    "$c(\\mu_{LoF}, \\mu_{Mis3}) = c(0.074, 0.32)$  Table S3 (http://journals.plos.org/plosgenetics/article?id=10.1371/journal.pgen.1003671)\n",
    "\n",
    "###Mutation rate for each gene (in Methods)\n",
    "\n",
    "Use gene length + base content as [De novo mutations revealed by whole-exome sequencing are strongly associated with autism](http://www.nature.com/nature/journal/v485/n7397/full/nature10945.html)\n",
    "\n",
    "======\n",
    "##Improvement in Nature 13772\n",
    "\n",
    "###Two different prior distributions for $\\gamma$: de novo and inherited variants\n",
    "\n",
    "$\\gamma_d \\sim Gamma(\\bar{\\gamma_d} \\beta_d, \\beta_d) \\quad \\gamma \\sim Gamma(\\bar{\\gamma} \\beta, \\beta) $\n",
    "\n",
    "=> Change in BFs\n",
    "\n",
    "### $B = \\frac{P(x|H_1)}{P(x|H_0} = \\frac{P(x_d|H_1) \\times P(x_1, x_0 | H_1)}{P(x_d|H_0) \\times P(x_1, x_0 | H_0)} = B_d \\times B_i. $"
   ]
  },
  {
   "cell_type": "code",
   "execution_count": 49,
   "metadata": {
    "collapsed": false
   },
   "outputs": [
    {
     "data": {
      "text/plain": [
       "               [,1]     [,2]\n",
       "gamma.mean.dn  14.0    2.330\n",
       "beta.dn         4.8    2.325\n",
       "gamma.mean.CC   2.8    1.000\n",
       "beta.CC         4.0 1000.000\n",
       "rho1            0.1    0.500\n",
       "nu1           200.0  100.000\n",
       "rho0            0.1    0.500\n",
       "nu0           200.0  100.000\n"
      ]
     },
     "metadata": {},
     "output_type": "display_data"
    }
   ],
   "source": [
    "%%R\n",
    "\n",
    "source(\"scripts/TADA/TADA.R\")\n",
    "\n",
    "#################################################################\n",
    "# Application of TADA\n",
    "#################################################################\n",
    "\n",
    "# Model parameters: two categories of mutations - LoF and mis3 mutations (\"probably damaging\" by PolyPhen2)\n",
    "mu.frac <- c(0.074, 0.32) ##Mutation rates for specific category\n",
    "#gamma.mean.dn <- c(20, 4.7)\n",
    "gamma.mean.dn <- c(14, 2.33)\n",
    "#beta.dn <- c(1,1)\n",
    "beta.dn <- c(4.8, 2.325)\n",
    "\n",
    "\n",
    "gamma.mean.CC <- c(2.8, 1.00)\n",
    "beta.CC <- c(4.0, 1000)\n",
    "rho1 <- c(0.1, 0.5)\n",
    "nu1 <- c(200, 100)\n",
    "rho0 <- c(0.1, 0.5)\n",
    "nu0 <- c(200, 100)\n",
    "hyperpar <- as.array(rbind(gamma.mean.dn, beta.dn, gamma.mean.CC, beta.CC, rho1, nu1, rho0, nu0))\n",
    "l <- 100\n",
    "#pi0 <- 0.94 # the fraction of non-risk genes\n",
    "pi0 <- 1 - 0.07419\n",
    "\n",
    "hyperpar"
   ]
  },
  {
   "cell_type": "code",
   "execution_count": 50,
   "metadata": {
    "collapsed": false
   },
   "outputs": [
    {
     "data": {
      "text/plain": [
       "    Gene mut.rate dn.LoF case.LoF ctrl.LoF trans.LoF ntrans.LoF dn.mis3\n",
       "1   A1BG 2.36e-05      0        0        1         0          0       0\n",
       "2   A1CF 2.17e-05      0        1        2         1          1       0\n",
       "3  A2LD1 6.09e-06      0        0        0         0          0       0\n",
       "4    A2M 5.64e-05      0        1        5         1          0       1\n",
       "5  A2ML1 5.70e-05      0        3       16         2          6       1\n",
       "6 A4GALT 2.42e-05      0        0        2         1          0       0\n",
       "  case.mis3 ctrl.mis3 trans.mis3 ntrans.mis3     BF.dn         BF qvalue.dn\n",
       "1         0         4          7           3 0.7641762 0.54953615 0.9308429\n",
       "2         0         7          3           7 0.7799631 0.75499580 0.9294060\n",
       "3         0         0          0           0 0.9322423 0.50824558 0.8592336\n",
       "4         4        22          6           6 0.5305202 0.29674445 0.9388012\n",
       "5         5        30          6          10 0.5270516 0.05155223 0.9388542\n",
       "6         1         5          2           1 0.7590199 0.63110457 0.9312457\n",
       "     qvalue\n",
       "1 0.9132353\n",
       "2 0.8841540\n",
       "3 0.9229287\n",
       "4 0.9456775\n",
       "5 0.9506706\n",
       "6 0.9018963\n",
       "[1] 14952\n"
      ]
     },
     "metadata": {},
     "output_type": "display_data"
    }
   ],
   "source": [
    "%%R\n",
    "# ASC (Autism Sequencing Consortium) data\n",
    "# The file name contains the sample size information\n",
    "# The only relevant counts are dn.LoF and dn.mis3\n",
    "#data <- read.csv(\"data/ASC_2231trios_1333trans_1601cases_5397controls.csv\", header=TRUE, as.is=TRUE)\n",
    "#ntrio <- 2231  # number of trios\n",
    "#ncase <- 1601  # number of cases\n",
    "#nctrl <- 5397  # number of controls\n",
    "#ntrans <- 1333 # number of subjects with transmission data\n",
    "#N <- list(dn=ntrio, ca=ntrans+ncase, cn=ntrans+nctrl)\n",
    "\n",
    "data <- read.csv(\"data/nature_aut_id_epi.merged.txt\", header = TRUE, sep = \" \")\n",
    "#source(\"TADA/TADA.R\")\n",
    "ntrio <- 2270 + 32 + 0 + 2508 ##AUT\n",
    "ntrio <- ntrio + 0 + 356 #add EPI\n",
    "ntrio <- ntrio + 100 + 0 + 41 + 51 ##add ID samples\n",
    "ncase <- 1601 #Only from AUT paper\n",
    "nctrl <- 5397  #Only from AUT paper\n",
    "ntrans <- 1298 ##Check this information, Only use transmitted information from AUT paper nature13772\n",
    "#ntrans <- ntrio\n",
    "\n",
    "N <- list(dn=ntrio, ca=ntrans+ncase, cn=ntrans+nctrl)\n",
    "\n",
    "\n",
    "print(head(data))\n",
    "\n",
    "sum(unlist(N))"
   ]
  },
  {
   "cell_type": "markdown",
   "metadata": {},
   "source": [
    "###Total counts of variants\n",
    "\n",
    "$N_d$: number of trios\n",
    "\n",
    "$N_0 = N_{cn} + N_d \\quad N_1 = N_{cs} + N_d$\n",
    "\n",
    "$X_d \\sim Pois(2\\mu\\lambda N_d) \\quad X_1 \\sim Pois(q\\lambda N_1) \\quad X_0 \\sim Pois(q N_0)$\n",
    "\n",
    "$X_0 = X_u + X_{cn}$: total number of LoF variants in the controls + the number of nontransmitted LoF variants\n",
    "\n",
    "$X_1 = X_t + X_{cs}$: total number of LoF variants in the case + the number of transmitted LoF variants\n",
    "\n",
    "###The likelihood function is the product of the three individual probabilities\n",
    "\n",
    "$x = (x_d, x_1, x_0)$: count data for a gene to be tested\n",
    "\n",
    "$P(x_d, x_1, x_0|q, \\lambda) = Pois(x_d|2\\mu\\lambda N_d).Pois(x_1|q\\lambda N_1) . Pois(x_0|qN_0)$\n",
    "\n",
    "###\n",
    "\n",
    "\n",
    "\n",
    "\n",
    "\n",
    "\n",
    "##Bayes factor for any gene:\n",
    "\n",
    "$H_1: \\gamma \\neq 1 \\quad vs. \\quad H_0: \\gamma = 1$\n",
    "\n",
    "$\\phi_1 = (\\bar{\\gamma}, \\beta, \\bar{q_1}, \\nu_1)$: the prior parameters of $H_1$\n",
    "\n",
    "$\\phi_0 = (\\bar{q_0}, \\nu_0) $: the prior parameters of $H_0$\n",
    "\n",
    "$P(x_i|H_0) = \\int p(x_i|q_i, \\gamma = 1)p(q_i|H_0)dq_i$\n",
    "\n",
    "$P(x_i|H_1 = \\int p(x_i|q_i, \\gamma) p(q_i|H_1) p(\\gamma_i |H_1) dq_i d\\gamma_i$\n",
    "\n",
    "Solve the marginal likelihood of all the data, as a function of the hyperparameters $(\\phi_1, \\phi_0)$\n",
    "\n",
    "### $P(x|\\phi_1, \\phi_0) = \\prod_{i=1}^{n}\\left[ \\pi P(x_i|H_1) + (1 - \\pi)P(x_i|H_0)\\right]$ \n",
    "\n",
    "$\\pi$: the proportion of risk genes\n",
    "\n",
    "Calculate the Bayes factor for each gene:\n",
    "\n",
    "###$B_i = \\frac{P(x_i|H_1)}{P(x_i|H_0)}$\n",
    "\n",
    "\n",
    "\n",
    "###For multiple types of mutations (assumming that the data of each type of mutation are independent of each other)\n",
    "\n",
    "$B = B_{LoF}[w.B_{Mis3} + (1 - w)]$\n",
    "\n",
    "w = 0.55"
   ]
  },
  {
   "cell_type": "code",
   "execution_count": 51,
   "metadata": {
    "collapsed": false
   },
   "outputs": [
    {
     "data": {
      "text/plain": [
       "     [,1] [,2] [,3] [,4] [,5] [,6]\n",
       "[1,]    0    0    1    0    7    7\n",
       "[2,]    0    2    3    0    3   14\n",
       "[3,]    0    0    0    0    0    0\n",
       "[4,]    0    2    5    1   10   28\n",
       "[5,]    0    5   22    1   11   40\n",
       "[6,]    0    1    2    0    3    6\n"
      ]
     },
     "metadata": {},
     "output_type": "display_data"
    }
   ],
   "source": [
    "%%R\n",
    "\n",
    "# Running TADA\n",
    "counts <- as.array(cbind(data$dn.LoF, ##Xd\n",
    "                         data$case.LoF+data$trans.LoF, data$ctrl.LoF+data$ntrans.LoF, ##X1, X0\n",
    "                         data$dn.mis3, \n",
    "                         data$case.mis3+data$trans.mis3, data$ctrl.mis3+data$ntrans.mis3))\n",
    "head(counts)"
   ]
  },
  {
   "cell_type": "code",
   "execution_count": 52,
   "metadata": {
    "collapsed": true
   },
   "outputs": [],
   "source": [
    "%%R\n",
    "#Running TADA\n",
    "rs <- TADA(counts, N, data$mut.rate, mu.frac, hyperpar)\n",
    "data$BF <- rs$BF.total\n"
   ]
  },
  {
   "cell_type": "code",
   "execution_count": 53,
   "metadata": {
    "collapsed": true
   },
   "outputs": [],
   "source": [
    "%%R\n",
    "# Estimating p-values of BFs (this is optional and slow)\n",
    "#rsp <- TADAp(counts, N, data$mut.rate, mu.frac, hyperpar, l=100)\n",
    "#data$pval.TADA <- rsp$pval\n",
    "\n",
    "##Use new method from nature13772\n",
    "\n",
    "data$pval.TADA <- data$BF*(1 - pi0)/(pi0 + (1 - pi0)*data$BF)\n"
   ]
  },
  {
   "cell_type": "code",
   "execution_count": 54,
   "metadata": {
    "collapsed": true
   },
   "outputs": [],
   "source": [
    "%%R\n",
    "# FDR estimation\n",
    "data <- data[order(-data$BF),]\n",
    "data$qvalue <- Bayesian.FDR(data$BF, pi0)$FDR\n",
    "write.csv(data, \"data/ext_TADA_results_usingNewPvalues_xem.csv\", row.names=FALSE)\n",
    "\n"
   ]
  },
  {
   "cell_type": "code",
   "execution_count": 55,
   "metadata": {
    "collapsed": false
   },
   "outputs": [
    {
     "data": {
      "text/plain": [
       "         Gene mut.rate dn.LoF case.LoF ctrl.LoF trans.LoF ntrans.LoF dn.mis3\n",
       "14230   SCN2A 7.40e-05      9        2        0         0          0      12\n",
       "15819 SYNGAP1 6.55e-05      8        0        0         0          0       3\n",
       "3312     CHD8 9.25e-05      7        4        0         0          0       2\n",
       "14228   SCN1A 7.50e-05      4        1        0         0          0       7\n",
       "3306     CHD2 7.02e-05      6        1        0         0          0       1\n",
       "940    ARID1B 9.02e-05      6        0        0         0          0       1\n",
       "      case.mis3 ctrl.mis3 trans.mis3 ntrans.mis3        BF.dn           BF\n",
       "14230         4        26          5           5 6.154767e+08 5.689429e+17\n",
       "15819         3         6          4           2 2.315971e+08 6.624239e+09\n",
       "3312          7        29          4           2 6.350230e+04 1.843809e+09\n",
       "14228        11        16          9           5 9.478442e+00 7.524333e+07\n",
       "3306          7         8          5           3 1.950725e+00 1.154755e+07\n",
       "940           5        35          5           8 2.901157e+05 2.667795e+06\n",
       "         qvalue.dn       qvalue pval.TADA\n",
       "14230 0.0000000255 0.000000e+00 1.0000000\n",
       "15819 0.0000000466 9.419123e-10 1.0000000\n",
       "3312  0.0000862000 2.883942e-09 1.0000000\n",
       "14228 0.4613550760 4.362478e-08 0.9999998\n",
       "3306  0.7116799140 2.510304e-07 0.9999989\n",
       "940   0.0000180000 9.887901e-07 0.9999953\n"
      ]
     },
     "metadata": {},
     "output_type": "display_data"
    }
   ],
   "source": [
    "%%R\n",
    "head(data)"
   ]
  },
  {
   "cell_type": "code",
   "execution_count": 56,
   "metadata": {
    "collapsed": false
   },
   "outputs": [
    {
     "data": {
      "image/png": "[encoded data removed]"
     },
     "metadata": {},
     "output_type": "display_data"
    }
   ],
   "source": [
    "%%R\n",
    "tempData <- data.frame(data$BF, data$pval.TADA)\n",
    "\n",
    "tempData <- tempData[tempData[, 1] < quantile(tempData[, 1], 0.99), ]\n",
    "\n",
    "plot(tempData[, 1], tempData[, 2], xlab = \"BF\", ylab = \"p\")"
   ]
  },
  {
   "cell_type": "markdown",
   "metadata": {},
   "source": [
    "###Extract genes whose FDRs < 0.1"
   ]
  },
  {
   "cell_type": "code",
   "execution_count": 57,
   "metadata": {
    "collapsed": false
   },
   "outputs": [
    {
     "name": "stdout",
     "output_type": "stream",
     "text": [
      "32\n",
      "ADNP ANK2 APH1A ARID1B ASH1L ASXL3 BCL11A BIRC6 CACNA2D3 CHD8 CUL3 DPP3 DYRK1A GABRB3 GALNTL4 GRIN2B KATNAL2 KIAA0182 MLL3 MYO9B NAA15 NR3C2 POGZ PTEN PYHIN1 RELN SCN2A SUV420H1 SYNGAP1 TBR1 TGM1 TRIO "
     ]
    }
   ],
   "source": [
    "%%bash\n",
    "cat data/ext_TADA_results.csv |awk -F\",\" '$(NF-1)<0.1'|\\\n",
    "    awk -F\",\" '{print $1}'|sed 's/\"//g'|grep -v \"Gene\" |sort > data/list.genesWithNewPiFDR01.txt\n",
    "    \n",
    "cat data/list.genesWithNewPiFDR01.txt|wc -l\n",
    "cat data/list.genesWithNewPiFDR01.txt|tr \"\\n\" \" \""
   ]
  },
  {
   "cell_type": "markdown",
   "metadata": {},
   "source": [
    "###Intersect this gene set with the 33 genes in AUT"
   ]
  },
  {
   "cell_type": "code",
   "execution_count": 17,
   "metadata": {
    "collapsed": false
   },
   "outputs": [
    {
     "name": "stdout",
     "output_type": "stream",
     "text": [
      "25\n"
     ]
    }
   ],
   "source": [
    "%%bash\n",
    "join -1 1 -2 1 data/list.genesWithNewPiFDR01.txt data/list.33genes.FDR0.1.txt|wc -l"
   ]
  },
  {
   "cell_type": "markdown",
   "metadata": {},
   "source": [
    "####Test with known risk genes from three diseases: ASD + EPI + ID"
   ]
  },
  {
   "cell_type": "code",
   "execution_count": 43,
   "metadata": {
    "collapsed": false
   },
   "outputs": [
    {
     "data": {
      "text/plain": [
       "               [,1]     [,2]\n",
       "gamma.mean.dn  14.0    2.330\n",
       "beta.dn         4.8    2.325\n",
       "gamma.mean.CC   2.3    1.000\n",
       "beta.CC         4.0 1000.000\n",
       "rho1            0.1    0.500\n",
       "nu1           200.0  100.000\n",
       "rho0            0.1    0.500\n",
       "nu0           200.0  100.000\n",
       "               [,1]     [,2]\n",
       "gamma.mean.dn  14.0    2.330\n",
       "beta.dn         4.8    2.325\n",
       "gamma.mean.CC   2.3    1.000\n",
       "beta.CC         4.0 1000.000\n",
       "rho1            0.1    0.500\n",
       "nu1           200.0  100.000\n",
       "rho0            0.1    0.500\n",
       "nu0           200.0  100.000\n"
      ]
     },
     "metadata": {},
     "output_type": "display_data"
    }
   ],
   "source": [
    "%%R\n",
    "hyperpar1 <- hyperpar\n",
    "hyperpar1[3, 1] <- 2.3\n",
    "hyperpar1\n",
    "data1 <- data\n",
    "head(data1$mut.rate)\n",
    "print(hyperpar)\n",
    "print(hyperpar1)"
   ]
  },
  {
   "cell_type": "code",
   "execution_count": 44,
   "metadata": {
    "collapsed": false
   },
   "outputs": [],
   "source": [
    "%%R\n",
    "#Running TADA\n",
    "rs1 <- TADA(counts, N, data1$mut.rate, mu.frac, hyperpar1)\n",
    "data1$BF <- rs1$BF.total\n",
    "# Estimating p-values of BFs (this is optional and slow)\n",
    "#rsp1 <- TADAp(counts, N, data1$mut.rate, mu.frac, hyperpar1, l=100)\n",
    "#data1$pval.TADA <- rsp1$pval\n",
    "\n",
    "# FDR estimation\n",
    "data1 <- data1[order(-data1$BF),]\n",
    "\n"
   ]
  },
  {
   "cell_type": "code",
   "execution_count": 45,
   "metadata": {
    "collapsed": false
   },
   "outputs": [
    {
     "data": {
      "text/plain": [
       "       Gene mut.rate dn.LoF case.LoF ctrl.LoF trans.LoF ntrans.LoF dn.mis3\n",
       "15631 STAT4 2.61e-05      0        0        1         0          1       0\n",
       "      case.mis3 ctrl.mis3 trans.mis3 ntrans.mis3     BF.dn          BF\n",
       "15631         3        15          1           5 0.7426887 2.21841e+18\n",
       "      qvalue.dn    qvalue  pval.TADA\n",
       "15631 0.9324757 0.9257113 0.02915459\n"
      ]
     },
     "metadata": {},
     "output_type": "display_data"
    }
   ],
   "source": [
    "%%R\n",
    "head(data1, 1)"
   ]
  },
  {
   "cell_type": "code",
   "execution_count": 47,
   "metadata": {
    "collapsed": false
   },
   "outputs": [
    {
     "data": {
      "text/plain": [
       "       Gene mut.rate dn.LoF case.LoF ctrl.LoF trans.LoF ntrans.LoF dn.mis3\n",
       "14230 SCN2A  7.4e-05      9        2        0         0          0      12\n",
       "      case.mis3 ctrl.mis3 trans.mis3 ntrans.mis3     BF.dn           BF\n",
       "14230         4        26          5           5 615476690 4.745777e+17\n",
       "      qvalue.dn qvalue pval.TADA\n",
       "14230  2.55e-08      0         1\n",
       "       Gene mut.rate dn.LoF case.LoF ctrl.LoF trans.LoF ntrans.LoF dn.mis3\n",
       "15631 STAT4 2.61e-05      0        0        1         0          1       0\n",
       "      case.mis3 ctrl.mis3 trans.mis3 ntrans.mis3     BF.dn        BF qvalue.dn\n",
       "15631         3        15          1           5 0.7426887 0.3747428 0.9324757\n",
       "         qvalue  pval.TADA\n",
       "15631 0.9257113 0.02915459\n"
      ]
     },
     "metadata": {},
     "output_type": "display_data"
    }
   ],
   "source": [
    "%%R\n",
    "print(head(data, 1))\n",
    "data[grep(\"STAT4\", data$Gene), ]"
   ]
  },
  {
   "cell_type": "code",
   "execution_count": 48,
   "metadata": {
    "collapsed": false
   },
   "outputs": [
    {
     "data": {
      "text/plain": [
       "        Gene mut.rate dn.LoF case.LoF ctrl.LoF trans.LoF ntrans.LoF dn.mis3\n",
       "15631  STAT4 2.61e-05      0        0        1         0          1       0\n",
       "8972  LINGO1 3.98e-05      0        0        0         0          0       0\n",
       "8220  KCNK12 1.41e-05      0        0        0         0          0       1\n",
       "5108    ELL3 1.48e-05      0        3        8         1          1       0\n",
       "6364  GARNL3 4.02e-05      0        2        1         0          0       0\n",
       "11342 OR52B2 1.25e-05      0        2        3         3          1       0\n",
       "      case.mis3 ctrl.mis3 trans.mis3 ntrans.mis3     BF.dn           BF\n",
       "15631         3        15          1           5 0.7426887 2.218410e+18\n",
       "8972          0         9          1           1 0.6370376 1.116470e+10\n",
       "8220          0         0          0           0 0.8508121 5.407493e+09\n",
       "5108          0         6          4           1 0.8439596 3.030332e+08\n",
       "6364          6        16          6           7 0.6342135 1.731686e+07\n",
       "11342         0         6          0           3 0.8667740 9.846528e+06\n",
       "      qvalue.dn       qvalue  pval.TADA\n",
       "15631 0.9324757 0.000000e+00 0.02915459\n",
       "8972  0.9367594 5.588556e-10 0.02419482\n",
       "8220  0.9178345 1.141806e-09 0.07495849\n",
       "5108  0.9193825 1.115135e-08 0.02916401\n",
       "6364  0.9368288 1.530453e-07 0.07506373\n",
       "11342 0.9129570 3.387609e-07 0.16463245\n"
      ]
     },
     "metadata": {},
     "output_type": "display_data"
    }
   ],
   "source": [
    "%%R\n",
    "data1$qvalue <- Bayesian.FDR(data1$BF, pi0)$FDR\n",
    "\n",
    "head(data1[data1$qvalue < 0.1, ])"
   ]
  },
  {
   "cell_type": "code",
   "execution_count": 40,
   "metadata": {
    "collapsed": false
   },
   "outputs": [
    {
     "data": {
      "text/plain": [
       "[1] 1\n",
       "[1] 0.9991408\n"
      ]
     },
     "metadata": {},
     "output_type": "display_data"
    }
   ],
   "source": [
    "%%R\n",
    "print(cor(data$BF, data1$BF))\n",
    "print(cor(data$qvalue, data1$qvalue))\n",
    "#print(head(data, 3))\n",
    "#print(head(data1, 3))\n",
    "\n",
    "\n"
   ]
  },
  {
   "cell_type": "code",
   "execution_count": 34,
   "metadata": {
    "collapsed": false
   },
   "outputs": [
    {
     "data": {
      "text/plain": [
       "[1] \"/usr/data/extTADA\"\n"
      ]
     },
     "metadata": {},
     "output_type": "display_data"
    }
   ],
   "source": [
    "%%R\n",
    "write.csv(data1, \"data/ext_TADA_results_usingThreeGeneSets.csv\", row.names=FALSE)\n",
    "\n",
    "getwd()"
   ]
  },
  {
   "cell_type": "code",
   "execution_count": 27,
   "metadata": {
    "collapsed": false
   },
   "outputs": [
    {
     "name": "stdout",
     "output_type": "stream",
     "text": [
      "104\n",
      "ALAS1 ANKRD39 ANKRD49 ARL11 ARMC3 BHMT2 C12orf29 C22orf24 C5orf34 CAPRIN2 CASP1 CASP2 CDR2 CH25H CHN2 CHRNB1 CLK2 CLPS COX6B2 CSF1R CTDSP1 CYP4A11 DGKE DIS3L DSCR4 ELL3 EML1 EN1 ERV3-1 ESM1 FAM108A1 FAM189A2 FOXJ1 GARNL3 GPI GPR123 GRM4 HDAC9 HPSE2 ISM1 KCNK12 KCNMB4 KIF4B KRT14 KTN1 LINGO1 LRIT2 MED26 MIR205HG MRGPRF MRM1 MT1E MTX1 NPRL2 OPN1MW OR2M4 OR2Y1 OR52B2 OR6K2 OR8S1 PAN3 PCDHB12 PDPK1 PEAK1 PHGDH PIAS2 PPP2CB PRAMEF1 PRAP1 PTPRCAP PXDC1 RECK RHOH RIOK1 RLN1 SAGE1 SAPCD2 SCGB1A1 SETD8 SH3YL1 SLC29A4 SNAI2 SRCAP SRD5A2 ST6GALNAC5 STARD9 STAT4 STK11IP TAS2R9 TBCK TFDP1 THSD1 TIMM8B TP53I11 TSN UQCR11 VPS53 VPS54 XAGE3 ZBTB16 ZNF148 ZNF177 ZNF664-FAM101A ZNF706 "
     ]
    }
   ],
   "source": [
    "%%bash\n",
    "cat data/ext_TADA_results_usingThreeGeneSets.csv |awk -F\",\" '$(NF-1)<0.1'|\\\n",
    "    awk -F\",\" '{print $1}'|sed 's/\"//g'|grep -v \"Gene\" |\\\n",
    "    sort > data/list.genesWithNewPiFDR01.usingThreeGeneSets.txt\n",
    "    \n",
    "cat data/list.genesWithNewPiFDR01.usingThreeGeneSets.txt|wc -l\n",
    "cat data/list.genesWithNewPiFDR01.usingThreeGeneSets.txt|tr \"\\n\" \" \"\n"
   ]
  },
  {
   "cell_type": "code",
   "execution_count": 28,
   "metadata": {
    "collapsed": false
   },
   "outputs": [
    {
     "name": "stdout",
     "output_type": "stream",
     "text": [
      "0\n"
     ]
    }
   ],
   "source": [
    "%%bash\n",
    "join -1 1 -2 1 data/list.genesWithNewPiFDR01.usingThreeGeneSets.txt data/list.33genes.FDR0.1.txt|wc -l"
   ]
  },
  {
   "cell_type": "code",
   "execution_count": 22,
   "metadata": {
    "collapsed": false
   },
   "outputs": [],
   "source": [
    "#!gist -p Re_run_TADA_exTADA.ipynb"
   ]
  },
  {
   "cell_type": "code",
   "execution_count": 23,
   "metadata": {
    "collapsed": false
   },
   "outputs": [
    {
     "name": "stdout",
     "output_type": "stream",
     "text": [
      "https://gist.github.com/40eb110d8ac72b91d6e9\r\n"
     ]
    }
   ],
   "source": [
    "!gist -u https://gist.github.com/40eb110d8ac72b91d6e9 Re_run_TADA_exTADA.ipynb"
   ]
  },
  {
   "cell_type": "code",
   "execution_count": null,
   "metadata": {
    "collapsed": true
   },
   "outputs": [],
   "source": []
  }
 ],
 "metadata": {
  "kernelspec": {
   "display_name": "Python 3",
   "language": "python",
   "name": "python3"
  },
  "language_info": {
   "codemirror_mode": {
    "name": "ipython",
    "version": 3
   },
   "file_extension": ".py",
   "mimetype": "text/x-python",
   "name": "python",
   "nbconvert_exporter": "python",
   "pygments_lexer": "ipython3",
   "version": "3.4.0"
  }
 },
 "nbformat": 4,
 "nbformat_minor": 0
}
