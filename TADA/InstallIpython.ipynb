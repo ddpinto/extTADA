{
 "cells": [
  {
   "cell_type": "code",
   "execution_count": 1,
   "metadata": {
    "collapsed": true
   },
   "outputs": [],
   "source": [
    "%load_ext rpy2.ipython"
   ]
  },
  {
   "cell_type": "code",
   "execution_count": 4,
   "metadata": {
    "collapsed": false
   },
   "outputs": [
    {
     "data": {
      "image/png": "[encoded data removed]"
     },
     "metadata": {},
     "output_type": "display_data"
    }
   ],
   "source": [
    "%%R\n",
    "ls()\n",
    "hist(rnorm(10))"
   ]
  },
  {
   "cell_type": "markdown",
   "metadata": {},
   "source": [
    "Download aconda\n",
    "\n",
    "wget https://3230d63b5fc54e62148e-c95ac804525aac4b6dba79b00b39d1d3.ssl.cf1.rackcdn.com/Anaconda3-2.3.0-Linux-x86_64.sh\n",
    "\n",
    "Install this:\n",
    "bash Anaconda3-2.3.0-Linux-x86_64.sh\n",
    "\n",
    "Restart/logout, and then\n",
    "conda update conda\n",
    "conda update ipython ipython-notebook ipython-qtconsole\n",
    "\n",
    "\n",
    "Install R first:\n",
    " sudo apt-get install r-base-dev\n",
    "\n",
    "Install rpy2\n",
    " conda install -c https://conda.binstar.org/r rpy2\n",
    " \n",
    "Install extensions\n",
    " conda install -c https://conda.binstar.org/ostrokach nbextensions\n",
    " \n",
    " Link: https://github.com/ipython-contrib/IPython-notebook-extensions/wiki/Home_3x\n"
   ]
  }
 ],
 "metadata": {
  "kernelspec": {
   "display_name": "Python 3",
   "language": "python",
   "name": "python3"
  },
  "language_info": {
   "codemirror_mode": {
    "name": "ipython",
    "version": 3
   },
   "file_extension": ".py",
   "mimetype": "text/x-python",
   "name": "python",
   "nbconvert_exporter": "python",
   "pygments_lexer": "ipython3",
   "version": "3.4.3"
  }
 },
 "nbformat": 4,
 "nbformat_minor": 0
}
