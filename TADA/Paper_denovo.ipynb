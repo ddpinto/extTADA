{
 "cells": [
  {
   "cell_type": "markdown",
   "metadata": {},
   "source": [
    "\n",
    "##Define relative risks for de novo variants\n",
    "\n",
    "[Patterns and rates of exonic de novo mutations in autism spectrum disorders](http://www.ncbi.nlm.nih.gov/pmc/articles/PMC3613847/)\n",
    "\n",
    "##Define RRs for EE\n",
    "\n",
    "[De novo mutations in the classic epileptic encephalopathies](http://www.ncbi.nlm.nih.gov/pmc/articles/PMC3773011/)\n",
    "\n",
    "##TADA software\n",
    "\n",
    "\n",
    "[Synaptic, transcriptional and chromatin genes disrupted in autism](http://www.nature.com/nature/journal/v515/n7526/full/nature13772.html)\n",
    "\n",
    "##Review\n",
    "\n",
    "[A de novo convergence of autism genetics and molecular neuroscience](http://www.ncbi.nlm.nih.gov/pmc/articles/PMC4077788/)\n",
    "\n",
    "[Pathway-driven discovery of epilepsy genes](http://www.nature.com/neuro/journal/v18/n3/full/nn.3933.html)\n",
    "\n",
    "\n",
    "##Genetics models\n",
    "\n",
    "[Synthetic Associations Created by Rare Variants Do Not Explain Most GWAS Results](http://journals.plos.org/plosbiology/article?id=10.1371/journal.pbio.1000579)\n",
    "\n",
    "[Searching for missing heritability: Designing rare variant association studies](http://www.pnas.org/content/111/4/E455.abstract)\n",
    "\n",
    "##Frequency\n",
    "\n",
    "[Targeted massively parallel sequencing of autism spectrum disorder-associated genes in a case control cohort reveals rare loss-of-function risk variants](http://www.ncbi.nlm.nih.gov/pmc/articles/PMC4504419/)\n"
   ]
  },
  {
   "cell_type": "code",
   "execution_count": 3,
   "metadata": {
    "collapsed": false
   },
   "outputs": [],
   "source": [
    "#!gist -p Paper_denovo.ipynb"
   ]
  },
  {
   "cell_type": "code",
   "execution_count": 5,
   "metadata": {
    "collapsed": false
   },
   "outputs": [
    {
     "name": "stdout",
     "output_type": "stream",
     "text": [
      "https://gist.github.com/5612b61dceeee0df9196\n"
     ]
    }
   ],
   "source": [
    "!gist -u https://gist.github.com/5612b61dceeee0df9196 Paper_denovo.ipynb"
   ]
  },
  {
   "cell_type": "code",
   "execution_count": null,
   "metadata": {
    "collapsed": true
   },
   "outputs": [],
   "source": []
  }
 ],
 "metadata": {
  "kernelspec": {
   "display_name": "Python 3",
   "language": "python",
   "name": "python3"
  },
  "language_info": {
   "codemirror_mode": {
    "name": "ipython",
    "version": 3
   },
   "file_extension": ".py",
   "mimetype": "text/x-python",
   "name": "python",
   "nbconvert_exporter": "python",
   "pygments_lexer": "ipython3",
   "version": "3.4.0"
  }
 },
 "nbformat": 4,
 "nbformat_minor": 0
}
