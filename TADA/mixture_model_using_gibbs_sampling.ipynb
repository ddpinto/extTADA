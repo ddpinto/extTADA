{
 "cells": [
  {
   "cell_type": "code",
   "execution_count": 1,
   "metadata": {
    "collapsed": true
   },
   "outputs": [],
   "source": [
    "%load_ext rpy2.ipython"
   ]
  },
  {
   "cell_type": "code",
   "execution_count": null,
   "metadata": {
    "collapsed": true
   },
   "outputs": [],
   "source": [
    "%R\n",
    "# 2-Class Model for normal mean model\n",
    "# Conjugate priors (mu~N(m0,1/t0), sigma2<-Inv-chi(a, b))\n",
    "# FOR MORE INFO, SEE _FINITE MIXTURE AND MARKOV SWITCHING MODELS_\n",
    "#\tBY SILVIA FRUWIRTH-SCHNATTER (2006, SPRINGER PRESS) \n",
    "# June 2010\n",
    "###################################\n",
    "library(mixtools)\n",
    "\n",
    "########\n",
    "# Data #\n",
    "########\n",
    "set.seed(250)\n",
    "n<-100\n",
    "pi<-c(.5,.5)  # Two-Component Mixture\n",
    "mu<-c(-1,1)\t  # Normal means\n",
    "s2<-c(1,2)\t  # Variances\n",
    "y<-rnormmix(n,pi,mu,sqrt(s2))\n",
    "plot(density(y),type=\"l\",col=\"darkgreen\",lwd=2)\n",
    "\n",
    "####################\n",
    "# Prior Hyperparms #\n",
    "####################\n",
    "m0<-0\t\t# Prior mean of mu\n",
    "t0<-.01\t# Prior precision of mu\n",
    "a<-b<-.001  # Hyperparms for error precisions\n",
    "l<-d<-4\t# Hyperparms for beta distrbn  (use 4 to avoid zero groups -- see F-S, 2006)\n",
    "\n",
    "#########\n",
    "# Inits #\n",
    "#########\n",
    "tau1<-tau2<-1\n",
    "mu1<-mu2<-0\n",
    "c<-rbinom(n,1,.5)+1\n",
    "n1<-length(c[c==1])\n",
    "\n",
    "#################\n",
    "# Store Results #\n",
    "#################\n",
    "nsim<-5000\n",
    "Tau1<-Tau2<-Mu1<-Mu2<-Sigma1<-Sigma2<-rep(0,nsim)\n",
    "C<-matrix(0,nsim,n)\n",
    "\n",
    "#########\n",
    "# Gibbs #\n",
    "#########\n",
    "for (i in 1:nsim) {\n",
    "\n",
    "  # Update latent class hyperparms\n",
    "    pi1<-rbeta(1,n1+4,n-n1+4)\t\t\t# Post prob of class 1\n",
    "    pi2<-1-pi1\n",
    "\n",
    " # Update C (latent class indicator) \n",
    "    p2<-pi2*dnorm(y,mu2,sqrt(1/tau2))/(pi1*dnorm(y,mu1,sqrt(1/tau1))+pi2*dnorm(y,mu2,sqrt(1/tau2)))  # Posterior prob of belonging to class 2\n",
    "  \n",
    "   C[i,]<-c<-rbinom(n,1,p2)+1\t\t# Class Indicator\n",
    "   n1<-length(c[c==1])\n",
    "   n2<-n-n1\n",
    "\n",
    " # Update mu1\n",
    "   v1<-1/(tau1*n1+ t0)\n",
    "   m1<-v1*(tau1*sum(y[c==1])+t0*m0)\n",
    "   #mu1<- Mu1[i]<-rnorm(1,m1,sqrt(v1))  # Note unconstrained induces \n",
    "\t\t\t\t\t\t    # lab switching -- Try it!\n",
    "   mu1<-Mu1[i]<-qnorm(runif(1,pnorm(mu2,m1,sqrt(v1)),1),m1,sqrt(v1)) # Order constraint avoids\n",
    "\t\t\t\t\t\t\t\t\t\t\t   # label switch but may force two\n",
    "\t\t\t\t\t\t\t\t\t\t\t   # classes when 1 is enough?\n",
    "\n",
    " # Update mu2 contrained to be < mu1 (to avoid label switching)\n",
    "   v2<-1/(tau2*n2+ t0)\n",
    "   m2<-v2*(tau2*sum(y[c==2])+t0*m0)\n",
    "   #mu2<-Mu2[i]<- rnorm(1,m2,sqrt(v2))  # Note unconstrained induces \n",
    "\t\t\t\t\t\t    # lab switching -- Try it!\n",
    "   mu2<-Mu2[i]<-qnorm(runif(1,0,pnorm(mu1,m2,sqrt(v2))),m2,sqrt(v2))\n",
    "\n",
    "  tau1<-Tau1[i]<-rgamma(1,a+n1/2,b+sum((y[c==1]-mu1)^2)/2)\n",
    "  tau2<-Tau2[i]<-rgamma(1,a+n2/2,b+sum((y[c==2]-mu2)^2)/2)\n",
    "\n",
    "  Sigma1[i]<-1/tau1\n",
    "  Sigma2[i]<-1/tau2\n",
    "\n",
    " if (i%%100==0) print(i)\n",
    "}\n",
    "mean(Mu1[501:nsim])\n",
    "mean(Mu2[501:nsim])\n",
    "mean(sqrt(Sigma1[501:nsim]))\n",
    "mean(sqrt(Sigma2[501:nsim]))\n",
    "plot(501:nsim,Mu1[501:nsim],type=\"l\",col=\"lightgreen\")\n",
    "abline(h=mean(Mu1[501:nsim]))"
   ]
  },
  {
   "cell_type": "code",
   "execution_count": 3,
   "metadata": {
    "collapsed": false
   },
   "outputs": [],
   "source": [
    "#!gist -p mixture_model_using_gibbs_sampling.ipynb"
   ]
  },
  {
   "cell_type": "code",
   "execution_count": 5,
   "metadata": {
    "collapsed": false
   },
   "outputs": [
    {
     "name": "stdout",
     "output_type": "stream",
     "text": [
      "https://gist.github.com/7afa69614e184c2fc0f4\r\n"
     ]
    }
   ],
   "source": [
    "!gist -u https://gist.github.com/7afa69614e184c2fc0f4 mixture_model_using_gibbs_sampling.ipynb"
   ]
  },
  {
   "cell_type": "code",
   "execution_count": null,
   "metadata": {
    "collapsed": true
   },
   "outputs": [],
   "source": []
  }
 ],
 "metadata": {
  "kernelspec": {
   "display_name": "Python 3",
   "language": "python",
   "name": "python3"
  },
  "language_info": {
   "codemirror_mode": {
    "name": "ipython",
    "version": 3
   },
   "file_extension": ".py",
   "mimetype": "text/x-python",
   "name": "python",
   "nbconvert_exporter": "python",
   "pygments_lexer": "ipython3",
   "version": "3.4.0"
  }
 },
 "nbformat": 4,
 "nbformat_minor": 0
}
