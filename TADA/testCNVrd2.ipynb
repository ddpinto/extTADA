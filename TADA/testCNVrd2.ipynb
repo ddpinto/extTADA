{
 "cells": [
  {
   "cell_type": "code",
   "execution_count": null,
   "metadata": {
    "collapsed": false
   },
   "outputs": [],
   "source": []
  },
  {
   "cell_type": "code",
   "execution_count": 1,
   "metadata": {
    "collapsed": false
   },
   "outputs": [
    {
     "name": "stderr",
     "output_type": "stream",
     "text": [
      "Loading required package: VariantAnnotation\n",
      "Loading required package: BiocGenerics\n",
      "Loading required package: parallel\n",
      "\n",
      "Attaching package: ‘BiocGenerics’\n",
      "\n",
      "The following objects are masked from ‘package:parallel’:\n",
      "\n",
      "    clusterApply, clusterApplyLB, clusterCall, clusterEvalQ,\n",
      "    clusterExport, clusterMap, parApply, parCapply, parLapply,\n",
      "    parLapplyLB, parRapply, parSapply, parSapplyLB\n",
      "\n",
      "The following object is masked from ‘package:stats’:\n",
      "\n",
      "    xtabs\n",
      "\n",
      "The following objects are masked from ‘package:base’:\n",
      "\n",
      "    anyDuplicated, append, as.data.frame, as.vector, cbind, colnames,\n",
      "    do.call, duplicated, eval, evalq, Filter, Find, get, intersect,\n",
      "    is.unsorted, lapply, Map, mapply, match, mget, order, paste, pmax,\n",
      "    pmax.int, pmin, pmin.int, Position, rank, rbind, Reduce, rep.int,\n",
      "    rownames, sapply, setdiff, sort, table, tapply, union, unique,\n",
      "    unlist, unsplit\n",
      "\n",
      "Loading required package: GenomeInfoDb\n",
      "Loading required package: stats4\n",
      "Loading required package: S4Vectors\n",
      "Loading required package: IRanges\n",
      "Loading required package: GenomicRanges\n",
      "Loading required package: Rsamtools\n",
      "Loading required package: XVector\n",
      "Loading required package: Biostrings\n",
      "\n",
      "Attaching package: ‘VariantAnnotation’\n",
      "\n",
      "The following object is masked from ‘package:base’:\n",
      "\n",
      "    tabulate\n",
      "\n",
      "Loading required package: rjags\n",
      "Loading required package: coda\n",
      "Linked to JAGS 3.4.0\n",
      "Loaded modules: basemod,bugs\n",
      "Loading required package: ggplot2\n",
      "Loading required package: gridExtra\n",
      "Loading required package: grid\n"
     ]
    }
   ],
   "source": [
    "library(\"CNVrd2\")"
   ]
  },
  {
   "cell_type": "code",
   "execution_count": 2,
   "metadata": {
    "collapsed": true
   },
   "outputs": [],
   "source": [
    "library('CNVrd2')\n",
    "\n",
    "dirBamFile = \"/usr/data/Documents/Packages/TestCNVrd2/Bam/\"\n",
    "st = 123600000\n",
    "en = 124600000\n",
    "\n",
    "objectCNVrd2 <- new(\"CNVrd2\", windows = 500, chr = \"chr10\",\n",
    "                    #st = 123403492, en = 125407826,\n",
    "                    st = st, en = en, \n",
    "                    dirBamFile = dirBamFile,\n",
    "                    genes = c(124030821, 124097676,124338311, 124351224,\n",
    "   124353507, 124369824,124591671,124605736),\n",
    "                    geneNames = c(\"BTBD16\",\"DMBT1_CNV1\",\"DMBT1_CNV2\",\"FAM24B-CUZD\"))\n",
    "windows <- 500\n"
   ]
  },
  {
   "cell_type": "code",
   "execution_count": 3,
   "metadata": {
    "collapsed": false
   },
   "outputs": [
    {
     "name": "stderr",
     "output_type": "stream",
     "text": [
      "Loading required package: BSgenome\n",
      "Loading required package: rtracklayer\n",
      "Warning message:\n",
      "In dir.create(dirCoordinate): 'TempAll' already existsReading file: HG00096.mapped.ILLUMINA.bwa.GBR.low_coverage.20120522.bam\n",
      "Reading file: HG00097.mapped.ILLUMINA.bwa.GBR.low_coverage.20130415.bam\n",
      "Reading file: HG00099.mapped.ILLUMINA.bwa.GBR.low_coverage.20130415.bam\n",
      "Reading file: HG00100.mapped.ILLUMINA.bwa.GBR.low_coverage.20130415.bam\n",
      "Reading file: HG00101.mapped.ILLUMINA.bwa.GBR.low_coverage.20130415.bam\n",
      "Reading file: HG00102.mapped.ILLUMINA.bwa.GBR.low_coverage.20130415.bam\n",
      "Reading file: HG00103.mapped.ILLUMINA.bwa.GBR.low_coverage.20120522.bam\n",
      "Reading file: HG00105.mapped.ILLUMINA.bwa.GBR.low_coverage.20130415.bam\n",
      "Reading file: HG00106.mapped.ILLUMINA.bwa.GBR.low_coverage.20121211.bam\n",
      "Reading file: HG00107.mapped.ILLUMINA.bwa.GBR.low_coverage.20130415.bam\n",
      "Reading file: HG00108.mapped.ILLUMINA.bwa.GBR.low_coverage.20120522.bam\n",
      "Reading file: HG00109.mapped.ILLUMINA.bwa.GBR.low_coverage.20130415.bam\n",
      "Reading file: HG00110.mapped.ILLUMINA.bwa.GBR.low_coverage.20130415.bam\n",
      "Reading file: HG00111.mapped.ILLUMINA.bwa.GBR.low_coverage.20120522.bam\n",
      "Reading file: HG00112.mapped.ILLUMINA.bwa.GBR.low_coverage.20120522.bam\n",
      "Reading file: HG00113.mapped.ILLUMINA.bwa.GBR.low_coverage.20130415.bam\n",
      "Reading file: HG00114.mapped.ILLUMINA.bwa.GBR.low_coverage.20120522.bam\n",
      "Reading file: HG00115.mapped.ILLUMINA.bwa.GBR.low_coverage.20130415.bam\n",
      "Reading file: HG00116.mapped.ILLUMINA.bwa.GBR.low_coverage.20120522.bam\n",
      "Reading file: HG00117.mapped.ILLUMINA.bwa.GBR.low_coverage.20120522.bam\n",
      "Reading file: HG00118.mapped.ILLUMINA.bwa.GBR.low_coverage.20121211.bam\n",
      "Reading file: HG00119.mapped.ILLUMINA.bwa.GBR.low_coverage.20120522.bam\n",
      "Reading file: HG00120.mapped.ILLUMINA.bwa.GBR.low_coverage.20120522.bam\n",
      "Reading file: HG00121.mapped.ILLUMINA.bwa.GBR.low_coverage.20130415.bam\n",
      "Reading file: HG00122.mapped.ILLUMINA.bwa.GBR.low_coverage.20121211.bam\n",
      "Reading file: HG00123.mapped.ILLUMINA.bwa.GBR.low_coverage.20120522.bam\n",
      "Reading file: HG00124.mapped.ILLUMINA.bwa.GBR.low_coverage.20120522.bam\n",
      "Reading file: HG00125.mapped.ILLUMINA.bwa.GBR.low_coverage.20120522.bam\n",
      "Reading file: HG00126.mapped.ILLUMINA.bwa.GBR.low_coverage.20121211.bam\n",
      "Reading file: HG00127.mapped.ILLUMINA.bwa.GBR.low_coverage.20120522.bam\n",
      "Reading file: HG00128.mapped.ILLUMINA.bwa.GBR.low_coverage.20130415.bam\n",
      "Reading file: HG00129.mapped.ILLUMINA.bwa.GBR.low_coverage.20130415.bam\n",
      "Reading file: HG00130.mapped.ILLUMINA.bwa.GBR.low_coverage.20130415.bam\n",
      "Reading file: HG00131.mapped.ILLUMINA.bwa.GBR.low_coverage.20120522.bam\n",
      "Reading file: HG00132.mapped.ILLUMINA.bwa.GBR.low_coverage.20130415.bam\n",
      "Reading file: HG00133.mapped.ILLUMINA.bwa.GBR.low_coverage.20120522.bam\n",
      "Reading file: HG00136.mapped.ILLUMINA.bwa.GBR.low_coverage.20120522.bam\n",
      "Reading file: HG00137.mapped.ILLUMINA.bwa.GBR.low_coverage.20120522.bam\n",
      "Reading file: HG00138.mapped.ILLUMINA.bwa.GBR.low_coverage.20120522.bam\n",
      "Reading file: HG00139.mapped.ILLUMINA.bwa.GBR.low_coverage.20130415.bam\n",
      "Reading file: HG00140.mapped.ILLUMINA.bwa.GBR.low_coverage.20130415.bam\n",
      "Reading file: HG00141.mapped.ILLUMINA.bwa.GBR.low_coverage.20130415.bam\n",
      "Reading file: HG00142.mapped.ILLUMINA.bwa.GBR.low_coverage.20120522.bam\n",
      "Reading file: HG00143.mapped.ILLUMINA.bwa.GBR.low_coverage.20121211.bam\n",
      "Reading file: HG00145.mapped.ILLUMINA.bwa.GBR.low_coverage.20120522.bam\n",
      "Reading file: HG00146.mapped.ILLUMINA.bwa.GBR.low_coverage.20120522.bam\n",
      "Reading file: HG00148.mapped.ILLUMINA.bwa.GBR.low_coverage.20121211.bam\n",
      "Reading file: HG00149.mapped.ILLUMINA.bwa.GBR.low_coverage.20121211.bam\n",
      "Reading file: HG00150.mapped.ILLUMINA.bwa.GBR.low_coverage.20120522.bam\n",
      "Reading file: HG00151.mapped.ILLUMINA.bwa.GBR.low_coverage.20120522.bam\n",
      "=============================================\n",
      "50 bam files were read\n",
      "=============================================\n",
      "Correcting the GC content\n"
     ]
    },
    {
     "ename": "ERROR",
     "evalue": "Error in extractROWS(setNames(seq_along(x), names(x)), i): error in evaluating the argument 'x' in selecting a method for function 'extractROWS': Error: cannot allocate vector of size 517.0 Mb\n\n",
     "output_type": "error",
     "traceback": [
      "Error in extractROWS(setNames(seq_along(x), names(x)), i): error in evaluating the argument 'x' in selecting a method for function 'extractROWS': Error: cannot allocate vector of size 517.0 Mb\n\n"
     ]
    }
   ],
   "source": [
    "readCountMatrix <- countReadInWindow(Object = objectCNVrd2, rawReadCount = TRUE,correctGC = TRUE)\n",
    "#save.image(\"ResultsDMBT1.RData\")\n"
   ]
  },
  {
   "cell_type": "code",
   "execution_count": 4,
   "metadata": {
    "collapsed": false
   },
   "outputs": [
    {
     "ename": "ERROR",
     "evalue": "Error in .local(Object, ...): object 'readCountMatrix' not found\n",
     "output_type": "error",
     "traceback": [
      "Error in .local(Object, ...): object 'readCountMatrix' not found\n"
     ]
    }
   ],
   "source": [
    "resultSegment <- segmentSamples(Object = objectCNVrd2, stdCntMatrix = readCountMatrix)"
   ]
  },
  {
   "cell_type": "code",
   "execution_count": null,
   "metadata": {
    "collapsed": true
   },
   "outputs": [],
   "source": []
  }
 ],
 "metadata": {
  "kernelspec": {
   "display_name": "R",
   "language": "",
   "name": "ir"
  },
  "language_info": {
   "codemirror_mode": "r",
   "file_extension": ".r",
   "mimetype": "text/x-r-source",
   "name": "R",
   "pygments_lexer": "r",
   "version": "3.1.3"
  }
 },
 "nbformat": 4,
 "nbformat_minor": 0
}
