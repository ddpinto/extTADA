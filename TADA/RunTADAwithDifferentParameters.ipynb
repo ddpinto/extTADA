{
 "cells": [
  {
   "cell_type": "code",
   "execution_count": 1,
   "metadata": {
    "collapsed": true
   },
   "outputs": [],
   "source": [
    "\n",
    "%load_ext rpy2.ipython"
   ]
  },
  {
   "cell_type": "code",
   "execution_count": 2,
   "metadata": {
    "collapsed": false
   },
   "outputs": [
    {
     "data": {
      "text/plain": [
       "[1] \"/usr/data/extTADA\"\n"
      ]
     },
     "metadata": {},
     "output_type": "display_data"
    }
   ],
   "source": [
    "%%R\n",
    "getwd()"
   ]
  },
  {
   "cell_type": "code",
   "execution_count": 3,
   "metadata": {
    "collapsed": false
   },
   "outputs": [],
   "source": [
    "%%R\n",
    "source(\"scripts/TADA/TADA.R\")\n",
    "\n",
    "#################################################################\n",
    "# Application of TADA\n",
    "#################################################################\n",
    "\n",
    "# Model parameters: two categories of mutations - LoF and mis3 mutations (\"probably damaging\" by PolyPhen2)\n",
    "mu.frac <- c(0.074, 0.32)\n",
    "gamma.mean.dn <- c(20, 4.7)\n",
    "beta.dn <- c(1,1)\n",
    "gamma.mean.CC <- c(2.3, 1.00)\n",
    "beta.CC <- c(4.0, 1000)\n",
    "rho1 <- c(0.1, 0.5)\n",
    "nu1 <- c(200, 100)\n",
    "rho0 <- c(0.1, 0.5)\n",
    "nu0 <- c(200, 100)\n",
    "hyperpar <- as.array(rbind(gamma.mean.dn, beta.dn, gamma.mean.CC, beta.CC, rho1, nu1, rho0, nu0))\n",
    "l <- 100\n",
    "pi0 <- 0.94 # the fraction of non-risk genes\n",
    "\n",
    "# ASC (Autism Sequencing Consortium) data\n",
    "# The file name contains the sample size information\n",
    "# The only relevant counts are dn.LoF and dn.mis3\n",
    "data <- read.csv(\"scripts/TADA/data/ASC_2231trios_1333trans_1601cases_5397controls.csv\", header=TRUE, as.is=TRUE)\n",
    "ntrio <- 2231  # number of trios\n",
    "ncase <- 1601  # number of cases\n",
    "nctrl <- 5397  # number of controls\n",
    "ntrans <- 1333 # number of subjects with transmission data\n",
    "N <- list(dn=ntrio, ca=ntrans+ncase, cn=ntrans+nctrl)\n",
    "\n"
   ]
  },
  {
   "cell_type": "code",
   "execution_count": 4,
   "metadata": {
    "collapsed": true
   },
   "outputs": [],
   "source": [
    "%%R\n",
    "# Running TADA\n",
    "counts <- as.array(cbind(data$dn.LoF, data$case.LoF+data$trans.LoF, data$ctrl.LoF+data$ntrans.LoF, data$dn.mis3, data$case.mis3+data$trans.mis3, data$ctrl.mis3+data$ntrans.mis3))\n",
    "rs <- TADA(counts, N, data$mut.rate, mu.frac, hyperpar)\n",
    "data$BF <- rs$BF.total\n",
    "\n",
    "# Estimating p-values of BFs (this is optional and slow)\n",
    "#rsp <- TADAp(counts, N, data$mut.rate, mu.frac, hyperpar, l=100)\n",
    "#data$pval.TADA <- rsp$pval\n",
    "\n",
    "# FDR estimation\n",
    "data <- data[order(-data$BF),]\n",
    "data$qvalue <- Bayesian.FDR(data$BF, pi0)$FDR\n",
    "write.csv(data, \"data/TADA_results.csv\", row.names=FALSE)\n",
    "\n",
    "\n"
   ]
  },
  {
   "cell_type": "code",
   "execution_count": 5,
   "metadata": {
    "collapsed": false
   },
   "outputs": [
    {
     "name": "stdout",
     "output_type": "stream",
     "text": [
      "     34      34    2640\n"
     ]
    }
   ],
   "source": [
    "%%bash\n",
    "cat data/TADA_results.csv|awk -F\",\" '$NF<0.1'|wc"
   ]
  },
  {
   "cell_type": "code",
   "execution_count": 11,
   "metadata": {
    "collapsed": true
   },
   "outputs": [],
   "source": [
    "!mkdir TestOutTADA"
   ]
  },
  {
   "cell_type": "markdown",
   "metadata": {},
   "source": [
    "####Change gamma.mean.CC ( $\\bar{\\gamma}_{CC}$ )"
   ]
  },
  {
   "cell_type": "code",
   "execution_count": 16,
   "metadata": {
    "collapsed": false
   },
   "outputs": [],
   "source": [
    "%%R\n",
    "\n",
    "seqGamma <- seq(4.2, 8, by = 0.2)\n",
    "\n",
    "listGenes <- NULL\n",
    "\n",
    "for (ii in 1:length(seqGamma)){\n",
    "    mu.frac <- c(0.074, 0.32)\n",
    "gamma.mean.dn <- c(20, 4.7)\n",
    "    \n",
    "beta.dn <- c(1,1)\n",
    "#gamma.mean.CC <- c(2.3, 1.00)\n",
    "    \n",
    "    gamma.mean.CC <- c(as.numeric(seqGamma[ii]), 1.00)\n",
    "beta.CC <- c(4.0, 1000)\n",
    "rho1 <- c(0.1, 0.5)\n",
    "nu1 <- c(200, 100)\n",
    "rho0 <- c(0.1, 0.5)\n",
    "nu0 <- c(200, 100)\n",
    "hyperpar <- as.array(rbind(gamma.mean.dn, beta.dn, gamma.mean.CC, beta.CC, rho1, nu1, rho0, nu0))\n",
    "l <- 100\n",
    "pi0 <- 0.94 # the fraction of non-risk genes\n",
    "    \n",
    "    data <- read.csv(\"scripts/TADA/data/ASC_2231trios_1333trans_1601cases_5397controls.csv\", header=TRUE, as.is=TRUE)\n",
    "ntrio <- 2231  # number of trios\n",
    "ncase <- 1601  # number of cases\n",
    "nctrl <- 5397  # number of controls\n",
    "ntrans <- 1333 # number of subjects with transmission data\n",
    "N <- list(dn=ntrio, ca=ntrans+ncase, cn=ntrans+nctrl)\n",
    "\n",
    "\n",
    "# Running TADA\n",
    "counts <- as.array(cbind(data$dn.LoF, data$case.LoF+data$trans.LoF, data$ctrl.LoF+data$ntrans.LoF, data$dn.mis3, data$case.mis3+data$trans.mis3, data$ctrl.mis3+data$ntrans.mis3))\n",
    "rs <- TADA(counts, N, data$mut.rate, mu.frac, hyperpar)\n",
    "data$BF <- rs$BF.total\n",
    "\n",
    "# Estimating p-values of BFs (this is optional and slow)\n",
    "#rsp <- TADAp(counts, N, data$mut.rate, mu.frac, hyperpar, l=100)\n",
    "#data$pval.TADA <- rsp$pval\n",
    "\n",
    "# FDR estimation\n",
    "data <- data[order(-data$BF),]\n",
    "data$qvalue <- Bayesian.FDR(data$BF, pi0)$FDR\n",
    "    \n",
    "    listGenes[[ii]] <- data[data$qvalue < 0.1, 1]\n",
    "    \n",
    "    write.csv(data, \n",
    "          paste(\"TestOutTADA/TADA_results_gammaCC.\", seqGamma[ii], \".csv\", sep = \"\"), \n",
    "          row.names=FALSE)\n",
    "\n",
    "    }\n",
    "\n",
    "\n"
   ]
  },
  {
   "cell_type": "markdown",
   "metadata": {},
   "source": [
    "###Change gamma.mean.CC ($\\bar{\\gamma}_{CC}$) and gamma.mean.denovo ($\\bar{\\gamma}_{dn}$)"
   ]
  },
  {
   "cell_type": "markdown",
   "metadata": {},
   "source": [
    "###\n",
    "\n",
    "RR of the de novo mutations > RR of the inherited variants\n",
    "\n",
    "RR of LoF mutations > RR of missense mutations\n",
    "\n",
    "\n",
    "/Users/hoang/Documents/Packages/TADA/extTADA/TestOutTADA"
   ]
  },
  {
   "cell_type": "code",
   "execution_count": 6,
   "metadata": {
    "collapsed": false
   },
   "outputs": [],
   "source": [
    "%%R\n",
    "\n",
    "seqGamma <- seq(0.5, 4, by = 0.2)\n",
    "seqGammaDenovo <- seq(5, 25, by = 0.2)\n",
    "\n",
    "\n",
    "listGenes <- NULL\n",
    "\n",
    "for (ii in 1:length(seqGamma)){\n",
    "    \n",
    "    for (jj in 1:length(seqGammaDenovo)){\n",
    "        \n",
    "        \n",
    "    mu.frac <- c(0.074, 0.32)\n",
    "\n",
    "#        gamma.mean.dn <- c(20, 4.7)\n",
    "        gamma.mean.dn <- c(as.numeric(seqGammaDenovo[jj]), 4.7)\n",
    "    \n",
    "beta.dn <- c(1,1)\n",
    "#gamma.mean.CC <- c(2.3, 1.00)\n",
    "    \n",
    "    gamma.mean.CC <- c(as.numeric(seqGamma[ii]), 1.00)\n",
    "beta.CC <- c(4.0, 1000)\n",
    "rho1 <- c(0.1, 0.5)\n",
    "nu1 <- c(200, 100)\n",
    "rho0 <- c(0.1, 0.5)\n",
    "nu0 <- c(200, 100)\n",
    "hyperpar <- as.array(rbind(gamma.mean.dn, beta.dn, gamma.mean.CC, beta.CC, rho1, nu1, rho0, nu0))\n",
    "l <- 100\n",
    "pi0 <- 0.94 # the fraction of non-risk genes\n",
    "    \n",
    "    data <- read.csv(\"scripts/TADA/data/ASC_2231trios_1333trans_1601cases_5397controls.csv\", header=TRUE, as.is=TRUE)\n",
    "ntrio <- 2231  # number of trios\n",
    "ncase <- 1601  # number of cases\n",
    "nctrl <- 5397  # number of controls\n",
    "ntrans <- 1333 # number of subjects with transmission data\n",
    "N <- list(dn=ntrio, ca=ntrans+ncase, cn=ntrans+nctrl)\n",
    "\n",
    "\n",
    "# Running TADA\n",
    "counts <- as.array(cbind(data$dn.LoF, data$case.LoF+data$trans.LoF, data$ctrl.LoF+data$ntrans.LoF, data$dn.mis3, data$case.mis3+data$trans.mis3, data$ctrl.mis3+data$ntrans.mis3))\n",
    "rs <- TADA(counts, N, data$mut.rate, mu.frac, hyperpar)\n",
    "data$BF <- rs$BF.total\n",
    "\n",
    "# Estimating p-values of BFs (this is optional and slow)\n",
    "#rsp <- TADAp(counts, N, data$mut.rate, mu.frac, hyperpar, l=100)\n",
    "#data$pval.TADA <- rsp$pval\n",
    "\n",
    "# FDR estimation\n",
    "data <- data[order(-data$BF),]\n",
    "data$qvalue <- Bayesian.FDR(data$BF, pi0)$FDR\n",
    "    \n",
    "    listGenes[[ii]] <- data[data$qvalue < 0.1, 1]\n",
    "    \n",
    "    write.csv(data, \n",
    "          paste(\"TestOutTADA/TADA_results_gammaCC.\", seqGamma[ii], \n",
    "                \".gammaDenovo.\", seqGammaDenovo[jj],\n",
    "                \".csv\", sep = \"\"), \n",
    "          row.names=FALSE)\n",
    "\n",
    "    }\n",
    "    }\n",
    "\n",
    "\n"
   ]
  },
  {
   "cell_type": "code",
   "execution_count": 19,
   "metadata": {
    "collapsed": false
   },
   "outputs": [],
   "source": [
    "#!gist -p RunTADAwithDifferentParameters.ipynb"
   ]
  },
  {
   "cell_type": "code",
   "execution_count": 20,
   "metadata": {
    "collapsed": false
   },
   "outputs": [
    {
     "name": "stdout",
     "output_type": "stream",
     "text": [
      "https://gist.github.com/3d1b501c543ff67dda85\r\n"
     ]
    }
   ],
   "source": [
    "!gist -u https://gist.github.com/3d1b501c543ff67dda85 RunTADAwithDifferentParameters.ipynb"
   ]
  },
  {
   "cell_type": "code",
   "execution_count": null,
   "metadata": {
    "collapsed": true
   },
   "outputs": [],
   "source": []
  }
 ],
 "metadata": {
  "kernelspec": {
   "display_name": "Python 3",
   "language": "python",
   "name": "python3"
  },
  "language_info": {
   "codemirror_mode": {
    "name": "ipython",
    "version": 3
   },
   "file_extension": ".py",
   "mimetype": "text/x-python",
   "name": "python",
   "nbconvert_exporter": "python",
   "pygments_lexer": "ipython3",
   "version": "3.4.0"
  }
 },
 "nbformat": 4,
 "nbformat_minor": 0
}
