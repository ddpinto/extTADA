{
 "cells": [
  {
   "cell_type": "code",
   "execution_count": 1,
   "metadata": {
    "collapsed": true
   },
   "outputs": [],
   "source": [
    "import rpy2"
   ]
  },
  {
   "cell_type": "code",
   "execution_count": 2,
   "metadata": {
    "collapsed": false
   },
   "outputs": [],
   "source": [
    "%load_ext rpy2.ipython"
   ]
  },
  {
   "cell_type": "markdown",
   "metadata": {},
   "source": [
    "###Method of moment\n",
    "\n",
    "Calculate k (try with different values, *should also change $\\beta$*) and then $\\bar{\\gamma}$"
   ]
  },
  {
   "cell_type": "code",
   "execution_count": 3,
   "metadata": {
    "collapsed": false
   },
   "outputs": [
    {
     "data": {
      "text/plain": [
       "[1] 65\n",
       "  Gene mut.rate dn.LoF case.LoF ctrl.LoF trans.LoF ntrans.LoF dn.mis3 case.mis3\n",
       "1 A1BG 2.36e-05      0        0        1         0          0       0         0\n",
       "2 A1CF 2.17e-05      0        1        2         1          1       0         0\n",
       "  ctrl.mis3 trans.mis3 ntrans.mis3     BF.dn        BF qvalue.dn    qvalue\n",
       "1         4          7           3 0.7641762 0.5495361 0.9308429 0.9132353\n",
       "2         7          3           7 0.7799631 0.7549958 0.9294060 0.8841540\n"
      ]
     },
     "metadata": {},
     "output_type": "display_data"
    }
   ],
   "source": [
    "%%R\n",
    "source(\"scripts/TADA/TADA.R\")\n",
    "#ASC data\n",
    "#We start with LoF mutations\n",
    "\n",
    "data <- read.csv(\"data/nature_aut_id_epi.merged.txt\", header = TRUE, sep = \" \")\n",
    "ntrio <- 2270 + 32 + 0 + 2508 ##AUT\n",
    "ntrio <- ntrio + 0 + 356 #add EPI\n",
    "ntrio <- ntrio + 100 + 0 + 41 + 51 ##add ID samples\n",
    "ncase <- 1601 #Only from AUT paper\n",
    "nctrl <- 5397  #Only from AUT paper\n",
    "ntrans <- 1298 ##Check this information, Only use transmitted information from AUT paper nature13772\n",
    "\n",
    "\n",
    "m <- nrow(data)\n",
    "\n",
    "mu <- (data$mut.rate)*0.074 ##Mutation rates for each gene\n",
    "\n",
    "C <- sum(data$dn.LoF) #total number of de novo LoF mutations\n",
    "M.obs <- sum(data$dn.LoF > 1) #number of multiple-hit genes\n",
    "\n",
    "print(M.obs)\n",
    "\n",
    "head(data, 2)"
   ]
  },
  {
   "cell_type": "code",
   "execution_count": 4,
   "metadata": {
    "collapsed": false
   },
   "outputs": [
    {
     "data": {
      "text/plain": [
       "k.est: 1400\n",
       "gamma.mean.est: 14.1492011895366\n",
       "k.est/Gene#: 0.0740740740740741\n"
      ]
     },
     "metadata": {},
     "output_type": "display_data"
    }
   ],
   "source": [
    "%%R\n",
    "#MOM estimation: choose the value of k (the number of risk genes) so that the expected number of multiple-hit\n",
    "#genes is closest to the observed number\n",
    "\n",
    "#The results are: #risk genes and the average RR\n",
    "\n",
    "#Note: the value of beta usually has small influence, so we fix its value. But one could try different values, \n",
    "#e.g., from 0.1 to 10.\n",
    "\n",
    "k.vec <- 100*6:14\n",
    "\n",
    "beta <- 1\n",
    "M <- numeric(length(k.vec))\n",
    "\n",
    "##We go through all these k values, and then choose a value being closest M.obs\n",
    "for (k.idx in 1:length(k.vec)){\n",
    "    k <- k.vec[k.idx]\n",
    "    M[k.idx] <- denovo.MOM(ntrio, mu, C, beta, k)$M\n",
    "}\n",
    "\n",
    "idx.k <- which.min(abs(M - M.obs))\n",
    "\n",
    "k.est <- k.vec[idx.k] ##Estimated number of risk genes, and then re-run the function denovo.MOM\n",
    "\n",
    "#k.est <- 1000 is a value in Section 8 of Text S1 of He et al. (2013)\n",
    "\n",
    "gamma.mean.est <- denovo.MOM(ntrio, mu, C, beta, k.est)$gamma.mean #estimated RR of de novo LoF mutations\n",
    "\n",
    "message(\"k.est: \", k.est, \"\\ngamma.mean.est: \", gamma.mean.est, \"\\nk.est/Gene#: \", k.est/18900)"
   ]
  },
  {
   "cell_type": "markdown",
   "metadata": {},
   "source": [
    "####Try with different $\\beta$"
   ]
  },
  {
   "cell_type": "code",
   "execution_count": 5,
   "metadata": {
    "collapsed": false
   },
   "outputs": [
    {
     "data": {
      "text/plain": [
       "[1]   3 197\n"
      ]
     },
     "metadata": {},
     "output_type": "display_data"
    }
   ],
   "source": [
    "%%R\n",
    "\n",
    "k.vec <- seq(500, 1500, by = 10)\n",
    "\n",
    "beta.array <- seq(0.1, 5, by = 0.025)\n",
    "\n",
    "temp.MOM <- function(x, y) return(list(k.vec = y, beta = x, M= denovo.MOM(N= ntrio, mu = mu, C = C, beta = x, k = y)$M))\n",
    "    \n",
    "M.temp <- mapply(temp.MOM, beta.array, k.vec)\n",
    "\n",
    "    dim(M.temp)"
   ]
  },
  {
   "cell_type": "code",
   "execution_count": 6,
   "metadata": {
    "collapsed": false
   },
   "outputs": [
    {
     "data": {
      "text/plain": [
       "M.temp.est: 1380\n",
       "beta.temp: 4.825\n"
      ]
     },
     "metadata": {},
     "output_type": "display_data"
    }
   ],
   "source": [
    "%%R\n",
    "M.temp.k <- as.numeric(M.temp[3, ])\n",
    "\n",
    "M.temp.k.idx <- which.min(abs(M.temp.k - M.obs))\n",
    "\n",
    "\n",
    "M.temp.est <- as.numeric(M.temp[1, M.temp.k.idx])\n",
    "beta.temp <- as.numeric(M.temp[2, M.temp.k.idx]    )\n",
    "message(\"M.temp.est: \", M.temp.est, \"\\nbeta.temp: \", beta.temp)"
   ]
  },
  {
   "cell_type": "code",
   "execution_count": null,
   "metadata": {
    "collapsed": true
   },
   "outputs": [],
   "source": []
  },
  {
   "cell_type": "code",
   "execution_count": 7,
   "metadata": {
    "collapsed": false
   },
   "outputs": [
    {
     "data": {
      "text/plain": [
       "k.est: 1380\n",
       "k.est/Gene#: 0.0736589271417134\n",
       "gamma.mean.est: 14.3397693227183\n",
       "beta.LoF: 4.825\n"
      ]
     },
     "metadata": {},
     "output_type": "display_data"
    }
   ],
   "source": [
    "%%R\n",
    "#Re-calculate gamma.mean.est with new k.est\n",
    "\n",
    "k.est <- as.numeric(M.temp.est)\n",
    "\n",
    "gamma.mean.est <- denovo.MOM(ntrio, mu, C, beta = beta.temp, k.est)$gamma.mean #estimated RR of de novo LoF mutations\n",
    "\n",
    "message(\"k.est: \", k.est, \n",
    "        \"\\nk.est/Gene#: \", k.est/m,\n",
    "       \"\\ngamma.mean.est: \", gamma.mean.est, \n",
    "       \"\\nbeta.LoF: \", beta.temp)"
   ]
  },
  {
   "cell_type": "code",
   "execution_count": 8,
   "metadata": {
    "collapsed": false
   },
   "outputs": [
    {
     "data": {
      "text/plain": [
       "1380\n",
       "m: 18735\n"
      ]
     },
     "metadata": {},
     "output_type": "display_data"
    }
   ],
   "source": [
    "%%R\n",
    "message(k.est, \"\\nm: \", m)\n"
   ]
  },
  {
   "cell_type": "markdown",
   "metadata": {},
   "source": [
    "###Use new k, $\\beta$ to calculate for mis3"
   ]
  },
  {
   "cell_type": "code",
   "execution_count": 9,
   "metadata": {
    "collapsed": false
   },
   "outputs": [
    {
     "data": {
      "text/plain": [
       "k.est: 1380\n",
       "k.est/Gene#: 0.0736589271417134\n",
       "gamma.mean.mis3.est: 2.33970540837597\n",
       "beta.mis3: 4.825\n"
      ]
     },
     "metadata": {},
     "output_type": "display_data"
    }
   ],
   "source": [
    "%%R\n",
    "#RR for mis3 mutations\n",
    "\n",
    "mu.mis3 <- (data$mut.rate)*0.32\n",
    "C.mis3 <- sum(data$dn.mis3)\n",
    "beta.mis3 <- 1.0\n",
    "beta.mis3 <- beta.temp\n",
    "gamma.mean.mis3.est <- denovo.MOM(ntrio, mu.mis3, C.mis3, beta.mis3, k.est)$gamma.mean\n",
    "\n",
    "message(\"k.est: \", k.est, \n",
    "        \"\\nk.est/Gene#: \", k.est/m,\n",
    "   #     \"\\pi: \", 1 - k.est/m,\n",
    "        \"\\ngamma.mean.mis3.est: \", gamma.mean.mis3.est, \n",
    "       \"\\nbeta.mis3: \", beta.mis3)"
   ]
  },
  {
   "cell_type": "markdown",
   "metadata": {},
   "source": [
    "##Hyperparameters\n",
    "\n",
    "###gamma.mean.dn = c(gamma.mean.est, gamma.mean.mis3.est)\n",
    "\n",
    "###beta.dn = c(beta.LoF, beta.mis3)"
   ]
  },
  {
   "cell_type": "code",
   "execution_count": 13,
   "metadata": {
    "collapsed": false
   },
   "outputs": [
    {
     "data": {
      "text/plain": [
       "function(N, mu, C, beta, k) {\n",
       "  m <- length(mu) # number of genes\n",
       "  \n",
       "  # enrichment of de novo events\n",
       "  nu <- C / (2 * N * sum(mu))\n",
       "  \n",
       "  # MOM estimator of gamma.mean\n",
       "  gamma.mean <- (nu-1)*m/k +1\n",
       "  \n",
       "  # expected M (choose d = 2)\n",
       "  rs <- count.multihit(N, mu, k/m, gamma.mean, beta, d=2)    \n",
       "  M <- sum(rs$M1) + sum(rs$M0)\n",
       "  \n",
       "  return (list(gamma.mean=gamma.mean, M=M))\n",
       "}\n"
      ]
     },
     "metadata": {},
     "output_type": "display_data"
    }
   ],
   "source": [
    "%%R\n",
    "denovo.MOM"
   ]
  },
  {
   "cell_type": "markdown",
   "metadata": {
    "collapsed": true
   },
   "source": [
    "###Estimation of RR of inherited variants using a set of know disease genes. The RR is approximately \n",
    "###the enrichment of the LoF and mis3 counts in cases vs. in controls"
   ]
  },
  {
   "cell_type": "code",
   "execution_count": 67,
   "metadata": {
    "collapsed": false
   },
   "outputs": [],
   "source": [
    "%%R\n",
    "ntrio <- 2231\n",
    "ncase <- 1601\n",
    "nctrl <- 5397\n",
    "ntrans <- 1333\n",
    "data <- read.table(\"TADA/data/ASC_2231trios_1333trans_1601cases_5397controls.csv\", header = TRUE, sep = \",\")\n",
    "ASDgenes.table <- read.csv(\"TADA/data/known_ASD_genes.26genes.csv\", header = TRUE, as.is = TRUE)\n",
    "\n",
    "\n",
    "ASDgenes <- data.frame(Gene = subset(ASDgenes.table, label ==1)$gene)\n",
    "\n",
    "data.ASDgenes <- merge(data, ASDgenes, by = \"Gene\")\n"
   ]
  },
  {
   "cell_type": "code",
   "execution_count": null,
   "metadata": {
    "collapsed": false
   },
   "outputs": [],
   "source": []
  },
  {
   "cell_type": "code",
   "execution_count": 68,
   "metadata": {
    "collapsed": false
   },
   "outputs": [
    {
     "data": {
      "text/plain": [
       "q.LoF.case: 0.00988411724608044\n",
       "q.LoF.ctrl: 0.00430906389301635\n",
       "\n",
       "q.LoF.case/q.LoF.ctrl: 2.29379686434901\n",
       "q.mis3.case/q.mis3.ctrl: 0.864531340970448\n",
       "[1] 26 12\n"
      ]
     },
     "metadata": {},
     "output_type": "display_data"
    }
   ],
   "source": [
    "%%R\n",
    "#Case-control\n",
    "q.LoF.case <- sum(data.ASDgenes$case.LoF + data.ASDgenes$trans.LoF)/(ncase + ntrans)\n",
    "q.LoF.ctrl <- sum(data.ASDgenes$ctrl.LoF + data.ASDgenes$ntrans.LoF)/(nctrl + ntrans)\n",
    "\n",
    "message(\"q.LoF.case: \", q.LoF.case,\n",
    "       \"\\nq.LoF.ctrl: \", q.LoF.ctrl, \"\\n\")\n",
    "\n",
    "message(\"q.LoF.case/q.LoF.ctrl: \", q.LoF.case/q.LoF.ctrl)\n",
    "\n",
    "q.mis3.case <- sum(data.ASDgenes$case.mis3 + data.ASDgenes$trans.mis3)/(ncase + ntrans)\n",
    "q.mis3.ctrl <- sum(data.ASDgenes$ctrl.mis3 + data.ASDgenes$ntrans.mis3)/(nctrl + ntrans)\n",
    "\n",
    "message(\"q.mis3.case/q.mis3.ctrl: \", q.mis3.case/q.mis3.ctrl)\n",
    "\n",
    "sum(data.ASDgenes$case.LoF)/sum(data.ASDgenes$ctrl.LoF)\n",
    "\n",
    "dim(data.ASDgenes)"
   ]
  },
  {
   "cell_type": "markdown",
   "metadata": {},
   "source": [
    "###Re-sampling to test gamma.mean.cc"
   ]
  },
  {
   "cell_type": "code",
   "execution_count": 69,
   "metadata": {
    "collapsed": false
   },
   "outputs": [],
   "source": [
    "%%R\n",
    "ASDgenes <- data.frame(Gene = subset(ASDgenes.table, label ==1)$gene)\n",
    "\n",
    "data.ASDgenes <- merge(data, ASDgenes, by = \"Gene\")\n",
    "\n",
    "list.gamma.mean.cc.lof <- NULL\n",
    "list.gamma.mean.cc.mis3 <- NULL\n",
    "\n",
    "##########\n",
    "data.ASDgenes <- merge(data, ASDgenes, by = \"Gene\")\n",
    "\n",
    "NN <- 110000\n",
    "nGene <- dim(data)[1]\n",
    "\n",
    "out.Gamma <- lapply(1:NN, function(ii){\n",
    "    \n",
    "    list.Number <- sample(26, 1:nGene)\n",
    "    temp.data <- data[list.Number, ]\n",
    "    \n",
    "    data.ASDgenes <- temp.data\n",
    "\n",
    "\n",
    "q.LoF.case <- sum(data.ASDgenes$case.LoF + data.ASDgenes$trans.LoF)/(ncase + ntrans)\n",
    "q.LoF.ctrl <- sum(data.ASDgenes$ctrl.LoF + data.ASDgenes$ntrans.LoF)/(nctrl + ntrans)\n",
    "\n",
    "    \n",
    "q.mis3.case <- sum(data.ASDgenes$case.mis3 + data.ASDgenes$trans.mis3)/(ncase + ntrans)\n",
    "q.mis3.ctrl <- sum(data.ASDgenes$ctrl.mis3 + data.ASDgenes$ntrans.mis3)/(nctrl + ntrans)\n",
    "\n",
    "    list.gamma.mean.cc.lof <- q.LoF.case/q.LoF.ctrl\n",
    "    list.gamma.mean.cc.mis3 <- q.mis3.case/q.mis3.ctrl\n",
    "    return(c(list.gamma.mean.cc.lof, list.gamma.mean.cc.mis3))\n",
    "    })\n",
    "\n"
   ]
  },
  {
   "cell_type": "code",
   "execution_count": 70,
   "metadata": {
    "collapsed": false
   },
   "outputs": [
    {
     "data": {
      "text/plain": [
       "gamma.cc.lof: 0.943699901159364\n",
       "gamma.cc.mis3: 1.28299061778678\n"
      ]
     },
     "metadata": {},
     "output_type": "display_data"
    },
    {
     "data": {
      "image/png": "[encoded data removed]"
     },
     "metadata": {},
     "output_type": "display_data"
    }
   ],
   "source": [
    "%%R -w 20 -h 15 -u cm\n",
    "all.gamma <- do.call(rbind, out.Gamma)\n",
    "gamma.cc.lof <- all.gamma[, 1]\n",
    "gamma.cc.mis3 <- all.gamma[, 2]\n",
    "allRange <- c(gamma.cc.lof, gamma.cc.mis3)\n",
    "allRange <- range(allRange[!is.na(allRange)])\n",
    "\n",
    "message(\"gamma.cc.lof: \", mean(gamma.cc.lof[!is.na(gamma.cc.lof)]))\n",
    "message(\"gamma.cc.mis3: \", mean(gamma.cc.mis3[!is.na(gamma.cc.mis3)]))\n",
    "\n",
    "par(mfrow = c(2, 1))\n",
    "hist(gamma.cc.lof, 100, xlim = allRange, col = 'red', main = paste(\"Re-sampling N = \", NN))\n",
    "hist(gamma.cc.mis3, 100, xlim = allRange, col = 'green', main = paste(\"Re-sampling N = \", NN))"
   ]
  },
  {
   "cell_type": "code",
   "execution_count": 71,
   "metadata": {
    "collapsed": true
   },
   "outputs": [],
   "source": [
    "%%R\n",
    "\n",
    "data.ASDgenes <- merge(data, ASDgenes, by = \"Gene\")\n",
    "ASDgenes.table <- read.csv(\"TADA/data/known_ASD_genes.26genes.csv\", header = TRUE, as.is = TRUE)\n",
    "\n",
    "\n",
    "ASDgenes <- data.frame(Gene = subset(ASDgenes.table, label ==1)$gene)\n",
    "\n",
    "data.ASDgenes0 <- merge(data, ASDgenes, by = \"Gene\")\n",
    "\n",
    "\n",
    "##########\n",
    "\n",
    "NN <- 110000\n",
    "nGene <- dim(data.ASDgenes)[1]\n",
    "\n",
    "out.Gamma <- lapply(1:NN, function(ii){\n",
    "    \n",
    "    list.Number <- sample(22, 1:nGene)\n",
    "    temp.data <- data.ASDgenes0[list.Number, ]\n",
    "    \n",
    "    data.ASDgenes <- temp.data\n",
    "\n",
    "\n",
    "q.LoF.case <- sum(data.ASDgenes$case.LoF + data.ASDgenes$trans.LoF)/(ncase + ntrans)\n",
    "q.LoF.ctrl <- sum(data.ASDgenes$ctrl.LoF + data.ASDgenes$ntrans.LoF)/(nctrl + ntrans)\n",
    "\n",
    "    \n",
    "q.mis3.case <- sum(data.ASDgenes$case.mis3 + data.ASDgenes$trans.mis3)/(ncase + ntrans)\n",
    "q.mis3.ctrl <- sum(data.ASDgenes$ctrl.mis3 + data.ASDgenes$ntrans.mis3)/(nctrl + ntrans)\n",
    "\n",
    "    list.gamma.mean.cc.lof <- q.LoF.case/q.LoF.ctrl\n",
    "    list.gamma.mean.cc.mis3 <- q.mis3.case/q.mis3.ctrl\n",
    "    return(c(list.gamma.mean.cc.lof, list.gamma.mean.cc.mis3))\n",
    "    })\n",
    "\n"
   ]
  },
  {
   "cell_type": "code",
   "execution_count": null,
   "metadata": {
    "collapsed": false
   },
   "outputs": [],
   "source": []
  },
  {
   "cell_type": "code",
   "execution_count": 72,
   "metadata": {
    "collapsed": false
   },
   "outputs": [
    {
     "data": {
      "text/plain": [
       "     [,1]      [,2]\n",
       "[1,]  NaN 0.3276853\n",
       "[2,]  NaN 0.0000000\n",
       "[3,]    0 0.0000000\n",
       "[4,]  Inf 2.1845684\n",
       "[5,]  Inf 2.2937969\n",
       "[6,]  Inf 0.4722523\n",
       "gamma.cc.lof: 1.48014420898355\n",
       "gamma.cc.mis3: 0.831500289993456\n"
      ]
     },
     "metadata": {},
     "output_type": "display_data"
    },
    {
     "data": {
      "image/png": "[encoded data removed]"
     },
     "metadata": {},
     "output_type": "display_data"
    }
   ],
   "source": [
    "%%R -w 20 -h 15 -u cm\n",
    "all.gamma <- do.call(rbind, out.Gamma)\n",
    "print(head(all.gamma))\n",
    "gamma.cc.lof <- all.gamma[, 1]\n",
    "gamma.cc.lof <- gamma.cc.lof[!is.na(gamma.cc.lof)]\n",
    "gamma.cc.lof <- gamma.cc.lof[!is.infinite(gamma.cc.lof)]\n",
    "\n",
    "gamma.cc.mis3 <- all.gamma[, 2]\n",
    "gamma.cc.mis3 <- gamma.cc.mis3[!is.na(gamma.cc.mis3)]\n",
    "gamma.cc.mis3 <- gamma.cc.mis3[!is.infinite(gamma.cc.mis3)]\n",
    "\n",
    "allRange <- c(gamma.cc.lof, gamma.cc.mis3)\n",
    "allRange <- allRange[!is.na(allRange)]\n",
    "allRange <- allRange[!is.infinite(allRange)]\n",
    "allRange <- range(allRange[!is.na(allRange)])\n",
    "\n",
    "message(\"gamma.cc.lof: \", mean(gamma.cc.lof[!is.na(gamma.cc.lof)]))\n",
    "message(\"gamma.cc.mis3: \", mean(gamma.cc.mis3[!is.na(gamma.cc.mis3)]))\n",
    "\n",
    "par(mfrow = c(2, 1))\n",
    "hist(gamma.cc.lof, 100, xlim = allRange, col = 'red', main = paste(\"Re-sampling N = \", NN))\n",
    "hist(gamma.cc.mis3, 100, xlim = allRange, col = 'green', main = paste(\"Re-sampling N = \", NN))"
   ]
  },
  {
   "cell_type": "markdown",
   "metadata": {},
   "source": [
    "##Obtain hyperparameters $\\bar{\\gamma}_{CC}$ = gamma.mean.CC and $\\beta_{CC}$ = beta.CC\n",
    "\n",
    "###See: Model parameterization\n",
    "\n",
    "If q.mis3.case/q.mis3.ctrl is ~ 1 => should choose gamma.mean.CC =1, beta.CC = 100\n",
    "\n",
    "Other cases: beta.CC can be chosen (1, 5)\n"
   ]
  },
  {
   "cell_type": "markdown",
   "metadata": {},
   "source": [
    "##Next, choose prior values for q"
   ]
  },
  {
   "cell_type": "markdown",
   "metadata": {},
   "source": [
    "####H0\n",
    "\n",
    "$q \\sim Gamma(\\bar{q_0} \\nu_0, \\nu_0) \\sim Gamma(\\rho_0, \\nu_0)$\n",
    "\n",
    "####H1\n",
    "\n",
    "$q \\sim Gamma(\\bar{q_1} \\nu_1, \\nu_1) \\sim Gamma(\\rho_1, \\nu_1)$"
   ]
  },
  {
   "cell_type": "code",
   "execution_count": 72,
   "metadata": {
    "collapsed": false
   },
   "outputs": [
    {
     "data": {
      "text/plain": [
       "q.LoF.mean: 0.00034023389423663\n",
       "q.mis3.mean: 0.00152477801954293\n",
       "\n",
       "rho1.LoF: 0.0680467788473259\n",
       "rho1.mis3: 0.152477801954293\n"
      ]
     },
     "metadata": {},
     "output_type": "display_data"
    }
   ],
   "source": [
    "%%R\n",
    "#Estimating the prior parameters of q: q ~ Gamma(q.mean*nu, nu).\n",
    "#Note: we assume that q|H_1 and q|H_0 have the same prior.\n",
    "#Only estimate the prior mean of q (q.mean), and choose nu to be a small number (e.g., 200)\n",
    "\n",
    "q.LoF.mean <- mean(data$ctrl.LoF) /(nctrl)\n",
    "q.mis3.mean <- mean(data$ctrl.mis3)/(nctrl + ntrans)\n",
    "\n",
    "message(\"q.LoF.mean: \", q.LoF.mean, \"\\nq.mis3.mean: \", q.mis3.mean)\n",
    "\n",
    "nu1.LoF <- 200\n",
    "nu1.mis3 <- 100\n",
    "\n",
    "rho1.LoF <- nu1.LoF*q.LoF.mean\n",
    "rho1.mis3 <- nu1.mis3*q.mis3.mean\n",
    "\n",
    "message(\"\\nrho1.LoF: \", rho1.LoF,\n",
    "       \"\\nrho1.mis3: \", rho1.mis3)\n"
   ]
  },
  {
   "cell_type": "code",
   "execution_count": 75,
   "metadata": {
    "collapsed": false
   },
   "outputs": [
    {
     "data": {
      "text/plain": [
       "[1] 6.374282\n"
      ]
     },
     "metadata": {},
     "output_type": "display_data"
    }
   ],
   "source": [
    "%%R\n",
    "mean(data$ctrl.LoF + data$case.LoF)/(nctrl + ntrans)"
   ]
  },
  {
   "cell_type": "code",
   "execution_count": 15,
   "metadata": {
    "collapsed": false
   },
   "outputs": [],
   "source": [
    "#!gist -p Estimate_hyperparameters_TADA_extDATA.ipynb"
   ]
  },
  {
   "cell_type": "code",
   "execution_count": 16,
   "metadata": {
    "collapsed": false
   },
   "outputs": [
    {
     "name": "stdout",
     "output_type": "stream",
     "text": [
      "https://gist.github.com/3961775f97baa5b00ba2\r\n"
     ]
    }
   ],
   "source": [
    "!gist -u https://gist.github.com/3961775f97baa5b00ba2 Estimate_hyperparameters_TADA_extDATA.ipynb"
   ]
  },
  {
   "cell_type": "code",
   "execution_count": 63,
   "metadata": {
    "collapsed": false
   },
   "outputs": [
    {
     "data": {
      "text/plain": [
       "[1] 27\n",
       "[1] 22\n",
       "[1] 2.430767\n",
       "[1] 0.8329929\n"
      ]
     },
     "metadata": {},
     "output_type": "display_data"
    }
   ],
   "source": [
    "%%R\n",
    "# ASD data\n",
    "data <- read.csv(\"data/ASC_2231trios_1333trans_1601cases_5397controls.csv\", header=TRUE, as.is=TRUE)\n",
    "ntrio <- 2231  \n",
    "ncase <- 1601  \n",
    "nctrl <- 5397  \n",
    "ntrans <- 1333\n",
    "\n",
    "# Estimation of RR of inherited variants using a set of known disease genes. The RR is approximately the enrichment of the LoF and mis3 counts in cases vs. in controls\n",
    "ASDgenes.table <- read.csv(\"data/known_ASD_genes.26genes.csv\", header=TRUE, as.is=TRUE)\n",
    "ASDgenes <- data.frame(Gene=subset(ASDgenes.table, label==1)$gene)\n",
    "data.ASDgenes <- merge(data, ASDgenes, by=\"Gene\")\n",
    "# Case-control\n",
    "q.LoF.case <- sum(data.ASDgenes$case.LoF)/(ncase)\n",
    "q.LoF.ctrl <- sum(data.ASDgenes$ctrl.LoF)/(nctrl)\n",
    "\n",
    "print(sum(data.ASDgenes$case.LoF))\n",
    "print(sum(data.ASDgenes$ctrl.LoF))\n",
    "\n",
    "print(q.LoF.case/q.LoF.ctrl)\n",
    "\n",
    "\n",
    "q.mis3.case <- sum(data.ASDgenes$case.mis3)/ncase\n",
    "q.mis3.ctrl <- sum(data.ASDgenes$ctrl.mis3)/nctrl\n",
    "\n",
    "print(q.mis3.case/q.mis3.ctrl)\n",
    "\n",
    "# Estimating the prior parameters of q: q ~ Gamma(q.mean*nu, nu). \n",
    "# Note: we assume that q|H_1 and q|H_0 have the same prior. \n",
    "# Only estimate the prior mean of q (q.mean), and choose nu to be a small number (e.g. 200)\n",
    "q.LoF.mean <- mean(data$ctrl.LoF)/nctrl\n",
    "q.mis3.mean <- mean(data$ctrl.mis3)/nctrl\n",
    "\n",
    "\n"
   ]
  },
  {
   "cell_type": "code",
   "execution_count": 49,
   "metadata": {
    "collapsed": false
   },
   "outputs": [
    {
     "data": {
      "text/plain": [
       "      Gene  mut.rate dn.LoF case.LoF ctrl.LoF trans.LoF ntrans.LoF dn.mis3\n",
       "1  CACNA1C 1.134e-04      0        1        3         0          0       0\n",
       "2     CHD7 1.190e-04      0        1        2         0          0       1\n",
       "3     CHD8 9.250e-05      3        4        0         0          0       2\n",
       "4  CNTNAP2 5.750e-05      0        0        1         0          0       0\n",
       "5     CUL3 2.977e-05      2        2        0         0          0       0\n",
       "6   DLGAP2 6.540e-05      0        1        0         0          0       0\n",
       "7   DYRK1A 3.119e-05      4        0        0         0          0       0\n",
       "8    EPHB2 5.760e-05      1        0        2         0          2       0\n",
       "9     FMR1 2.360e-05      0        0        2         0          0       0\n",
       "10   FOXP1 3.015e-05      1        0        0         0          1       0\n",
       "11  GRIN2B 7.300e-05      3        3        1         0          0       0\n",
       "12 KATNAL2 2.003e-05      2        3        4         1          0       0\n",
       "13    MBD5 5.320e-05      1        0        0         0          0       0\n",
       "14   NLGN3 4.160e-05      0        0        1         0          0       0\n",
       "15  NLGN4X 4.440e-05      0        0        0         0          0       0\n",
       "16   NRXN1 7.400e-05      1        1        2         0          1       1\n",
       "17    POGZ 5.660e-05      2        4        0         0          0       0\n",
       "18   SCN1A 7.500e-05      0        1        0         0          0       2\n",
       "19   SCN2A 7.400e-05      4        2        0         0          0       5\n",
       "20  SHANK2 7.020e-05      1        0        0         0          0       0\n",
       "21  SHANK3 5.780e-05      1        1        0         1          1       0\n",
       "22 SYNGAP1 6.550e-05      6        0        0         0          0       1\n",
       "23    TBR1 3.550e-05      2        0        0         0          1       2\n",
       "24    TBX1 2.440e-05      0        0        0         0          0       0\n",
       "25    TSC1 4.870e-05      0        1        1         0          0       0\n",
       "26    TSC2 1.007e-04      0        2        3         0          1       1\n",
       "   case.mis3 ctrl.mis3 trans.mis3 ntrans.mis3\n",
       "1          7        38          6          15\n",
       "2          7        40         13           8\n",
       "3          7        29          4           2\n",
       "4          6        41          9           7\n",
       "5          3         4          1           0\n",
       "6          5        30          2           4\n",
       "7          2         8          0           6\n",
       "8          6        28          6          10\n",
       "9          0         1          0           0\n",
       "10         2         7          2           2\n",
       "11         3        10          0           5\n",
       "12         6        22          1           2\n",
       "13         4        21          9           6\n",
       "14         0         1          0           0\n",
       "15         0         1          0           0\n",
       "16         6        38          6           7\n",
       "17         5        24          6           7\n",
       "18        11        16          9           5\n",
       "19         4        26          5           5\n",
       "20         7        28          8           4\n",
       "21         5        19          3           3\n",
       "22         3         6          4           2\n",
       "23         2         5          1           3\n",
       "24         2         3          1           0\n",
       "25         6        20          7           8\n",
       "26        19        52         17          29\n"
      ]
     },
     "metadata": {},
     "output_type": "display_data"
    }
   ],
   "source": [
    "%%R\n",
    "data.ASDgenes"
   ]
  },
  {
   "cell_type": "code",
   "execution_count": 47,
   "metadata": {
    "collapsed": false
   },
   "outputs": [
    {
     "data": {
      "text/plain": [
       "[1] 0.01686446\n"
      ]
     },
     "metadata": {},
     "output_type": "display_data"
    }
   ],
   "source": [
    "%%R\n",
    "q.LoF.case"
   ]
  },
  {
   "cell_type": "code",
   "execution_count": 48,
   "metadata": {
    "collapsed": false
   },
   "outputs": [
    {
     "data": {
      "text/plain": [
       "[1] 0.0003402339\n"
      ]
     },
     "metadata": {},
     "output_type": "display_data"
    }
   ],
   "source": [
    "%%R\n",
    "q.LoF.mean"
   ]
  },
  {
   "cell_type": "code",
   "execution_count": 78,
   "metadata": {
    "collapsed": false
   },
   "outputs": [
    {
     "data": {
      "text/plain": [
       "  Gene  mut.rate dn.LoF case.LoF ctrl.LoF trans.LoF ntrans.LoF dn.mis3\n",
       "1 A1BG 2.355e-05      0        0        1         0          0       0\n",
       "2 A1CF 2.174e-05      0        1        2         1          1       0\n",
       "  case.mis3 ctrl.mis3 trans.mis3 ntrans.mis3\n",
       "1         0         4          7           3\n",
       "2         0         7          3           7\n"
      ]
     },
     "metadata": {},
     "output_type": "display_data"
    }
   ],
   "source": [
    "%%R\n",
    "\n",
    "data <- read.csv(\"data/ASC_2231trios_1333trans_1601cases_5397controls.csv\", header = TRUE, as.is = TRUE)\n",
    "\n",
    "counts <- as.array(cbind(data$dn.LoF, ##Xd\n",
    "                         data$case.LoF+data$trans.LoF, data$ctrl.LoF+data$ntrans.LoF, ##X1, X0\n",
    "                         data$dn.mis3, \n",
    "                         data$case.mis3+data$trans.mis3, data$ctrl.mis3+data$ntrans.mis3))\n",
    "\n",
    "data <- read.csv(\"data/ASC_2231trios_1333trans_1601cases_5397controls.csv\", header=TRUE, as.is=TRUE)\n",
    "ntrio <- 2231  # number of trios\n",
    "ncase <- 1601  # number of cases\n",
    "nctrl <- 5397  # number of controls\n",
    "ntrans <- 1333 # number of subjects with transmission data\n",
    "N <- list(dn=ntrio, ca=ntrans+ncase, cn=ntrans+nctrl)\n",
    "\n",
    "head(data, 2)"
   ]
  },
  {
   "cell_type": "code",
   "execution_count": 80,
   "metadata": {
    "collapsed": false
   },
   "outputs": [
    {
     "name": "stdout",
     "output_type": "stream",
     "text": [
      "Error: could not find function \"evidence.alt\"\n"
     ]
    }
   ],
   "source": [
    "%%R\n",
    "\n",
    "source(\"TADA.R\")\n",
    "data <- read.csv(\"data/ASC_2231trios_1333trans_1601cases_5397controls.csv\", header = TRUE, as.is = TRUE)\n",
    "\n",
    "counts <- as.array(cbind(data$dn.LoF, ##Xd\n",
    "                         data$case.LoF+data$trans.LoF, data$ctrl.LoF+data$ntrans.LoF, ##X1, X0\n",
    "                         data$dn.mis3, \n",
    "                         data$case.mis3+data$trans.mis3, data$ctrl.mis3+data$ntrans.mis3))\n",
    "\n",
    "data <- read.csv(\"data/ASC_2231trios_1333trans_1601cases_5397controls.csv\", header=TRUE, as.is=TRUE)\n",
    "ntrio <- 2231  # number of trios\n",
    "ncase <- 1601  # number of cases\n",
    "nctrl <- 5397  # number of controls\n",
    "ntrans <- 1333 # number of subjects with transmission data\n",
    "N <- list(dn=ntrio, ca=ntrans+ncase, cn=ntrans+nctrl)\n",
    "\n",
    "# Parameters: set your values\n",
    "#N <- list(dn=967, ca=617+2536, cn=617+2543) \n",
    "#data<-read.table(\"scz.dat\", header=T)\n",
    "#data <- data[data$mis_trans<100 & data$mis_untrans<100 & data$mis_case<100 & data$mis_cont<100,]\n",
    "#names(data)\n",
    "# [1] \"Gene\"        \"length\"      \"tot_mu\"      \"lof_mu\"      \"missense_mu\"\n",
    "# [6] \"lof_dn\"      \"lof_trans\"   \"lof_untrans\" \"lof_case\"    \"lof_cont\"   \n",
    "#[11] \"mis_dn\"      \"mis_trans\"   \"mis_untrans\" \"mis_case\"    \"mis_cont\"   \n",
    "#counts.LoF <- data.frame(ca=data$lof_case, cn=data$lof_cont)\n",
    "#counts.mis <- data.frame(ca=data$mis_case, cn=data$mis_cont)\n",
    "\n",
    "counts.LoF <- data.frame(ca = data$case.LoF, cn = data$ctrl.LoF)\n",
    "counts.mis <- data.frame(ca = data$case.mis3, cn = data$ctrl.mis3)\n",
    "\n",
    "# set pi? k~1000 => pi~0.05\n",
    "\n",
    "#TADA: estiamte pi from whole-exome in three steps\n",
    "# Step 1: estimating (rho0, nu0)\n",
    "# Set pi.init to be a very small value (other parameters don't matter)\n",
    "hyperpar.LoF.init <- c(10, 1, 2.5, 1, 0.5, 500, 0.5, 500)\n",
    "lower.LoF <- c(2, 0.5, 2.0, 0.5, 0.1, 100, 0.1, 100)\n",
    "upper.LoF <- c(30, 5, 10.0, 5, 5, 10000, 5, 10000)\n",
    "pi.init <- 0.00001\n",
    "est.option <- rep(FALSE, 8)\n",
    "est.option[c(7,8)] <- TRUE # only estimate rho0 and nu0\n",
    "est.pi <- FALSE\n",
    "#empBayes.result.LoF <- empBayes(counts.LoF, N, data$lof_mu, hyperpar.LoF.init, pi.init, lower.LoF, upper.LoF, est.option=est.option, est.pi=est.pi, debug=TRUE)\n",
    "empBayes.result.LoF <- empBayes(counts.LoF, N, data$mut.rate, \n",
    "                                hyperpar.LoF.init, pi.init, \n",
    "                                lower.LoF, upper.LoF, \n",
    "                                est.option=est.option, est.pi=est.pi, debug=TRUE)\n",
    "\n",
    "\n",
    "#Parameters = (0.5, 500)                            Value = 47498.82\n",
    "#Parameters = (0.500500250083354, 500)      Value = 47515.03\n",
    "#Parameters = (0.499500249916688, 500)      Value = 47482.64\n",
    "#Parameters = (0.5, 500.500250083354)       Value = 47490.3\n",
    "#Parameters = (0.5, 499.500249916687)       Value = 47507.34\n",
    "#Parameters = (0.1, 10000)                  Value = 54310.63\n",
    "#Parameters = (0.100100050016671, 10000)            Value = 54301.67\n",
    "#Parameters = (0.1, 10000)       Value = 54310.63\n",
    "#Parameters = (0.1, 10000)       Value = 54310.63\n",
    "#Parameters = (0.1, 9990.00499833376)   Value = 54300.13\n",
    "#Parameters = (0.267820965041291, 1598.19650013888)     Value = 38588.7\n",
    "#Parameters = (0.268088919961463, 1598.19650013888)     Value = 38587.01\n",
    "#Parameters = (0.267553277942107, 1598.19650013888)     Value = 38590.4\n",
    "#Parameters = (0.267820965041291, 1599.79549600371)     Value = 38587.95\n",
    "# ...\n",
    "#Parameters = (0.732672555710685, 5240.68962650498)     Value = 37335.13\n",
    "#Parameters = (0.733405594724816, 5245.93293734996)     Value = 37335.13\n",
    "#Parameters = (0.733405594724816, 5235.45155635006)     Value = 37335.13\n",
    "\n"
   ]
  },
  {
   "cell_type": "code",
   "execution_count": 81,
   "metadata": {
    "collapsed": false
   },
   "outputs": [
    {
     "data": {
      "text/plain": [
       "function(counts, N, mu, hyperpar.init, pi.init, lower, upper, lower.pi=1e-10, upper.pi=1, est.option=rep(FALSE, 8), est.pi=FALSE, prior.weight=0, debug=FALSE) {  \n",
       "  # marginal likelihood function (parameters in log-scale)\n",
       "  marginal.loglike <- function(subpar.log) {\n",
       "    subpar <- exp(subpar.log)\n",
       "    allpar <- subpar2fullpar(subpar, hyperpar.init, pi.init, est.option, est.pi)\n",
       "    hyperpar <- allpar$hyperpar\n",
       "    pi <- allpar$pi\n",
       "    result <- marginal(hyperpar,  pi, counts, N, mu, prior.weight=prior.weight)$marginal  \n",
       "    \n",
       "    if (debug) {\n",
       "      cat(\"Parameters = (\", paste(subpar, collapse=\", \"), \")\\tValue = \", result, \"\\n\", sep=\"\") \n",
       "    }\n",
       "    \n",
       "    return (result)\n",
       "  }\n",
       "  \n",
       "  # no parameter to estimate\n",
       "  if ( sum(est.option==TRUE) == 0 & est.pi == FALSE ) {\n",
       "    value <- marginal(hyperpar.init, pi.init, counts, N, mu, prior.weight=prior.weight)$marginal\n",
       "    return (list(hyperpar=hyperpar.init, value=value))\n",
       "  }\n",
       "  \n",
       "  # initialize the sub. parameters\n",
       "  subpar.init <- fullpar2subpar(hyperpar.init, pi.init, est.option, est.pi)\n",
       "  sublower <- fullpar2subpar(lower, lower.pi, est.option, est.pi)\n",
       "  subupper <- fullpar2subpar(upper, upper.pi, est.option, est.pi)\n",
       "  \n",
       "  # maximization of marginal likelihood\n",
       "  like.optim <- optim(log(subpar.init), marginal.loglike, method=\"L-BFGS-B\", lower=log(sublower), upper=log(subupper))\n",
       "  subpar.est.log <- like.optim$par\n",
       "  value.max <- like.optim$value\n",
       "  allpar.est <- subpar2fullpar(exp(subpar.est.log), hyperpar.init, pi.init, est.option, est.pi)\n",
       "  hyperpar.est <- allpar.est$hyperpar\n",
       "  pi.est <- allpar.est$pi\n",
       "  \n",
       "  if (est.pi==TRUE) { return (list(pi=pi.est, hyperpar=hyperpar.est, value=value.max)) }\n",
       "  else { return (list(hyperpar=hyperpar.est, value=value.max)) }\n",
       "}\n"
      ]
     },
     "metadata": {},
     "output_type": "display_data"
    }
   ],
   "source": [
    "%%R\n",
    "empBayes"
   ]
  },
  {
   "cell_type": "code",
   "execution_count": 82,
   "metadata": {
    "collapsed": false
   },
   "outputs": [
    {
     "data": {
      "text/plain": [
       "function(hyperpar, pi, counts, N, mu, prior.weight=0, denovo.only=FALSE, debug=FALSE) {\n",
       "  gamma.mean.dn <- hyperpar[1]\n",
       "  beta.dn <- hyperpar[2]\n",
       "  gamma.mean.CC <- hyperpar[3]\n",
       "  beta.CC <- hyperpar[4]\n",
       "  rho1 <- hyperpar[5]\n",
       "  nu1 <- hyperpar[6]\n",
       "  rho0 <- hyperpar[7]\n",
       "  nu0 <- hyperpar[8]\n",
       "  \n",
       "  n <- nrow(counts)\n",
       "  prob <- numeric(n)\n",
       "  posterior <- numeric(n)\n",
       "  bf <- numeric(n)\n",
       "  for (i in 1:n)  {\n",
       "    if (debug) cat(\"i = \", i, \"\\tdn = \", counts[i,]$dn, \"\\tca = \", counts[i,]$ca, \"\\tcn = \", counts[i,]$cn, \"\\n\")\n",
       "    if (denovo.only==TRUE) {\n",
       "      prob.M1 <- evidence.alt.dn(counts[i,\"dn\"], N$dn, mu[i], gamma.mean.dn, beta.dn) \n",
       "      prob.M0 <- evidence.null.dn(counts[i,\"dn\"], N$dn, mu[i])\n",
       "    } else {\n",
       "      prob.M1 <-  evidence.alt(counts[i,],N,mu[i],gamma.mean.dn, beta.dn, gamma.mean.CC, beta.CC, rho1, nu1)\n",
       "      prob.M0 <-  evidence.null(counts[i,],N,mu[i],rho0, nu0) \n",
       "    }\n",
       "    if (debug) cat(\"prob.M1 = \", prob.M1,\"\\n\")\n",
       "    if (debug) cat(\"Prob.M0 = \", prob.M0, \"\\n\")\n",
       "    prob[i] <- pi * prob.M1 + (1 - pi) * prob.M0\n",
       "    posterior[i] <- pi*prob.M1 / (prob[i])\n",
       "    bf[i] <- prob.M1 / prob.M0\n",
       "  }\n",
       "  marg.nll <- -sum(log(prob[!is.na(prob)]))\n",
       "  \n",
       "  # add the prior\n",
       "  if (prior.weight > 0) {\n",
       "    u <- prior.weight\n",
       "    q1.mean <- rho1/nu1\n",
       "    q0.mean <- rho0/nu0\n",
       "    marg.nll <- marg.nll - log(dgamma(q1.mean, q0.mean*u, u)) \n",
       "  }\n",
       "  \n",
       "  result <- list(prob=prob, marginal=marg.nll, posterior=posterior, bf=bf)\n",
       "  return (result)\n",
       "}\n"
      ]
     },
     "metadata": {},
     "output_type": "display_data"
    }
   ],
   "source": [
    "%%R\n",
    "marginal"
   ]
  },
  {
   "cell_type": "code",
   "execution_count": 83,
   "metadata": {
    "collapsed": false
   },
   "outputs": [
    {
     "name": "stdout",
     "output_type": "stream",
     "text": [
      "Error in withVisible({ : object 'evidence.alt' not found\n"
     ]
    }
   ],
   "source": [
    "%%R\n",
    "evidence.alt"
   ]
  },
  {
   "cell_type": "code",
   "execution_count": null,
   "metadata": {
    "collapsed": true
   },
   "outputs": [],
   "source": []
  }
 ],
 "metadata": {
  "kernelspec": {
   "display_name": "Python 3",
   "language": "python",
   "name": "python3"
  },
  "language_info": {
   "codemirror_mode": {
    "name": "ipython",
    "version": 3
   },
   "file_extension": ".py",
   "mimetype": "text/x-python",
   "name": "python",
   "nbconvert_exporter": "python",
   "pygments_lexer": "ipython3",
   "version": "3.4.0"
  }
 },
 "nbformat": 4,
 "nbformat_minor": 0
}
