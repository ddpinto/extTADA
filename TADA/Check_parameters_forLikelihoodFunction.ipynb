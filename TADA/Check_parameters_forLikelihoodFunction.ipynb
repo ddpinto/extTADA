{
 "cells": [
  {
   "cell_type": "code",
   "execution_count": 4,
   "metadata": {
    "collapsed": true
   },
   "outputs": [],
   "source": [
    "%load_ext rpy2.ipython"
   ]
  },
  {
   "cell_type": "markdown",
   "metadata": {},
   "source": [
    "###Some main points\n",
    "\n",
    "-Use the Autism data set in the TADA package (want to see whether we need the method of moment).\n",
    "\n",
    "-Change pi ($\\pi$) to test the loglikelihood\n",
    "\n",
    "-Change pi ($\\pi$), gamma.mean.dn ($\\bar{\\gamma_{dn}}$), beta.dn ($\\beta_{dn}$) to test the loglikelihood\n",
    "\n",
    "\n",
    "####Note: \n",
    "\n",
    "- likelihood function for m genes\n",
    "\n",
    "####$\\prod_{i=1}^{m}\\left[\\pi P(x_i|\\phi_1) + (1 - \\pi)P(x_i|\\phi_0)\\right]$\n",
    "\n",
    "- $\\gamma_{d} \\sim Gamma(\\bar{\\gamma_d} \\beta_d, \\beta_d)$\n",
    "\n",
    "$\\gamma_i$: relative risk; $q_i$: allel frequency\n",
    "\n",
    "##########==================\n",
    "\n",
    "###Under H0: $\\gamma = 1$\n",
    "\n",
    "$q \\sim Gamma(\\rho_0, \\nu_0)$    OR     $q \\sim Gamma(\\bar{q_0}\\nu_0, \\nu_0 )$ \n",
    "\n",
    "###Under H1:\n",
    "\n",
    "$q \\sim Gamma(\\rho_1, \\nu_1)$    OR    $q_i \\sim Gamma(\\bar{q_1}v_1, v_1)$\n",
    "\n",
    "$\\gamma_i \\sim Gamma(\\bar{\\gamma}\\beta, \\beta)$\n",
    "\n",
    "###Hyperparameters\n",
    "\n",
    "$\\phi_1 = (\\bar{\\gamma}, \\beta, \\bar{q_1}, v_1)$\n",
    "\n",
    "$\\phi_0 = (\\bar{q_0}, v_0)$\n",
    "\n"
   ]
  },
  {
   "cell_type": "markdown",
   "metadata": {},
   "source": [
    "###Load data, code\n",
    "\n",
    "####Parameters below are from TADA package"
   ]
  },
  {
   "cell_type": "code",
   "execution_count": 5,
   "metadata": {
    "collapsed": false
   },
   "outputs": [
    {
     "data": {
      "text/plain": [
       "     dn case.LoF ctrl.LoF 1  2  3\n",
       "[1,]  0        0        1 0  7  7\n",
       "[2,]  0        2        3 0  3 14\n",
       "[3,]  0        0        0 0  0  0\n",
       "[4,]  0        2        5 0 10 28\n",
       "[5,]  0        5       22 0 11 40\n",
       "[6,]  0        1        2 0  3  6\n"
      ]
     },
     "metadata": {},
     "output_type": "display_data"
    }
   ],
   "source": [
    "%%R\n",
    "source(\"scripts/TADA/TADAaddEvidence.R\")\n",
    "source(\"scripts/TADA/likelihoodFunctionCC.R\")\n",
    "\n",
    "#################################################################\n",
    "# Application of TADA\n",
    "#################################################################\n",
    "\n",
    "# Model parameters: two categories of mutations - LoF and mis3 mutations (\"probably damaging\" by PolyPhen2)\n",
    "mu.frac <- c(0.074, 0.32)\n",
    "gamma.mean.dn <- c(20, 4.7)\n",
    "beta.dn <- c(1,1)\n",
    "gamma.mean.CC <- c(2.3, 1.00)\n",
    "beta.CC <- c(4.0, 1000)\n",
    "rho1 <- c(0.1, 0.5)\n",
    "nu1 <- c(200, 100)\n",
    "rho0 <- c(0.1, 0.5)\n",
    "nu0 <- c(200, 100)\n",
    "hyperpar <- as.array(rbind(gamma.mean.dn, beta.dn, gamma.mean.CC, beta.CC, rho1, nu1, rho0, nu0))\n",
    "l <- 100\n",
    "pi0 <- 0.94 # the fraction of non-risk genes\n",
    "\n",
    "# ASC (Autism Sequencing Consortium) data\n",
    "# The file name contains the sample size information\n",
    "# The only relevant counts are dn.LoF and dn.mis3\n",
    "data <- read.csv(\"scripts/TADA/data/ASC_2231trios_1333trans_1601cases_5397controls.csv\", header=TRUE, as.is=TRUE)\n",
    "ntrio <- 2231  # number of trios\n",
    "ncase <- 1601  # number of cases\n",
    "nctrl <- 5397  # number of controls\n",
    "ntrans <- 1333 # number of subjects with transmission data\n",
    "N <- list(dn=ntrio, ca=ntrans+ncase, cn=ntrans+nctrl)\n",
    "\n",
    "\n",
    "counts <- as.array(cbind(data$dn.LoF, data$case.LoF+data$trans.LoF, data$ctrl.LoF+data$ntrans.LoF, data$dn.mis3, data$case.mis3+data$trans.mis3, data$ctrl.mis3+data$ntrans.mis3))\n",
    "\n",
    "dim(counts)\n",
    "colnames(counts) <- c(\"dn\", \"case.LoF\", \"ctrl.LoF\", 1:3)\n",
    "head(counts)\n"
   ]
  },
  {
   "cell_type": "code",
   "execution_count": 6,
   "metadata": {
    "collapsed": false
   },
   "outputs": [
    {
     "data": {
      "text/plain": [
       "    Gene  mut.rate dn.LoF case.LoF ctrl.LoF trans.LoF ntrans.LoF dn.mis3\n",
       "1   A1BG 2.355e-05      0        0        1         0          0       0\n",
       "2   A1CF 2.174e-05      0        1        2         1          1       0\n",
       "3  A2LD1 6.090e-06      0        0        0         0          0       0\n",
       "4    A2M 5.640e-05      0        1        5         1          0       0\n",
       "5  A2ML1 5.700e-05      0        3       16         2          6       0\n",
       "6 A4GALT 2.415e-05      0        0        2         1          0       0\n",
       "  case.mis3 ctrl.mis3 trans.mis3 ntrans.mis3\n",
       "1         0         4          7           3\n",
       "2         0         7          3           7\n",
       "3         0         0          0           0\n",
       "4         4        22          6           6\n",
       "5         5        30          6          10\n",
       "6         1         5          2           1\n"
      ]
     },
     "metadata": {},
     "output_type": "display_data"
    }
   ],
   "source": [
    "%%R\n",
    "head(data)"
   ]
  },
  {
   "cell_type": "code",
   "execution_count": 7,
   "metadata": {
    "collapsed": false
   },
   "outputs": [
    {
     "data": {
      "text/plain": [
       "               [,1]   [,2]\n",
       "gamma.mean.dn  20.0    4.7\n",
       "beta.dn         1.0    1.0\n",
       "gamma.mean.CC   2.3    1.0\n",
       "beta.CC         4.0 1000.0\n",
       "rho1            0.1    0.5\n",
       "nu1           200.0  100.0\n",
       "rho0            0.1    0.5\n",
       "nu0           200.0  100.0\n"
      ]
     },
     "metadata": {},
     "output_type": "display_data"
    }
   ],
   "source": [
    "%%R\n",
    "hyperpar"
   ]
  },
  {
   "cell_type": "markdown",
   "metadata": {},
   "source": [
    "###If we only change pi0"
   ]
  },
  {
   "cell_type": "code",
   "execution_count": 29,
   "metadata": {
    "collapsed": false
   },
   "outputs": [],
   "source": [
    "%%R\n",
    "#Only de novo data\n",
    "piSeq <- seq(0.01, 0.15, by = 0.015)\n",
    "\n",
    "muData <- cbind(data$mut.rate*mu.frac[1])\n",
    "\n",
    "likeLihoodValueDN <- lapply(piSeq, function(pi_0)\n",
    "    logLik(hyperpar = hyperpar, pi = pi_0, counts = counts, N = N, mu = muData,\n",
    "            denovo.only = TRUE)$marginal\n",
    "    )\n",
    "    "
   ]
  },
  {
   "cell_type": "code",
   "execution_count": 30,
   "metadata": {
    "collapsed": false
   },
   "outputs": [
    {
     "data": {
      "image/png": "[encoded data removed]"
     },
     "metadata": {},
     "output_type": "display_data"
    }
   ],
   "source": [
    "%%R\n",
    "#Maximum likelihood ~ method of moment !!!\n",
    "\n",
    "plot(piSeq, -as.numeric(likeLihoodValueDN), type = 'b', ylab = 'LogLikelihood')\n",
    "\n",
    "\n"
   ]
  },
  {
   "cell_type": "markdown",
   "metadata": {},
   "source": [
    "###We will change three parameters: beta, gamma, pi\n",
    "\n"
   ]
  },
  {
   "cell_type": "code",
   "execution_count": 31,
   "metadata": {
    "collapsed": true
   },
   "outputs": [],
   "source": [
    "%%R\n",
    "#Only de novo data\n",
    "piSeq <- seq(0.01, 0.12, by = 0.01)\n",
    "gamma.dn.LoF.seq <- seq(10, 30, by = 0.25)\n",
    "beta.dn.LoF.seq <- seq(0.5, 2.5, by = 0.25)\n"
   ]
  },
  {
   "cell_type": "code",
   "execution_count": 32,
   "metadata": {
    "collapsed": false
   },
   "outputs": [
    {
     "data": {
      "text/plain": [
       "[1] 8748    4\n"
      ]
     },
     "metadata": {},
     "output_type": "display_data"
    }
   ],
   "source": [
    "%%R\n",
    "nG <- length(gamma.dn.LoF.seq)\n",
    "nPi <- length(piSeq)\n",
    "nBeta <- length(beta.dn.LoF.seq)\n",
    "hyperTemp <- hyperpar\n",
    "matrixLLK <- matrix(0, ncol = 4, nrow = nBeta*nG*nPi)\n",
    "indexI <- 1\n",
    "\n",
    "dim(matrixLLK)"
   ]
  },
  {
   "cell_type": "code",
   "execution_count": 33,
   "metadata": {
    "collapsed": false
   },
   "outputs": [],
   "source": [
    "%%R\n",
    "\n",
    "muData <- cbind(data$mut.rate*mu.frac[1])\n",
    "\n",
    "\n",
    "for (ii in 1:nG){\n",
    "    hyperTemp[1, 1] <- gamma.dn.LoF.seq[ii]\n",
    "    \n",
    "    for (jj in 1:nPi){\n",
    "        for (kk in 1:nBeta){\n",
    "            hyperTemp[2, 1] <- beta.dn.LoF.seq[kk]\n",
    "        matrixLLK[indexI, 4] <- \n",
    "            logLik(hyperpar = hyperTemp, pi = piSeq[jj], counts = counts, N = N, mu = muData,\n",
    "            denovo.only = TRUE)$marginal\n",
    "            \n",
    "        matrixLLK[indexI, 2] <- piSeq[jj]\n",
    "\n",
    "         matrixLLK[indexI, 1] <- gamma.dn.LoF.seq[ii]\n",
    "   \n",
    "            matrixLLK[indexI, 3] <- beta.dn.LoF.seq[kk]\n",
    "        indexI <- indexI + 1\n",
    "                }}\n",
    "}"
   ]
  },
  {
   "cell_type": "code",
   "execution_count": 92,
   "metadata": {
    "collapsed": false
   },
   "outputs": [
    {
     "data": {
      "text/plain": [
       "     [,1] [,2] [,3]      [,4]\n",
       "[1,]   10 0.01 0.50 -1487.137\n",
       "[2,]   10 0.01 0.75 -1488.947\n",
       "[3,]   10 0.01 1.00 -1489.948\n",
       "[4,]   10 0.01 1.25 -1490.585\n",
       "[5,]   10 0.01 1.50 -1491.027\n",
       "[6,]   10 0.01 1.75 -1491.351\n"
      ]
     },
     "metadata": {},
     "output_type": "display_data"
    }
   ],
   "source": [
    "%%R\n",
    "matrixLLK[, 4] <- -matrixLLK[, 4]\n",
    "head(matrixLLK)"
   ]
  },
  {
   "cell_type": "code",
   "execution_count": 93,
   "metadata": {
    "collapsed": false
   },
   "outputs": [
    {
     "data": {
      "text/plain": [
       "       [,1] [,2] [,3]      [,4]\n",
       " [1,] 30.00 0.03 0.50 -1427.525\n",
       " [2,] 29.75 0.03 0.50 -1427.576\n",
       " [3,] 29.50 0.03 0.50 -1427.633\n",
       " [4,] 29.25 0.03 0.50 -1427.695\n",
       " [5,] 29.00 0.03 0.50 -1427.764\n",
       " [6,] 30.00 0.03 0.75 -1427.810\n",
       " [7,] 26.00 0.04 0.50 -1427.833\n",
       " [8,] 25.75 0.04 0.50 -1427.837\n",
       " [9,] 26.25 0.04 0.50 -1427.837\n",
       "[10,] 28.75 0.03 0.50 -1427.839\n",
       "[11,] 26.50 0.04 0.50 -1427.850\n",
       "[12,] 25.50 0.04 0.50 -1427.850\n",
       "[13,] 29.75 0.03 0.75 -1427.866\n",
       "[14,] 26.75 0.04 0.50 -1427.870\n",
       "[15,] 25.25 0.04 0.50 -1427.871\n",
       "[16,] 27.00 0.04 0.50 -1427.898\n",
       "[17,] 25.00 0.04 0.50 -1427.900\n",
       "[18,] 28.50 0.03 0.50 -1427.920\n",
       "[19,] 29.50 0.03 0.75 -1427.929\n",
       "[20,] 27.25 0.04 0.50 -1427.934\n",
       "[21,] 24.75 0.04 0.50 -1427.939\n",
       "[22,] 30.00 0.03 1.00 -1427.965\n",
       "[23,] 27.50 0.04 0.50 -1427.977\n",
       "[24,] 24.50 0.04 0.50 -1427.987\n",
       "[25,] 29.25 0.03 0.75 -1427.997\n",
       "[26,] 28.25 0.03 0.50 -1428.007\n",
       "[27,] 29.75 0.03 1.00 -1428.025\n",
       "[28,] 27.75 0.04 0.50 -1428.028\n",
       "[29,] 24.25 0.04 0.50 -1428.043\n",
       "[30,] 30.00 0.03 1.25 -1428.064\n"
      ]
     },
     "metadata": {},
     "output_type": "display_data"
    }
   ],
   "source": [
    "%%R\n",
    "head(matrixLLK[order(-matrixLLK[, 4]), ], 30)"
   ]
  },
  {
   "cell_type": "code",
   "execution_count": 2,
   "metadata": {
    "collapsed": true
   },
   "outputs": [],
   "source": [
    "###Plot these results"
   ]
  },
  {
   "cell_type": "code",
   "execution_count": 1,
   "metadata": {
    "collapsed": false
   },
   "outputs": [
    {
     "name": "stderr",
     "output_type": "stream",
     "text": [
      "ERROR: Cell magic `%%R` not found.\n"
     ]
    }
   ],
   "source": [
    "%%R\n",
    "plot(matrixLLK[, 2], matrixLLK[, 4], xlab = 'pi0', ylab = 'LogLikelihood')\n",
    "plot(matrixLLK[, 3], matrixLLK[, 4], xlab = 'beta.dn', ylab = 'LogLikelihood')\n",
    "plot(matrixLLK[, 1], matrixLLK[, 4], xlab = 'gamma.dn', ylab = 'LogLikelihood')"
   ]
  },
  {
   "cell_type": "code",
   "execution_count": 56,
   "metadata": {
    "collapsed": false
   },
   "outputs": [
    {
     "name": "stdout",
     "output_type": "stream",
     "text": [
      "https://gist.github.com/865fd03bdf6bbb6ec0c6\r\n"
     ]
    }
   ],
   "source": [
    "!gist -p Check_parameters_forLikelihoodFunction.ipynb"
   ]
  },
  {
   "cell_type": "code",
   "execution_count": 95,
   "metadata": {
    "collapsed": false
   },
   "outputs": [
    {
     "name": "stdout",
     "output_type": "stream",
     "text": [
      "/bin/sh: 1: gist: not found\r\n"
     ]
    }
   ],
   "source": [
    "!gist -u https://gist.github.com/865fd03bdf6bbb6ec0c6 Check_parameters_forLikelihoodFunction.ipynb"
   ]
  },
  {
   "cell_type": "code",
   "execution_count": null,
   "metadata": {
    "collapsed": true
   },
   "outputs": [],
   "source": []
  }
 ],
 "metadata": {
  "kernelspec": {
   "display_name": "Python 3",
   "language": "python",
   "name": "python3"
  },
  "language_info": {
   "codemirror_mode": {
    "name": "ipython",
    "version": 3
   },
   "file_extension": ".py",
   "mimetype": "text/x-python",
   "name": "python",
   "nbconvert_exporter": "python",
   "pygments_lexer": "ipython3",
   "version": "3.4.0"
  }
 },
 "nbformat": 4,
 "nbformat_minor": 0
}
