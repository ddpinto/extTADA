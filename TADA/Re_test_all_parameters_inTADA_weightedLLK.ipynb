{
 "cells": [
  {
   "cell_type": "code",
   "execution_count": 1,
   "metadata": {
    "collapsed": true
   },
   "outputs": [],
   "source": [
    "%load_ext rpy2.ipython"
   ]
  },
  {
   "cell_type": "code",
   "execution_count": 2,
   "metadata": {
    "collapsed": true
   },
   "outputs": [],
   "source": [
    "%%R\n",
    "source(\"likelihoodFunctionCC.R\")\n",
    "source(\"TADAaddEvidence.R\")\n",
    "mu.frac <- c(0.074, 0.32)\n",
    "gamma.mean.dn <- c(20, 4.7)\n",
    "beta.dn <- c(1,1)\n",
    "gamma.mean.CC <- c(2.3, 1.00)\n",
    "beta.CC <- c(4.0, 1000)\n",
    "rho1 <- c(0.1, 0.5)\n",
    "nu1 <- c(200, 100)\n",
    "rho0 <- c(0.1, 0.5)\n",
    "nu0 <- c(200, 100)\n",
    "hyperpar <- as.array(rbind(gamma.mean.dn, beta.dn, gamma.mean.CC, beta.CC, rho1, nu1, rho0, nu0))\n",
    "l <- 100\n",
    "pi0 <- 0.94 # the fraction of non-risk genes\n",
    "\n",
    "# ASC (Autism Sequencing Consortium) data\n",
    "# The file name contains the sample size information\n",
    "# The only relevant counts are dn.LoF and dn.mis3\n",
    "data <- read.csv(\"TADA/data/ASC_2231trios_1333trans_1601cases_5397controls.csv\", header=TRUE, as.is=TRUE)\n",
    "ntrio <- 2231  # number of trios\n",
    "ncase <- 1601  # number of cases\n",
    "nctrl <- 5397  # number of controls\n",
    "ntrans <- 1333 # number of subjects with transmission data\n",
    "N <- list(dn=ntrio, ca=ntrans+ncase, cn=ntrans+nctrl)\n",
    "\n",
    "# Running TADA\n",
    "counts <- as.array(cbind(data$dn.LoF, data$case.LoF+data$trans.LoF, data$ctrl.LoF+data$ntrans.LoF, data$dn.mis3, data$case.mis3+data$trans.mis3,\n",
    " data$ctrl.mis3+data$ntrans.mis3))\n",
    "\n",
    "\n",
    "count.mu.Data <- cbind(counts[, 1:3], data$mut.rate*mu.frac[1])\n",
    "#count.mu.Data <- cbind(counts[, 4:6], data$mut.rate*mu.frac[2])\n",
    "\n",
    "########Calculate data.frame and likelihood function\n",
    "##countData should be a data.frame including all annotation types.\n",
    "#Each type includes 3 columns: de novo, case and control\n",
    "#mutData: a data.frame including mutation rates of each type\n"
   ]
  },
  {
   "cell_type": "markdown",
   "metadata": {},
   "source": [
    "###Re-write the likelihood function"
   ]
  },
  {
   "cell_type": "code",
   "execution_count": 5,
   "metadata": {
    "collapsed": false
   },
   "outputs": [],
   "source": [
    "%%R\n",
    "\n",
    "weightedlogLikelihood <- function(countData, hyperpar, pi0 = 0.06, \n",
    "                          wLLK = 0.8,\n",
    "                          mutationData,\n",
    "                          testType = c(\"dn\", \"cc\", \"both\"), nCore = 1, combinationType = 1){\n",
    "    ##Identify how many annotation types\n",
    "    if (is.numeric(mutationData))\n",
    "        mutationData <- cbind(mutationData)\n",
    "    kk <- dim(mutationData)[2]\n",
    "\n",
    "        ###Choose only de novo (dn), only cc (cc), or both (\"both\")\n",
    "        testType <- match.arg(testType)\n",
    "        \n",
    "    dataOut <- NULL\n",
    "\n",
    "    logLLKallType <- 0\n",
    "    \n",
    "    for (jj in 1:kk){\n",
    "\n",
    "        ##Extract each annotation\n",
    "        sIndex <- 3*(jj - 1) + 1\n",
    "        \n",
    "        countData.type <- cbind(countData[, c(sIndex, sIndex + 1, sIndex + 2)], mutationData[, jj])\n",
    "\n",
    "#        print(dim(countData.type))\n",
    "        \n",
    "        typeData <- apply(countData.type, 1, function(xRow){\n",
    "            x <- list(dn = xRow[1],\n",
    "                    ca = xRow[2], cn = xRow[3], mu = xRow[4])\n",
    "\n",
    " #           print(xRow)\n",
    "                #####Alternative hypothesis\n",
    "                x.alt.CC <- evidence.alt.CC(x = x, N = N, gamma.mean = hyperpar[3, jj],\n",
    "                                            beta = hyperpar[4, jj],\n",
    "                                            rho1 = hyperpar[5, jj], nu1 = hyperpar[6, jj])$total\n",
    "\n",
    "                x.alt.dn <- dnbinom(x = x$dn, hyperpar[1, jj]*hyperpar[2, jj],\n",
    "                                   hyperpar[2, jj]/(hyperpar[2, jj] + 2*N$dn*x$mu)) \n",
    "                    #evidence.alt.dn(x = xRow[1], N = N$dn, mu = xRow[4],\n",
    "                     #                       gamma.mean = hyperpar[1, 1], beta = hyperpar[2, 1])\n",
    "\n",
    "#####Null hypothesis\n",
    "\n",
    "                x.null.CC <- evidence.null.CC(x = x, N = N, rho0 = hyperpar[7, jj], nu0 = hyperpar[8, jj])$total\n",
    "                x.null.dn <- dpois(x$dn, 2*N$dn*x$mu) #evidence.null.dn(x = xRow[1], N = N$dn, mu = xRow[4])\n",
    "\n",
    "\n",
    "            return(c(x.alt.CC, x.alt.dn, x.null.CC, x.null.dn))\n",
    "\n",
    "        })\n",
    "\n",
    "        #########Done\n",
    "\n",
    "        ##############################################\n",
    "                    ##########Calculate log likelihood\n",
    "        typeData <- t(typeData)\n",
    "        \n",
    "            pH1.dn <- typeData[, 2]\n",
    "            pH0.dn <- typeData[, 4]\n",
    "\n",
    "        pH1.cc <- typeData[, 1]\n",
    "        pH0.cc <- typeData[, 3]\n",
    "        \n",
    "        if (testType == \"dn\"){\n",
    "            pH1 <- pi0*pH1.dn\n",
    "            pH0 <- (1 - pi0)*pH0.dn\n",
    "        } else if (testType == \"cc\"){\n",
    "            pH1 <- pi0*pH1.cc\n",
    "            pH0 <- (1 - pi0)*pH0.cc\n",
    "        }\n",
    "        else {\n",
    "            pH1 <- pi0*(pH1.dn^wLLK)*(pH1.cc^(1 - wLLK))\n",
    "            pH0 <- (1- pi0)*(pH0.dn^wLLK)*(pH0.cc^(1 - wLLK))\n",
    "        }\n",
    "            pAll <- pH1 + pH0\n",
    "\n",
    "            #sum(log(pAll))\n",
    "\n",
    "            log.pAll <- sum(log(pAll[!is.na(pAll)]))#log(prod(pAll))\n",
    "\n",
    "\n",
    "        dataOut <- cbind(dataOut, typeData)\n",
    "        \n",
    "            logLLKallType <- logLLKallType + log.pAll\n",
    "\n",
    "        \n",
    "    }\n",
    "\n",
    "\n",
    "    return(list(dataOut = dataOut, logLik = logLLKallType))\n",
    "}\n",
    "\n"
   ]
  },
  {
   "cell_type": "markdown",
   "metadata": {},
   "source": [
    "###Likelihood for de novo LoF only"
   ]
  },
  {
   "cell_type": "code",
   "execution_count": 6,
   "metadata": {
    "collapsed": false
   },
   "outputs": [],
   "source": [
    "%%R\n",
    "piSeq <- seq(0.001, 0.09, 0.005)\n",
    "library('parallel')\n",
    "\n",
    "llkout <- lapply(piSeq, function(piX) logLikelihood(countData = counts, hyperpar = hyperpar,\n",
    "                                      pi0 = piX, mutationData = data$mut.rate*mu.frac[1], \n",
    "                                                   testType = \"dn\")$logLik)\n",
    "                 \n"
   ]
  },
  {
   "cell_type": "code",
   "execution_count": 7,
   "metadata": {
    "collapsed": false
   },
   "outputs": [
    {
     "data": {
      "image/png": "[encoded data removed]"
     },
     "metadata": {},
     "output_type": "display_data"
    }
   ],
   "source": [
    "%%R\n",
    "llkout\n",
    "plot(piSeq, as.numeric(llkout))\n",
    "\n"
   ]
  },
  {
   "cell_type": "code",
   "execution_count": 19,
   "metadata": {
    "collapsed": false
   },
   "outputs": [],
   "source": [
    "%%R\n",
    "piSeq.cc <- seq(0.000001, 0.0001, 0.000002)\n",
    "\n",
    "\n",
    "llkout.cc <- lapply(piSeq.cc, function(piX) logLikelihood(countData = counts, hyperpar = hyperpar,\n",
    "                                      pi0 = piX, mutationData = data$mut.rate*mu.frac[1], \n",
    "                                                   testType = \"cc\")$logLik)\n",
    "                 \n"
   ]
  },
  {
   "cell_type": "code",
   "execution_count": 20,
   "metadata": {
    "collapsed": false
   },
   "outputs": [
    {
     "data": {
      "image/png": "[encoded data removed]"
     },
     "metadata": {},
     "output_type": "display_data"
    }
   ],
   "source": [
    "%%R\n",
    "plot(piSeq.cc, as.numeric(llkout.cc))"
   ]
  },
  {
   "cell_type": "markdown",
   "metadata": {},
   "source": [
    "###Cannnot see the optimal point for case-control data, use an analytic way\n",
    "\n",
    "####Write a function to calculate the optimal values"
   ]
  },
  {
   "cell_type": "code",
   "execution_count": 11,
   "metadata": {
    "collapsed": true
   },
   "outputs": [],
   "source": [
    "%%R\n",
    "\n",
    "piFunc.cc <- function(x){\n",
    "\n",
    "    piX <- x[1]\n",
    "    wLLK0 <- x[2]\n",
    "    hyperparNew <- hyperpar\n",
    "    \n",
    "    log.All <- -logLikelihood(countData = counts, hyperpar = hyperparNew,\n",
    "                              pi0 = piX, wLLK = wLLK0,\n",
    "                              mutationData = mutationData,\n",
    "                              testType = \"both\")$logLik\n",
    "    return(log.All)\n",
    "}\n"
   ]
  },
  {
   "cell_type": "code",
   "execution_count": 12,
   "metadata": {
    "collapsed": true
   },
   "outputs": [],
   "source": [
    "%%R\n",
    "library(\"optimx\")\n",
    "mutationData <- data$mut.rate*mu.frac[1]\n",
    "pi.M.cc <- optimx(par = c(0.05, 0.8), fn = piFunc.cc, \n",
    "                  lower = c(0, 0.5),\n",
    "                  upper = c(1, 1))"
   ]
  },
  {
   "cell_type": "code",
   "execution_count": 13,
   "metadata": {
    "collapsed": false
   },
   "outputs": [
    {
     "data": {
      "text/plain": [
       "                 p1 p2    value fevals gevals niter convcode  kkt1 kkt2 xtimes\n",
       "L-BFGS-B 0.05015762  1 1430.184     21     21    NA        0 FALSE TRUE 513.11\n"
      ]
     },
     "metadata": {},
     "output_type": "display_data"
    }
   ],
   "source": [
    "%%R\n",
    "pi.M.cc"
   ]
  },
  {
   "cell_type": "code",
   "execution_count": 40,
   "metadata": {
    "collapsed": false
   },
   "outputs": [],
   "source": [
    "%%R\n",
    "\n",
    "tt <- pi.M.cc$minimum\n",
    "piSeq.cc <- seq(0.000001, 0.0001, by = 0.000005)\n",
    "\n",
    "\n",
    "llkout.cc <- lapply(piSeq.cc, function(piX) logLikelihood(countData = counts, hyperpar = hyperpar,\n",
    "                                      pi0 = piX, mutationData = data$mut.rate*mu.frac[1], \n",
    "                                                   testType = \"cc\")$logLik)\n",
    "                 "
   ]
  },
  {
   "cell_type": "code",
   "execution_count": 41,
   "metadata": {
    "collapsed": false
   },
   "outputs": [
    {
     "data": {
      "text/plain": [
       " [1] 1.0e-06 6.0e-06 1.1e-05 1.6e-05 2.1e-05 2.6e-05 3.1e-05 3.6e-05 4.1e-05\n",
       "[10] 4.6e-05 5.1e-05 5.6e-05 6.1e-05 6.6e-05 7.1e-05 7.6e-05 8.1e-05 8.6e-05\n",
       "[19] 9.1e-05 9.6e-05\n"
      ]
     },
     "metadata": {},
     "output_type": "display_data"
    }
   ],
   "source": [
    "%%R\n",
    "piSeq.cc"
   ]
  },
  {
   "cell_type": "code",
   "execution_count": 42,
   "metadata": {
    "collapsed": false
   },
   "outputs": [
    {
     "data": {
      "image/png": "[encoded data removed]"
     },
     "metadata": {},
     "output_type": "display_data"
    }
   ],
   "source": [
    "%%R\n",
    "plot(piSeq.cc, as.numeric(llkout.cc))"
   ]
  },
  {
   "cell_type": "markdown",
   "metadata": {},
   "source": [
    "###Combine case-control data"
   ]
  },
  {
   "cell_type": "code",
   "execution_count": 8,
   "metadata": {
    "collapsed": true
   },
   "outputs": [],
   "source": [
    "%%R\n",
    "library('parallel')\n",
    "piSeq1 <- seq(0.00001, 0.015, 0.0002)\n",
    "\n",
    "\n",
    "llkout.cc <- mclapply(piSeq1, function(piX) logLikelihood(countData = counts, hyperpar = hyperpar,\n",
    "                                      pi0 = piX, mutationData = data$mut.rate*mu.frac[1], \n",
    "                                                        testType = \"both\")$logLik)\n",
    "                 \n",
    "\n"
   ]
  },
  {
   "cell_type": "code",
   "execution_count": 9,
   "metadata": {
    "collapsed": false
   },
   "outputs": [
    {
     "data": {
      "image/png": "[encoded data removed]"
     },
     "metadata": {},
     "output_type": "display_data"
    }
   ],
   "source": [
    "%%R\n",
    "plot(piSeq1, as.numeric(llkout.cc))"
   ]
  },
  {
   "cell_type": "markdown",
   "metadata": {},
   "source": [
    "###Write a function to calculate optimal values"
   ]
  },
  {
   "cell_type": "code",
   "execution_count": 15,
   "metadata": {
    "collapsed": false
   },
   "outputs": [
    {
     "data": {
      "text/plain": [
       "               [,1]   [,2]\n",
       "gamma.mean.dn  20.0    4.7\n",
       "beta.dn         1.0    1.0\n",
       "gamma.mean.CC   2.3    1.0\n",
       "beta.CC         4.0 1000.0\n",
       "rho1            0.1    0.5\n",
       "nu1           200.0  100.0\n",
       "rho0            0.1    0.5\n",
       "nu0           200.0  100.0\n"
      ]
     },
     "metadata": {},
     "output_type": "display_data"
    }
   ],
   "source": [
    "%%R\n",
    "hyperpar"
   ]
  },
  {
   "cell_type": "code",
   "execution_count": 21,
   "metadata": {
    "collapsed": true
   },
   "outputs": [],
   "source": [
    "%%R\n",
    "#mutationData <- cbind(data$mut.rate*mu.frac[1])\n",
    "mutationData <- cbind(data$mut.rate*mu.frac[1])\n",
    "\n",
    "piFunc <- function(x){\n",
    "\n",
    "    piX <- x[1]\n",
    "    wLLK0 <- x[2]\n",
    "\n",
    "\n",
    "    gamma.mean.dn.lof <- x[3]\n",
    "    beta.dn.lof <- x[4]\n",
    "    \n",
    "    gamma.mean.cc.lof <- x[5]\n",
    "    beta.mean.cc.lof <- x[6]\n",
    "\n",
    "    hyperparNew <- hyperpar\n",
    "    hyperparNew[1, 1] <- gamma.mean.dn.lof\n",
    "    hyperparNew[2, 1] <- beta.dn.lof\n",
    "    \n",
    "    hyperparNew[3, 1] <- gamma.mean.cc.lof\n",
    "    hyperparNew[4, 1] <- beta.mean.cc.lof\n",
    "    \n",
    "    \n",
    "    log.All <- -logLikelihood(countData = counts, hyperpar = hyperparNew,\n",
    "                              wLLK = wLLK0,\n",
    "                                      pi0 = piX, \n",
    "                              mutationData = mutationData,\n",
    "                             testType = \"both\")$logLik\n",
    "    return(log.All)\n",
    "}\n",
    "\n",
    "#R -e \"install.packages(c('rjags'), repos='http://cran.rstudio.com/')\""
   ]
  },
  {
   "cell_type": "markdown",
   "metadata": {},
   "source": [
    "###Optimize to obtain local optimization values for de novo data of LoF and mis3"
   ]
  },
  {
   "cell_type": "code",
   "execution_count": 22,
   "metadata": {
    "collapsed": false
   },
   "outputs": [],
   "source": [
    "%%R\n",
    "library(\"optimx\")\n",
    "pi.M <- optimx(c(0.05, 0.8, 20, 1, 5, 1), fn = piFunc,\n",
    "               lower = c(0, 0.5,  5, 1,   1, 1),\n",
    "               upper = c(1, 0.95, 100, 100, 100, 100))\n",
    "\n"
   ]
  },
  {
   "cell_type": "code",
   "execution_count": 23,
   "metadata": {
    "collapsed": false
   },
   "outputs": [
    {
     "data": {
      "text/plain": [
       "                 p1   p2       p3 p4       p5       p6    value fevals gevals\n",
       "L-BFGS-B 0.01947238 0.95 40.03635  1 1.001723 43.47909 4758.758     57     57\n",
       "         niter convcode  kkt1  kkt2  xtimes\n",
       "L-BFGS-B    NA        0 FALSE FALSE 3905.56\n"
      ]
     },
     "metadata": {},
     "output_type": "display_data"
    }
   ],
   "source": [
    "%%R\n",
    "pi.M"
   ]
  },
  {
   "cell_type": "markdown",
   "metadata": {},
   "source": [
    "###Take a look at these gamma values"
   ]
  },
  {
   "cell_type": "code",
   "execution_count": 72,
   "metadata": {
    "collapsed": false
   },
   "outputs": [
    {
     "data": {
      "image/png": "[encoded data removed]"
     },
     "metadata": {},
     "output_type": "display_data"
    }
   ],
   "source": [
    "%%R\n",
    "xGamma <- seq(0.001, 18, 0.002)\n",
    "par(mfrow = c(2, 1))\n",
    "plot(xGamma, dgamma(xGamma, 16.22064*0.04746113, rate = 0.04746113), main = 'LoF mean gamma', xlab = '', \n",
    "    ylab = '')\n",
    "###Mis3 de novo\n",
    "plot(xGamma, dgamma(xGamma, 5.043086*5, rate = 5), main = 'Mis3 mean gamma', xlab = '', ylab = '')\n"
   ]
  },
  {
   "cell_type": "code",
   "execution_count": 59,
   "metadata": {
    "collapsed": false
   },
   "outputs": [],
   "source": [
    "%%R\n",
    "library(\"optimx\")\n",
    "pi.M.n <- optimx(c(0.05, 20, 1, 5, 1), fn = piFunc,\n",
    "               lower = c(0,   5, 1,   1, 1),\n",
    "               upper = c(1, 100, 5.00, 100, 1000))\n",
    "\n",
    "\n"
   ]
  },
  {
   "cell_type": "markdown",
   "metadata": {},
   "source": [
    "#### Set a larger lower limit for beta => small pi\n",
    "\n",
    "=> Number of risk genes = 32"
   ]
  },
  {
   "cell_type": "code",
   "execution_count": 60,
   "metadata": {
    "collapsed": false
   },
   "outputs": [
    {
     "data": {
      "text/plain": [
       "                 p1       p2 p3       p4       p5    value fevals gevals niter\n",
       "L-BFGS-B 0.03894098 26.85295  1 6.605005 7.968401 4508.279     27     27    NA\n",
       "         convcode kkt1  kkt2  xtimes\n",
       "L-BFGS-B        0 TRUE FALSE 3415.53\n"
      ]
     },
     "metadata": {},
     "output_type": "display_data"
    }
   ],
   "source": [
    "%%R\n",
    "pi.M.n"
   ]
  },
  {
   "cell_type": "code",
   "execution_count": 75,
   "metadata": {
    "collapsed": false
   },
   "outputs": [
    {
     "data": {
      "image/png": "[encoded data removed]"
     },
     "metadata": {},
     "output_type": "display_data"
    }
   ],
   "source": [
    "%%R\n",
    "xGamma <- seq(3, 30, 0.002)\n",
    "par(mfrow = c(2, 1))\n",
    "plot(xGamma, dgamma(xGamma, 26.85295, rate =  1 ), main = 'LoF mean gamma', xlab = '', \n",
    "    ylab = '')\n",
    "###Mis3 de novo\n",
    "plot(xGamma, dgamma(xGamma, 6.605005*7.968401, rate = 7.968401), main = 'Mis3 mean gamma', xlab = '', ylab = '')\n",
    "\n"
   ]
  },
  {
   "cell_type": "code",
   "execution_count": 45,
   "metadata": {
    "collapsed": false
   },
   "outputs": [
    {
     "data": {
      "text/plain": [
       "               [,1]   [,2]\n",
       "gamma.mean.dn  20.0    4.7\n",
       "beta.dn         1.0    1.0\n",
       "gamma.mean.CC   2.3    1.0\n",
       "beta.CC         4.0 1000.0\n",
       "rho1            0.1    0.5\n",
       "nu1           200.0  100.0\n",
       "rho0            0.1    0.5\n",
       "nu0           200.0  100.0\n"
      ]
     },
     "metadata": {},
     "output_type": "display_data"
    }
   ],
   "source": [
    "%%R\n",
    "hyperpar"
   ]
  },
  {
   "cell_type": "code",
   "execution_count": 97,
   "metadata": {
    "collapsed": true
   },
   "outputs": [],
   "source": [
    "%%R\n",
    "#mutationData <- cbind(data$mut.rate*mu.frac[1])\n",
    "mutationData <- cbind(data$mut.rate*mu.frac[1], data$mut.rate*mu.frac[2])\n",
    "\n",
    "piFunc.both <- function(x){\n",
    "\n",
    "    piX <- x[1]\n",
    "    \n",
    "    ###De novo\n",
    "    gamma.mean.dn.lof <- x[2]\n",
    "    beta.dn.lof <- x[3]\n",
    "    gamma.mean.dn.mis3 <- x[4]\n",
    "    beta.dn.mis3 <- x[5]\n",
    "    \n",
    "    ###Case-control\n",
    "    gamma.mean.cc.lof <- x[6]\n",
    "    beta.cc.lof <- x[7]\n",
    "    gamma.mean.cc.mis3 <- x[8]\n",
    "    beta.cc.mis3 <- x[9]\n",
    "\n",
    "    hyperparNew <- hyperpar\n",
    "    hyperparNew[1, 1] <- gamma.mean.dn.lof\n",
    "    hyperparNew[1, 2] <- gamma.mean.dn.mis3\n",
    "    hyperparNew[2, 1] <- beta.dn.lof\n",
    "    hyperparNew[2, 2] <- beta.dn.mis3\n",
    "    \n",
    "    hyperparNew[3, 1] <- gamma.mean.cc.lof\n",
    "    hyperparNew[3, 2] <- gamma.mean.cc.mis3\n",
    "    hyperparNew[4, 1] <- beta.cc.lof\n",
    "    hyperparNew[4, 2] <- beta.cc.mis3\n",
    "\n",
    "    log.All <- -logLikelihood(countData = counts, hyperpar = hyperparNew,\n",
    "                                      pi0 = piX, \n",
    "                              testType = \"both\",\n",
    "                              mutationData = mutationData)$logLik\n",
    "    return(log.All)\n",
    "}\n",
    "\n"
   ]
  },
  {
   "cell_type": "code",
   "execution_count": 98,
   "metadata": {
    "collapsed": false
   },
   "outputs": [],
   "source": [
    "%%R\n",
    "library(\"optimx\")\n",
    "pi.M.both <- optimx(c(0.05, \n",
    "                      20, 1, 5, 1, \n",
    "                     2.3, 4, 1, 100), \n",
    "                    \n",
    "                    fn = piFunc.both,\n",
    "                    \n",
    "               lower = c(0,   \n",
    "                         5, 0.01,   1, 0.01,\n",
    "                        1, 0.01, 1, 0.01),\n",
    "               upper = c(1, \n",
    "                         100, 5.00, 100, 5.00,\n",
    "                        100, Inf, 100, Inf))\n",
    "\n"
   ]
  },
  {
   "cell_type": "code",
   "execution_count": 99,
   "metadata": {
    "collapsed": false
   },
   "outputs": [
    {
     "data": {
      "text/plain": [
       "                 p1       p2         p3       p4        p5       p6       p7 p8\n",
       "L-BFGS-B 0.01406589 20.63603 0.02715622 6.122202 0.9814767 1.023615 3.425842  1\n",
       "               p9    value fevals gevals niter convcode kkt1  kkt2  xtimes\n",
       "L-BFGS-B 99.90103 183062.1     18     18    NA        0 TRUE FALSE 4123.83\n"
      ]
     },
     "metadata": {},
     "output_type": "display_data"
    }
   ],
   "source": [
    "%%R\n",
    "pi.M.both"
   ]
  },
  {
   "cell_type": "code",
   "execution_count": 100,
   "metadata": {
    "collapsed": true
   },
   "outputs": [],
   "source": [
    "%%R\n",
    "library(\"optimx\")\n",
    "pi.M.both.n <- optimx(c(0.05, \n",
    "                      20, 1, 5, 1, \n",
    "                     2.3, 4, 1, 100), \n",
    "                    \n",
    "                    fn = piFunc.both,\n",
    "                    \n",
    "               lower = c(0,   \n",
    "                         5, 1, 1, 1,\n",
    "                         1, 1, 1, 1),\n",
    "               upper = c(1, \n",
    "                         100, 5.00, 100, 5.00,\n",
    "                        100, Inf, 100, Inf))\n",
    "\n"
   ]
  },
  {
   "cell_type": "code",
   "execution_count": 101,
   "metadata": {
    "collapsed": false
   },
   "outputs": [],
   "source": [
    "#!gist -p Re_test_all_parameters_inTADA.ipynb"
   ]
  },
  {
   "cell_type": "code",
   "execution_count": 102,
   "metadata": {
    "collapsed": false
   },
   "outputs": [
    {
     "data": {
      "text/plain": [
       "                 p1       p2 p3       p4 p5 p6       p7 p8       p9    value\n",
       "L-BFGS-B 0.01630855 20.64771  1 6.142555  1  1 3.415442  1 99.89923 183071.6\n",
       "         fevals gevals niter convcode kkt1  kkt2 xtimes\n",
       "L-BFGS-B     11     11    NA        0 TRUE FALSE   2422\n"
      ]
     },
     "metadata": {},
     "output_type": "display_data"
    }
   ],
   "source": [
    "%%R\n",
    "pi.M.both.n"
   ]
  },
  {
   "cell_type": "code",
   "execution_count": 103,
   "metadata": {
    "collapsed": false
   },
   "outputs": [
    {
     "data": {
      "text/plain": [
       "LoF protective proportion: 0\n",
       "Mis3 protective proportion: 0.513475935828877\n"
      ]
     },
     "metadata": {},
     "output_type": "display_data"
    },
    {
     "data": {
      "image/png": "[encoded data removed]"
     },
     "metadata": {},
     "output_type": "display_data"
    }
   ],
   "source": [
    "%%R -w 28 -h 20 -u cm\n",
    "xT <- seq(0.01, 30, 0.01)\n",
    "par(mfrow = c(2, 2))\n",
    "\n",
    "plot(xT, dgamma(xT, 26.53*1, rate = 1), main = 'LoF de novo', xlab  = '', ylab = '')\n",
    "plot(xT, dgamma(xT, 19.5*1.0627, rate = 1.0627), main = 'LoF case-control', xlab  = '', ylab = '')\n",
    "plot(xT, dgamma(xT, 2.3*4, rate = 4), main = 'Mis3 de novo', xlab  = '', ylab = '')\n",
    "plot(xT, dgamma(xT, 1*100, rate = 100), main = 'Mis3 case-control', xlab  = '', ylab = '')\n",
    "\n",
    "NN <- 18700\n",
    "x.cc.lof <- rgamma(NN, 19.44955*1.06274, rate = 1.06274)\n",
    "\n",
    "message(\"LoF protective proportion: \", length(x.cc.lof[x.cc.lof < 1])/length(x.cc.lof))\n",
    "\n",
    "x.cc.mis3 <- rgamma(NN, 1*100, rate = 100)\n",
    "\n",
    "message(\"Mis3 protective proportion: \", length(x.cc.mis3[x.cc.mis3 < 1])/length(x.cc.mis3))\n",
    "\n",
    "\n",
    "\n"
   ]
  },
  {
   "cell_type": "markdown",
   "metadata": {},
   "source": [
    "###Test $\\rho, \\nu$ on hyperparameters\n",
    "\n",
    "The popultation frequency of the the mutant genotype: \n",
    "\n",
    "$q|H_j \\sim Gamma(\\rho_j, \\nu_j)$"
   ]
  },
  {
   "cell_type": "code",
   "execution_count": 89,
   "metadata": {
    "collapsed": false
   },
   "outputs": [
    {
     "data": {
      "text/plain": [
       "               [,1]   [,2]\n",
       "gamma.mean.dn  20.0    4.7\n",
       "beta.dn         1.0    1.0\n",
       "gamma.mean.CC   2.3    1.0\n",
       "beta.CC         4.0 1000.0\n",
       "rho1            0.1    0.5\n",
       "nu1           200.0  100.0\n",
       "rho0            0.1    0.5\n",
       "nu0           200.0  100.0\n"
      ]
     },
     "metadata": {},
     "output_type": "display_data"
    }
   ],
   "source": [
    "%%R\n",
    "hyperpar"
   ]
  },
  {
   "cell_type": "markdown",
   "metadata": {},
   "source": [
    "####Add more parameters into the optimization function"
   ]
  },
  {
   "cell_type": "code",
   "execution_count": 96,
   "metadata": {
    "collapsed": true
   },
   "outputs": [],
   "source": [
    "%%R\n",
    "#mutationData <- cbind(data$mut.rate*mu.frac[1])\n",
    "mutationData <- cbind(data$mut.rate*mu.frac[1], data$mut.rate*mu.frac[2])\n",
    "\n",
    "piFunc.both <- function(x){\n",
    "\n",
    "    piX <- x[1]\n",
    "    \n",
    "    ###De novo\n",
    "    gamma.mean.dn.lof <- x[2]\n",
    "    beta.dn.lof <- x[3]\n",
    "    gamma.mean.dn.mis3 <- x[4]\n",
    "    beta.dn.mis3 <- x[5]\n",
    "    \n",
    "    ###Case-control\n",
    "    gamma.mean.cc.lof <- x[6]\n",
    "    beta.cc.lof <- x[7]\n",
    "    gamma.mean.cc.mis3 <- x[8]\n",
    "    beta.cc.mis3 <- x[9]\n",
    "    \n",
    "    rho1.lof <- x[10]\n",
    "    rho1.mis3 <- x[11]\n",
    "    nu1.lof <- x[12]\n",
    "    nu1.mis3 <- x[13]\n",
    "    \n",
    "    ##Use the same rho and nu => ONLY 13 PARAMETERS\n",
    "    #rho0.lof <- x[14]\n",
    "    #rho0.mis3 <- x[15]\n",
    "    #nu0.lof <- x[16]\n",
    "    #nu0.mis3 <- x[17]\n",
    "    \n",
    "    rho0.lof <- x[10]\n",
    "    rho0.mis3 <- x[11]\n",
    "    nu0.lof <- x[12]\n",
    "    nu0.mis3 <- x[13]\n",
    "    \n",
    "    \n",
    "    \n",
    "    ###The popultation frequency of the the mutant genotype\n",
    "\n",
    "    \n",
    "    hyperparNew <- hyperpar\n",
    "    \n",
    "    ###gamma.dn|H1 ~ Gamma(gamma.mean.dn * beta.dn, beta.dn)\n",
    "    hyperparNew[1, 1] <- gamma.mean.dn.lof\n",
    "    hyperparNew[1, 2] <- gamma.mean.dn.mis3\n",
    "    hyperparNew[2, 1] <- beta.dn.lof\n",
    "    hyperparNew[2, 2] <- beta.dn.mis3\n",
    "    \n",
    "    ###gammma|H1 ~ Gamma(gamma.mean.cc * beta.cc, beta.cc)\n",
    "    hyperparNew[3, 1] <- gamma.mean.cc.lof\n",
    "    hyperparNew[3, 2] <- gamma.mean.cc.mis3\n",
    "    hyperparNew[4, 1] <- beta.cc.lof\n",
    "    hyperparNew[4, 2] <- beta.cc.mis3\n",
    "    \n",
    "    ###q|H1 ~ Gamma(rho1*nu1, nu1)\n",
    "    hyperparNew[5, 1] <- rho1.lof\n",
    "    hyperparNew[5, 2] <- rho1.mis3\n",
    "    hyperparNew[6, 1] <- nu1.lof\n",
    "    hyperparNew[6, 2] <- nu1.mis3\n",
    "    \n",
    "    ###q|H0 ~ Gamma(rh0*nu0, nu0)\n",
    "    hyperparNew[7, 1] <- rho0.lof\n",
    "    hyperparNew[7, 2] <- rho0.mis3\n",
    "    hyperparNew[8, 1] <- nu0.lof\n",
    "    hyperparNew[8, 2] <- nu0.mis3\n",
    "    \n",
    "    \n",
    "\n",
    "    log.All <- -logLikelihood(countData = counts, hyperpar = hyperparNew,\n",
    "                                      pi0 = piX, \n",
    "                              testType = \"both\",\n",
    "                              mutationData = mutationData)$logLik\n",
    "    return(log.All)\n",
    "}\n",
    "\n"
   ]
  },
  {
   "cell_type": "markdown",
   "metadata": {},
   "source": [
    "####Re-check some parameters"
   ]
  },
  {
   "cell_type": "code",
   "execution_count": 109,
   "metadata": {
    "collapsed": false
   },
   "outputs": [
    {
     "data": {
      "text/plain": [
       "$dn\n",
       "[1] 2231\n",
       "\n",
       "$ca\n",
       "[1] 2934\n",
       "\n",
       "$cn\n",
       "[1] 6730\n",
       "\n",
       "     [,1] [,2] [,3] [,4] [,5] [,6]\n",
       "[1,]    0    0    1    0    7    7\n",
       "[2,]    0    2    3    0    3   14\n",
       "  Gene  mut.rate dn.LoF case.LoF ctrl.LoF trans.LoF ntrans.LoF dn.mis3\n",
       "1 A1BG 2.355e-05      0        0        1         0          0       0\n",
       "2 A1CF 2.174e-05      0        1        2         1          1       0\n",
       "  case.mis3 ctrl.mis3 trans.mis3 ntrans.mis3\n",
       "1         0         4          7           3\n",
       "2         0         7          3           7\n"
      ]
     },
     "metadata": {},
     "output_type": "display_data"
    }
   ],
   "source": [
    "%%R\n",
    "print(N)\n",
    "print(head(counts, 2))\n",
    "head(data, 2)\n",
    "\n"
   ]
  },
  {
   "cell_type": "code",
   "execution_count": 1,
   "metadata": {
    "collapsed": false
   },
   "outputs": [
    {
     "name": "stderr",
     "output_type": "stream",
     "text": [
      "ERROR: Cell magic `%%R` not found.\n"
     ]
    }
   ],
   "source": [
    "%%R\n",
    "\n",
    "message(\"LOF CASE information ====\")\n",
    "message(\"MEAN frequency: \", sum(counts[, 2])/(N$ca*dim(data)[1]))\n",
    "message(\"Frequency range: \", min(counts[, 2]/N$ca), \" - \", max(counts[, 2]/N$ca))\n",
    "\n",
    "message(\"\\nLOF CONTROL information ====\")\n",
    "message(\"MEAN frequency: \", sum(counts[, 3])/(N$cn*dim(data)[1]))\n",
    "message(\"Frequency range: \", min(counts[, 3]/N$cn), \" - \", max(counts[, 3]/N$cn))\n",
    "\n",
    "message(\"\\nmis3 CASE information ====\")\n",
    "message(\"MEAN frequency: \", sum(counts[, 5])/(N$ca*dim(data)[1]))\n",
    "message(\"Frequency range: \", min(counts[, 5]/N$ca), \" - \", max(counts[, 5]/N$ca))\n",
    "\n",
    "message(\"\\nmis3 CONTROL information ====\")\n",
    "message(\"MEAN frequency: \", sum(counts[, 6])/(N$cn*dim(data)[1]))\n",
    "message(\"Frequency range: \", min(counts[, 6]/N$cn), \" - \", max(counts[, 6]/N$cn))\n",
    "\n",
    "message(\"\\n========Combine case-control information===============\\n\")\n",
    "message(\"\\nLOF information ====\")\n",
    "message(\"MEAN frequency: \", sum(counts[, 2] + counts[, 3])/((N$ca + N$cn)*dim(data)[1]))\n",
    "message(\"Frequency range: \", min((counts[, 2] + counts[, 3])/(N$ca+ N$cn)), \n",
    "                                 \" - \", max((counts[, 2] + counts[, 3])/(N$ca + N$cn)))\n",
    "\n",
    "\n",
    "message(\"\\nMis3 information ====\")\n",
    "message(\"MEAN frequency: \", sum(counts[, 5] + counts[, 6])/((N$ca + N$cn)*dim(data)[1]))\n",
    "message(\"Frequency range: \", min((counts[, 5] + counts[, 6])/(N$ca+ N$cn)), \n",
    "                                 \" - \", max((counts[, 5] + counts[, 6])/(N$ca + N$cn)))\n",
    "\n",
    "\n"
   ]
  },
  {
   "cell_type": "code",
   "execution_count": 183,
   "metadata": {
    "collapsed": false
   },
   "outputs": [
    {
     "data": {
      "text/plain": [
       "[[1]]\n",
       "[1]  728 2500\n",
       "\n",
       "[[2]]\n",
       "[1]  728 2500\n",
       "\n",
       "[[3]]\n",
       "[1]  728 2500\n",
       "\n",
       "[[4]]\n",
       "[1]  728 2500\n",
       "\n",
       "[[5]]\n",
       "[1]  728 2500\n",
       "\n",
       "[[6]]\n",
       "[1]  728 2500\n",
       "\n",
       "[[7]]\n",
       "[1]  728 2500\n",
       "\n",
       "[[8]]\n",
       "[1]  728 2500\n",
       "\n",
       "[[9]]\n",
       "[1]  728 2500\n",
       "\n",
       "[[10]]\n",
       "[1]  728 2500\n",
       "\n"
      ]
     },
     "metadata": {},
     "output_type": "display_data"
    }
   ],
   "source": [
    "%%R\n",
    "\n",
    "test.beta <- seq(1, 2500, by = 1)\n",
    "\n",
    "mean.q.LoF <- 0.000336726334710152\n",
    "max.q.LoF <- 0.0087955298013245\n",
    "\n",
    "mean.q.mis3 <- 0.00190925367225348\n",
    "max.q.mis3 <- 0.117653145695364\n",
    "\n",
    "nLoop <- 10\n",
    "nn <- 10000\n",
    "e.threshold <- 0.0001\n",
    "\n",
    "estimate.beta.lof <- lapply(1:nLoop, function(ii){ \n",
    "                        \n",
    "    \n",
    "    xMax.LoF <- sapply(test.beta, function(xy) 1 - pgamma(max.q.LoF, mean.q.LoF*xy, rate = xy))\n",
    "    \n",
    "    data.LoF <- cbind(test.beta, xMax.LoF)\n",
    "    data.LoF <- data.LoF[data.LoF[, 2] < e.threshold, ]\n",
    "        \n",
    "#  print(data.LoF)\n",
    " #    if (is.matrix(data.LoF))\n",
    "   #         data.LoF <- data.LoF[data.LoF[, 2] > max.q.LoF - 0.001, ]\n",
    "                            \n",
    "                             returnData <- NULL\n",
    "            \n",
    "                                                        \n",
    "                            if (is.matrix(data.LoF))\n",
    "                                returnData <- range(data.LoF[, 1])\n",
    "    return(returnData)\n",
    "                            })\n",
    "    estimate.beta.lof"
   ]
  },
  {
   "cell_type": "code",
   "execution_count": 184,
   "metadata": {
    "collapsed": false
   },
   "outputs": [
    {
     "data": {
      "text/plain": [
       " [1] 728 728 728 728 728 728 728 728 728 728\n",
       "[1] 728 728\n",
       "[1] 9.973709e-05\n"
      ]
     },
     "metadata": {},
     "output_type": "display_data"
    }
   ],
   "source": [
    "%%R\n",
    "temp.lof <- unlist(sapply(estimate.beta.lof, function(x) x[1]))\n",
    "print(temp.lof)\n",
    "temp.lof <- temp.lof[!is.infinite(temp.lof)]\n",
    "    \n",
    "print(range(temp.lof))\n",
    "1 - pgamma(max.q.LoF, shape = mean.q.LoF*max(temp.lof), rate = max(temp.lof))"
   ]
  },
  {
   "cell_type": "code",
   "execution_count": null,
   "metadata": {
    "collapsed": false
   },
   "outputs": [],
   "source": [
    "%%R\n",
    "\n",
    "xXem <- NULL\n",
    "estimate.beta.mis3 <- lapply(1:nLoop, function(ii){ \n",
    "                        xMax.LoF <- sapply(test.beta, function(xy) max(rgamma(nn, alpha.q.mis3, rate = xy)))\n",
    "    \n",
    "    data.LoF <- cbind(test.beta, xMax.LoF)\n",
    "    data.LoF <- data.LoF[data.LoF[, 2] < max.q.mis3, ]\n",
    "    data.LoF <- data.LoF[data.LoF[, 2] > max.q.mis3 - 0.01, ]\n",
    "   # message(\"dim data.LoF\", head(data.LoF))\n",
    "                            returnData <- NULL\n",
    "            \n",
    "                            xXem <- data.LoF\n",
    "                            \n",
    "                            if (is.matrix(data.LoF))\n",
    "                                returnData <- range(data.LoF[, 1])\n",
    "    \n",
    "        return(returnData)\n",
    "                            })\n",
    "    "
   ]
  },
  {
   "cell_type": "code",
   "execution_count": 161,
   "metadata": {
    "collapsed": false
   },
   "outputs": [
    {
     "data": {
      "text/plain": [
       "[1] 0.0001023443\n"
      ]
     },
     "metadata": {},
     "output_type": "display_data"
    }
   ],
   "source": [
    "%%R\n",
    "temp.mis3 <- unlist(sapply(estimate.beta.mis3, function(x) x[1]))\n",
    "\n",
    "temp.mis3 <- temp.mis3[!is.infinite(temp.mis3)]\n",
    "    \n",
    "1 - pgamma(max.q.mis3, shape = alpha.q.mis3, rate = mean(temp.mis3))\n",
    "    \n",
    "\n"
   ]
  },
  {
   "cell_type": "code",
   "execution_count": null,
   "metadata": {
    "collapsed": true
   },
   "outputs": [],
   "source": [
    "%%R\n",
    "library(\"optimx\")\n",
    "pi.M.both.n <- optimx(c(0.05, \n",
    "                      20, 1, 5, 1, \n",
    "                     2.3, 4, 1, 100), \n",
    "                    \n",
    "                    fn = piFunc.both,\n",
    "                    \n",
    "               lower = c(0,   \n",
    "                         5, 1, 1, 1,\n",
    "                         1, 1, 1, 1),\n",
    "               upper = c(1, \n",
    "                         100, 5.00, 100, 5.00,\n",
    "                        100, Inf, 100, Inf))\n",
    "\n"
   ]
  },
  {
   "cell_type": "code",
   "execution_count": 104,
   "metadata": {
    "collapsed": false
   },
   "outputs": [
    {
     "name": "stdout",
     "output_type": "stream",
     "text": [
      "https://gist.github.com/638455c214d0768ed2dd\r\n"
     ]
    }
   ],
   "source": [
    "#!gist -p Re_test_all_parameters_inTADA.ipynb"
   ]
  },
  {
   "cell_type": "code",
   "execution_count": 181,
   "metadata": {
    "collapsed": false,
    "scrolled": false
   },
   "outputs": [
    {
     "name": "stdout",
     "output_type": "stream",
     "text": [
      "https://gist.github.com/638455c214d0768ed2dd\n"
     ]
    }
   ],
   "source": [
    "!gist -u https://gist.github.com/638455c214d0768ed2dd Re_test_all_parameters_inTADA.ipynb"
   ]
  },
  {
   "cell_type": "code",
   "execution_count": null,
   "metadata": {
    "collapsed": true
   },
   "outputs": [],
   "source": []
  }
 ],
 "metadata": {
  "kernelspec": {
   "display_name": "Python 3",
   "language": "python",
   "name": "python3"
  },
  "language_info": {
   "codemirror_mode": {
    "name": "ipython",
    "version": 3
   },
   "file_extension": ".py",
   "mimetype": "text/x-python",
   "name": "python",
   "nbconvert_exporter": "python",
   "pygments_lexer": "ipython3",
   "version": "3.4.0"
  }
 },
 "nbformat": 4,
 "nbformat_minor": 0
}
